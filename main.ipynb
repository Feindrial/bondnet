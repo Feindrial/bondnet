{
  "cells": [
    {
      "cell_type": "markdown",
      "metadata": {
        "colab_type": "text",
        "id": "view-in-github"
      },
      "source": [
        "<a href=\"https://colab.research.google.com/github/Feindrial/bondnet/blob/main/main.ipynb\" target=\"_parent\"><img src=\"https://colab.research.google.com/assets/colab-badge.svg\" alt=\"Open In Colab\"/></a>"
      ]
    },
    {
      "cell_type": "code",
      "execution_count": 154,
      "metadata": {
        "id": "GmUfJdKYj5pn"
      },
      "outputs": [],
      "source": [
        "import io\n",
        "import re\n",
        "import string\n",
        "import tqdm\n",
        "import numpy as np\n",
        "import pandas as pd\n",
        "import sklearn as sk\n",
        "from sklearn.decomposition import TruncatedSVD\n",
        "from sklearn.preprocessing import OneHotEncoder\n",
        "from sklearn.model_selection import train_test_split as sk_tt_split\n",
        "import surprise as sp\n",
        "from surprise.model_selection import cross_validate, train_test_split as sp_tt_split\n",
        "from surprise import Dataset, Reader\n",
        "import tensorflow as tf\n",
        "from tensorflow import keras\n",
        "from keras.models import Sequential, Model\n",
        "from keras.layers import LSTM\n",
        "from keras.layers import Dense, Flatten\n",
        "from keras.callbacks import EarlyStopping, ModelCheckpoint\n",
        "from tensorflow.keras.preprocessing.sequence import pad_sequences\n",
        "from keras import Input\n",
        "from pathlib import Path\n",
        "import matplotlib.pyplot as plt"
      ]
    },
    {
      "cell_type": "code",
      "execution_count": 90,
      "metadata": {
        "colab": {
          "base_uri": "https://localhost:8080/",
          "height": 75
        },
        "id": "Uyx1XmwRlr7Y",
        "outputId": "7751bd25-272b-449f-89aa-68069708b22d"
      },
      "outputs": [
        {
          "name": "stdout",
          "output_type": "stream",
          "text": [
            "2.12.0\n",
            "C:\\Users\\feind\\.keras\\datasets\\ml-latest-small\n"
          ]
        }
      ],
      "source": [
        "print(tf.__version__)\n",
        "\n",
        "locc = \"LOCAL\"\n",
        "\n",
        "if locc == \"LOCAL\":\n",
        "\n",
        "    #veri setinin indirilip dosya yollarının kaydedilmesi\n",
        "\n",
        "    movielens_url = \"http://files.grouplens.org/datasets/movielens/ml-latest-small.zip\"\n",
        "\n",
        "    downloaded_path = tf.keras.utils.get_file(movielens_url.rsplit('/').pop(), movielens_url, extract=True)\n",
        "\n",
        "    dataset_dir = Path(downloaded_path).parent / Path(downloaded_path).stem\n",
        "    print(dataset_dir)\n",
        "\n",
        "    #indirelen veri setinin ilgili csv dosyaları pandas dataframe olarak atandı\n",
        "\n",
        "elif locc == \"COLAB\":\n",
        "\n",
        "    dataset_dir = Path(\"/content\")\n",
        "    print(dataset_dir)\n",
        "\n",
        "    ! pip install -q kaggle\n",
        "    from google.colab import files\n",
        "    files.upload()\n",
        "\n",
        "    ! mkdir ~/.kaggle\n",
        "    ! mv kaggle.json ~/.kaggle/\n",
        "    ! chmod 600 ~/.kaggle/kaggle.json\n",
        "\n",
        "    !kaggle datasets download \"shubhammehta21/movie-lens-small-latest-dataset\"\n",
        "    !unzip -j \"movie-lens-small-latest-dataset\"\n",
        "\n",
        "else:\n",
        "    raise RuntimeError"
      ]
    },
    {
      "cell_type": "code",
      "execution_count": 91,
      "metadata": {
        "id": "MOKAGwdQazah"
      },
      "outputs": [],
      "source": [
        "ratings_file = dataset_dir / \"ratings.csv\"\n",
        "ratings = pd.read_csv(\n",
        "    ratings_file\n",
        ")\n",
        "ratings[\"rating\"] = ratings[\"rating\"] * 2\n",
        "ratings[\"rating\"] = ratings[\"rating\"].astype(\"int64\")\n",
        "\n",
        "movies_file = dataset_dir / \"movies.csv\"\n",
        "movies = pd.read_csv(\n",
        "    movies_file\n",
        ")"
      ]
    },
    {
      "cell_type": "code",
      "execution_count": 92,
      "metadata": {
        "colab": {
          "base_uri": "https://localhost:8080/"
        },
        "id": "Y0t6UpzRlr7j",
        "outputId": "a13fd1c5-ac2e-4554-c7ad-4c7aa81eae88"
      },
      "outputs": [
        {
          "name": "stdout",
          "output_type": "stream",
          "text": [
            "<class 'pandas.core.frame.DataFrame'>\n",
            "RangeIndex: 100836 entries, 0 to 100835\n",
            "Data columns (total 4 columns):\n",
            " #   Column     Non-Null Count   Dtype\n",
            "---  ------     --------------   -----\n",
            " 0   userId     100836 non-null  int64\n",
            " 1   movieId    100836 non-null  int64\n",
            " 2   rating     100836 non-null  int64\n",
            " 3   timestamp  100836 non-null  int64\n",
            "dtypes: int64(4)\n",
            "memory usage: 3.1 MB\n"
          ]
        }
      ],
      "source": [
        "ratings.info()"
      ]
    },
    {
      "cell_type": "code",
      "execution_count": 93,
      "metadata": {
        "colab": {
          "base_uri": "https://localhost:8080/",
          "height": 363
        },
        "id": "70fWMrtxlr7m",
        "outputId": "e107cfb7-c50c-4e54-e534-453e693c37e3"
      },
      "outputs": [
        {
          "data": {
            "text/html": [
              "<div>\n",
              "<style scoped>\n",
              "    .dataframe tbody tr th:only-of-type {\n",
              "        vertical-align: middle;\n",
              "    }\n",
              "\n",
              "    .dataframe tbody tr th {\n",
              "        vertical-align: top;\n",
              "    }\n",
              "\n",
              "    .dataframe thead th {\n",
              "        text-align: right;\n",
              "    }\n",
              "</style>\n",
              "<table border=\"1\" class=\"dataframe\">\n",
              "  <thead>\n",
              "    <tr style=\"text-align: right;\">\n",
              "      <th></th>\n",
              "      <th>userId</th>\n",
              "      <th>movieId</th>\n",
              "      <th>rating</th>\n",
              "      <th>timestamp</th>\n",
              "    </tr>\n",
              "  </thead>\n",
              "  <tbody>\n",
              "    <tr>\n",
              "      <th>0</th>\n",
              "      <td>1</td>\n",
              "      <td>1</td>\n",
              "      <td>8</td>\n",
              "      <td>964982703</td>\n",
              "    </tr>\n",
              "    <tr>\n",
              "      <th>1</th>\n",
              "      <td>1</td>\n",
              "      <td>3</td>\n",
              "      <td>8</td>\n",
              "      <td>964981247</td>\n",
              "    </tr>\n",
              "    <tr>\n",
              "      <th>2</th>\n",
              "      <td>1</td>\n",
              "      <td>6</td>\n",
              "      <td>8</td>\n",
              "      <td>964982224</td>\n",
              "    </tr>\n",
              "    <tr>\n",
              "      <th>3</th>\n",
              "      <td>1</td>\n",
              "      <td>47</td>\n",
              "      <td>10</td>\n",
              "      <td>964983815</td>\n",
              "    </tr>\n",
              "    <tr>\n",
              "      <th>4</th>\n",
              "      <td>1</td>\n",
              "      <td>50</td>\n",
              "      <td>10</td>\n",
              "      <td>964982931</td>\n",
              "    </tr>\n",
              "    <tr>\n",
              "      <th>5</th>\n",
              "      <td>1</td>\n",
              "      <td>70</td>\n",
              "      <td>6</td>\n",
              "      <td>964982400</td>\n",
              "    </tr>\n",
              "    <tr>\n",
              "      <th>6</th>\n",
              "      <td>1</td>\n",
              "      <td>101</td>\n",
              "      <td>10</td>\n",
              "      <td>964980868</td>\n",
              "    </tr>\n",
              "    <tr>\n",
              "      <th>7</th>\n",
              "      <td>1</td>\n",
              "      <td>110</td>\n",
              "      <td>8</td>\n",
              "      <td>964982176</td>\n",
              "    </tr>\n",
              "    <tr>\n",
              "      <th>8</th>\n",
              "      <td>1</td>\n",
              "      <td>151</td>\n",
              "      <td>10</td>\n",
              "      <td>964984041</td>\n",
              "    </tr>\n",
              "    <tr>\n",
              "      <th>9</th>\n",
              "      <td>1</td>\n",
              "      <td>157</td>\n",
              "      <td>10</td>\n",
              "      <td>964984100</td>\n",
              "    </tr>\n",
              "  </tbody>\n",
              "</table>\n",
              "</div>"
            ],
            "text/plain": [
              "   userId  movieId  rating  timestamp\n",
              "0       1        1       8  964982703\n",
              "1       1        3       8  964981247\n",
              "2       1        6       8  964982224\n",
              "3       1       47      10  964983815\n",
              "4       1       50      10  964982931\n",
              "5       1       70       6  964982400\n",
              "6       1      101      10  964980868\n",
              "7       1      110       8  964982176\n",
              "8       1      151      10  964984041\n",
              "9       1      157      10  964984100"
            ]
          },
          "execution_count": 93,
          "metadata": {},
          "output_type": "execute_result"
        }
      ],
      "source": [
        "ratings.head(10)"
      ]
    },
    {
      "cell_type": "code",
      "execution_count": 94,
      "metadata": {
        "colab": {
          "base_uri": "https://localhost:8080/"
        },
        "id": "nbPI2x2hlr7n",
        "outputId": "b3ef7aa8-c206-4944-e598-4f355e3a1be7"
      },
      "outputs": [
        {
          "name": "stdout",
          "output_type": "stream",
          "text": [
            "<class 'pandas.core.frame.DataFrame'>\n",
            "RangeIndex: 9742 entries, 0 to 9741\n",
            "Data columns (total 3 columns):\n",
            " #   Column   Non-Null Count  Dtype \n",
            "---  ------   --------------  ----- \n",
            " 0   movieId  9742 non-null   int64 \n",
            " 1   title    9742 non-null   object\n",
            " 2   genres   9742 non-null   object\n",
            "dtypes: int64(1), object(2)\n",
            "memory usage: 228.5+ KB\n"
          ]
        }
      ],
      "source": [
        "movies.info()"
      ]
    },
    {
      "cell_type": "code",
      "execution_count": 95,
      "metadata": {
        "colab": {
          "base_uri": "https://localhost:8080/",
          "height": 363
        },
        "id": "uZMlWNatlr7o",
        "outputId": "00b9cf07-ce0a-4ffc-9f0c-834a660954f7"
      },
      "outputs": [
        {
          "data": {
            "text/html": [
              "<div>\n",
              "<style scoped>\n",
              "    .dataframe tbody tr th:only-of-type {\n",
              "        vertical-align: middle;\n",
              "    }\n",
              "\n",
              "    .dataframe tbody tr th {\n",
              "        vertical-align: top;\n",
              "    }\n",
              "\n",
              "    .dataframe thead th {\n",
              "        text-align: right;\n",
              "    }\n",
              "</style>\n",
              "<table border=\"1\" class=\"dataframe\">\n",
              "  <thead>\n",
              "    <tr style=\"text-align: right;\">\n",
              "      <th></th>\n",
              "      <th>movieId</th>\n",
              "      <th>title</th>\n",
              "      <th>genres</th>\n",
              "    </tr>\n",
              "  </thead>\n",
              "  <tbody>\n",
              "    <tr>\n",
              "      <th>0</th>\n",
              "      <td>1</td>\n",
              "      <td>Toy Story (1995)</td>\n",
              "      <td>Adventure|Animation|Children|Comedy|Fantasy</td>\n",
              "    </tr>\n",
              "    <tr>\n",
              "      <th>1</th>\n",
              "      <td>2</td>\n",
              "      <td>Jumanji (1995)</td>\n",
              "      <td>Adventure|Children|Fantasy</td>\n",
              "    </tr>\n",
              "    <tr>\n",
              "      <th>2</th>\n",
              "      <td>3</td>\n",
              "      <td>Grumpier Old Men (1995)</td>\n",
              "      <td>Comedy|Romance</td>\n",
              "    </tr>\n",
              "    <tr>\n",
              "      <th>3</th>\n",
              "      <td>4</td>\n",
              "      <td>Waiting to Exhale (1995)</td>\n",
              "      <td>Comedy|Drama|Romance</td>\n",
              "    </tr>\n",
              "    <tr>\n",
              "      <th>4</th>\n",
              "      <td>5</td>\n",
              "      <td>Father of the Bride Part II (1995)</td>\n",
              "      <td>Comedy</td>\n",
              "    </tr>\n",
              "    <tr>\n",
              "      <th>5</th>\n",
              "      <td>6</td>\n",
              "      <td>Heat (1995)</td>\n",
              "      <td>Action|Crime|Thriller</td>\n",
              "    </tr>\n",
              "    <tr>\n",
              "      <th>6</th>\n",
              "      <td>7</td>\n",
              "      <td>Sabrina (1995)</td>\n",
              "      <td>Comedy|Romance</td>\n",
              "    </tr>\n",
              "    <tr>\n",
              "      <th>7</th>\n",
              "      <td>8</td>\n",
              "      <td>Tom and Huck (1995)</td>\n",
              "      <td>Adventure|Children</td>\n",
              "    </tr>\n",
              "    <tr>\n",
              "      <th>8</th>\n",
              "      <td>9</td>\n",
              "      <td>Sudden Death (1995)</td>\n",
              "      <td>Action</td>\n",
              "    </tr>\n",
              "    <tr>\n",
              "      <th>9</th>\n",
              "      <td>10</td>\n",
              "      <td>GoldenEye (1995)</td>\n",
              "      <td>Action|Adventure|Thriller</td>\n",
              "    </tr>\n",
              "  </tbody>\n",
              "</table>\n",
              "</div>"
            ],
            "text/plain": [
              "   movieId                               title  \\\n",
              "0        1                    Toy Story (1995)   \n",
              "1        2                      Jumanji (1995)   \n",
              "2        3             Grumpier Old Men (1995)   \n",
              "3        4            Waiting to Exhale (1995)   \n",
              "4        5  Father of the Bride Part II (1995)   \n",
              "5        6                         Heat (1995)   \n",
              "6        7                      Sabrina (1995)   \n",
              "7        8                 Tom and Huck (1995)   \n",
              "8        9                 Sudden Death (1995)   \n",
              "9       10                    GoldenEye (1995)   \n",
              "\n",
              "                                        genres  \n",
              "0  Adventure|Animation|Children|Comedy|Fantasy  \n",
              "1                   Adventure|Children|Fantasy  \n",
              "2                               Comedy|Romance  \n",
              "3                         Comedy|Drama|Romance  \n",
              "4                                       Comedy  \n",
              "5                        Action|Crime|Thriller  \n",
              "6                               Comedy|Romance  \n",
              "7                           Adventure|Children  \n",
              "8                                       Action  \n",
              "9                    Action|Adventure|Thriller  "
            ]
          },
          "execution_count": 95,
          "metadata": {},
          "output_type": "execute_result"
        }
      ],
      "source": [
        "movies.head(10)"
      ]
    },
    {
      "cell_type": "code",
      "execution_count": 96,
      "metadata": {},
      "outputs": [
        {
          "data": {
            "text/plain": [
              "<Axes: xlabel='rating'>"
            ]
          },
          "execution_count": 96,
          "metadata": {},
          "output_type": "execute_result"
        },
        {
          "data": {
            "image/png": "[encoded data removed]",
            "text/plain": [
              "<Figure size 640x480 with 1 Axes>"
            ]
          },
          "metadata": {},
          "output_type": "display_data"
        }
      ],
      "source": [
        "ratings[\"rating\"].value_counts().sort_index().plot.bar()"
      ]
    },
    {
      "cell_type": "code",
      "execution_count": 97,
      "metadata": {},
      "outputs": [
        {
          "data": {
            "image/png": "[encoded data removed]",
            "text/plain": [
              "<Figure size 640x480 with 1 Axes>"
            ]
          },
          "metadata": {},
          "output_type": "display_data"
        }
      ],
      "source": [
        "u200 = np.unique(ratings[\"userId\"].value_counts().to_numpy() // 200 * 200, return_counts=True)\n",
        "\n",
        "fig, ax = plt.subplots()\n",
        "ax.stem(u200[0], u200[1])\n",
        "ax.set_xlabel('rated movie count')\n",
        "ax.set_ylabel('how many user rated')\n",
        "plt.show()"
      ]
    },
    {
      "cell_type": "code",
      "execution_count": 98,
      "metadata": {},
      "outputs": [
        {
          "data": {
            "image/png": "[encoded data removed]",
            "text/plain": [
              "<Figure size 640x480 with 1 Axes>"
            ]
          },
          "metadata": {},
          "output_type": "display_data"
        }
      ],
      "source": [
        "u20 = np.unique(ratings[\"userId\"].value_counts().to_numpy() // 20 * 20, return_counts=True)\n",
        "u20x = u20[0][:10]\n",
        "u20y = u20[1][:10]\n",
        "fig, ax = plt.subplots()\n",
        "ax.stem(u20x, u20y)\n",
        "ax.set_xlabel('rated movie count')\n",
        "ax.set_ylabel('how many user rated')\n",
        "plt.show()"
      ]
    },
    {
      "cell_type": "code",
      "execution_count": 99,
      "metadata": {},
      "outputs": [
        {
          "data": {
            "text/plain": [
              "<Axes: >"
            ]
          },
          "execution_count": 99,
          "metadata": {},
          "output_type": "execute_result"
        },
        {
          "data": {
            "image/png": "[encoded data removed]",
            "text/plain": [
              "<Figure size 640x480 with 1 Axes>"
            ]
          },
          "metadata": {},
          "output_type": "display_data"
        }
      ],
      "source": [
        "uidplt = ratings.iloc[np.random.randint(len(ratings))][\"userId\"]\n",
        "uidrt = ratings[ratings[\"userId\"] == uidplt].sort_values(by=[\"timestamp\"])[[\"timestamp\", \"rating\"]]\n",
        "uidrt.set_index(np.arange(len(uidrt))).drop([\"timestamp\"], axis=1).iloc[:100].plot()"
      ]
    },
    {
      "cell_type": "code",
      "execution_count": 100,
      "metadata": {},
      "outputs": [
        {
          "data": {
            "text/plain": [
              "count    100836.000000\n",
              "mean          7.003114\n",
              "std           2.085058\n",
              "min           1.000000\n",
              "25%           6.000000\n",
              "50%           7.000000\n",
              "75%           8.000000\n",
              "max          10.000000\n",
              "Name: rating, dtype: float64"
            ]
          },
          "execution_count": 100,
          "metadata": {},
          "output_type": "execute_result"
        }
      ],
      "source": [
        "ratings[\"rating\"].describe()"
      ]
    },
    {
      "cell_type": "code",
      "execution_count": 101,
      "metadata": {},
      "outputs": [
        {
          "data": {
            "text/plain": [
              "count     610.000000\n",
              "mean      165.304918\n",
              "std       269.480584\n",
              "min        20.000000\n",
              "25%        35.000000\n",
              "50%        70.500000\n",
              "75%       168.000000\n",
              "max      2698.000000\n",
              "Name: count, dtype: float64"
            ]
          },
          "execution_count": 101,
          "metadata": {},
          "output_type": "execute_result"
        }
      ],
      "source": [
        "ratings[\"userId\"].value_counts().describe()"
      ]
    },
    {
      "cell_type": "code",
      "execution_count": 102,
      "metadata": {},
      "outputs": [
        {
          "data": {
            "text/html": [
              "<div>\n",
              "<style scoped>\n",
              "    .dataframe tbody tr th:only-of-type {\n",
              "        vertical-align: middle;\n",
              "    }\n",
              "\n",
              "    .dataframe tbody tr th {\n",
              "        vertical-align: top;\n",
              "    }\n",
              "\n",
              "    .dataframe thead th {\n",
              "        text-align: right;\n",
              "    }\n",
              "</style>\n",
              "<table border=\"1\" class=\"dataframe\">\n",
              "  <thead>\n",
              "    <tr style=\"text-align: right;\">\n",
              "      <th></th>\n",
              "      <th>movieId</th>\n",
              "    </tr>\n",
              "  </thead>\n",
              "  <tbody>\n",
              "    <tr>\n",
              "      <th>0</th>\n",
              "      <td>1</td>\n",
              "    </tr>\n",
              "    <tr>\n",
              "      <th>1</th>\n",
              "      <td>2</td>\n",
              "    </tr>\n",
              "    <tr>\n",
              "      <th>2</th>\n",
              "      <td>3</td>\n",
              "    </tr>\n",
              "  </tbody>\n",
              "</table>\n",
              "</div>"
            ],
            "text/plain": [
              "   movieId\n",
              "0        1\n",
              "1        2\n",
              "2        3"
            ]
          },
          "execution_count": 102,
          "metadata": {},
          "output_type": "execute_result"
        }
      ],
      "source": [
        "movies = movies.drop([\"genres\", \"title\"], axis=1)\n",
        "movies.head(3)"
      ]
    },
    {
      "cell_type": "code",
      "execution_count": 103,
      "metadata": {},
      "outputs": [
        {
          "data": {
            "text/html": [
              "<div>\n",
              "<style scoped>\n",
              "    .dataframe tbody tr th:only-of-type {\n",
              "        vertical-align: middle;\n",
              "    }\n",
              "\n",
              "    .dataframe tbody tr th {\n",
              "        vertical-align: top;\n",
              "    }\n",
              "\n",
              "    .dataframe thead th {\n",
              "        text-align: right;\n",
              "    }\n",
              "</style>\n",
              "<table border=\"1\" class=\"dataframe\">\n",
              "  <thead>\n",
              "    <tr style=\"text-align: right;\">\n",
              "      <th></th>\n",
              "      <th>userId</th>\n",
              "      <th>movieId</th>\n",
              "      <th>rating</th>\n",
              "      <th>timestamp</th>\n",
              "    </tr>\n",
              "  </thead>\n",
              "  <tbody>\n",
              "    <tr>\n",
              "      <th>0</th>\n",
              "      <td>1</td>\n",
              "      <td>1</td>\n",
              "      <td>8</td>\n",
              "      <td>964982703</td>\n",
              "    </tr>\n",
              "    <tr>\n",
              "      <th>516</th>\n",
              "      <td>5</td>\n",
              "      <td>1</td>\n",
              "      <td>8</td>\n",
              "      <td>847434962</td>\n",
              "    </tr>\n",
              "    <tr>\n",
              "      <th>874</th>\n",
              "      <td>7</td>\n",
              "      <td>1</td>\n",
              "      <td>9</td>\n",
              "      <td>1106635946</td>\n",
              "    </tr>\n",
              "    <tr>\n",
              "      <th>1434</th>\n",
              "      <td>15</td>\n",
              "      <td>1</td>\n",
              "      <td>5</td>\n",
              "      <td>1510577970</td>\n",
              "    </tr>\n",
              "    <tr>\n",
              "      <th>1667</th>\n",
              "      <td>17</td>\n",
              "      <td>1</td>\n",
              "      <td>9</td>\n",
              "      <td>1305696483</td>\n",
              "    </tr>\n",
              "  </tbody>\n",
              "</table>\n",
              "</div>"
            ],
            "text/plain": [
              "      userId  movieId  rating   timestamp\n",
              "0          1        1       8   964982703\n",
              "516        5        1       8   847434962\n",
              "874        7        1       9  1106635946\n",
              "1434      15        1       5  1510577970\n",
              "1667      17        1       9  1305696483"
            ]
          },
          "execution_count": 103,
          "metadata": {},
          "output_type": "execute_result"
        }
      ],
      "source": [
        "ratings = ratings.join(movies.set_index(\"movieId\"), on=\"movieId\", how=\"inner\")\n",
        "ratings.head(5)"
      ]
    },
    {
      "cell_type": "code",
      "execution_count": 104,
      "metadata": {},
      "outputs": [
        {
          "data": {
            "text/html": [
              "<div>\n",
              "<style scoped>\n",
              "    .dataframe tbody tr th:only-of-type {\n",
              "        vertical-align: middle;\n",
              "    }\n",
              "\n",
              "    .dataframe tbody tr th {\n",
              "        vertical-align: top;\n",
              "    }\n",
              "\n",
              "    .dataframe thead th {\n",
              "        text-align: right;\n",
              "    }\n",
              "</style>\n",
              "<table border=\"1\" class=\"dataframe\">\n",
              "  <thead>\n",
              "    <tr style=\"text-align: right;\">\n",
              "      <th></th>\n",
              "      <th>userId</th>\n",
              "      <th>movieId</th>\n",
              "      <th>rating</th>\n",
              "      <th>timestamp</th>\n",
              "    </tr>\n",
              "  </thead>\n",
              "  <tbody>\n",
              "    <tr>\n",
              "      <th>43</th>\n",
              "      <td>1</td>\n",
              "      <td>804</td>\n",
              "      <td>8</td>\n",
              "      <td>964980499</td>\n",
              "    </tr>\n",
              "    <tr>\n",
              "      <th>73</th>\n",
              "      <td>1</td>\n",
              "      <td>1210</td>\n",
              "      <td>10</td>\n",
              "      <td>964980499</td>\n",
              "    </tr>\n",
              "    <tr>\n",
              "      <th>120</th>\n",
              "      <td>1</td>\n",
              "      <td>2018</td>\n",
              "      <td>10</td>\n",
              "      <td>964980523</td>\n",
              "    </tr>\n",
              "    <tr>\n",
              "      <th>171</th>\n",
              "      <td>1</td>\n",
              "      <td>2628</td>\n",
              "      <td>8</td>\n",
              "      <td>964980523</td>\n",
              "    </tr>\n",
              "    <tr>\n",
              "      <th>183</th>\n",
              "      <td>1</td>\n",
              "      <td>2826</td>\n",
              "      <td>8</td>\n",
              "      <td>964980523</td>\n",
              "    </tr>\n",
              "  </tbody>\n",
              "</table>\n",
              "</div>"
            ],
            "text/plain": [
              "     userId  movieId  rating  timestamp\n",
              "43        1      804       8  964980499\n",
              "73        1     1210      10  964980499\n",
              "120       1     2018      10  964980523\n",
              "171       1     2628       8  964980523\n",
              "183       1     2826       8  964980523"
            ]
          },
          "execution_count": 104,
          "metadata": {},
          "output_type": "execute_result"
        }
      ],
      "source": [
        "ratings = ratings.sort_values(['userId', 'timestamp'], ascending=[True, True])\n",
        "ratings.head(5)"
      ]
    },
    {
      "cell_type": "code",
      "execution_count": 105,
      "metadata": {},
      "outputs": [],
      "source": [
        "ratings.rename(columns={\"userId\":\"user_id\", \"movieId\":\"item_id\"}, inplace=True)"
      ]
    },
    {
      "cell_type": "code",
      "execution_count": 106,
      "metadata": {},
      "outputs": [],
      "source": [
        "train_size = 0.6\n",
        "val_size = 0.2\n",
        "test_size = 0.2\n",
        "\n",
        "train_ratings = pd.DataFrame()\n",
        "val_ratings = pd.DataFrame()\n",
        "test_ratings = pd.DataFrame()"
      ]
    },
    {
      "cell_type": "code",
      "execution_count": 107,
      "metadata": {},
      "outputs": [],
      "source": [
        "iround = 0\n",
        "uniusers = ratings[\"user_id\"].unique()\n",
        "np.random.seed(1337)\n",
        "np.random.shuffle(uniusers)\n",
        "\n",
        "for user in uniusers:\n",
        "    user_len = len(ratings[ratings[\"user_id\"] == user])\n",
        "\n",
        "    if iround == 3:\n",
        "        iround = 0\n",
        "\n",
        "    if iround == 0:\n",
        "        train_start = 0\n",
        "        train_end = int(user_len * train_size)\n",
        "\n",
        "        val_start = int(user_len * train_size)\n",
        "        val_end = int(user_len * (train_size + val_size))\n",
        "\n",
        "        test_start = int(user_len * (train_size + val_size))\n",
        "        test_end = int(user_len * (train_size + val_size + test_size))\n",
        "    elif iround == 1:\n",
        "        val_start = 0\n",
        "        val_end = int(user_len * val_size)\n",
        "\n",
        "        train_start = int(user_len * val_size)\n",
        "        train_end = int(user_len * (train_size + val_size))\n",
        "\n",
        "        test_start = int(user_len * (train_size + val_size))\n",
        "        test_end = int(user_len * (train_size + val_size + test_size))\n",
        "    elif iround == 2:\n",
        "        val_start = 0\n",
        "        val_end = int(user_len * val_size)\n",
        "\n",
        "        test_start = int(user_len * val_size)\n",
        "        test_end = int(user_len * (test_size + val_size))\n",
        "\n",
        "        train_start = int(user_len * (test_size + val_size))\n",
        "        train_end = int(user_len * (train_size + val_size + test_size))\n",
        "\n",
        "    train_ratings = pd.concat([train_ratings, ratings[ratings[\"user_id\"] == user].sort_values(\"timestamp\").iloc[train_start:train_end]])\n",
        "    val_ratings = pd.concat([val_ratings, ratings[ratings[\"user_id\"] == user].sort_values(\"timestamp\").iloc[val_start:val_end]])\n",
        "    test_ratings = pd.concat([test_ratings, ratings[ratings[\"user_id\"] == user].sort_values(\"timestamp\").iloc[test_start:test_end]])\n",
        "\n",
        "    iround += 1"
      ]
    },
    {
      "cell_type": "code",
      "execution_count": 108,
      "metadata": {},
      "outputs": [],
      "source": [
        "from pathlib import Path  \n",
        "trainpath = Path('./dataset/train.csv')\n",
        "valpath = Path('./dataset/val.csv')\n",
        "testpath = Path('./dataset/test.csv')"
      ]
    },
    {
      "cell_type": "markdown",
      "metadata": {},
      "source": [
        "SAVE DATASET ACCORDING TO SPLIT"
      ]
    },
    {
      "cell_type": "code",
      "execution_count": 109,
      "metadata": {},
      "outputs": [],
      "source": [
        "train_ratings.sort_values([\"user_id\", \"timestamp\"], ascending=[True, True]).to_csv(trainpath, index=False) \n",
        "val_ratings.sort_values([\"user_id\", \"timestamp\"], ascending=[True, True]).to_csv(valpath, index=False) \n",
        "test_ratings.sort_values([\"user_id\", \"timestamp\"], ascending=[True, True]).to_csv(testpath, index=False) "
      ]
    },
    {
      "cell_type": "markdown",
      "metadata": {},
      "source": [
        "LOAD SPLITTED DATASET"
      ]
    },
    {
      "cell_type": "code",
      "execution_count": 110,
      "metadata": {},
      "outputs": [],
      "source": [
        "train_ratings = pd.read_csv(\n",
        "    trainpath\n",
        ")\n",
        "val_ratings = pd.read_csv(\n",
        "    valpath\n",
        ")\n",
        "test_ratings = pd.read_csv(\n",
        "    testpath\n",
        ")"
      ]
    },
    {
      "cell_type": "code",
      "execution_count": 111,
      "metadata": {},
      "outputs": [
        {
          "data": {
            "text/html": [
              "<div>\n",
              "<style scoped>\n",
              "    .dataframe tbody tr th:only-of-type {\n",
              "        vertical-align: middle;\n",
              "    }\n",
              "\n",
              "    .dataframe tbody tr th {\n",
              "        vertical-align: top;\n",
              "    }\n",
              "\n",
              "    .dataframe thead th {\n",
              "        text-align: right;\n",
              "    }\n",
              "</style>\n",
              "<table border=\"1\" class=\"dataframe\">\n",
              "  <thead>\n",
              "    <tr style=\"text-align: right;\">\n",
              "      <th></th>\n",
              "      <th>user_id</th>\n",
              "      <th>item_id</th>\n",
              "      <th>rating</th>\n",
              "      <th>timestamp</th>\n",
              "    </tr>\n",
              "  </thead>\n",
              "  <tbody>\n",
              "    <tr>\n",
              "      <th>60488</th>\n",
              "      <td>610</td>\n",
              "      <td>39381</td>\n",
              "      <td>8</td>\n",
              "      <td>1493846973</td>\n",
              "    </tr>\n",
              "    <tr>\n",
              "      <th>60489</th>\n",
              "      <td>610</td>\n",
              "      <td>137857</td>\n",
              "      <td>8</td>\n",
              "      <td>1493846975</td>\n",
              "    </tr>\n",
              "    <tr>\n",
              "      <th>60490</th>\n",
              "      <td>610</td>\n",
              "      <td>103384</td>\n",
              "      <td>7</td>\n",
              "      <td>1493846980</td>\n",
              "    </tr>\n",
              "    <tr>\n",
              "      <th>60491</th>\n",
              "      <td>610</td>\n",
              "      <td>3948</td>\n",
              "      <td>8</td>\n",
              "      <td>1493847002</td>\n",
              "    </tr>\n",
              "    <tr>\n",
              "      <th>60492</th>\n",
              "      <td>610</td>\n",
              "      <td>3911</td>\n",
              "      <td>9</td>\n",
              "      <td>1493847010</td>\n",
              "    </tr>\n",
              "  </tbody>\n",
              "</table>\n",
              "</div>"
            ],
            "text/plain": [
              "       user_id  item_id  rating   timestamp\n",
              "60488      610    39381       8  1493846973\n",
              "60489      610   137857       8  1493846975\n",
              "60490      610   103384       7  1493846980\n",
              "60491      610     3948       8  1493847002\n",
              "60492      610     3911       9  1493847010"
            ]
          },
          "execution_count": 111,
          "metadata": {},
          "output_type": "execute_result"
        }
      ],
      "source": [
        "train_ratings.tail()"
      ]
    },
    {
      "cell_type": "code",
      "execution_count": 112,
      "metadata": {},
      "outputs": [
        {
          "data": {
            "text/html": [
              "<div>\n",
              "<style scoped>\n",
              "    .dataframe tbody tr th:only-of-type {\n",
              "        vertical-align: middle;\n",
              "    }\n",
              "\n",
              "    .dataframe tbody tr th {\n",
              "        vertical-align: top;\n",
              "    }\n",
              "\n",
              "    .dataframe thead th {\n",
              "        text-align: right;\n",
              "    }\n",
              "</style>\n",
              "<table border=\"1\" class=\"dataframe\">\n",
              "  <thead>\n",
              "    <tr style=\"text-align: right;\">\n",
              "      <th></th>\n",
              "      <th>user_id</th>\n",
              "      <th>item_id</th>\n",
              "      <th>rating</th>\n",
              "      <th>timestamp</th>\n",
              "    </tr>\n",
              "  </thead>\n",
              "  <tbody>\n",
              "    <tr>\n",
              "      <th>20013</th>\n",
              "      <td>610</td>\n",
              "      <td>27778</td>\n",
              "      <td>6</td>\n",
              "      <td>1493848667</td>\n",
              "    </tr>\n",
              "    <tr>\n",
              "      <th>20014</th>\n",
              "      <td>610</td>\n",
              "      <td>55067</td>\n",
              "      <td>7</td>\n",
              "      <td>1493848671</td>\n",
              "    </tr>\n",
              "    <tr>\n",
              "      <th>20015</th>\n",
              "      <td>610</td>\n",
              "      <td>103219</td>\n",
              "      <td>7</td>\n",
              "      <td>1493848674</td>\n",
              "    </tr>\n",
              "    <tr>\n",
              "      <th>20016</th>\n",
              "      <td>610</td>\n",
              "      <td>51666</td>\n",
              "      <td>4</td>\n",
              "      <td>1493848680</td>\n",
              "    </tr>\n",
              "    <tr>\n",
              "      <th>20017</th>\n",
              "      <td>610</td>\n",
              "      <td>112727</td>\n",
              "      <td>6</td>\n",
              "      <td>1493848682</td>\n",
              "    </tr>\n",
              "  </tbody>\n",
              "</table>\n",
              "</div>"
            ],
            "text/plain": [
              "       user_id  item_id  rating   timestamp\n",
              "20013      610    27778       6  1493848667\n",
              "20014      610    55067       7  1493848671\n",
              "20015      610   103219       7  1493848674\n",
              "20016      610    51666       4  1493848680\n",
              "20017      610   112727       6  1493848682"
            ]
          },
          "execution_count": 112,
          "metadata": {},
          "output_type": "execute_result"
        }
      ],
      "source": [
        "val_ratings.tail()"
      ]
    },
    {
      "cell_type": "code",
      "execution_count": 113,
      "metadata": {},
      "outputs": [
        {
          "data": {
            "text/html": [
              "<div>\n",
              "<style scoped>\n",
              "    .dataframe tbody tr th:only-of-type {\n",
              "        vertical-align: middle;\n",
              "    }\n",
              "\n",
              "    .dataframe tbody tr th {\n",
              "        vertical-align: top;\n",
              "    }\n",
              "\n",
              "    .dataframe thead th {\n",
              "        text-align: right;\n",
              "    }\n",
              "</style>\n",
              "<table border=\"1\" class=\"dataframe\">\n",
              "  <thead>\n",
              "    <tr style=\"text-align: right;\">\n",
              "      <th></th>\n",
              "      <th>user_id</th>\n",
              "      <th>item_id</th>\n",
              "      <th>rating</th>\n",
              "      <th>timestamp</th>\n",
              "    </tr>\n",
              "  </thead>\n",
              "  <tbody>\n",
              "    <tr>\n",
              "      <th>20320</th>\n",
              "      <td>610</td>\n",
              "      <td>101739</td>\n",
              "      <td>7</td>\n",
              "      <td>1495959269</td>\n",
              "    </tr>\n",
              "    <tr>\n",
              "      <th>20321</th>\n",
              "      <td>610</td>\n",
              "      <td>70</td>\n",
              "      <td>8</td>\n",
              "      <td>1495959282</td>\n",
              "    </tr>\n",
              "    <tr>\n",
              "      <th>20322</th>\n",
              "      <td>610</td>\n",
              "      <td>328</td>\n",
              "      <td>7</td>\n",
              "      <td>1495959299</td>\n",
              "    </tr>\n",
              "    <tr>\n",
              "      <th>20323</th>\n",
              "      <td>610</td>\n",
              "      <td>2459</td>\n",
              "      <td>7</td>\n",
              "      <td>1495959405</td>\n",
              "    </tr>\n",
              "    <tr>\n",
              "      <th>20324</th>\n",
              "      <td>610</td>\n",
              "      <td>3917</td>\n",
              "      <td>8</td>\n",
              "      <td>1495959411</td>\n",
              "    </tr>\n",
              "  </tbody>\n",
              "</table>\n",
              "</div>"
            ],
            "text/plain": [
              "       user_id  item_id  rating   timestamp\n",
              "20320      610   101739       7  1495959269\n",
              "20321      610       70       8  1495959282\n",
              "20322      610      328       7  1495959299\n",
              "20323      610     2459       7  1495959405\n",
              "20324      610     3917       8  1495959411"
            ]
          },
          "execution_count": 113,
          "metadata": {},
          "output_type": "execute_result"
        }
      ],
      "source": [
        "test_ratings.tail()"
      ]
    },
    {
      "cell_type": "code",
      "execution_count": 166,
      "metadata": {},
      "outputs": [
        {
          "name": "stdout",
          "output_type": "stream",
          "text": [
            "{'<pad>': 0, '<unk>': 1, 'u1': 2, 'u2': 3, 'u3': 4, 'u4': 5, 'u5': 6, 'u6': 7, 'u7': 8, 'u8': 9, 'u9': 10, 'u10': 11, 'u11': 12, 'u12': 13, 'u13': 14, 'u14': 15, 'u15': 16, 'u16': 17, 'u17': 18, 'u18': 19, 'u19': 20, 'u20': 21, 'u21': 22, 'u22': 23, 'u23': 24, 'u24': 25, 'u25': 26, 'u26': 27, 'u27': 28, 'u28': 29, 'u29': 30, 'u30': 31, 'u31': 32, 'u32': 33, 'u33': 34, 'u34': 35, 'u35': 36, 'u36': 37, 'u37': 38, 'u38': 39, 'u39': 40, 'u40': 41, 'u41': 42, 'u42': 43, 'u43': 44, 'u44': 45, 'u45': 46, 'u46': 47, 'u47': 48, 'u48': 49, 'u49': 50, 'u50': 51, 'u51': 52, 'u52': 53, 'u53': 54, 'u54': 55, 'u55': 56, 'u56': 57, 'u57': 58, 'u58': 59, 'u59': 60, 'u60': 61, 'u61': 62, 'u62': 63, 'u63': 64, 'u64': 65, 'u65': 66, 'u66': 67, 'u67': 68, 'u68': 69, 'u69': 70, 'u70': 71, 'u71': 72, 'u72': 73, 'u73': 74, 'u74': 75, 'u75': 76, 'u76': 77, 'u77': 78, 'u78': 79, 'u79': 80, 'u80': 81, 'u81': 82, 'u82': 83, 'u83': 84, 'u84': 85, 'u85': 86, 'u86': 87, 'u87': 88, 'u88': 89, 'u89': 90, 'u90': 91, 'u91': 92, 'u92': 93, 'u93': 94, 'u94': 95, 'u95': 96, 'u96': 97, 'u97': 98, 'u98': 99, 'u99': 100, 'u100': 101, 'u101': 102, 'u102': 103, 'u103': 104, 'u104': 105, 'u105': 106, 'u106': 107, 'u107': 108, 'u108': 109, 'u109': 110, 'u110': 111, 'u111': 112, 'u112': 113, 'u113': 114, 'u114': 115, 'u115': 116, 'u116': 117, 'u117': 118, 'u118': 119, 'u119': 120, 'u120': 121, 'u121': 122, 'u122': 123, 'u123': 124, 'u124': 125, 'u125': 126, 'u126': 127, 'u127': 128, 'u128': 129, 'u129': 130, 'u130': 131, 'u131': 132, 'u132': 133, 'u133': 134, 'u134': 135, 'u135': 136, 'u136': 137, 'u137': 138, 'u138': 139, 'u139': 140, 'u140': 141, 'u141': 142, 'u142': 143, 'u143': 144, 'u144': 145, 'u145': 146, 'u146': 147, 'u147': 148, 'u148': 149, 'u149': 150, 'u150': 151, 'u151': 152, 'u152': 153, 'u153': 154, 'u154': 155, 'u155': 156, 'u156': 157, 'u157': 158, 'u158': 159, 'u159': 160, 'u160': 161, 'u161': 162, 'u162': 163, 'u163': 164, 'u164': 165, 'u165': 166, 'u166': 167, 'u167': 168, 'u168': 169, 'u169': 170, 'u170': 171, 'u171': 172, 'u172': 173, 'u173': 174, 'u174': 175, 'u175': 176, 'u176': 177, 'u177': 178, 'u178': 179, 'u179': 180, 'u180': 181, 'u181': 182, 'u182': 183, 'u183': 184, 'u184': 185, 'u185': 186, 'u186': 187, 'u187': 188, 'u188': 189, 'u189': 190, 'u190': 191, 'u191': 192, 'u192': 193, 'u193': 194, 'u194': 195, 'u195': 196, 'u196': 197, 'u197': 198, 'u198': 199, 'u199': 200, 'u200': 201, 'u201': 202, 'u202': 203, 'u203': 204, 'u204': 205, 'u205': 206, 'u206': 207, 'u207': 208, 'u208': 209, 'u209': 210, 'u210': 211, 'u211': 212, 'u212': 213, 'u213': 214, 'u214': 215, 'u215': 216, 'u216': 217, 'u217': 218, 'u218': 219, 'u219': 220, 'u220': 221, 'u221': 222, 'u222': 223, 'u223': 224, 'u224': 225, 'u225': 226, 'u226': 227, 'u227': 228, 'u228': 229, 'u229': 230, 'u230': 231, 'u231': 232, 'u232': 233, 'u233': 234, 'u234': 235, 'u235': 236, 'u236': 237, 'u237': 238, 'u238': 239, 'u239': 240, 'u240': 241, 'u241': 242, 'u242': 243, 'u243': 244, 'u244': 245, 'u245': 246, 'u246': 247, 'u247': 248, 'u248': 249, 'u249': 250, 'u250': 251, 'u251': 252, 'u252': 253, 'u253': 254, 'u254': 255, 'u255': 256, 'u256': 257, 'u257': 258, 'u258': 259, 'u259': 260, 'u260': 261, 'u261': 262, 'u262': 263, 'u263': 264, 'u264': 265, 'u265': 266, 'u266': 267, 'u267': 268, 'u268': 269, 'u269': 270, 'u270': 271, 'u271': 272, 'u272': 273, 'u273': 274, 'u274': 275, 'u275': 276, 'u276': 277, 'u277': 278, 'u278': 279, 'u279': 280, 'u280': 281, 'u281': 282, 'u282': 283, 'u283': 284, 'u284': 285, 'u285': 286, 'u286': 287, 'u287': 288, 'u288': 289, 'u289': 290, 'u290': 291, 'u291': 292, 'u292': 293, 'u293': 294, 'u294': 295, 'u295': 296, 'u296': 297, 'u297': 298, 'u298': 299, 'u299': 300, 'u300': 301, 'u301': 302, 'u302': 303, 'u303': 304, 'u304': 305, 'u305': 306, 'u306': 307, 'u307': 308, 'u308': 309, 'u309': 310, 'u310': 311, 'u311': 312, 'u312': 313, 'u313': 314, 'u314': 315, 'u315': 316, 'u316': 317, 'u317': 318, 'u318': 319, 'u319': 320, 'u320': 321, 'u321': 322, 'u322': 323, 'u323': 324, 'u324': 325, 'u325': 326, 'u326': 327, 'u327': 328, 'u328': 329, 'u329': 330, 'u330': 331, 'u331': 332, 'u332': 333, 'u333': 334, 'u334': 335, 'u335': 336, 'u336': 337, 'u337': 338, 'u338': 339, 'u339': 340, 'u340': 341, 'u341': 342, 'u342': 343, 'u343': 344, 'u344': 345, 'u345': 346, 'u346': 347, 'u347': 348, 'u348': 349, 'u349': 350, 'u350': 351, 'u351': 352, 'u352': 353, 'u353': 354, 'u354': 355, 'u355': 356, 'u356': 357, 'u357': 358, 'u358': 359, 'u359': 360, 'u360': 361, 'u361': 362, 'u362': 363, 'u363': 364, 'u364': 365, 'u365': 366, 'u366': 367, 'u367': 368, 'u368': 369, 'u369': 370, 'u370': 371, 'u371': 372, 'u372': 373, 'u373': 374, 'u374': 375, 'u375': 376, 'u376': 377, 'u377': 378, 'u378': 379, 'u379': 380, 'u380': 381, 'u381': 382, 'u382': 383, 'u383': 384, 'u384': 385, 'u385': 386, 'u386': 387, 'u387': 388, 'u388': 389, 'u389': 390, 'u390': 391, 'u391': 392, 'u392': 393, 'u393': 394, 'u394': 395, 'u395': 396, 'u396': 397, 'u397': 398, 'u398': 399, 'u399': 400, 'u400': 401, 'u401': 402, 'u402': 403, 'u403': 404, 'u404': 405, 'u405': 406, 'u406': 407, 'u407': 408, 'u408': 409, 'u409': 410, 'u410': 411, 'u411': 412, 'u412': 413, 'u413': 414, 'u414': 415, 'u415': 416, 'u416': 417, 'u417': 418, 'u418': 419, 'u419': 420, 'u420': 421, 'u421': 422, 'u422': 423, 'u423': 424, 'u424': 425, 'u425': 426, 'u426': 427, 'u427': 428, 'u428': 429, 'u429': 430, 'u430': 431, 'u431': 432, 'u432': 433, 'u433': 434, 'u434': 435, 'u435': 436, 'u436': 437, 'u437': 438, 'u438': 439, 'u439': 440, 'u440': 441, 'u441': 442, 'u442': 443, 'u443': 444, 'u444': 445, 'u445': 446, 'u446': 447, 'u447': 448, 'u448': 449, 'u449': 450, 'u450': 451, 'u451': 452, 'u452': 453, 'u453': 454, 'u454': 455, 'u455': 456, 'u456': 457, 'u457': 458, 'u458': 459, 'u459': 460, 'u460': 461, 'u461': 462, 'u462': 463, 'u463': 464, 'u464': 465, 'u465': 466, 'u466': 467, 'u467': 468, 'u468': 469, 'u469': 470, 'u470': 471, 'u471': 472, 'u472': 473, 'u473': 474, 'u474': 475, 'u475': 476, 'u476': 477, 'u477': 478, 'u478': 479, 'u479': 480, 'u480': 481, 'u481': 482, 'u482': 483, 'u483': 484, 'u484': 485, 'u485': 486, 'u486': 487, 'u487': 488, 'u488': 489, 'u489': 490, 'u490': 491, 'u491': 492, 'u492': 493, 'u493': 494, 'u494': 495, 'u495': 496, 'u496': 497, 'u497': 498, 'u498': 499, 'u499': 500, 'u500': 501, 'u501': 502, 'u502': 503, 'u503': 504, 'u504': 505, 'u505': 506, 'u506': 507, 'u507': 508, 'u508': 509, 'u509': 510, 'u510': 511, 'u511': 512, 'u512': 513, 'u513': 514, 'u514': 515, 'u515': 516, 'u516': 517, 'u517': 518, 'u518': 519, 'u519': 520, 'u520': 521, 'u521': 522, 'u522': 523, 'u523': 524, 'u524': 525, 'u525': 526, 'u526': 527, 'u527': 528, 'u528': 529, 'u529': 530, 'u530': 531, 'u531': 532, 'u532': 533, 'u533': 534, 'u534': 535, 'u535': 536, 'u536': 537, 'u537': 538, 'u538': 539, 'u539': 540, 'u540': 541, 'u541': 542, 'u542': 543, 'u543': 544, 'u544': 545, 'u545': 546, 'u546': 547, 'u547': 548, 'u548': 549, 'u549': 550, 'u550': 551, 'u551': 552, 'u552': 553, 'u553': 554, 'u554': 555, 'u555': 556, 'u556': 557, 'u557': 558, 'u558': 559, 'u559': 560, 'u560': 561, 'u561': 562, 'u562': 563, 'u563': 564, 'u564': 565, 'u565': 566, 'u566': 567, 'u567': 568, 'u568': 569, 'u569': 570, 'u570': 571, 'u571': 572, 'u572': 573, 'u573': 574, 'u574': 575, 'u575': 576, 'u576': 577, 'u577': 578, 'u578': 579, 'u579': 580, 'u580': 581, 'u581': 582, 'u582': 583, 'u583': 584, 'u584': 585, 'u585': 586, 'u586': 587, 'u587': 588, 'u588': 589, 'u589': 590, 'u590': 591, 'u591': 592, 'u592': 593, 'u593': 594, 'u594': 595, 'u595': 596, 'u596': 597, 'u597': 598, 'u598': 599, 'u599': 600, 'u600': 601, 'u601': 602, 'u602': 603, 'u603': 604, 'u604': 605, 'u605': 606, 'u606': 607, 'u607': 608, 'u608': 609, 'u609': 610, 'u610': 611, 'i1': 612, 'i2': 613, 'i3': 614, 'i4': 615, 'i5': 616, 'i6': 617, 'i7': 618, 'i8': 619, 'i9': 620, 'i10': 621, 'i11': 622, 'i12': 623, 'i13': 624, 'i14': 625, 'i15': 626, 'i16': 627, 'i17': 628, 'i18': 629, 'i19': 630, 'i20': 631, 'i21': 632, 'i22': 633, 'i23': 634, 'i24': 635, 'i25': 636, 'i26': 637, 'i27': 638, 'i28': 639, 'i29': 640, 'i30': 641, 'i31': 642, 'i32': 643, 'i34': 644, 'i36': 645, 'i38': 646, 'i39': 647, 'i40': 648, 'i41': 649, 'i42': 650, 'i43': 651, 'i44': 652, 'i45': 653, 'i46': 654, 'i47': 655, 'i48': 656, 'i49': 657, 'i50': 658, 'i52': 659, 'i53': 660, 'i54': 661, 'i55': 662, 'i57': 663, 'i58': 664, 'i60': 665, 'i61': 666, 'i62': 667, 'i63': 668, 'i64': 669, 'i65': 670, 'i66': 671, 'i68': 672, 'i69': 673, 'i70': 674, 'i71': 675, 'i72': 676, 'i73': 677, 'i74': 678, 'i75': 679, 'i76': 680, 'i77': 681, 'i78': 682, 'i79': 683, 'i80': 684, 'i81': 685, 'i82': 686, 'i85': 687, 'i86': 688, 'i87': 689, 'i88': 690, 'i89': 691, 'i92': 692, 'i93': 693, 'i94': 694, 'i95': 695, 'i97': 696, 'i99': 697, 'i100': 698, 'i101': 699, 'i102': 700, 'i103': 701, 'i104': 702, 'i105': 703, 'i106': 704, 'i107': 705, 'i108': 706, 'i110': 707, 'i111': 708, 'i112': 709, 'i113': 710, 'i116': 711, 'i118': 712, 'i119': 713, 'i121': 714, 'i122': 715, 'i123': 716, 'i125': 717, 'i126': 718, 'i128': 719, 'i129': 720, 'i132': 721, 'i135': 722, 'i137': 723, 'i140': 724, 'i141': 725, 'i144': 726, 'i145': 727, 'i146': 728, 'i147': 729, 'i148': 730, 'i149': 731, 'i150': 732, 'i151': 733, 'i152': 734, 'i153': 735, 'i154': 736, 'i155': 737, 'i156': 738, 'i157': 739, 'i158': 740, 'i159': 741, 'i160': 742, 'i161': 743, 'i162': 744, 'i163': 745, 'i164': 746, 'i165': 747, 'i166': 748, 'i168': 749, 'i169': 750, 'i170': 751, 'i171': 752, 'i172': 753, 'i173': 754, 'i174': 755, 'i175': 756, 'i176': 757, 'i177': 758, 'i178': 759, 'i179': 760, 'i180': 761, 'i181': 762, 'i183': 763, 'i184': 764, 'i185': 765, 'i186': 766, 'i187': 767, 'i188': 768, 'i189': 769, 'i190': 770, 'i191': 771, 'i193': 772, 'i194': 773, 'i195': 774, 'i196': 775, 'i198': 776, 'i199': 777, 'i201': 778, 'i203': 779, 'i204': 780, 'i205': 781, 'i206': 782, 'i207': 783, 'i208': 784, 'i209': 785, 'i210': 786, 'i211': 787, 'i212': 788, 'i213': 789, 'i214': 790, 'i215': 791, 'i216': 792, 'i217': 793, 'i218': 794, 'i219': 795, 'i222': 796, 'i223': 797, 'i224': 798, 'i225': 799, 'i227': 800, 'i228': 801, 'i229': 802, 'i230': 803, 'i231': 804, 'i232': 805, 'i233': 806, 'i234': 807, 'i235': 808, 'i236': 809, 'i237': 810, 'i239': 811, 'i240': 812, 'i242': 813, 'i243': 814, 'i246': 815, 'i247': 816, 'i248': 817, 'i249': 818, 'i250': 819, 'i251': 820, 'i252': 821, 'i253': 822, 'i254': 823, 'i255': 824, 'i256': 825, 'i257': 826, 'i258': 827, 'i259': 828, 'i260': 829, 'i261': 830, 'i262': 831, 'i263': 832, 'i265': 833, 'i266': 834, 'i267': 835, 'i269': 836, 'i270': 837, 'i271': 838, 'i272': 839, 'i273': 840, 'i274': 841, 'i275': 842, 'i276': 843, 'i277': 844, 'i278': 845, 'i279': 846, 'i280': 847, 'i281': 848, 'i282': 849, 'i283': 850, 'i284': 851, 'i287': 852, 'i288': 853, 'i289': 854, 'i290': 855, 'i291': 856, 'i292': 857, 'i293': 858, 'i294': 859, 'i295': 860, 'i296': 861, 'i299': 862, 'i300': 863, 'i301': 864, 'i302': 865, 'i303': 866, 'i304': 867, 'i305': 868, 'i306': 869, 'i307': 870, 'i308': 871, 'i310': 872, 'i312': 873, 'i313': 874, 'i314': 875, 'i315': 876, 'i316': 877, 'i317': 878, 'i318': 879, 'i319': 880, 'i321': 881, 'i322': 882, 'i324': 883, 'i325': 884, 'i326': 885, 'i327': 886, 'i328': 887, 'i329': 888, 'i330': 889, 'i331': 890, 'i332': 891, 'i333': 892, 'i334': 893, 'i336': 894, 'i337': 895, 'i338': 896, 'i339': 897, 'i340': 898, 'i341': 899, 'i342': 900, 'i343': 901, 'i344': 902, 'i345': 903, 'i346': 904, 'i347': 905, 'i348': 906, 'i349': 907, 'i350': 908, 'i351': 909, 'i352': 910, 'i353': 911, 'i354': 912, 'i355': 913, 'i356': 914, 'i357': 915, 'i358': 916, 'i359': 917, 'i360': 918, 'i361': 919, 'i362': 920, 'i363': 921, 'i364': 922, 'i365': 923, 'i366': 924, 'i367': 925, 'i368': 926, 'i369': 927, 'i370': 928, 'i371': 929, 'i372': 930, 'i373': 931, 'i374': 932, 'i376': 933, 'i377': 934, 'i378': 935, 'i379': 936, 'i380': 937, 'i381': 938, 'i382': 939, 'i383': 940, 'i384': 941, 'i385': 942, 'i386': 943, 'i387': 944, 'i388': 945, 'i389': 946, 'i390': 947, 'i391': 948, 'i393': 949, 'i405': 950, 'i407': 951, 'i408': 952, 'i410': 953, 'i412': 954, 'i413': 955, 'i414': 956, 'i415': 957, 'i416': 958, 'i417': 959, 'i419': 960, 'i420': 961, 'i421': 962, 'i422': 963, 'i423': 964, 'i425': 965, 'i426': 966, 'i427': 967, 'i428': 968, 'i429': 969, 'i430': 970, 'i431': 971, 'i432': 972, 'i433': 973, 'i434': 974, 'i435': 975, 'i436': 976, 'i437': 977, 'i438': 978, 'i440': 979, 'i441': 980, 'i442': 981, 'i444': 982, 'i445': 983, 'i446': 984, 'i448': 985, 'i449': 986, 'i450': 987, 'i451': 988, 'i452': 989, 'i453': 990, 'i454': 991, 'i455': 992, 'i456': 993, 'i457': 994, 'i458': 995, 'i459': 996, 'i460': 997, 'i461': 998, 'i464': 999, 'i466': 1000, 'i467': 1001, 'i468': 1002, 'i469': 1003, 'i470': 1004, 'i471': 1005, 'i472': 1006, 'i473': 1007, 'i474': 1008, 'i475': 1009, 'i476': 1010, 'i477': 1011, 'i478': 1012, 'i479': 1013, 'i480': 1014, 'i481': 1015, 'i482': 1016, 'i485': 1017, 'i486': 1018, 'i487': 1019, 'i489': 1020, 'i490': 1021, 'i491': 1022, 'i492': 1023, 'i493': 1024, 'i494': 1025, 'i497': 1026, 'i499': 1027, 'i500': 1028, 'i501': 1029, 'i502': 1030, 'i505': 1031, 'i506': 1032, 'i507': 1033, 'i508': 1034, 'i509': 1035, 'i510': 1036, 'i511': 1037, 'i512': 1038, 'i513': 1039, 'i514': 1040, 'i515': 1041, 'i516': 1042, 'i517': 1043, 'i518': 1044, 'i519': 1045, 'i520': 1046, 'i521': 1047, 'i522': 1048, 'i523': 1049, 'i524': 1050, 'i526': 1051, 'i527': 1052, 'i528': 1053, 'i529': 1054, 'i531': 1055, 'i532': 1056, 'i533': 1057, 'i534': 1058, 'i535': 1059, 'i536': 1060, 'i537': 1061, 'i538': 1062, 'i539': 1063, 'i540': 1064, 'i541': 1065, 'i542': 1066, 'i543': 1067, 'i544': 1068, 'i546': 1069, 'i547': 1070, 'i548': 1071, 'i549': 1072, 'i550': 1073, 'i551': 1074, 'i552': 1075, 'i553': 1076, 'i555': 1077, 'i556': 1078, 'i558': 1079, 'i562': 1080, 'i563': 1081, 'i564': 1082, 'i567': 1083, 'i568': 1084, 'i569': 1085, 'i573': 1086, 'i574': 1087, 'i575': 1088, 'i579': 1089, 'i580': 1090, 'i581': 1091, 'i585': 1092, 'i586': 1093, 'i587': 1094, 'i588': 1095, 'i589': 1096, 'i590': 1097, 'i592': 1098, 'i593': 1099, 'i594': 1100, 'i595': 1101, 'i596': 1102, 'i597': 1103, 'i599': 1104, 'i600': 1105, 'i602': 1106, 'i605': 1107, 'i606': 1108, 'i608': 1109, 'i609': 1110, 'i610': 1111, 'i611': 1112, 'i612': 1113, 'i613': 1114, 'i615': 1115, 'i616': 1116, 'i617': 1117, 'i619': 1118, 'i626': 1119, 'i627': 1120, 'i628': 1121, 'i631': 1122, 'i632': 1123, 'i634': 1124, 'i635': 1125, 'i637': 1126, 'i639': 1127, 'i640': 1128, 'i647': 1129, 'i648': 1130, 'i649': 1131, 'i650': 1132, 'i653': 1133, 'i656': 1134, 'i661': 1135, 'i662': 1136, 'i663': 1137, 'i665': 1138, 'i667': 1139, 'i668': 1140, 'i670': 1141, 'i671': 1142, 'i673': 1143, 'i674': 1144, 'i678': 1145, 'i679': 1146, 'i680': 1147, 'i685': 1148, 'i688': 1149, 'i691': 1150, 'i692': 1151, 'i694': 1152, 'i695': 1153, 'i697': 1154, 'i698': 1155, 'i700': 1156, 'i703': 1157, 'i704': 1158, 'i706': 1159, 'i707': 1160, 'i708': 1161, 'i709': 1162, 'i710': 1163, 'i711': 1164, 'i714': 1165, 'i715': 1166, 'i718': 1167, 'i719': 1168, 'i720': 1169, 'i722': 1170, 'i724': 1171, 'i725': 1172, 'i726': 1173, 'i728': 1174, 'i731': 1175, 'i733': 1176, 'i735': 1177, 'i736': 1178, 'i737': 1179, 'i741': 1180, 'i742': 1181, 'i743': 1182, 'i745': 1183, 'i747': 1184, 'i748': 1185, 'i750': 1186, 'i757': 1187, 'i759': 1188, 'i761': 1189, 'i762': 1190, 'i764': 1191, 'i765': 1192, 'i766': 1193, 'i773': 1194, 'i775': 1195, 'i778': 1196, 'i779': 1197, 'i780': 1198, 'i781': 1199, 'i782': 1200, 'i783': 1201, 'i784': 1202, 'i785': 1203, 'i786': 1204, 'i788': 1205, 'i790': 1206, 'i795': 1207, 'i798': 1208, 'i799': 1209, 'i800': 1210, 'i801': 1211, 'i802': 1212, 'i804': 1213, 'i805': 1214, 'i809': 1215, 'i810': 1216, 'i813': 1217, 'i818': 1218, 'i824': 1219, 'i828': 1220, 'i829': 1221, 'i830': 1222, 'i832': 1223, 'i833': 1224, 'i835': 1225, 'i836': 1226, 'i837': 1227, 'i838': 1228, 'i839': 1229, 'i841': 1230, 'i842': 1231, 'i848': 1232, 'i849': 1233, 'i851': 1234, 'i852': 1235, 'i858': 1236, 'i861': 1237, 'i866': 1238, 'i867': 1239, 'i869': 1240, 'i870': 1241, 'i875': 1242, 'i879': 1243, 'i880': 1244, 'i881': 1245, 'i882': 1246, 'i886': 1247, 'i888': 1248, 'i891': 1249, 'i892': 1250, 'i893': 1251, 'i897': 1252, 'i898': 1253, 'i899': 1254, 'i900': 1255, 'i901': 1256, 'i902': 1257, 'i903': 1258, 'i904': 1259, 'i905': 1260, 'i906': 1261, 'i907': 1262, 'i908': 1263, 'i909': 1264, 'i910': 1265, 'i911': 1266, 'i912': 1267, 'i913': 1268, 'i914': 1269, 'i915': 1270, 'i916': 1271, 'i918': 1272, 'i919': 1273, 'i920': 1274, 'i921': 1275, 'i922': 1276, 'i923': 1277, 'i924': 1278, 'i926': 1279, 'i927': 1280, 'i928': 1281, 'i929': 1282, 'i930': 1283, 'i931': 1284, 'i932': 1285, 'i933': 1286, 'i934': 1287, 'i935': 1288, 'i936': 1289, 'i937': 1290, 'i938': 1291, 'i940': 1292, 'i941': 1293, 'i942': 1294, 'i943': 1295, 'i944': 1296, 'i945': 1297, 'i946': 1298, 'i947': 1299, 'i948': 1300, 'i949': 1301, 'i950': 1302, 'i951': 1303, 'i952': 1304, 'i953': 1305, 'i954': 1306, 'i955': 1307, 'i956': 1308, 'i959': 1309, 'i961': 1310, 'i965': 1311, 'i968': 1312, 'i969': 1313, 'i970': 1314, 'i971': 1315, 'i973': 1316, 'i976': 1317, 'i979': 1318, 'i981': 1319, 'i984': 1320, 'i986': 1321, 'i988': 1322, 'i990': 1323, 'i991': 1324, 'i994': 1325, 'i996': 1326, 'i998': 1327, 'i999': 1328, 'i1003': 1329, 'i1004': 1330, 'i1005': 1331, 'i1006': 1332, 'i1007': 1333, 'i1008': 1334, 'i1009': 1335, 'i1010': 1336, 'i1011': 1337, 'i1012': 1338, 'i1013': 1339, 'i1014': 1340, 'i1015': 1341, 'i1016': 1342, 'i1017': 1343, 'i1018': 1344, 'i1019': 1345, 'i1020': 1346, 'i1021': 1347, 'i1022': 1348, 'i1023': 1349, 'i1024': 1350, 'i1025': 1351, 'i1027': 1352, 'i1028': 1353, 'i1029': 1354, 'i1030': 1355, 'i1031': 1356, 'i1032': 1357, 'i1033': 1358, 'i1034': 1359, 'i1035': 1360, 'i1036': 1361, 'i1037': 1362, 'i1040': 1363, 'i1041': 1364, 'i1042': 1365, 'i1043': 1366, 'i1046': 1367, 'i1047': 1368, 'i1049': 1369, 'i1050': 1370, 'i1051': 1371, 'i1056': 1372, 'i1057': 1373, 'i1059': 1374, 'i1060': 1375, 'i1061': 1376, 'i1064': 1377, 'i1066': 1378, 'i1068': 1379, 'i1073': 1380, 'i1077': 1381, 'i1078': 1382, 'i1079': 1383, 'i1080': 1384, 'i1081': 1385, 'i1082': 1386, 'i1083': 1387, 'i1084': 1388, 'i1085': 1389, 'i1086': 1390, 'i1088': 1391, 'i1089': 1392, 'i1090': 1393, 'i1091': 1394, 'i1092': 1395, 'i1093': 1396, 'i1094': 1397, 'i1095': 1398, 'i1096': 1399, 'i1097': 1400, 'i1099': 1401, 'i1100': 1402, 'i1101': 1403, 'i1103': 1404, 'i1104': 1405, 'i1105': 1406, 'i1111': 1407, 'i1112': 1408, 'i1119': 1409, 'i1120': 1410, 'i1121': 1411, 'i1124': 1412, 'i1125': 1413, 'i1126': 1414, 'i1127': 1415, 'i1128': 1416, 'i1129': 1417, 'i1130': 1418, 'i1131': 1419, 'i1132': 1420, 'i1135': 1421, 'i1136': 1422, 'i1140': 1423, 'i1147': 1424, 'i1148': 1425, 'i1150': 1426, 'i1151': 1427, 'i1156': 1428, 'i1161': 1429, 'i1163': 1430, 'i1167': 1431, 'i1170': 1432, 'i1171': 1433, 'i1172': 1434, 'i1173': 1435, 'i1175': 1436, 'i1176': 1437, 'i1177': 1438, 'i1178': 1439, 'i1179': 1440, 'i1183': 1441, 'i1184': 1442, 'i1185': 1443, 'i1186': 1444, 'i1187': 1445, 'i1188': 1446, 'i1189': 1447, 'i1190': 1448, 'i1191': 1449, 'i1192': 1450, 'i1193': 1451, 'i1194': 1452, 'i1196': 1453, 'i1197': 1454, 'i1198': 1455, 'i1199': 1456, 'i1200': 1457, 'i1201': 1458, 'i1202': 1459, 'i1203': 1460, 'i1204': 1461, 'i1206': 1462, 'i1207': 1463, 'i1208': 1464, 'i1209': 1465, 'i1210': 1466, 'i1211': 1467, 'i1212': 1468, 'i1213': 1469, 'i1214': 1470, 'i1215': 1471, 'i1216': 1472, 'i1217': 1473, 'i1218': 1474, 'i1219': 1475, 'i1220': 1476, 'i1221': 1477, 'i1222': 1478, 'i1223': 1479, 'i1224': 1480, 'i1225': 1481, 'i1226': 1482, 'i1227': 1483, 'i1228': 1484, 'i1230': 1485, 'i1231': 1486, 'i1232': 1487, 'i1233': 1488, 'i1234': 1489, 'i1235': 1490, 'i1236': 1491, 'i1237': 1492, 'i1238': 1493, 'i1240': 1494, 'i1241': 1495, 'i1242': 1496, 'i1243': 1497, 'i1244': 1498, 'i1245': 1499, 'i1246': 1500, 'i1247': 1501, 'i1248': 1502, 'i1249': 1503, 'i1250': 1504, 'i1251': 1505, 'i1252': 1506, 'i1253': 1507, 'i1254': 1508, 'i1255': 1509, 'i1256': 1510, 'i1257': 1511, 'i1258': 1512, 'i1259': 1513, 'i1260': 1514, 'i1261': 1515, 'i1262': 1516, 'i1263': 1517, 'i1264': 1518, 'i1265': 1519, 'i1266': 1520, 'i1267': 1521, 'i1268': 1522, 'i1269': 1523, 'i1270': 1524, 'i1271': 1525, 'i1272': 1526, 'i1273': 1527, 'i1274': 1528, 'i1275': 1529, 'i1276': 1530, 'i1277': 1531, 'i1278': 1532, 'i1279': 1533, 'i1280': 1534, 'i1281': 1535, 'i1282': 1536, 'i1283': 1537, 'i1284': 1538, 'i1285': 1539, 'i1286': 1540, 'i1287': 1541, 'i1288': 1542, 'i1289': 1543, 'i1290': 1544, 'i1291': 1545, 'i1292': 1546, 'i1293': 1547, 'i1295': 1548, 'i1296': 1549, 'i1297': 1550, 'i1298': 1551, 'i1299': 1552, 'i1300': 1553, 'i1301': 1554, 'i1302': 1555, 'i1303': 1556, 'i1304': 1557, 'i1305': 1558, 'i1306': 1559, 'i1307': 1560, 'i1310': 1561, 'i1312': 1562, 'i1320': 1563, 'i1321': 1564, 'i1326': 1565, 'i1327': 1566, 'i1329': 1567, 'i1331': 1568, 'i1332': 1569, 'i1333': 1570, 'i1334': 1571, 'i1339': 1572, 'i1340': 1573, 'i1341': 1574, 'i1342': 1575, 'i1343': 1576, 'i1344': 1577, 'i1345': 1578, 'i1346': 1579, 'i1347': 1580, 'i1348': 1581, 'i1350': 1582, 'i1351': 1583, 'i1352': 1584, 'i1353': 1585, 'i1354': 1586, 'i1355': 1587, 'i1356': 1588, 'i1357': 1589, 'i1358': 1590, 'i1359': 1591, 'i1361': 1592, 'i1363': 1593, 'i1365': 1594, 'i1366': 1595, 'i1367': 1596, 'i1370': 1597, 'i1371': 1598, 'i1372': 1599, 'i1373': 1600, 'i1374': 1601, 'i1375': 1602, 'i1376': 1603, 'i1377': 1604, 'i1378': 1605, 'i1379': 1606, 'i1380': 1607, 'i1381': 1608, 'i1382': 1609, 'i1385': 1610, 'i1387': 1611, 'i1388': 1612, 'i1389': 1613, 'i1390': 1614, 'i1391': 1615, 'i1392': 1616, 'i1393': 1617, 'i1394': 1618, 'i1395': 1619, 'i1396': 1620, 'i1397': 1621, 'i1399': 1622, 'i1401': 1623, 'i1405': 1624, 'i1406': 1625, 'i1407': 1626, 'i1408': 1627, 'i1409': 1628, 'i1411': 1629, 'i1412': 1630, 'i1413': 1631, 'i1414': 1632, 'i1415': 1633, 'i1416': 1634, 'i1417': 1635, 'i1419': 1636, 'i1422': 1637, 'i1423': 1638, 'i1425': 1639, 'i1427': 1640, 'i1428': 1641, 'i1429': 1642, 'i1430': 1643, 'i1431': 1644, 'i1432': 1645, 'i1437': 1646, 'i1438': 1647, 'i1440': 1648, 'i1441': 1649, 'i1442': 1650, 'i1445': 1651, 'i1446': 1652, 'i1447': 1653, 'i1449': 1654, 'i1454': 1655, 'i1456': 1656, 'i1457': 1657, 'i1458': 1658, 'i1459': 1659, 'i1460': 1660, 'i1461': 1661, 'i1464': 1662, 'i1465': 1663, 'i1466': 1664, 'i1468': 1665, 'i1474': 1666, 'i1475': 1667, 'i1476': 1668, 'i1477': 1669, 'i1479': 1670, 'i1480': 1671, 'i1483': 1672, 'i1484': 1673, 'i1485': 1674, 'i1487': 1675, 'i1488': 1676, 'i1489': 1677, 'i1490': 1678, 'i1495': 1679, 'i1496': 1680, 'i1497': 1681, 'i1498': 1682, 'i1499': 1683, 'i1500': 1684, 'i1502': 1685, 'i1503': 1686, 'i1507': 1687, 'i1513': 1688, 'i1514': 1689, 'i1515': 1690, 'i1516': 1691, 'i1517': 1692, 'i1518': 1693, 'i1519': 1694, 'i1526': 1695, 'i1527': 1696, 'i1529': 1697, 'i1533': 1698, 'i1537': 1699, 'i1541': 1700, 'i1542': 1701, 'i1544': 1702, 'i1545': 1703, 'i1546': 1704, 'i1549': 1705, 'i1550': 1706, 'i1551': 1707, 'i1552': 1708, 'i1554': 1709, 'i1556': 1710, 'i1562': 1711, 'i1564': 1712, 'i1565': 1713, 'i1566': 1714, 'i1569': 1715, 'i1571': 1716, 'i1572': 1717, 'i1573': 1718, 'i1574': 1719, 'i1580': 1720, 'i1581': 1721, 'i1582': 1722, 'i1583': 1723, 'i1584': 1724, 'i1585': 1725, 'i1586': 1726, 'i1587': 1727, 'i1588': 1728, 'i1589': 1729, 'i1590': 1730, 'i1591': 1731, 'i1592': 1732, 'i1593': 1733, 'i1594': 1734, 'i1596': 1735, 'i1597': 1736, 'i1598': 1737, 'i1599': 1738, 'i1600': 1739, 'i1601': 1740, 'i1602': 1741, 'i1603': 1742, 'i1604': 1743, 'i1605': 1744, 'i1606': 1745, 'i1608': 1746, 'i1609': 1747, 'i1610': 1748, 'i1611': 1749, 'i1612': 1750, 'i1613': 1751, 'i1614': 1752, 'i1615': 1753, 'i1616': 1754, 'i1617': 1755, 'i1619': 1756, 'i1620': 1757, 'i1621': 1758, 'i1623': 1759, 'i1624': 1760, 'i1625': 1761, 'i1626': 1762, 'i1627': 1763, 'i1629': 1764, 'i1631': 1765, 'i1633': 1766, 'i1635': 1767, 'i1639': 1768, 'i1641': 1769, 'i1642': 1770, 'i1643': 1771, 'i1644': 1772, 'i1645': 1773, 'i1646': 1774, 'i1647': 1775, 'i1648': 1776, 'i1649': 1777, 'i1650': 1778, 'i1652': 1779, 'i1653': 1780, 'i1656': 1781, 'i1658': 1782, 'i1659': 1783, 'i1660': 1784, 'i1661': 1785, 'i1662': 1786, 'i1663': 1787, 'i1665': 1788, 'i1667': 1789, 'i1670': 1790, 'i1671': 1791, 'i1672': 1792, 'i1673': 1793, 'i1674': 1794, 'i1675': 1795, 'i1676': 1796, 'i1677': 1797, 'i1678': 1798, 'i1680': 1799, 'i1681': 1800, 'i1682': 1801, 'i1683': 1802, 'i1684': 1803, 'i1686': 1804, 'i1687': 1805, 'i1688': 1806, 'i1689': 1807, 'i1690': 1808, 'i1693': 1809, 'i1694': 1810, 'i1695': 1811, 'i1696': 1812, 'i1699': 1813, 'i1701': 1814, 'i1702': 1815, 'i1703': 1816, 'i1704': 1817, 'i1707': 1818, 'i1711': 1819, 'i1713': 1820, 'i1717': 1821, 'i1718': 1822, 'i1719': 1823, 'i1721': 1824, 'i1722': 1825, 'i1726': 1826, 'i1727': 1827, 'i1729': 1828, 'i1730': 1829, 'i1731': 1830, 'i1732': 1831, 'i1733': 1832, 'i1734': 1833, 'i1735': 1834, 'i1747': 1835, 'i1748': 1836, 'i1752': 1837, 'i1753': 1838, 'i1754': 1839, 'i1755': 1840, 'i1757': 1841, 'i1759': 1842, 'i1760': 1843, 'i1762': 1844, 'i1769': 1845, 'i1771': 1846, 'i1772': 1847, 'i1777': 1848, 'i1779': 1849, 'i1783': 1850, 'i1784': 1851, 'i1785': 1852, 'i1791': 1853, 'i1792': 1854, 'i1793': 1855, 'i1794': 1856, 'i1797': 1857, 'i1798': 1858, 'i1799': 1859, 'i1801': 1860, 'i1804': 1861, 'i1805': 1862, 'i1806': 1863, 'i1807': 1864, 'i1809': 1865, 'i1810': 1866, 'i1812': 1867, 'i1816': 1868, 'i1821': 1869, 'i1824': 1870, 'i1827': 1871, 'i1829': 1872, 'i1831': 1873, 'i1833': 1874, 'i1834': 1875, 'i1835': 1876, 'i1836': 1877, 'i1837': 1878, 'i1839': 1879, 'i1840': 1880, 'i1844': 1881, 'i1845': 1882, 'i1848': 1883, 'i1855': 1884, 'i1856': 1885, 'i1858': 1886, 'i1859': 1887, 'i1860': 1888, 'i1862': 1889, 'i1863': 1890, 'i1866': 1891, 'i1867': 1892, 'i1870': 1893, 'i1873': 1894, 'i1875': 1895, 'i1876': 1896, 'i1882': 1897, 'i1883': 1898, 'i1884': 1899, 'i1885': 1900, 'i1887': 1901, 'i1888': 1902, 'i1889': 1903, 'i1892': 1904, 'i1893': 1905, 'i1894': 1906, 'i1895': 1907, 'i1897': 1908, 'i1904': 1909, 'i1906': 1910, 'i1907': 1911, 'i1909': 1912, 'i1910': 1913, 'i1911': 1914, 'i1912': 1915, 'i1913': 1916, 'i1914': 1917, 'i1916': 1918, 'i1917': 1919, 'i1918': 1920, 'i1919': 1921, 'i1920': 1922, 'i1921': 1923, 'i1922': 1924, 'i1923': 1925, 'i1924': 1926, 'i1926': 1927, 'i1927': 1928, 'i1928': 1929, 'i1929': 1930, 'i1931': 1931, 'i1932': 1932, 'i1933': 1933, 'i1934': 1934, 'i1936': 1935, 'i1937': 1936, 'i1938': 1937, 'i1939': 1938, 'i1940': 1939, 'i1941': 1940, 'i1942': 1941, 'i1944': 1942, 'i1945': 1943, 'i1946': 1944, 'i1947': 1945, 'i1948': 1946, 'i1949': 1947, 'i1950': 1948, 'i1951': 1949, 'i1952': 1950, 'i1953': 1951, 'i1954': 1952, 'i1955': 1953, 'i1956': 1954, 'i1957': 1955, 'i1958': 1956, 'i1959': 1957, 'i1960': 1958, 'i1961': 1959, 'i1962': 1960, 'i1963': 1961, 'i1964': 1962, 'i1965': 1963, 'i1966': 1964, 'i1967': 1965, 'i1968': 1966, 'i1969': 1967, 'i1970': 1968, 'i1971': 1969, 'i1972': 1970, 'i1973': 1971, 'i1974': 1972, 'i1975': 1973, 'i1976': 1974, 'i1977': 1975, 'i1978': 1976, 'i1979': 1977, 'i1981': 1978, 'i1982': 1979, 'i1983': 1980, 'i1984': 1981, 'i1985': 1982, 'i1986': 1983, 'i1991': 1984, 'i1992': 1985, 'i1993': 1986, 'i1994': 1987, 'i1995': 1988, 'i1996': 1989, 'i1997': 1990, 'i1998': 1991, 'i1999': 1992, 'i2000': 1993, 'i2001': 1994, 'i2002': 1995, 'i2003': 1996, 'i2004': 1997, 'i2005': 1998, 'i2006': 1999, 'i2007': 2000, 'i2009': 2001, 'i2010': 2002, 'i2011': 2003, 'i2012': 2004, 'i2013': 2005, 'i2014': 2006, 'i2015': 2007, 'i2016': 2008, 'i2017': 2009, 'i2018': 2010, 'i2019': 2011, 'i2020': 2012, 'i2021': 2013, 'i2022': 2014, 'i2023': 2015, 'i2024': 2016, 'i2025': 2017, 'i2026': 2018, 'i2027': 2019, 'i2028': 2020, 'i2032': 2021, 'i2033': 2022, 'i2034': 2023, 'i2035': 2024, 'i2036': 2025, 'i2037': 2026, 'i2038': 2027, 'i2040': 2028, 'i2041': 2029, 'i2042': 2030, 'i2043': 2031, 'i2044': 2032, 'i2046': 2033, 'i2048': 2034, 'i2050': 2035, 'i2051': 2036, 'i2052': 2037, 'i2053': 2038, 'i2054': 2039, 'i2055': 2040, 'i2056': 2041, 'i2057': 2042, 'i2058': 2043, 'i2059': 2044, 'i2060': 2045, 'i2064': 2046, 'i2065': 2047, 'i2066': 2048, 'i2067': 2049, 'i2068': 2050, 'i2069': 2051, 'i2070': 2052, 'i2072': 2053, 'i2073': 2054, 'i2074': 2055, 'i2075': 2056, 'i2076': 2057, 'i2077': 2058, 'i2078': 2059, 'i2080': 2060, 'i2081': 2061, 'i2082': 2062, 'i2083': 2063, 'i2084': 2064, 'i2085': 2065, 'i2087': 2066, 'i2088': 2067, 'i2089': 2068, 'i2090': 2069, 'i2091': 2070, 'i2092': 2071, 'i2093': 2072, 'i2094': 2073, 'i2095': 2074, 'i2096': 2075, 'i2097': 2076, 'i2098': 2077, 'i2099': 2078, 'i2100': 2079, 'i2102': 2080, 'i2103': 2081, 'i2105': 2082, 'i2106': 2083, 'i2107': 2084, 'i2108': 2085, 'i2109': 2086, 'i2110': 2087, 'i2111': 2088, 'i2112': 2089, 'i2114': 2090, 'i2115': 2091, 'i2116': 2092, 'i2117': 2093, 'i2118': 2094, 'i2119': 2095, 'i2120': 2096, 'i2121': 2097, 'i2122': 2098, 'i2123': 2099, 'i2124': 2100, 'i2125': 2101, 'i2126': 2102, 'i2130': 2103, 'i2131': 2104, 'i2132': 2105, 'i2133': 2106, 'i2134': 2107, 'i2135': 2108, 'i2136': 2109, 'i2137': 2110, 'i2138': 2111, 'i2139': 2112, 'i2140': 2113, 'i2141': 2114, 'i2142': 2115, 'i2143': 2116, 'i2144': 2117, 'i2145': 2118, 'i2146': 2119, 'i2147': 2120, 'i2148': 2121, 'i2149': 2122, 'i2150': 2123, 'i2151': 2124, 'i2152': 2125, 'i2153': 2126, 'i2154': 2127, 'i2155': 2128, 'i2156': 2129, 'i2159': 2130, 'i2160': 2131, 'i2161': 2132, 'i2162': 2133, 'i2163': 2134, 'i2164': 2135, 'i2165': 2136, 'i2166': 2137, 'i2167': 2138, 'i2169': 2139, 'i2170': 2140, 'i2171': 2141, 'i2172': 2142, 'i2174': 2143, 'i2176': 2144, 'i2177': 2145, 'i2180': 2146, 'i2181': 2147, 'i2182': 2148, 'i2183': 2149, 'i2184': 2150, 'i2185': 2151, 'i2186': 2152, 'i2187': 2153, 'i2188': 2154, 'i2190': 2155, 'i2193': 2156, 'i2194': 2157, 'i2195': 2158, 'i2196': 2159, 'i2201': 2160, 'i2202': 2161, 'i2203': 2162, 'i2204': 2163, 'i2205': 2164, 'i2206': 2165, 'i2207': 2166, 'i2208': 2167, 'i2210': 2168, 'i2211': 2169, 'i2212': 2170, 'i2227': 2171, 'i2231': 2172, 'i2232': 2173, 'i2236': 2174, 'i2239': 2175, 'i2240': 2176, 'i2241': 2177, 'i2243': 2178, 'i2244': 2179, 'i2245': 2180, 'i2247': 2181, 'i2248': 2182, 'i2249': 2183, 'i2252': 2184, 'i2253': 2185, 'i2255': 2186, 'i2256': 2187, 'i2259': 2188, 'i2260': 2189, 'i2261': 2190, 'i2262': 2191, 'i2263': 2192, 'i2264': 2193, 'i2265': 2194, 'i2266': 2195, 'i2267': 2196, 'i2268': 2197, 'i2269': 2198, 'i2271': 2199, 'i2272': 2200, 'i2273': 2201, 'i2275': 2202, 'i2278': 2203, 'i2279': 2204, 'i2280': 2205, 'i2281': 2206, 'i2282': 2207, 'i2283': 2208, 'i2286': 2209, 'i2287': 2210, 'i2288': 2211, 'i2289': 2212, 'i2290': 2213, 'i2291': 2214, 'i2292': 2215, 'i2294': 2216, 'i2295': 2217, 'i2296': 2218, 'i2297': 2219, 'i2298': 2220, 'i2300': 2221, 'i2301': 2222, 'i2302': 2223, 'i2303': 2224, 'i2304': 2225, 'i2306': 2226, 'i2307': 2227, 'i2310': 2228, 'i2311': 2229, 'i2312': 2230, 'i2313': 2231, 'i2314': 2232, 'i2315': 2233, 'i2316': 2234, 'i2318': 2235, 'i2320': 2236, 'i2321': 2237, 'i2322': 2238, 'i2323': 2239, 'i2324': 2240, 'i2325': 2241, 'i2327': 2242, 'i2328': 2243, 'i2329': 2244, 'i2330': 2245, 'i2331': 2246, 'i2333': 2247, 'i2334': 2248, 'i2335': 2249, 'i2336': 2250, 'i2337': 2251, 'i2338': 2252, 'i2340': 2253, 'i2342': 2254, 'i2344': 2255, 'i2346': 2256, 'i2347': 2257, 'i2348': 2258, 'i2349': 2259, 'i2350': 2260, 'i2351': 2261, 'i2352': 2262, 'i2353': 2263, 'i2354': 2264, 'i2355': 2265, 'i2356': 2266, 'i2357': 2267, 'i2359': 2268, 'i2360': 2269, 'i2361': 2270, 'i2362': 2271, 'i2363': 2272, 'i2364': 2273, 'i2366': 2274, 'i2367': 2275, 'i2368': 2276, 'i2369': 2277, 'i2371': 2278, 'i2372': 2279, 'i2373': 2280, 'i2374': 2281, 'i2375': 2282, 'i2376': 2283, 'i2377': 2284, 'i2378': 2285, 'i2379': 2286, 'i2380': 2287, 'i2381': 2288, 'i2382': 2289, 'i2383': 2290, 'i2384': 2291, 'i2385': 2292, 'i2387': 2293, 'i2388': 2294, 'i2389': 2295, 'i2390': 2296, 'i2391': 2297, 'i2392': 2298, 'i2393': 2299, 'i2394': 2300, 'i2395': 2301, 'i2396': 2302, 'i2398': 2303, 'i2399': 2304, 'i2400': 2305, 'i2401': 2306, 'i2402': 2307, 'i2403': 2308, 'i2404': 2309, 'i2405': 2310, 'i2406': 2311, 'i2407': 2312, 'i2408': 2313, 'i2409': 2314, 'i2410': 2315, 'i2411': 2316, 'i2412': 2317, 'i2413': 2318, 'i2414': 2319, 'i2416': 2320, 'i2418': 2321, 'i2419': 2322, 'i2420': 2323, 'i2421': 2324, 'i2422': 2325, 'i2423': 2326, 'i2424': 2327, 'i2425': 2328, 'i2427': 2329, 'i2428': 2330, 'i2429': 2331, 'i2430': 2332, 'i2431': 2333, 'i2432': 2334, 'i2433': 2335, 'i2435': 2336, 'i2436': 2337, 'i2439': 2338, 'i2442': 2339, 'i2443': 2340, 'i2445': 2341, 'i2446': 2342, 'i2447': 2343, 'i2448': 2344, 'i2450': 2345, 'i2451': 2346, 'i2453': 2347, 'i2454': 2348, 'i2455': 2349, 'i2456': 2350, 'i2457': 2351, 'i2458': 2352, 'i2459': 2353, 'i2460': 2354, 'i2462': 2355, 'i2463': 2356, 'i2465': 2357, 'i2467': 2358, 'i2468': 2359, 'i2469': 2360, 'i2470': 2361, 'i2471': 2362, 'i2472': 2363, 'i2473': 2364, 'i2474': 2365, 'i2475': 2366, 'i2476': 2367, 'i2477': 2368, 'i2478': 2369, 'i2481': 2370, 'i2482': 2371, 'i2483': 2372, 'i2485': 2373, 'i2488': 2374, 'i2490': 2375, 'i2491': 2376, 'i2492': 2377, 'i2494': 2378, 'i2495': 2379, 'i2496': 2380, 'i2497': 2381, 'i2498': 2382, 'i2500': 2383, 'i2501': 2384, 'i2502': 2385, 'i2504': 2386, 'i2505': 2387, 'i2506': 2388, 'i2511': 2389, 'i2513': 2390, 'i2515': 2391, 'i2516': 2392, 'i2517': 2393, 'i2518': 2394, 'i2520': 2395, 'i2521': 2396, 'i2522': 2397, 'i2523': 2398, 'i2524': 2399, 'i2525': 2400, 'i2526': 2401, 'i2527': 2402, 'i2528': 2403, 'i2529': 2404, 'i2530': 2405, 'i2531': 2406, 'i2532': 2407, 'i2533': 2408, 'i2535': 2409, 'i2537': 2410, 'i2538': 2411, 'i2539': 2412, 'i2540': 2413, 'i2541': 2414, 'i2542': 2415, 'i2544': 2416, 'i2546': 2417, 'i2548': 2418, 'i2549': 2419, 'i2550': 2420, 'i2551': 2421, 'i2552': 2422, 'i2553': 2423, 'i2554': 2424, 'i2555': 2425, 'i2558': 2426, 'i2559': 2427, 'i2560': 2428, 'i2561': 2429, 'i2563': 2430, 'i2565': 2431, 'i2567': 2432, 'i2568': 2433, 'i2570': 2434, 'i2571': 2435, 'i2572': 2436, 'i2574': 2437, 'i2575': 2438, 'i2577': 2439, 'i2579': 2440, 'i2580': 2441, 'i2581': 2442, 'i2582': 2443, 'i2583': 2444, 'i2586': 2445, 'i2587': 2446, 'i2590': 2447, 'i2593': 2448, 'i2594': 2449, 'i2596': 2450, 'i2597': 2451, 'i2598': 2452, 'i2599': 2453, 'i2600': 2454, 'i2605': 2455, 'i2606': 2456, 'i2607': 2457, 'i2611': 2458, 'i2612': 2459, 'i2613': 2460, 'i2615': 2461, 'i2616': 2462, 'i2617': 2463, 'i2618': 2464, 'i2620': 2465, 'i2622': 2466, 'i2624': 2467, 'i2625': 2468, 'i2628': 2469, 'i2629': 2470, 'i2633': 2471, 'i2634': 2472, 'i2639': 2473, 'i2640': 2474, 'i2641': 2475, 'i2642': 2476, 'i2643': 2477, 'i2644': 2478, 'i2648': 2479, 'i2651': 2480, 'i2654': 2481, 'i2656': 2482, 'i2657': 2483, 'i2659': 2484, 'i2660': 2485, 'i2661': 2486, 'i2662': 2487, 'i2664': 2488, 'i2665': 2489, 'i2668': 2490, 'i2670': 2491, 'i2671': 2492, 'i2672': 2493, 'i2674': 2494, 'i2676': 2495, 'i2677': 2496, 'i2681': 2497, 'i2682': 2498, 'i2683': 2499, 'i2686': 2500, 'i2687': 2501, 'i2688': 2502, 'i2690': 2503, 'i2691': 2504, 'i2692': 2505, 'i2693': 2506, 'i2694': 2507, 'i2695': 2508, 'i2696': 2509, 'i2697': 2510, 'i2698': 2511, 'i2699': 2512, 'i2700': 2513, 'i2701': 2514, 'i2702': 2515, 'i2706': 2516, 'i2707': 2517, 'i2708': 2518, 'i2709': 2519, 'i2710': 2520, 'i2712': 2521, 'i2713': 2522, 'i2716': 2523, 'i2717': 2524, 'i2718': 2525, 'i2719': 2526, 'i2720': 2527, 'i2722': 2528, 'i2723': 2529, 'i2724': 2530, 'i2726': 2531, 'i2728': 2532, 'i2729': 2533, 'i2730': 2534, 'i2731': 2535, 'i2732': 2536, 'i2733': 2537, 'i2734': 2538, 'i2735': 2539, 'i2736': 2540, 'i2738': 2541, 'i2739': 2542, 'i2741': 2543, 'i2744': 2544, 'i2745': 2545, 'i2746': 2546, 'i2747': 2547, 'i2748': 2548, 'i2749': 2549, 'i2750': 2550, 'i2751': 2551, 'i2752': 2552, 'i2757': 2553, 'i2759': 2554, 'i2761': 2555, 'i2762': 2556, 'i2763': 2557, 'i2764': 2558, 'i2765': 2559, 'i2766': 2560, 'i2769': 2561, 'i2770': 2562, 'i2772': 2563, 'i2779': 2564, 'i2782': 2565, 'i2786': 2566, 'i2787': 2567, 'i2788': 2568, 'i2789': 2569, 'i2791': 2570, 'i2792': 2571, 'i2793': 2572, 'i2794': 2573, 'i2795': 2574, 'i2796': 2575, 'i2797': 2576, 'i2798': 2577, 'i2799': 2578, 'i2800': 2579, 'i2801': 2580, 'i2802': 2581, 'i2803': 2582, 'i2804': 2583, 'i2805': 2584, 'i2806': 2585, 'i2807': 2586, 'i2808': 2587, 'i2810': 2588, 'i2813': 2589, 'i2815': 2590, 'i2816': 2591, 'i2817': 2592, 'i2818': 2593, 'i2819': 2594, 'i2820': 2595, 'i2822': 2596, 'i2824': 2597, 'i2826': 2598, 'i2827': 2599, 'i2829': 2600, 'i2835': 2601, 'i2836': 2602, 'i2837': 2603, 'i2840': 2604, 'i2841': 2605, 'i2843': 2606, 'i2844': 2607, 'i2846': 2608, 'i2847': 2609, 'i2848': 2610, 'i2851': 2611, 'i2852': 2612, 'i2856': 2613, 'i2857': 2614, 'i2858': 2615, 'i2859': 2616, 'i2860': 2617, 'i2861': 2618, 'i2862': 2619, 'i2863': 2620, 'i2865': 2621, 'i2866': 2622, 'i2867': 2623, 'i2868': 2624, 'i2870': 2625, 'i2871': 2626, 'i2872': 2627, 'i2874': 2628, 'i2875': 2629, 'i2877': 2630, 'i2879': 2631, 'i2880': 2632, 'i2881': 2633, 'i2882': 2634, 'i2883': 2635, 'i2884': 2636, 'i2887': 2637, 'i2888': 2638, 'i2889': 2639, 'i2890': 2640, 'i2891': 2641, 'i2892': 2642, 'i2894': 2643, 'i2897': 2644, 'i2899': 2645, 'i2900': 2646, 'i2901': 2647, 'i2902': 2648, 'i2903': 2649, 'i2905': 2650, 'i2906': 2651, 'i2907': 2652, 'i2908': 2653, 'i2912': 2654, 'i2915': 2655, 'i2916': 2656, 'i2917': 2657, 'i2918': 2658, 'i2919': 2659, 'i2921': 2660, 'i2922': 2661, 'i2924': 2662, 'i2925': 2663, 'i2926': 2664, 'i2927': 2665, 'i2928': 2666, 'i2929': 2667, 'i2930': 2668, 'i2931': 2669, 'i2932': 2670, 'i2935': 2671, 'i2936': 2672, 'i2937': 2673, 'i2940': 2674, 'i2941': 2675, 'i2942': 2676, 'i2943': 2677, 'i2944': 2678, 'i2946': 2679, 'i2947': 2680, 'i2948': 2681, 'i2949': 2682, 'i2950': 2683, 'i2951': 2684, 'i2952': 2685, 'i2953': 2686, 'i2956': 2687, 'i2959': 2688, 'i2961': 2689, 'i2962': 2690, 'i2964': 2691, 'i2966': 2692, 'i2967': 2693, 'i2968': 2694, 'i2970': 2695, 'i2971': 2696, 'i2973': 2697, 'i2974': 2698, 'i2975': 2699, 'i2976': 2700, 'i2978': 2701, 'i2979': 2702, 'i2983': 2703, 'i2984': 2704, 'i2985': 2705, 'i2986': 2706, 'i2987': 2707, 'i2988': 2708, 'i2989': 2709, 'i2990': 2710, 'i2991': 2711, 'i2992': 2712, 'i2993': 2713, 'i2995': 2714, 'i2996': 2715, 'i2997': 2716, 'i3000': 2717, 'i3002': 2718, 'i3003': 2719, 'i3004': 2720, 'i3005': 2721, 'i3006': 2722, 'i3007': 2723, 'i3010': 2724, 'i3011': 2725, 'i3013': 2726, 'i3014': 2727, 'i3015': 2728, 'i3016': 2729, 'i3017': 2730, 'i3018': 2731, 'i3019': 2732, 'i3020': 2733, 'i3022': 2734, 'i3024': 2735, 'i3028': 2736, 'i3029': 2737, 'i3030': 2738, 'i3031': 2739, 'i3032': 2740, 'i3033': 2741, 'i3034': 2742, 'i3035': 2743, 'i3036': 2744, 'i3037': 2745, 'i3038': 2746, 'i3039': 2747, 'i3040': 2748, 'i3041': 2749, 'i3042': 2750, 'i3043': 2751, 'i3044': 2752, 'i3045': 2753, 'i3046': 2754, 'i3048': 2755, 'i3051': 2756, 'i3052': 2757, 'i3053': 2758, 'i3054': 2759, 'i3055': 2760, 'i3056': 2761, 'i3057': 2762, 'i3060': 2763, 'i3061': 2764, 'i3062': 2765, 'i3063': 2766, 'i3064': 2767, 'i3066': 2768, 'i3067': 2769, 'i3068': 2770, 'i3070': 2771, 'i3071': 2772, 'i3072': 2773, 'i3073': 2774, 'i3074': 2775, 'i3075': 2776, 'i3076': 2777, 'i3077': 2778, 'i3078': 2779, 'i3079': 2780, 'i3081': 2781, 'i3082': 2782, 'i3083': 2783, 'i3087': 2784, 'i3088': 2785, 'i3089': 2786, 'i3090': 2787, 'i3093': 2788, 'i3095': 2789, 'i3096': 2790, 'i3097': 2791, 'i3098': 2792, 'i3099': 2793, 'i3100': 2794, 'i3101': 2795, 'i3102': 2796, 'i3103': 2797, 'i3104': 2798, 'i3105': 2799, 'i3106': 2800, 'i3107': 2801, 'i3108': 2802, 'i3109': 2803, 'i3111': 2804, 'i3113': 2805, 'i3114': 2806, 'i3115': 2807, 'i3117': 2808, 'i3120': 2809, 'i3127': 2810, 'i3129': 2811, 'i3130': 2812, 'i3132': 2813, 'i3134': 2814, 'i3135': 2815, 'i3138': 2816, 'i3141': 2817, 'i3142': 2818, 'i3143': 2819, 'i3145': 2820, 'i3146': 2821, 'i3147': 2822, 'i3148': 2823, 'i3150': 2824, 'i3152': 2825, 'i3153': 2826, 'i3155': 2827, 'i3156': 2828, 'i3157': 2829, 'i3158': 2830, 'i3159': 2831, 'i3160': 2832, 'i3161': 2833, 'i3162': 2834, 'i3163': 2835, 'i3165': 2836, 'i3167': 2837, 'i3168': 2838, 'i3169': 2839, 'i3173': 2840, 'i3174': 2841, 'i3175': 2842, 'i3176': 2843, 'i3177': 2844, 'i3178': 2845, 'i3179': 2846, 'i3181': 2847, 'i3182': 2848, 'i3183': 2849, 'i3185': 2850, 'i3186': 2851, 'i3189': 2852, 'i3190': 2853, 'i3192': 2854, 'i3194': 2855, 'i3196': 2856, 'i3197': 2857, 'i3198': 2858, 'i3200': 2859, 'i3201': 2860, 'i3203': 2861, 'i3204': 2862, 'i3206': 2863, 'i3208': 2864, 'i3210': 2865, 'i3211': 2866, 'i3213': 2867, 'i3214': 2868, 'i3217': 2869, 'i3219': 2870, 'i3221': 2871, 'i3223': 2872, 'i3224': 2873, 'i3225': 2874, 'i3230': 2875, 'i3235': 2876, 'i3238': 2877, 'i3241': 2878, 'i3243': 2879, 'i3244': 2880, 'i3246': 2881, 'i3247': 2882, 'i3248': 2883, 'i3249': 2884, 'i3250': 2885, 'i3251': 2886, 'i3252': 2887, 'i3253': 2888, 'i3254': 2889, 'i3255': 2890, 'i3256': 2891, 'i3257': 2892, 'i3258': 2893, 'i3259': 2894, 'i3260': 2895, 'i3261': 2896, 'i3262': 2897, 'i3263': 2898, 'i3264': 2899, 'i3265': 2900, 'i3266': 2901, 'i3267': 2902, 'i3268': 2903, 'i3269': 2904, 'i3270': 2905, 'i3271': 2906, 'i3272': 2907, 'i3273': 2908, 'i3274': 2909, 'i3275': 2910, 'i3276': 2911, 'i3283': 2912, 'i3285': 2913, 'i3286': 2914, 'i3287': 2915, 'i3289': 2916, 'i3294': 2917, 'i3295': 2918, 'i3296': 2919, 'i3298': 2920, 'i3300': 2921, 'i3301': 2922, 'i3302': 2923, 'i3306': 2924, 'i3307': 2925, 'i3308': 2926, 'i3310': 2927, 'i3313': 2928, 'i3315': 2929, 'i3316': 2930, 'i3317': 2931, 'i3323': 2932, 'i3325': 2933, 'i3326': 2934, 'i3327': 2935, 'i3328': 2936, 'i3330': 2937, 'i3331': 2938, 'i3334': 2939, 'i3341': 2940, 'i3342': 2941, 'i3345': 2942, 'i3347': 2943, 'i3350': 2944, 'i3353': 2945, 'i3354': 2946, 'i3355': 2947, 'i3358': 2948, 'i3359': 2949, 'i3360': 2950, 'i3361': 2951, 'i3362': 2952, 'i3363': 2953, 'i3364': 2954, 'i3365': 2955, 'i3368': 2956, 'i3370': 2957, 'i3372': 2958, 'i3378': 2959, 'i3379': 2960, 'i3384': 2961, 'i3385': 2962, 'i3386': 2963, 'i3387': 2964, 'i3388': 2965, 'i3390': 2966, 'i3391': 2967, 'i3392': 2968, 'i3393': 2969, 'i3394': 2970, 'i3395': 2971, 'i3396': 2972, 'i3397': 2973, 'i3398': 2974, 'i3400': 2975, 'i3401': 2976, 'i3402': 2977, 'i3404': 2978, 'i3405': 2979, 'i3406': 2980, 'i3408': 2981, 'i3409': 2982, 'i3410': 2983, 'i3412': 2984, 'i3415': 2985, 'i3418': 2986, 'i3420': 2987, 'i3421': 2988, 'i3422': 2989, 'i3423': 2990, 'i3424': 2991, 'i3425': 2992, 'i3426': 2993, 'i3429': 2994, 'i3430': 2995, 'i3431': 2996, 'i3432': 2997, 'i3435': 2998, 'i3436': 2999, 'i3438': 3000, 'i3439': 3001, 'i3440': 3002, 'i3441': 3003, 'i3442': 3004, 'i3444': 3005, 'i3445': 3006, 'i3446': 3007, 'i3447': 3008, 'i3448': 3009, 'i3450': 3010, 'i3451': 3011, 'i3452': 3012, 'i3453': 3013, 'i3454': 3014, 'i3459': 3015, 'i3461': 3016, 'i3462': 3017, 'i3466': 3018, 'i3467': 3019, 'i3468': 3020, 'i3469': 3021, 'i3470': 3022, 'i3471': 3023, 'i3473': 3024, 'i3474': 3025, 'i3475': 3026, 'i3476': 3027, 'i3477': 3028, 'i3478': 3029, 'i3479': 3030, 'i3480': 3031, 'i3481': 3032, 'i3483': 3033, 'i3484': 3034, 'i3489': 3035, 'i3492': 3036, 'i3494': 3037, 'i3496': 3038, 'i3497': 3039, 'i3498': 3040, 'i3499': 3041, 'i3500': 3042, 'i3501': 3043, 'i3502': 3044, 'i3503': 3045, 'i3504': 3046, 'i3505': 3047, 'i3506': 3048, 'i3507': 3049, 'i3508': 3050, 'i3510': 3051, 'i3511': 3052, 'i3512': 3053, 'i3513': 3054, 'i3514': 3055, 'i3515': 3056, 'i3516': 3057, 'i3519': 3058, 'i3521': 3059, 'i3524': 3060, 'i3525': 3061, 'i3526': 3062, 'i3527': 3063, 'i3528': 3064, 'i3529': 3065, 'i3531': 3066, 'i3534': 3067, 'i3535': 3068, 'i3536': 3069, 'i3537': 3070, 'i3538': 3071, 'i3539': 3072, 'i3543': 3073, 'i3544': 3074, 'i3545': 3075, 'i3548': 3076, 'i3549': 3077, 'i3550': 3078, 'i3551': 3079, 'i3552': 3080, 'i3553': 3081, 'i3554': 3082, 'i3555': 3083, 'i3556': 3084, 'i3557': 3085, 'i3559': 3086, 'i3563': 3087, 'i3564': 3088, 'i3565': 3089, 'i3566': 3090, 'i3569': 3091, 'i3571': 3092, 'i3572': 3093, 'i3576': 3094, 'i3577': 3095, 'i3578': 3096, 'i3580': 3097, 'i3581': 3098, 'i3584': 3099, 'i3586': 3100, 'i3587': 3101, 'i3591': 3102, 'i3592': 3103, 'i3593': 3104, 'i3594': 3105, 'i3596': 3106, 'i3597': 3107, 'i3598': 3108, 'i3599': 3109, 'i3604': 3110, 'i3606': 3111, 'i3608': 3112, 'i3609': 3113, 'i3614': 3114, 'i3615': 3115, 'i3616': 3116, 'i3617': 3117, 'i3618': 3118, 'i3619': 3119, 'i3622': 3120, 'i3623': 3121, 'i3624': 3122, 'i3625': 3123, 'i3626': 3124, 'i3627': 3125, 'i3628': 3126, 'i3629': 3127, 'i3632': 3128, 'i3633': 3129, 'i3635': 3130, 'i3637': 3131, 'i3638': 3132, 'i3639': 3133, 'i3640': 3134, 'i3641': 3135, 'i3643': 3136, 'i3646': 3137, 'i3648': 3138, 'i3649': 3139, 'i3653': 3140, 'i3654': 3141, 'i3655': 3142, 'i3667': 3143, 'i3668': 3144, 'i3669': 3145, 'i3671': 3146, 'i3672': 3147, 'i3673': 3148, 'i3674': 3149, 'i3675': 3150, 'i3676': 3151, 'i3677': 3152, 'i3679': 3153, 'i3681': 3154, 'i3682': 3155, 'i3683': 3156, 'i3684': 3157, 'i3685': 3158, 'i3686': 3159, 'i3687': 3160, 'i3688': 3161, 'i3689': 3162, 'i3690': 3163, 'i3691': 3164, 'i3693': 3165, 'i3694': 3166, 'i3695': 3167, 'i3696': 3168, 'i3697': 3169, 'i3698': 3170, 'i3699': 3171, 'i3700': 3172, 'i3701': 3173, 'i3702': 3174, 'i3703': 3175, 'i3704': 3176, 'i3705': 3177, 'i3706': 3178, 'i3707': 3179, 'i3708': 3180, 'i3710': 3181, 'i3712': 3182, 'i3713': 3183, 'i3714': 3184, 'i3715': 3185, 'i3716': 3186, 'i3717': 3187, 'i3719': 3188, 'i3723': 3189, 'i3724': 3190, 'i3725': 3191, 'i3726': 3192, 'i3727': 3193, 'i3728': 3194, 'i3729': 3195, 'i3730': 3196, 'i3731': 3197, 'i3732': 3198, 'i3733': 3199, 'i3735': 3200, 'i3736': 3201, 'i3737': 3202, 'i3739': 3203, 'i3740': 3204, 'i3741': 3205, 'i3742': 3206, 'i3743': 3207, 'i3744': 3208, 'i3745': 3209, 'i3746': 3210, 'i3747': 3211, 'i3751': 3212, 'i3752': 3213, 'i3753': 3214, 'i3754': 3215, 'i3755': 3216, 'i3756': 3217, 'i3758': 3218, 'i3760': 3219, 'i3761': 3220, 'i3763': 3221, 'i3764': 3222, 'i3766': 3223, 'i3767': 3224, 'i3768': 3225, 'i3769': 3226, 'i3770': 3227, 'i3771': 3228, 'i3773': 3229, 'i3774': 3230, 'i3783': 3231, 'i3784': 3232, 'i3785': 3233, 'i3786': 3234, 'i3787': 3235, 'i3788': 3236, 'i3789': 3237, 'i3790': 3238, 'i3791': 3239, 'i3792': 3240, 'i3793': 3241, 'i3794': 3242, 'i3795': 3243, 'i3798': 3244, 'i3799': 3245, 'i3801': 3246, 'i3802': 3247, 'i3806': 3248, 'i3808': 3249, 'i3809': 3250, 'i3810': 3251, 'i3811': 3252, 'i3812': 3253, 'i3813': 3254, 'i3814': 3255, 'i3816': 3256, 'i3819': 3257, 'i3821': 3258, 'i3822': 3259, 'i3823': 3260, 'i3824': 3261, 'i3825': 3262, 'i3826': 3263, 'i3827': 3264, 'i3830': 3265, 'i3831': 3266, 'i3832': 3267, 'i3833': 3268, 'i3834': 3269, 'i3835': 3270, 'i3836': 3271, 'i3837': 3272, 'i3838': 3273, 'i3839': 3274, 'i3840': 3275, 'i3841': 3276, 'i3843': 3277, 'i3844': 3278, 'i3846': 3279, 'i3847': 3280, 'i3849': 3281, 'i3851': 3282, 'i3852': 3283, 'i3855': 3284, 'i3858': 3285, 'i3859': 3286, 'i3861': 3287, 'i3862': 3288, 'i3863': 3289, 'i3864': 3290, 'i3865': 3291, 'i3868': 3292, 'i3869': 3293, 'i3871': 3294, 'i3872': 3295, 'i3873': 3296, 'i3877': 3297, 'i3879': 3298, 'i3882': 3299, 'i3888': 3300, 'i3889': 3301, 'i3893': 3302, 'i3894': 3303, 'i3895': 3304, 'i3896': 3305, 'i3897': 3306, 'i3898': 3307, 'i3900': 3308, 'i3901': 3309, 'i3906': 3310, 'i3908': 3311, 'i3909': 3312, 'i3910': 3313, 'i3911': 3314, 'i3914': 3315, 'i3915': 3316, 'i3916': 3317, 'i3917': 3318, 'i3918': 3319, 'i3920': 3320, 'i3925': 3321, 'i3926': 3322, 'i3927': 3323, 'i3928': 3324, 'i3929': 3325, 'i3930': 3326, 'i3932': 3327, 'i3933': 3328, 'i3937': 3329, 'i3938': 3330, 'i3939': 3331, 'i3940': 3332, 'i3941': 3333, 'i3942': 3334, 'i3943': 3335, 'i3946': 3336, 'i3947': 3337, 'i3948': 3338, 'i3949': 3339, 'i3950': 3340, 'i3951': 3341, 'i3952': 3342, 'i3953': 3343, 'i3955': 3344, 'i3957': 3345, 'i3958': 3346, 'i3959': 3347, 'i3963': 3348, 'i3964': 3349, 'i3965': 3350, 'i3966': 3351, 'i3967': 3352, 'i3968': 3353, 'i3969': 3354, 'i3971': 3355, 'i3972': 3356, 'i3973': 3357, 'i3974': 3358, 'i3977': 3359, 'i3978': 3360, 'i3979': 3361, 'i3980': 3362, 'i3981': 3363, 'i3983': 3364, 'i3984': 3365, 'i3985': 3366, 'i3986': 3367, 'i3987': 3368, 'i3988': 3369, 'i3989': 3370, 'i3990': 3371, 'i3991': 3372, 'i3992': 3373, 'i3993': 3374, 'i3994': 3375, 'i3996': 3376, 'i3997': 3377, 'i3998': 3378, 'i3999': 3379, 'i4000': 3380, 'i4002': 3381, 'i4003': 3382, 'i4005': 3383, 'i4006': 3384, 'i4007': 3385, 'i4008': 3386, 'i4009': 3387, 'i4010': 3388, 'i4011': 3389, 'i4012': 3390, 'i4014': 3391, 'i4015': 3392, 'i4016': 3393, 'i4017': 3394, 'i4018': 3395, 'i4019': 3396, 'i4020': 3397, 'i4021': 3398, 'i4022': 3399, 'i4023': 3400, 'i4024': 3401, 'i4025': 3402, 'i4027': 3403, 'i4029': 3404, 'i4030': 3405, 'i4031': 3406, 'i4032': 3407, 'i4033': 3408, 'i4034': 3409, 'i4035': 3410, 'i4036': 3411, 'i4037': 3412, 'i4039': 3413, 'i4040': 3414, 'i4041': 3415, 'i4042': 3416, 'i4043': 3417, 'i4046': 3418, 'i4047': 3419, 'i4051': 3420, 'i4052': 3421, 'i4053': 3422, 'i4054': 3423, 'i4056': 3424, 'i4061': 3425, 'i4062': 3426, 'i4063': 3427, 'i4066': 3428, 'i4067': 3429, 'i4068': 3430, 'i4069': 3431, 'i4074': 3432, 'i4077': 3433, 'i4080': 3434, 'i4081': 3435, 'i4082': 3436, 'i4083': 3437, 'i4084': 3438, 'i4085': 3439, 'i4086': 3440, 'i4089': 3441, 'i4090': 3442, 'i4091': 3443, 'i4092': 3444, 'i4093': 3445, 'i4102': 3446, 'i4103': 3447, 'i4104': 3448, 'i4105': 3449, 'i4109': 3450, 'i4111': 3451, 'i4113': 3452, 'i4115': 3453, 'i4117': 3454, 'i4121': 3455, 'i4123': 3456, 'i4124': 3457, 'i4125': 3458, 'i4126': 3459, 'i4127': 3460, 'i4128': 3461, 'i4130': 3462, 'i4131': 3463, 'i4132': 3464, 'i4133': 3465, 'i4138': 3466, 'i4139': 3467, 'i4141': 3468, 'i4142': 3469, 'i4144': 3470, 'i4146': 3471, 'i4147': 3472, 'i4148': 3473, 'i4149': 3474, 'i4152': 3475, 'i4153': 3476, 'i4154': 3477, 'i4155': 3478, 'i4156': 3479, 'i4157': 3480, 'i4158': 3481, 'i4159': 3482, 'i4160': 3483, 'i4161': 3484, 'i4164': 3485, 'i4166': 3486, 'i4167': 3487, 'i4168': 3488, 'i4171': 3489, 'i4175': 3490, 'i4178': 3491, 'i4181': 3492, 'i4184': 3493, 'i4187': 3494, 'i4189': 3495, 'i4190': 3496, 'i4191': 3497, 'i4193': 3498, 'i4195': 3499, 'i4197': 3500, 'i4198': 3501, 'i4200': 3502, 'i4203': 3503, 'i4205': 3504, 'i4207': 3505, 'i4210': 3506, 'i4211': 3507, 'i4212': 3508, 'i4214': 3509, 'i4215': 3510, 'i4217': 3511, 'i4218': 3512, 'i4219': 3513, 'i4220': 3514, 'i4221': 3515, 'i4223': 3516, 'i4224': 3517, 'i4225': 3518, 'i4226': 3519, 'i4228': 3520, 'i4229': 3521, 'i4231': 3522, 'i4232': 3523, 'i4233': 3524, 'i4234': 3525, 'i4235': 3526, 'i4236': 3527, 'i4238': 3528, 'i4239': 3529, 'i4241': 3530, 'i4242': 3531, 'i4243': 3532, 'i4246': 3533, 'i4247': 3534, 'i4248': 3535, 'i4251': 3536, 'i4252': 3537, 'i4254': 3538, 'i4255': 3539, 'i4256': 3540, 'i4259': 3541, 'i4262': 3542, 'i4263': 3543, 'i4265': 3544, 'i4267': 3545, 'i4268': 3546, 'i4270': 3547, 'i4273': 3548, 'i4275': 3549, 'i4276': 3550, 'i4278': 3551, 'i4280': 3552, 'i4284': 3553, 'i4285': 3554, 'i4289': 3555, 'i4290': 3556, 'i4291': 3557, 'i4292': 3558, 'i4293': 3559, 'i4294': 3560, 'i4296': 3561, 'i4297': 3562, 'i4298': 3563, 'i4299': 3564, 'i4300': 3565, 'i4304': 3566, 'i4305': 3567, 'i4306': 3568, 'i4307': 3569, 'i4308': 3570, 'i4310': 3571, 'i4312': 3572, 'i4313': 3573, 'i4316': 3574, 'i4317': 3575, 'i4321': 3576, 'i4322': 3577, 'i4325': 3578, 'i4326': 3579, 'i4327': 3580, 'i4329': 3581, 'i4333': 3582, 'i4334': 3583, 'i4337': 3584, 'i4339': 3585, 'i4340': 3586, 'i4343': 3587, 'i4344': 3588, 'i4345': 3589, 'i4347': 3590, 'i4349': 3591, 'i4350': 3592, 'i4351': 3593, 'i4353': 3594, 'i4355': 3595, 'i4356': 3596, 'i4357': 3597, 'i4359': 3598, 'i4361': 3599, 'i4366': 3600, 'i4367': 3601, 'i4368': 3602, 'i4369': 3603, 'i4370': 3604, 'i4372': 3605, 'i4373': 3606, 'i4374': 3607, 'i4378': 3608, 'i4380': 3609, 'i4381': 3610, 'i4383': 3611, 'i4384': 3612, 'i4386': 3613, 'i4387': 3614, 'i4388': 3615, 'i4389': 3616, 'i4390': 3617, 'i4392': 3618, 'i4395': 3619, 'i4396': 3620, 'i4397': 3621, 'i4399': 3622, 'i4402': 3623, 'i4403': 3624, 'i4404': 3625, 'i4406': 3626, 'i4407': 3627, 'i4409': 3628, 'i4410': 3629, 'i4419': 3630, 'i4420': 3631, 'i4422': 3632, 'i4424': 3633, 'i4426': 3634, 'i4427': 3635, 'i4428': 3636, 'i4429': 3637, 'i4432': 3638, 'i4433': 3639, 'i4434': 3640, 'i4436': 3641, 'i4437': 3642, 'i4438': 3643, 'i4439': 3644, 'i4440': 3645, 'i4441': 3646, 'i4442': 3647, 'i4443': 3648, 'i4444': 3649, 'i4446': 3650, 'i4447': 3651, 'i4448': 3652, 'i4449': 3653, 'i4450': 3654, 'i4451': 3655, 'i4452': 3656, 'i4453': 3657, 'i4458': 3658, 'i4462': 3659, 'i4463': 3660, 'i4464': 3661, 'i4465': 3662, 'i4466': 3663, 'i4467': 3664, 'i4470': 3665, 'i4471': 3666, 'i4473': 3667, 'i4474': 3668, 'i4475': 3669, 'i4476': 3670, 'i4477': 3671, 'i4478': 3672, 'i4480': 3673, 'i4482': 3674, 'i4483': 3675, 'i4484': 3676, 'i4487': 3677, 'i4488': 3678, 'i4489': 3679, 'i4492': 3680, 'i4496': 3681, 'i4497': 3682, 'i4498': 3683, 'i4499': 3684, 'i4502': 3685, 'i4505': 3686, 'i4506': 3687, 'i4508': 3688, 'i4509': 3689, 'i4511': 3690, 'i4516': 3691, 'i4517': 3692, 'i4518': 3693, 'i4519': 3694, 'i4520': 3695, 'i4523': 3696, 'i4526': 3697, 'i4527': 3698, 'i4529': 3699, 'i4531': 3700, 'i4533': 3701, 'i4534': 3702, 'i4535': 3703, 'i4537': 3704, 'i4541': 3705, 'i4544': 3706, 'i4545': 3707, 'i4546': 3708, 'i4552': 3709, 'i4553': 3710, 'i4558': 3711, 'i4562': 3712, 'i4563': 3713, 'i4564': 3714, 'i4565': 3715, 'i4571': 3716, 'i4572': 3717, 'i4573': 3718, 'i4574': 3719, 'i4577': 3720, 'i4580': 3721, 'i4583': 3722, 'i4584': 3723, 'i4585': 3724, 'i4587': 3725, 'i4589': 3726, 'i4591': 3727, 'i4593': 3728, 'i4594': 3729, 'i4595': 3730, 'i4599': 3731, 'i4600': 3732, 'i4602': 3733, 'i4603': 3734, 'i4605': 3735, 'i4610': 3736, 'i4612': 3737, 'i4615': 3738, 'i4616': 3739, 'i4617': 3740, 'i4619': 3741, 'i4621': 3742, 'i4622': 3743, 'i4623': 3744, 'i4624': 3745, 'i4625': 3746, 'i4626': 3747, 'i4628': 3748, 'i4629': 3749, 'i4630': 3750, 'i4632': 3751, 'i4634': 3752, 'i4636': 3753, 'i4638': 3754, 'i4639': 3755, 'i4640': 3756, 'i4641': 3757, 'i4642': 3758, 'i4643': 3759, 'i4644': 3760, 'i4645': 3761, 'i4649': 3762, 'i4654': 3763, 'i4658': 3764, 'i4660': 3765, 'i4661': 3766, 'i4662': 3767, 'i4663': 3768, 'i4666': 3769, 'i4670': 3770, 'i4671': 3771, 'i4672': 3772, 'i4673': 3773, 'i4675': 3774, 'i4676': 3775, 'i4677': 3776, 'i4678': 3777, 'i4679': 3778, 'i4681': 3779, 'i4683': 3780, 'i4686': 3781, 'i4688': 3782, 'i4689': 3783, 'i4690': 3784, 'i4695': 3785, 'i4697': 3786, 'i4699': 3787, 'i4700': 3788, 'i4701': 3789, 'i4703': 3790, 'i4704': 3791, 'i4705': 3792, 'i4708': 3793, 'i4709': 3794, 'i4711': 3795, 'i4713': 3796, 'i4714': 3797, 'i4718': 3798, 'i4719': 3799, 'i4720': 3800, 'i4721': 3801, 'i4722': 3802, 'i4723': 3803, 'i4725': 3804, 'i4727': 3805, 'i4728': 3806, 'i4732': 3807, 'i4733': 3808, 'i4734': 3809, 'i4735': 3810, 'i4736': 3811, 'i4738': 3812, 'i4740': 3813, 'i4741': 3814, 'i4743': 3815, 'i4744': 3816, 'i4745': 3817, 'i4748': 3818, 'i4750': 3819, 'i4754': 3820, 'i4756': 3821, 'i4757': 3822, 'i4759': 3823, 'i4765': 3824, 'i4766': 3825, 'i4770': 3826, 'i4771': 3827, 'i4772': 3828, 'i4773': 3829, 'i4774': 3830, 'i4775': 3831, 'i4776': 3832, 'i4780': 3833, 'i4782': 3834, 'i4783': 3835, 'i4784': 3836, 'i4785': 3837, 'i4786': 3838, 'i4787': 3839, 'i4788': 3840, 'i4789': 3841, 'i4792': 3842, 'i4794': 3843, 'i4795': 3844, 'i4796': 3845, 'i4798': 3846, 'i4799': 3847, 'i4800': 3848, 'i4802': 3849, 'i4803': 3850, 'i4804': 3851, 'i4808': 3852, 'i4809': 3853, 'i4810': 3854, 'i4811': 3855, 'i4812': 3856, 'i4813': 3857, 'i4814': 3858, 'i4815': 3859, 'i4816': 3860, 'i4818': 3861, 'i4821': 3862, 'i4822': 3863, 'i4823': 3864, 'i4828': 3865, 'i4830': 3866, 'i4831': 3867, 'i4835': 3868, 'i4836': 3869, 'i4840': 3870, 'i4844': 3871, 'i4845': 3872, 'i4846': 3873, 'i4847': 3874, 'i4848': 3875, 'i4849': 3876, 'i4850': 3877, 'i4855': 3878, 'i4857': 3879, 'i4862': 3880, 'i4864': 3881, 'i4865': 3882, 'i4866': 3883, 'i4867': 3884, 'i4871': 3885, 'i4873': 3886, 'i4874': 3887, 'i4876': 3888, 'i4877': 3889, 'i4878': 3890, 'i4879': 3891, 'i4880': 3892, 'i4881': 3893, 'i4883': 3894, 'i4885': 3895, 'i4886': 3896, 'i4887': 3897, 'i4888': 3898, 'i4889': 3899, 'i4890': 3900, 'i4893': 3901, 'i4896': 3902, 'i4898': 3903, 'i4899': 3904, 'i4900': 3905, 'i4901': 3906, 'i4902': 3907, 'i4903': 3908, 'i4909': 3909, 'i4911': 3910, 'i4912': 3911, 'i4914': 3912, 'i4915': 3913, 'i4916': 3914, 'i4917': 3915, 'i4919': 3916, 'i4920': 3917, 'i4921': 3918, 'i4926': 3919, 'i4927': 3920, 'i4928': 3921, 'i4929': 3922, 'i4932': 3923, 'i4936': 3924, 'i4941': 3925, 'i4945': 3926, 'i4946': 3927, 'i4947': 3928, 'i4951': 3929, 'i4952': 3930, 'i4954': 3931, 'i4956': 3932, 'i4957': 3933, 'i4958': 3934, 'i4959': 3935, 'i4961': 3936, 'i4962': 3937, 'i4963': 3938, 'i4964': 3939, 'i4965': 3940, 'i4967': 3941, 'i4969': 3942, 'i4971': 3943, 'i4973': 3944, 'i4974': 3945, 'i4975': 3946, 'i4976': 3947, 'i4978': 3948, 'i4979': 3949, 'i4980': 3950, 'i4981': 3951, 'i4985': 3952, 'i4989': 3953, 'i4990': 3954, 'i4991': 3955, 'i4992': 3956, 'i4993': 3957, 'i4994': 3958, 'i4995': 3959, 'i4998': 3960, 'i5004': 3961, 'i5007': 3962, 'i5008': 3963, 'i5009': 3964, 'i5010': 3965, 'i5011': 3966, 'i5012': 3967, 'i5013': 3968, 'i5014': 3969, 'i5015': 3970, 'i5016': 3971, 'i5021': 3972, 'i5023': 3973, 'i5025': 3974, 'i5026': 3975, 'i5027': 3976, 'i5028': 3977, 'i5033': 3978, 'i5034': 3979, 'i5039': 3980, 'i5040': 3981, 'i5041': 3982, 'i5046': 3983, 'i5047': 3984, 'i5048': 3985, 'i5049': 3986, 'i5051': 3987, 'i5055': 3988, 'i5059': 3989, 'i5060': 3990, 'i5062': 3991, 'i5064': 3992, 'i5065': 3993, 'i5066': 3994, 'i5068': 3995, 'i5069': 3996, 'i5071': 3997, 'i5072': 3998, 'i5073': 3999, 'i5074': 4000, 'i5075': 4001, 'i5076': 4002, 'i5080': 4003, 'i5081': 4004, 'i5083': 4005, 'i5092': 4006, 'i5093': 4007, 'i5094': 4008, 'i5095': 4009, 'i5099': 4010, 'i5102': 4011, 'i5103': 4012, 'i5106': 4013, 'i5107': 4014, 'i5108': 4015, 'i5109': 4016, 'i5110': 4017, 'i5112': 4018, 'i5113': 4019, 'i5120': 4020, 'i5127': 4021, 'i5128': 4022, 'i5131': 4023, 'i5134': 4024, 'i5135': 4025, 'i5137': 4026, 'i5139': 4027, 'i5146': 4028, 'i5147': 4029, 'i5151': 4030, 'i5152': 4031, 'i5159': 4032, 'i5165': 4033, 'i5170': 4034, 'i5171': 4035, 'i5177': 4036, 'i5178': 4037, 'i5181': 4038, 'i5187': 4039, 'i5189': 4040, 'i5197': 4041, 'i5198': 4042, 'i5202': 4043, 'i5209': 4044, 'i5213': 4045, 'i5218': 4046, 'i5219': 4047, 'i5220': 4048, 'i5222': 4049, 'i5224': 4050, 'i5225': 4051, 'i5231': 4052, 'i5237': 4053, 'i5238': 4054, 'i5239': 4055, 'i5240': 4056, 'i5244': 4057, 'i5246': 4058, 'i5247': 4059, 'i5248': 4060, 'i5250': 4061, 'i5254': 4062, 'i5255': 4063, 'i5256': 4064, 'i5258': 4065, 'i5264': 4066, 'i5265': 4067, 'i5266': 4068, 'i5267': 4069, 'i5268': 4070, 'i5269': 4071, 'i5275': 4072, 'i5278': 4073, 'i5279': 4074, 'i5282': 4075, 'i5283': 4076, 'i5285': 4077, 'i5288': 4078, 'i5291': 4079, 'i5292': 4080, 'i5293': 4081, 'i5294': 4082, 'i5296': 4083, 'i5297': 4084, 'i5298': 4085, 'i5299': 4086, 'i5300': 4087, 'i5303': 4088, 'i5304': 4089, 'i5308': 4090, 'i5309': 4091, 'i5312': 4092, 'i5313': 4093, 'i5316': 4094, 'i5319': 4095, 'i5321': 4096, 'i5322': 4097, 'i5323': 4098, 'i5324': 4099, 'i5325': 4100, 'i5328': 4101, 'i5329': 4102, 'i5333': 4103, 'i5334': 4104, 'i5337': 4105, 'i5338': 4106, 'i5339': 4107, 'i5341': 4108, 'i5345': 4109, 'i5346': 4110, 'i5347': 4111, 'i5349': 4112, 'i5356': 4113, 'i5357': 4114, 'i5358': 4115, 'i5361': 4116, 'i5363': 4117, 'i5364': 4118, 'i5372': 4119, 'i5373': 4120, 'i5375': 4121, 'i5377': 4122, 'i5378': 4123, 'i5379': 4124, 'i5380': 4125, 'i5382': 4126, 'i5384': 4127, 'i5387': 4128, 'i5388': 4129, 'i5389': 4130, 'i5390': 4131, 'i5391': 4132, 'i5397': 4133, 'i5398': 4134, 'i5400': 4135, 'i5401': 4136, 'i5404': 4137, 'i5409': 4138, 'i5410': 4139, 'i5414': 4140, 'i5415': 4141, 'i5416': 4142, 'i5417': 4143, 'i5418': 4144, 'i5419': 4145, 'i5420': 4146, 'i5421': 4147, 'i5422': 4148, 'i5423': 4149, 'i5424': 4150, 'i5425': 4151, 'i5427': 4152, 'i5428': 4153, 'i5433': 4154, 'i5435': 4155, 'i5437': 4156, 'i5438': 4157, 'i5440': 4158, 'i5443': 4159, 'i5444': 4160, 'i5445': 4161, 'i5446': 4162, 'i5447': 4163, 'i5448': 4164, 'i5449': 4165, 'i5450': 4166, 'i5451': 4167, 'i5452': 4168, 'i5454': 4169, 'i5455': 4170, 'i5456': 4171, 'i5459': 4172, 'i5460': 4173, 'i5461': 4174, 'i5462': 4175, 'i5463': 4176, 'i5464': 4177, 'i5466': 4178, 'i5468': 4179, 'i5471': 4180, 'i5475': 4181, 'i5476': 4182, 'i5477': 4183, 'i5478': 4184, 'i5479': 4185, 'i5480': 4186, 'i5481': 4187, 'i5483': 4188, 'i5485': 4189, 'i5486': 4190, 'i5490': 4191, 'i5498': 4192, 'i5499': 4193, 'i5500': 4194, 'i5501': 4195, 'i5502': 4196, 'i5503': 4197, 'i5504': 4198, 'i5505': 4199, 'i5506': 4200, 'i5507': 4201, 'i5508': 4202, 'i5513': 4203, 'i5521': 4204, 'i5522': 4205, 'i5523': 4206, 'i5524': 4207, 'i5525': 4208, 'i5527': 4209, 'i5528': 4210, 'i5529': 4211, 'i5530': 4212, 'i5531': 4213, 'i5540': 4214, 'i5541': 4215, 'i5543': 4216, 'i5544': 4217, 'i5548': 4218, 'i5550': 4219, 'i5553': 4220, 'i5556': 4221, 'i5562': 4222, 'i5563': 4223, 'i5564': 4224, 'i5568': 4225, 'i5569': 4226, 'i5570': 4227, 'i5572': 4228, 'i5573': 4229, 'i5574': 4230, 'i5575': 4231, 'i5577': 4232, 'i5580': 4233, 'i5582': 4234, 'i5585': 4235, 'i5588': 4236, 'i5589': 4237, 'i5590': 4238, 'i5596': 4239, 'i5597': 4240, 'i5601': 4241, 'i5602': 4242, 'i5603': 4243, 'i5604': 4244, 'i5608': 4245, 'i5609': 4246, 'i5610': 4247, 'i5611': 4248, 'i5613': 4249, 'i5614': 4250, 'i5617': 4251, 'i5618': 4252, 'i5619': 4253, 'i5620': 4254, 'i5621': 4255, 'i5625': 4256, 'i5628': 4257, 'i5630': 4258, 'i5632': 4259, 'i5633': 4260, 'i5635': 4261, 'i5636': 4262, 'i5637': 4263, 'i5640': 4264, 'i5643': 4265, 'i5644': 4266, 'i5646': 4267, 'i5650': 4268, 'i5651': 4269, 'i5663': 4270, 'i5665': 4271, 'i5666': 4272, 'i5667': 4273, 'i5668': 4274, 'i5669': 4275, 'i5670': 4276, 'i5672': 4277, 'i5673': 4278, 'i5675': 4279, 'i5678': 4280, 'i5679': 4281, 'i5680': 4282, 'i5685': 4283, 'i5688': 4284, 'i5690': 4285, 'i5693': 4286, 'i5694': 4287, 'i5696': 4288, 'i5699': 4289, 'i5700': 4290, 'i5706': 4291, 'i5707': 4292, 'i5712': 4293, 'i5733': 4294, 'i5735': 4295, 'i5741': 4296, 'i5742': 4297, 'i5746': 4298, 'i5747': 4299, 'i5749': 4300, 'i5752': 4301, 'i5755': 4302, 'i5764': 4303, 'i5768': 4304, 'i5772': 4305, 'i5773': 4306, 'i5779': 4307, 'i5782': 4308, 'i5784': 4309, 'i5785': 4310, 'i5788': 4311, 'i5791': 4312, 'i5792': 4313, 'i5796': 4314, 'i5799': 4315, 'i5801': 4316, 'i5802': 4317, 'i5803': 4318, 'i5804': 4319, 'i5809': 4320, 'i5810': 4321, 'i5812': 4322, 'i5816': 4323, 'i5817': 4324, 'i5818': 4325, 'i5820': 4326, 'i5826': 4327, 'i5828': 4328, 'i5829': 4329, 'i5833': 4330, 'i5841': 4331, 'i5843': 4332, 'i5849': 4333, 'i5856': 4334, 'i5872': 4335, 'i5873': 4336, 'i5874': 4337, 'i5876': 4338, 'i5878': 4339, 'i5879': 4340, 'i5880': 4341, 'i5881': 4342, 'i5882': 4343, 'i5884': 4344, 'i5889': 4345, 'i5891': 4346, 'i5893': 4347, 'i5896': 4348, 'i5899': 4349, 'i5900': 4350, 'i5901': 4351, 'i5902': 4352, 'i5903': 4353, 'i5909': 4354, 'i5912': 4355, 'i5915': 4356, 'i5919': 4357, 'i5922': 4358, 'i5925': 4359, 'i5929': 4360, 'i5932': 4361, 'i5941': 4362, 'i5942': 4363, 'i5943': 4364, 'i5944': 4365, 'i5945': 4366, 'i5947': 4367, 'i5949': 4368, 'i5951': 4369, 'i5952': 4370, 'i5954': 4371, 'i5955': 4372, 'i5956': 4373, 'i5957': 4374, 'i5959': 4375, 'i5962': 4376, 'i5963': 4377, 'i5965': 4378, 'i5968': 4379, 'i5969': 4380, 'i5970': 4381, 'i5971': 4382, 'i5974': 4383, 'i5975': 4384, 'i5984': 4385, 'i5986': 4386, 'i5988': 4387, 'i5989': 4388, 'i5990': 4389, 'i5991': 4390, 'i5992': 4391, 'i5993': 4392, 'i5994': 4393, 'i5995': 4394, 'i5999': 4395, 'i6001': 4396, 'i6002': 4397, 'i6003': 4398, 'i6005': 4399, 'i6006': 4400, 'i6009': 4401, 'i6012': 4402, 'i6013': 4403, 'i6014': 4404, 'i6016': 4405, 'i6020': 4406, 'i6022': 4407, 'i6023': 4408, 'i6025': 4409, 'i6027': 4410, 'i6030': 4411, 'i6031': 4412, 'i6033': 4413, 'i6035': 4414, 'i6036': 4415, 'i6039': 4416, 'i6040': 4417, 'i6041': 4418, 'i6044': 4419, 'i6049': 4420, 'i6051': 4421, 'i6055': 4422, 'i6057': 4423, 'i6058': 4424, 'i6059': 4425, 'i6060': 4426, 'i6062': 4427, 'i6063': 4428, 'i6064': 4429, 'i6067': 4430, 'i6070': 4431, 'i6078': 4432, 'i6086': 4433, 'i6090': 4434, 'i6093': 4435, 'i6095': 4436, 'i6100': 4437, 'i6101': 4438, 'i6104': 4439, 'i6107': 4440, 'i6111': 4441, 'i6116': 4442, 'i6122': 4443, 'i6123': 4444, 'i6125': 4445, 'i6140': 4446, 'i6141': 4447, 'i6143': 4448, 'i6145': 4449, 'i6153': 4450, 'i6155': 4451, 'i6156': 4452, 'i6157': 4453, 'i6158': 4454, 'i6159': 4455, 'i6162': 4456, 'i6163': 4457, 'i6166': 4458, 'i6169': 4459, 'i6170': 4460, 'i6178': 4461, 'i6181': 4462, 'i6183': 4463, 'i6184': 4464, 'i6185': 4465, 'i6186': 4466, 'i6187': 4467, 'i6188': 4468, 'i6192': 4469, 'i6193': 4470, 'i6195': 4471, 'i6196': 4472, 'i6197': 4473, 'i6201': 4474, 'i6203': 4475, 'i6204': 4476, 'i6210': 4477, 'i6212': 4478, 'i6213': 4479, 'i6214': 4480, 'i6215': 4481, 'i6216': 4482, 'i6218': 4483, 'i6219': 4484, 'i6220': 4485, 'i6223': 4486, 'i6225': 4487, 'i6228': 4488, 'i6232': 4489, 'i6234': 4490, 'i6235': 4491, 'i6238': 4492, 'i6239': 4493, 'i6242': 4494, 'i6244': 4495, 'i6245': 4496, 'i6246': 4497, 'i6249': 4498, 'i6250': 4499, 'i6251': 4500, 'i6252': 4501, 'i6254': 4502, 'i6263': 4503, 'i6264': 4504, 'i6265': 4505, 'i6266': 4506, 'i6268': 4507, 'i6269': 4508, 'i6270': 4509, 'i6271': 4510, 'i6273': 4511, 'i6280': 4512, 'i6281': 4513, 'i6283': 4514, 'i6285': 4515, 'i6286': 4516, 'i6287': 4517, 'i6288': 4518, 'i6289': 4519, 'i6290': 4520, 'i6291': 4521, 'i6294': 4522, 'i6295': 4523, 'i6296': 4524, 'i6297': 4525, 'i6298': 4526, 'i6299': 4527, 'i6300': 4528, 'i6301': 4529, 'i6302': 4530, 'i6303': 4531, 'i6305': 4532, 'i6306': 4533, 'i6308': 4534, 'i6314': 4535, 'i6315': 4536, 'i6316': 4537, 'i6319': 4538, 'i6322': 4539, 'i6323': 4540, 'i6324': 4541, 'i6327': 4542, 'i6329': 4543, 'i6330': 4544, 'i6331': 4545, 'i6332': 4546, 'i6333': 4547, 'i6334': 4548, 'i6335': 4549, 'i6336': 4550, 'i6337': 4551, 'i6338': 4552, 'i6339': 4553, 'i6341': 4554, 'i6344': 4555, 'i6345': 4556, 'i6347': 4557, 'i6348': 4558, 'i6349': 4559, 'i6350': 4560, 'i6365': 4561, 'i6367': 4562, 'i6368': 4563, 'i6370': 4564, 'i6371': 4565, 'i6373': 4566, 'i6374': 4567, 'i6375': 4568, 'i6376': 4569, 'i6377': 4570, 'i6378': 4571, 'i6379': 4572, 'i6380': 4573, 'i6382': 4574, 'i6383': 4575, 'i6385': 4576, 'i6386': 4577, 'i6387': 4578, 'i6400': 4579, 'i6402': 4580, 'i6405': 4581, 'i6407': 4582, 'i6408': 4583, 'i6410': 4584, 'i6412': 4585, 'i6415': 4586, 'i6417': 4587, 'i6424': 4588, 'i6425': 4589, 'i6427': 4590, 'i6428': 4591, 'i6433': 4592, 'i6434': 4593, 'i6436': 4594, 'i6440': 4595, 'i6442': 4596, 'i6448': 4597, 'i6452': 4598, 'i6460': 4599, 'i6461': 4600, 'i6464': 4601, 'i6466': 4602, 'i6476': 4603, 'i6477': 4604, 'i6480': 4605, 'i6482': 4606, 'i6483': 4607, 'i6484': 4608, 'i6493': 4609, 'i6502': 4610, 'i6503': 4611, 'i6510': 4612, 'i6514': 4613, 'i6515': 4614, 'i6516': 4615, 'i6517': 4616, 'i6527': 4617, 'i6530': 4618, 'i6533': 4619, 'i6534': 4620, 'i6535': 4621, 'i6536': 4622, 'i6537': 4623, 'i6538': 4624, 'i6539': 4625, 'i6541': 4626, 'i6542': 4627, 'i6545': 4628, 'i6547': 4629, 'i6548': 4630, 'i6549': 4631, 'i6550': 4632, 'i6551': 4633, 'i6552': 4634, 'i6553': 4635, 'i6554': 4636, 'i6558': 4637, 'i6559': 4638, 'i6560': 4639, 'i6563': 4640, 'i6564': 4641, 'i6565': 4642, 'i6566': 4643, 'i6567': 4644, 'i6568': 4645, 'i6571': 4646, 'i6572': 4647, 'i6574': 4648, 'i6577': 4649, 'i6578': 4650, 'i6579': 4651, 'i6581': 4652, 'i6582': 4653, 'i6583': 4654, 'i6584': 4655, 'i6586': 4656, 'i6588': 4657, 'i6591': 4658, 'i6592': 4659, 'i6593': 4660, 'i6595': 4661, 'i6596': 4662, 'i6597': 4663, 'i6598': 4664, 'i6603': 4665, 'i6604': 4666, 'i6609': 4667, 'i6611': 4668, 'i6612': 4669, 'i6614': 4670, 'i6615': 4671, 'i6616': 4672, 'i6617': 4673, 'i6618': 4674, 'i6619': 4675, 'i6620': 4676, 'i6624': 4677, 'i6628': 4678, 'i6631': 4679, 'i6636': 4680, 'i6638': 4681, 'i6639': 4682, 'i6643': 4683, 'i6645': 4684, 'i6650': 4685, 'i6658': 4686, 'i6659': 4687, 'i6660': 4688, 'i6662': 4689, 'i6663': 4690, 'i6664': 4691, 'i6666': 4692, 'i6667': 4693, 'i6669': 4694, 'i6671': 4695, 'i6678': 4696, 'i6679': 4697, 'i6684': 4698, 'i6686': 4699, 'i6687': 4700, 'i6688': 4701, 'i6689': 4702, 'i6691': 4703, 'i6692': 4704, 'i6695': 4705, 'i6696': 4706, 'i6699': 4707, 'i6702': 4708, 'i6706': 4709, 'i6707': 4710, 'i6708': 4711, 'i6709': 4712, 'i6710': 4713, 'i6711': 4714, 'i6713': 4715, 'i6715': 4716, 'i6718': 4717, 'i6720': 4718, 'i6721': 4719, 'i6722': 4720, 'i6723': 4721, 'i6724': 4722, 'i6731': 4723, 'i6732': 4724, 'i6734': 4725, 'i6744': 4726, 'i6746': 4727, 'i6753': 4728, 'i6754': 4729, 'i6755': 4730, 'i6760': 4731, 'i6763': 4732, 'i6764': 4733, 'i6765': 4734, 'i6768': 4735, 'i6770': 4736, 'i6772': 4737, 'i6773': 4738, 'i6774': 4739, 'i6775': 4740, 'i6776': 4741, 'i6777': 4742, 'i6780': 4743, 'i6782': 4744, 'i6783': 4745, 'i6785': 4746, 'i6786': 4747, 'i6787': 4748, 'i6789': 4749, 'i6790': 4750, 'i6791': 4751, 'i6793': 4752, 'i6794': 4753, 'i6796': 4754, 'i6797': 4755, 'i6798': 4756, 'i6800': 4757, 'i6803': 4758, 'i6807': 4759, 'i6808': 4760, 'i6809': 4761, 'i6810': 4762, 'i6811': 4763, 'i6812': 4764, 'i6814': 4765, 'i6816': 4766, 'i6818': 4767, 'i6820': 4768, 'i6827': 4769, 'i6832': 4770, 'i6835': 4771, 'i6837': 4772, 'i6850': 4773, 'i6851': 4774, 'i6852': 4775, 'i6853': 4776, 'i6857': 4777, 'i6858': 4778, 'i6862': 4779, 'i6863': 4780, 'i6867': 4781, 'i6868': 4782, 'i6869': 4783, 'i6870': 4784, 'i6872': 4785, 'i6873': 4786, 'i6874': 4787, 'i6879': 4788, 'i6880': 4789, 'i6881': 4790, 'i6882': 4791, 'i6883': 4792, 'i6884': 4793, 'i6885': 4794, 'i6887': 4795, 'i6888': 4796, 'i6889': 4797, 'i6890': 4798, 'i6893': 4799, 'i6898': 4800, 'i6899': 4801, 'i6902': 4802, 'i6909': 4803, 'i6912': 4804, 'i6918': 4805, 'i6920': 4806, 'i6932': 4807, 'i6934': 4808, 'i6935': 4809, 'i6936': 4810, 'i6938': 4811, 'i6939': 4812, 'i6942': 4813, 'i6944': 4814, 'i6945': 4815, 'i6946': 4816, 'i6947': 4817, 'i6948': 4818, 'i6950': 4819, 'i6951': 4820, 'i6952': 4821, 'i6953': 4822, 'i6954': 4823, 'i6957': 4824, 'i6958': 4825, 'i6959': 4826, 'i6961': 4827, 'i6962': 4828, 'i6963': 4829, 'i6965': 4830, 'i6966': 4831, 'i6969': 4832, 'i6970': 4833, 'i6971': 4834, 'i6973': 4835, 'i6974': 4836, 'i6975': 4837, 'i6978': 4838, 'i6979': 4839, 'i6981': 4840, 'i6982': 4841, 'i6983': 4842, 'i6984': 4843, 'i6985': 4844, 'i6987': 4845, 'i6989': 4846, 'i6990': 4847, 'i6992': 4848, 'i6993': 4849, 'i6996': 4850, 'i6999': 4851, 'i7000': 4852, 'i7001': 4853, 'i7004': 4854, 'i7007': 4855, 'i7008': 4856, 'i7009': 4857, 'i7010': 4858, 'i7012': 4859, 'i7013': 4860, 'i7015': 4861, 'i7016': 4862, 'i7017': 4863, 'i7018': 4864, 'i7019': 4865, 'i7022': 4866, 'i7024': 4867, 'i7025': 4868, 'i7026': 4869, 'i7027': 4870, 'i7028': 4871, 'i7030': 4872, 'i7032': 4873, 'i7033': 4874, 'i7034': 4875, 'i7036': 4876, 'i7037': 4877, 'i7038': 4878, 'i7040': 4879, 'i7041': 4880, 'i7044': 4881, 'i7045': 4882, 'i7046': 4883, 'i7047': 4884, 'i7048': 4885, 'i7055': 4886, 'i7056': 4887, 'i7058': 4888, 'i7060': 4889, 'i7061': 4890, 'i7062': 4891, 'i7063': 4892, 'i7064': 4893, 'i7067': 4894, 'i7069': 4895, 'i7070': 4896, 'i7071': 4897, 'i7072': 4898, 'i7073': 4899, 'i7074': 4900, 'i7075': 4901, 'i7076': 4902, 'i7078': 4903, 'i7079': 4904, 'i7080': 4905, 'i7082': 4906, 'i7083': 4907, 'i7084': 4908, 'i7085': 4909, 'i7086': 4910, 'i7087': 4911, 'i7088': 4912, 'i7089': 4913, 'i7090': 4914, 'i7091': 4915, 'i7092': 4916, 'i7093': 4917, 'i7099': 4918, 'i7101': 4919, 'i7102': 4920, 'i7104': 4921, 'i7108': 4922, 'i7115': 4923, 'i7116': 4924, 'i7117': 4925, 'i7118': 4926, 'i7121': 4927, 'i7122': 4928, 'i7123': 4929, 'i7124': 4930, 'i7125': 4931, 'i7131': 4932, 'i7132': 4933, 'i7134': 4934, 'i7137': 4935, 'i7139': 4936, 'i7141': 4937, 'i7142': 4938, 'i7143': 4939, 'i7147': 4940, 'i7149': 4941, 'i7150': 4942, 'i7151': 4943, 'i7153': 4944, 'i7154': 4945, 'i7155': 4946, 'i7156': 4947, 'i7158': 4948, 'i7160': 4949, 'i7161': 4950, 'i7162': 4951, 'i7163': 4952, 'i7164': 4953, 'i7165': 4954, 'i7167': 4955, 'i7169': 4956, 'i7171': 4957, 'i7173': 4958, 'i7175': 4959, 'i7176': 4960, 'i7177': 4961, 'i7178': 4962, 'i7179': 4963, 'i7181': 4964, 'i7184': 4965, 'i7190': 4966, 'i7192': 4967, 'i7193': 4968, 'i7205': 4969, 'i7206': 4970, 'i7208': 4971, 'i7209': 4972, 'i7211': 4973, 'i7212': 4974, 'i7215': 4975, 'i7216': 4976, 'i7217': 4977, 'i7218': 4978, 'i7219': 4979, 'i7223': 4980, 'i7225': 4981, 'i7228': 4982, 'i7234': 4983, 'i7235': 4984, 'i7236': 4985, 'i7238': 4986, 'i7245': 4987, 'i7247': 4988, 'i7248': 4989, 'i7251': 4990, 'i7254': 4991, 'i7255': 4992, 'i7256': 4993, 'i7257': 4994, 'i7258': 4995, 'i7259': 4996, 'i7262': 4997, 'i7263': 4998, 'i7264': 4999, 'i7265': 5000, 'i7266': 5001, 'i7282': 5002, 'i7285': 5003, 'i7293': 5004, 'i7294': 5005, 'i7297': 5006, 'i7299': 5007, 'i7301': 5008, 'i7303': 5009, 'i7304': 5010, 'i7305': 5011, 'i7307': 5012, 'i7308': 5013, 'i7310': 5014, 'i7311': 5015, 'i7312': 5016, 'i7315': 5017, 'i7316': 5018, 'i7317': 5019, 'i7318': 5020, 'i7319': 5021, 'i7320': 5022, 'i7321': 5023, 'i7323': 5024, 'i7324': 5025, 'i7325': 5026, 'i7326': 5027, 'i7327': 5028, 'i7336': 5029, 'i7340': 5030, 'i7344': 5031, 'i7345': 5032, 'i7346': 5033, 'i7347': 5034, 'i7348': 5035, 'i7352': 5036, 'i7354': 5037, 'i7357': 5038, 'i7360': 5039, 'i7361': 5040, 'i7362': 5041, 'i7364': 5042, 'i7366': 5043, 'i7367': 5044, 'i7369': 5045, 'i7371': 5046, 'i7372': 5047, 'i7373': 5048, 'i7375': 5049, 'i7376': 5050, 'i7377': 5051, 'i7379': 5052, 'i7380': 5053, 'i7381': 5054, 'i7382': 5055, 'i7386': 5056, 'i7387': 5057, 'i7390': 5058, 'i7394': 5059, 'i7395': 5060, 'i7396': 5061, 'i7411': 5062, 'i7414': 5063, 'i7419': 5064, 'i7438': 5065, 'i7439': 5066, 'i7440': 5067, 'i7444': 5068, 'i7445': 5069, 'i7448': 5070, 'i7449': 5071, 'i7450': 5072, 'i7451': 5073, 'i7454': 5074, 'i7458': 5075, 'i7459': 5076, 'i7460': 5077, 'i7477': 5078, 'i7479': 5079, 'i7481': 5080, 'i7482': 5081, 'i7486': 5082, 'i7487': 5083, 'i7493': 5084, 'i7541': 5085, 'i7560': 5086, 'i7562': 5087, 'i7564': 5088, 'i7566': 5089, 'i7569': 5090, 'i7570': 5091, 'i7572': 5092, 'i7573': 5093, 'i7579': 5094, 'i7581': 5095, 'i7584': 5096, 'i7587': 5097, 'i7614': 5098, 'i7618': 5099, 'i7619': 5100, 'i7620': 5101, 'i7624': 5102, 'i7646': 5103, 'i7647': 5104, 'i7649': 5105, 'i7657': 5106, 'i7669': 5107, 'i7698': 5108, 'i7700': 5109, 'i7701': 5110, 'i7702': 5111, 'i7705': 5112, 'i7706': 5113, 'i7708': 5114, 'i7713': 5115, 'i7714': 5116, 'i7716': 5117, 'i7720': 5118, 'i7727': 5119, 'i7728': 5120, 'i7743': 5121, 'i7745': 5122, 'i7748': 5123, 'i7753': 5124, 'i7756': 5125, 'i7757': 5126, 'i7762': 5127, 'i7766': 5128, 'i7767': 5129, 'i7772': 5130, 'i7773': 5131, 'i7781': 5132, 'i7786': 5133, 'i7789': 5134, 'i7802': 5135, 'i7810': 5136, 'i7811': 5137, 'i7812': 5138, 'i7815': 5139, 'i7822': 5140, 'i7826': 5141, 'i7831': 5142, 'i7832': 5143, 'i7833': 5144, 'i7834': 5145, 'i7835': 5146, 'i7839': 5147, 'i7840': 5148, 'i7841': 5149, 'i7842': 5150, 'i7845': 5151, 'i7846': 5152, 'i7879': 5153, 'i7882': 5154, 'i7883': 5155, 'i7884': 5156, 'i7888': 5157, 'i7891': 5158, 'i7894': 5159, 'i7896': 5160, 'i7899': 5161, 'i7900': 5162, 'i7916': 5163, 'i7924': 5164, 'i7925': 5165, 'i7930': 5166, 'i7932': 5167, 'i7934': 5168, 'i7940': 5169, 'i7944': 5170, 'i7979': 5171, 'i7980': 5172, 'i7981': 5173, 'i7982': 5174, 'i7983': 5175, 'i7991': 5176, 'i8008': 5177, 'i8010': 5178, 'i8011': 5179, 'i8012': 5180, 'i8014': 5181, 'i8019': 5182, 'i8025': 5183, 'i8033': 5184, 'i8035': 5185, 'i8042': 5186, 'i8043': 5187, 'i8044': 5188, 'i8057': 5189, 'i8093': 5190, 'i8094': 5191, 'i8118': 5192, 'i8119': 5193, 'i8121': 5194, 'i8125': 5195, 'i8128': 5196, 'i8132': 5197, 'i8136': 5198, 'i8137': 5199, 'i8138': 5200, 'i8142': 5201, 'i8153': 5202, 'i8154': 5203, 'i8157': 5204, 'i8158': 5205, 'i8167': 5206, 'i8169': 5207, 'i8189': 5208, 'i8190': 5209, 'i8191': 5210, 'i8195': 5211, 'i8207': 5212, 'i8225': 5213, 'i8228': 5214, 'i8232': 5215, 'i8235': 5216, 'i8236': 5217, 'i8238': 5218, 'i8241': 5219, 'i8253': 5220, 'i8254': 5221, 'i8261': 5222, 'i8264': 5223, 'i8266': 5224, 'i8270': 5225, 'i8275': 5226, 'i8290': 5227, 'i8293': 5228, 'i8302': 5229, 'i8327': 5230, 'i8331': 5231, 'i8335': 5232, 'i8336': 5233, 'i8337': 5234, 'i8338': 5235, 'i8340': 5236, 'i8341': 5237, 'i8360': 5238, 'i8361': 5239, 'i8362': 5240, 'i8363': 5241, 'i8364': 5242, 'i8366': 5243, 'i8368': 5244, 'i8369': 5245, 'i8370': 5246, 'i8371': 5247, 'i8372': 5248, 'i8373': 5249, 'i8375': 5250, 'i8376': 5251, 'i8379': 5252, 'i8382': 5253, 'i8383': 5254, 'i8385': 5255, 'i8387': 5256, 'i8402': 5257, 'i8410': 5258, 'i8424': 5259, 'i8426': 5260, 'i8446': 5261, 'i8447': 5262, 'i8450': 5263, 'i8451': 5264, 'i8454': 5265, 'i8456': 5266, 'i8458': 5267, 'i8459': 5268, 'i8461': 5269, 'i8462': 5270, 'i8463': 5271, 'i8464': 5272, 'i8465': 5273, 'i8477': 5274, 'i8481': 5275, 'i8482': 5276, 'i8487': 5277, 'i8491': 5278, 'i8492': 5279, 'i8493': 5280, 'i8494': 5281, 'i8495': 5282, 'i8501': 5283, 'i8502': 5284, 'i8506': 5285, 'i8507': 5286, 'i8511': 5287, 'i8512': 5288, 'i8518': 5289, 'i8521': 5290, 'i8526': 5291, 'i8528': 5292, 'i8529': 5293, 'i8530': 5294, 'i8531': 5295, 'i8532': 5296, 'i8533': 5297, 'i8534': 5298, 'i8535': 5299, 'i8542': 5300, 'i8574': 5301, 'i8575': 5302, 'i8577': 5303, 'i8580': 5304, 'i8581': 5305, 'i8582': 5306, 'i8587': 5307, 'i8591': 5308, 'i8593': 5309, 'i8596': 5310, 'i8600': 5311, 'i8601': 5312, 'i8604': 5313, 'i8607': 5314, 'i8609': 5315, 'i8610': 5316, 'i8611': 5317, 'i8614': 5318, 'i8617': 5319, 'i8620': 5320, 'i8622': 5321, 'i8623': 5322, 'i8626': 5323, 'i8632': 5324, 'i8633': 5325, 'i8636': 5326, 'i8638': 5327, 'i8640': 5328, 'i8641': 5329, 'i8643': 5330, 'i8644': 5331, 'i8645': 5332, 'i8650': 5333, 'i8656': 5334, 'i8665': 5335, 'i8666': 5336, 'i8667': 5337, 'i8677': 5338, 'i8684': 5339, 'i8685': 5340, 'i8690': 5341, 'i8695': 5342, 'i8711': 5343, 'i8712': 5344, 'i8713': 5345, 'i8714': 5346, 'i8718': 5347, 'i8724': 5348, 'i8730': 5349, 'i8738': 5350, 'i8743': 5351, 'i8748': 5352, 'i8753': 5353, 'i8754': 5354, 'i8771': 5355, 'i8772': 5356, 'i8773': 5357, 'i8774': 5358, 'i8778': 5359, 'i8781': 5360, 'i8783': 5361, 'i8784': 5362, 'i8795': 5363, 'i8796': 5364, 'i8798': 5365, 'i8799': 5366, 'i8807': 5367, 'i8808': 5368, 'i8809': 5369, 'i8810': 5370, 'i8813': 5371, 'i8814': 5372, 'i8815': 5373, 'i8827': 5374, 'i8830': 5375, 'i8831': 5376, 'i8832': 5377, 'i8833': 5378, 'i8835': 5379, 'i8836': 5380, 'i8838': 5381, 'i8840': 5382, 'i8848': 5383, 'i8860': 5384, 'i8861': 5385, 'i8864': 5386, 'i8865': 5387, 'i8866': 5388, 'i8869': 5389, 'i8870': 5390, 'i8873': 5391, 'i8874': 5392, 'i8875': 5393, 'i8879': 5394, 'i8880': 5395, 'i8894': 5396, 'i8907': 5397, 'i8908': 5398, 'i8910': 5399, 'i8912': 5400, 'i8914': 5401, 'i8915': 5402, 'i8916': 5403, 'i8917': 5404, 'i8918': 5405, 'i8919': 5406, 'i8920': 5407, 'i8921': 5408, 'i8933': 5409, 'i8934': 5410, 'i8937': 5411, 'i8938': 5412, 'i8939': 5413, 'i8943': 5414, 'i8946': 5415, 'i8947': 5416, 'i8948': 5417, 'i8949': 5418, 'i8950': 5419, 'i8951': 5420, 'i8952': 5421, 'i8955': 5422, 'i8957': 5423, 'i8958': 5424, 'i8959': 5425, 'i8961': 5426, 'i8965': 5427, 'i8966': 5428, 'i8967': 5429, 'i8968': 5430, 'i8969': 5431, 'i8970': 5432, 'i8972': 5433, 'i8973': 5434, 'i8974': 5435, 'i8977': 5436, 'i8978': 5437, 'i8979': 5438, 'i8981': 5439, 'i8982': 5440, 'i8983': 5441, 'i8984': 5442, 'i8985': 5443, 'i8987': 5444, 'i8989': 5445, 'i8998': 5446, 'i9005': 5447, 'i9010': 5448, 'i9018': 5449, 'i25750': 5450, 'i25752': 5451, 'i25753': 5452, 'i25757': 5453, 'i25769': 5454, 'i25771': 5455, 'i25788': 5456, 'i25795': 5457, 'i25805': 5458, 'i25825': 5459, 'i25826': 5460, 'i25827': 5461, 'i25841': 5462, 'i25850': 5463, 'i25856': 5464, 'i25865': 5465, 'i25870': 5466, 'i25886': 5467, 'i25887': 5468, 'i25898': 5469, 'i25923': 5470, 'i25927': 5471, 'i25937': 5472, 'i25940': 5473, 'i25952': 5474, 'i25962': 5475, 'i25996': 5476, 'i25999': 5477, 'i26003': 5478, 'i26038': 5479, 'i26059': 5480, 'i26082': 5481, 'i26084': 5482, 'i26116': 5483, 'i26131': 5484, 'i26133': 5485, 'i26147': 5486, 'i26151': 5487, 'i26152': 5488, 'i26159': 5489, 'i26169': 5490, 'i26171': 5491, 'i26172': 5492, 'i26183': 5493, 'i26184': 5494, 'i26198': 5495, 'i26236': 5496, 'i26237': 5497, 'i26242': 5498, 'i26249': 5499, 'i26258': 5500, 'i26265': 5501, 'i26283': 5502, 'i26285': 5503, 'i26322': 5504, 'i26326': 5505, 'i26340': 5506, 'i26344': 5507, 'i26350': 5508, 'i26357': 5509, 'i26359': 5510, 'i26365': 5511, 'i26366': 5512, 'i26386': 5513, 'i26391': 5514, 'i26394': 5515, 'i26399': 5516, 'i26401': 5517, 'i26409': 5518, 'i26413': 5519, 'i26422': 5520, 'i26429': 5521, 'i26464': 5522, 'i26467': 5523, 'i26471': 5524, 'i26492': 5525, 'i26498': 5526, 'i26504': 5527, 'i26524': 5528, 'i26527': 5529, 'i26528': 5530, 'i26539': 5531, 'i26547': 5532, 'i26555': 5533, 'i26562': 5534, 'i26564': 5535, 'i26578': 5536, 'i26585': 5537, 'i26599': 5538, 'i26603': 5539, 'i26606': 5540, 'i26612': 5541, 'i26614': 5542, 'i26629': 5543, 'i26631': 5544, 'i26645': 5545, 'i26649': 5546, 'i26662': 5547, 'i26676': 5548, 'i26680': 5549, 'i26681': 5550, 'i26686': 5551, 'i26693': 5552, 'i26700': 5553, 'i26701': 5554, 'i26704': 5555, 'i26712': 5556, 'i26717': 5557, 'i26726': 5558, 'i26729': 5559, 'i26743': 5560, 'i26750': 5561, 'i26761': 5562, 'i26764': 5563, 'i26765': 5564, 'i26776': 5565, 'i26778': 5566, 'i26791': 5567, 'i26797': 5568, 'i26810': 5569, 'i26812': 5570, 'i26838': 5571, 'i26849': 5572, 'i26861': 5573, 'i26870': 5574, 'i26871': 5575, 'i26887': 5576, 'i26901': 5577, 'i26903': 5578, 'i26947': 5579, 'i26965': 5580, 'i26974': 5581, 'i26985': 5582, 'i26999': 5583, 'i27003': 5584, 'i27006': 5585, 'i27020': 5586, 'i27022': 5587, 'i27032': 5588, 'i27074': 5589, 'i27075': 5590, 'i27140': 5591, 'i27155': 5592, 'i27156': 5593, 'i27176': 5594, 'i27193': 5595, 'i27251': 5596, 'i27266': 5597, 'i27311': 5598, 'i27317': 5599, 'i27320': 5600, 'i27329': 5601, 'i27368': 5602, 'i27369': 5603, 'i27397': 5604, 'i27408': 5605, 'i27416': 5606, 'i27420': 5607, 'i27426': 5608, 'i27441': 5609, 'i27450': 5610, 'i27473': 5611, 'i27478': 5612, 'i27480': 5613, 'i27482': 5614, 'i27513': 5615, 'i27523': 5616, 'i27539': 5617, 'i27563': 5618, 'i27584': 5619, 'i27592': 5620, 'i27604': 5621, 'i27611': 5622, 'i27644': 5623, 'i27660': 5624, 'i27664': 5625, 'i27667': 5626, 'i27674': 5627, 'i27683': 5628, 'i27685': 5629, 'i27695': 5630, 'i27705': 5631, 'i27706': 5632, 'i27721': 5633, 'i27722': 5634, 'i27728': 5635, 'i27731': 5636, 'i27741': 5637, 'i27751': 5638, 'i27768': 5639, 'i27769': 5640, 'i27772': 5641, 'i27773': 5642, 'i27784': 5643, 'i27788': 5644, 'i27790': 5645, 'i27793': 5646, 'i27801': 5647, 'i27802': 5648, 'i27803': 5649, 'i27808': 5650, 'i27815': 5651, 'i27816': 5652, 'i27820': 5653, 'i27821': 5654, 'i27822': 5655, 'i27826': 5656, 'i27830': 5657, 'i27831': 5658, 'i27834': 5659, 'i27837': 5660, 'i27838': 5661, 'i27839': 5662, 'i27846': 5663, 'i27850': 5664, 'i27865': 5665, 'i27866': 5666, 'i27869': 5667, 'i27873': 5668, 'i27878': 5669, 'i27879': 5670, 'i27882': 5671, 'i27904': 5672, 'i27912': 5673, 'i30707': 5674, 'i30745': 5675, 'i30749': 5676, 'i30793': 5677, 'i30810': 5678, 'i30812': 5679, 'i30816': 5680, 'i30818': 5681, 'i30820': 5682, 'i30822': 5683, 'i30825': 5684, 'i30846': 5685, 'i30848': 5686, 'i30850': 5687, 'i30890': 5688, 'i30894': 5689, 'i30898': 5690, 'i31000': 5691, 'i31030': 5692, 'i31049': 5693, 'i31083': 5694, 'i31086': 5695, 'i31101': 5696, 'i31114': 5697, 'i31116': 5698, 'i31150': 5699, 'i31184': 5700, 'i31193': 5701, 'i31221': 5702, 'i31223': 5703, 'i31225': 5704, 'i31260': 5705, 'i31364': 5706, 'i31410': 5707, 'i31420': 5708, 'i31424': 5709, 'i31427': 5710, 'i31431': 5711, 'i31433': 5712, 'i31437': 5713, 'i31522': 5714, 'i31545': 5715, 'i31553': 5716, 'i31617': 5717, 'i31658': 5718, 'i31660': 5719, 'i31664': 5720, 'i31685': 5721, 'i31694': 5722, 'i31696': 5723, 'i31698': 5724, 'i31804': 5725, 'i31851': 5726, 'i31867': 5727, 'i31878': 5728, 'i31903': 5729, 'i31923': 5730, 'i31925': 5731, 'i31952': 5732, 'i32009': 5733, 'i32011': 5734, 'i32017': 5735, 'i32019': 5736, 'i32022': 5737, 'i32029': 5738, 'i32031': 5739, 'i32060': 5740, 'i32116': 5741, 'i32139': 5742, 'i32213': 5743, 'i32243': 5744, 'i32289': 5745, 'i32291': 5746, 'i32294': 5747, 'i32296': 5748, 'i32298': 5749, 'i32302': 5750, 'i32442': 5751, 'i32456': 5752, 'i32460': 5753, 'i32469': 5754, 'i32511': 5755, 'i32554': 5756, 'i32582': 5757, 'i32584': 5758, 'i32587': 5759, 'i32589': 5760, 'i32596': 5761, 'i32598': 5762, 'i32600': 5763, 'i32620': 5764, 'i32657': 5765, 'i32659': 5766, 'i32666': 5767, 'i32743': 5768, 'i32862': 5769, 'i32875': 5770, 'i32898': 5771, 'i33004': 5772, 'i33085': 5773, 'i33090': 5774, 'i33124': 5775, 'i33126': 5776, 'i33132': 5777, 'i33145': 5778, 'i33148': 5779, 'i33154': 5780, 'i33158': 5781, 'i33162': 5782, 'i33164': 5783, 'i33166': 5784, 'i33201': 5785, 'i33237': 5786, 'i33294': 5787, 'i33312': 5788, 'i33421': 5789, 'i33437': 5790, 'i33493': 5791, 'i33495': 5792, 'i33499': 5793, 'i33558': 5794, 'i33615': 5795, 'i33629': 5796, 'i33639': 5797, 'i33644': 5798, 'i33646': 5799, 'i33660': 5800, 'i33669': 5801, 'i33672': 5802, 'i33677': 5803, 'i33679': 5804, 'i33681': 5805, 'i33683': 5806, 'i33725': 5807, 'i33779': 5808, 'i33781': 5809, 'i33794': 5810, 'i33801': 5811, 'i33815': 5812, 'i33826': 5813, 'i33830': 5814, 'i33834': 5815, 'i33836': 5816, 'i33880': 5817, 'i33896': 5818, 'i33903': 5819, 'i34018': 5820, 'i34048': 5821, 'i34072': 5822, 'i34129': 5823, 'i34143': 5824, 'i34148': 5825, 'i34150': 5826, 'i34153': 5827, 'i34162': 5828, 'i34164': 5829, 'i34271': 5830, 'i34292': 5831, 'i34312': 5832, 'i34319': 5833, 'i34321': 5834, 'i34323': 5835, 'i34326': 5836, 'i34330': 5837, 'i34332': 5838, 'i34334': 5839, 'i34336': 5840, 'i34338': 5841, 'i34359': 5842, 'i34397': 5843, 'i34405': 5844, 'i34437': 5845, 'i34450': 5846, 'i34520': 5847, 'i34528': 5848, 'i34530': 5849, 'i34532': 5850, 'i34534': 5851, 'i34536': 5852, 'i34542': 5853, 'i34800': 5854, 'i34811': 5855, 'i35015': 5856, 'i35347': 5857, 'i35807': 5858, 'i35836': 5859, 'i35957': 5860, 'i36276': 5861, 'i36289': 5862, 'i36363': 5863, 'i36397': 5864, 'i36401': 5865, 'i36477': 5866, 'i36509': 5867, 'i36517': 5868, 'i36519': 5869, 'i36525': 5870, 'i36527': 5871, 'i36529': 5872, 'i36533': 5873, 'i36535': 5874, 'i36537': 5875, 'i36708': 5876, 'i36850': 5877, 'i36931': 5878, 'i37211': 5879, 'i37240': 5880, 'i37380': 5881, 'i37382': 5882, 'i37384': 5883, 'i37386': 5884, 'i37444': 5885, 'i37477': 5886, 'i37545': 5887, 'i37720': 5888, 'i37727': 5889, 'i37729': 5890, 'i37731': 5891, 'i37733': 5892, 'i37736': 5893, 'i37739': 5894, 'i37741': 5895, 'i37830': 5896, 'i37844': 5897, 'i37853': 5898, 'i37857': 5899, 'i38038': 5900, 'i38061': 5901, 'i38095': 5902, 'i38159': 5903, 'i38198': 5904, 'i38304': 5905, 'i38583': 5906, 'i38798': 5907, 'i38886': 5908, 'i38992': 5909, 'i39183': 5910, 'i39231': 5911, 'i39234': 5912, 'i39292': 5913, 'i39381': 5914, 'i39400': 5915, 'i39414': 5916, 'i39427': 5917, 'i39435': 5918, 'i39444': 5919, 'i39446': 5920, 'i39449': 5921, 'i39715': 5922, 'i39801': 5923, 'i39869': 5924, 'i40148': 5925, 'i40278': 5926, 'i40339': 5927, 'i40412': 5928, 'i40414': 5929, 'i40478': 5930, 'i40491': 5931, 'i40581': 5932, 'i40583': 5933, 'i40614': 5934, 'i40617': 5935, 'i40629': 5936, 'i40697': 5937, 'i40723': 5938, 'i40732': 5939, 'i40815': 5940, 'i40819': 5941, 'i40826': 5942, 'i40851': 5943, 'i40870': 5944, 'i40946': 5945, 'i40955': 5946, 'i40959': 5947, 'i40962': 5948, 'i41014': 5949, 'i41285': 5950, 'i41527': 5951, 'i41566': 5952, 'i41569': 5953, 'i41571': 5954, 'i41573': 5955, 'i41617': 5956, 'i41712': 5957, 'i41716': 5958, 'i41724': 5959, 'i41828': 5960, 'i41863': 5961, 'i41997': 5962, 'i42002': 5963, 'i42004': 5964, 'i42007': 5965, 'i42009': 5966, 'i42011': 5967, 'i42013': 5968, 'i42018': 5969, 'i42191': 5970, 'i42418': 5971, 'i42556': 5972, 'i42632': 5973, 'i42718': 5974, 'i42723': 5975, 'i42725': 5976, 'i42728': 5977, 'i42730': 5978, 'i42732': 5979, 'i42738': 5980, 'i42740': 5981, 'i42761': 5982, 'i42946': 5983, 'i43289': 5984, 'i43333': 5985, 'i43376': 5986, 'i43396': 5987, 'i43419': 5988, 'i43460': 5989, 'i43556': 5990, 'i43560': 5991, 'i43679': 5992, 'i43684': 5993, 'i43708': 5994, 'i43836': 5995, 'i43869': 5996, 'i43871': 5997, 'i43904': 5998, 'i43908': 5999, 'i43912': 6000, 'i43914': 6001, 'i43917': 6002, 'i43919': 6003, 'i43921': 6004, 'i43928': 6005, 'i43936': 6006, 'i44004': 6007, 'i44020': 6008, 'i44022': 6009, 'i44189': 6010, 'i44191': 6011, 'i44193': 6012, 'i44195': 6013, 'i44197': 6014, 'i44199': 6015, 'i44204': 6016, 'i44238': 6017, 'i44397': 6018, 'i44399': 6019, 'i44511': 6020, 'i44555': 6021, 'i44597': 6022, 'i44613': 6023, 'i44633': 6024, 'i44665': 6025, 'i44694': 6026, 'i44709': 6027, 'i44719': 6028, 'i44731': 6029, 'i44759': 6030, 'i44761': 6031, 'i44773': 6032, 'i44777': 6033, 'i44788': 6034, 'i44828': 6035, 'i44840': 6036, 'i44849': 6037, 'i44851': 6038, 'i44864': 6039, 'i44889': 6040, 'i44929': 6041, 'i44931': 6042, 'i44972': 6043, 'i44974': 6044, 'i45028': 6045, 'i45062': 6046, 'i45081': 6047, 'i45106': 6048, 'i45175': 6049, 'i45183': 6050, 'i45186': 6051, 'i45208': 6052, 'i45210': 6053, 'i45221': 6054, 'i45382': 6055, 'i45431': 6056, 'i45440': 6057, 'i45442': 6058, 'i45447': 6059, 'i45499': 6060, 'i45501': 6061, 'i45503': 6062, 'i45517': 6063, 'i45635': 6064, 'i45658': 6065, 'i45662': 6066, 'i45666': 6067, 'i45668': 6068, 'i45672': 6069, 'i45720': 6070, 'i45722': 6071, 'i45726': 6072, 'i45728': 6073, 'i45730': 6074, 'i45732': 6075, 'i45880': 6076, 'i45928': 6077, 'i45950': 6078, 'i45969': 6079, 'i46062': 6080, 'i46105': 6081, 'i46322': 6082, 'i46335': 6083, 'i46337': 6084, 'i46347': 6085, 'i46530': 6086, 'i46559': 6087, 'i46578': 6088, 'i46664': 6089, 'i46723': 6090, 'i46850': 6091, 'i46855': 6092, 'i46948': 6093, 'i46965': 6094, 'i46967': 6095, 'i46970': 6096, 'i46972': 6097, 'i46974': 6098, 'i46976': 6099, 'i47044': 6100, 'i47099': 6101, 'i47122': 6102, 'i47124': 6103, 'i47200': 6104, 'i47254': 6105, 'i47404': 6106, 'i47423': 6107, 'i47465': 6108, 'i47491': 6109, 'i47516': 6110, 'i47518': 6111, 'i47610': 6112, 'i47629': 6113, 'i47640': 6114, 'i47644': 6115, 'i47646': 6116, 'i47721': 6117, 'i47725': 6118, 'i47736': 6119, 'i47810': 6120, 'i47894': 6121, 'i47950': 6122, 'i47970': 6123, 'i47978': 6124, 'i47997': 6125, 'i47999': 6126, 'i48043': 6127, 'i48082': 6128, 'i48142': 6129, 'i48161': 6130, 'i48262': 6131, 'i48304': 6132, 'i48319': 6133, 'i48322': 6134, 'i48326': 6135, 'i48342': 6136, 'i48385': 6137, 'i48394': 6138, 'i48412': 6139, 'i48414': 6140, 'i48516': 6141, 'i48518': 6142, 'i48520': 6143, 'i48593': 6144, 'i48596': 6145, 'i48598': 6146, 'i48649': 6147, 'i48678': 6148, 'i48696': 6149, 'i48698': 6150, 'i48738': 6151, 'i48741': 6152, 'i48744': 6153, 'i48774': 6154, 'i48780': 6155, 'i48783': 6156, 'i48872': 6157, 'i48877': 6158, 'i48879': 6159, 'i48883': 6160, 'i48982': 6161, 'i48997': 6162, 'i49013': 6163, 'i49130': 6164, 'i49132': 6165, 'i49220': 6166, 'i49265': 6167, 'i49272': 6168, 'i49274': 6169, 'i49276': 6170, 'i49278': 6171, 'i49280': 6172, 'i49284': 6173, 'i49286': 6174, 'i49347': 6175, 'i49396': 6176, 'i49524': 6177, 'i49530': 6178, 'i49647': 6179, 'i49649': 6180, 'i49651': 6181, 'i49666': 6182, 'i49688': 6183, 'i49735': 6184, 'i49772': 6185, 'i49793': 6186, 'i49822': 6187, 'i49824': 6188, 'i49932': 6189, 'i49957': 6190, 'i49961': 6191, 'i50005': 6192, 'i50064': 6193, 'i50068': 6194, 'i50160': 6195, 'i50189': 6196, 'i50274': 6197, 'i50354': 6198, 'i50356': 6199, 'i50440': 6200, 'i50442': 6201, 'i50514': 6202, 'i50601': 6203, 'i50613': 6204, 'i50658': 6205, 'i50685': 6206, 'i50740': 6207, 'i50792': 6208, 'i50794': 6209, 'i50798': 6210, 'i50802': 6211, 'i50804': 6212, 'i50842': 6213, 'i50851': 6214, 'i50872': 6215, 'i50912': 6216, 'i50942': 6217, 'i50954': 6218, 'i50999': 6219, 'i51024': 6220, 'i51037': 6221, 'i51077': 6222, 'i51080': 6223, 'i51082': 6224, 'i51084': 6225, 'i51086': 6226, 'i51088': 6227, 'i51091': 6228, 'i51167': 6229, 'i51174': 6230, 'i51255': 6231, 'i51412': 6232, 'i51471': 6233, 'i51540': 6234, 'i51545': 6235, 'i51562': 6236, 'i51573': 6237, 'i51575': 6238, 'i51662': 6239, 'i51698': 6240, 'i51705': 6241, 'i51709': 6242, 'i51834': 6243, 'i51884': 6244, 'i51903': 6245, 'i51925': 6246, 'i51927': 6247, 'i51931': 6248, 'i51935': 6249, 'i51937': 6250, 'i51939': 6251, 'i52241': 6252, 'i52245': 6253, 'i52281': 6254, 'i52287': 6255, 'i52319': 6256, 'i52328': 6257, 'i52435': 6258, 'i52458': 6259, 'i52579': 6260, 'i52604': 6261, 'i52694': 6262, 'i52712': 6263, 'i52722': 6264, 'i52730': 6265, 'i52767': 6266, 'i52831': 6267, 'i52867': 6268, 'i52885': 6269, 'i52950': 6270, 'i52952': 6271, 'i52967': 6272, 'i52973': 6273, 'i52975': 6274, 'i53000': 6275, 'i53022': 6276, 'i53024': 6277, 'i53121': 6278, 'i53123': 6279, 'i53125': 6280, 'i53127': 6281, 'i53129': 6282, 'i53138': 6283, 'i53140': 6284, 'i53143': 6285, 'i53161': 6286, 'i53280': 6287, 'i53318': 6288, 'i53322': 6289, 'i53355': 6290, 'i53460': 6291, 'i53464': 6292, 'i53466': 6293, 'i53468': 6294, 'i53519': 6295, 'i53550': 6296, 'i53574': 6297, 'i53578': 6298, 'i53883': 6299, 'i53894': 6300, 'i53921': 6301, 'i53953': 6302, 'i53956': 6303, 'i53972': 6304, 'i53974': 6305, 'i53993': 6306, 'i53996': 6307, 'i54001': 6308, 'i54004': 6309, 'i54116': 6310, 'i54185': 6311, 'i54190': 6312, 'i54256': 6313, 'i54259': 6314, 'i54272': 6315, 'i54276': 6316, 'i54281': 6317, 'i54286': 6318, 'i54354': 6319, 'i54503': 6320, 'i54648': 6321, 'i54732': 6322, 'i54734': 6323, 'i54736': 6324, 'i54745': 6325, 'i54768': 6326, 'i54780': 6327, 'i54881': 6328, 'i54962': 6329, 'i54995': 6330, 'i54997': 6331, 'i54999': 6332, 'i55052': 6333, 'i55061': 6334, 'i55069': 6335, 'i55071': 6336, 'i55094': 6337, 'i55112': 6338, 'i55116': 6339, 'i55118': 6340, 'i55167': 6341, 'i55190': 6342, 'i55205': 6343, 'i55232': 6344, 'i55245': 6345, 'i55247': 6346, 'i55250': 6347, 'i55253': 6348, 'i55259': 6349, 'i55261': 6350, 'i55267': 6351, 'i55269': 6352, 'i55276': 6353, 'i55278': 6354, 'i55280': 6355, 'i55282': 6356, 'i55290': 6357, 'i55363': 6358, 'i55391': 6359, 'i55442': 6360, 'i55444': 6361, 'i55451': 6362, 'i55553': 6363, 'i55577': 6364, 'i55620': 6365, 'i55687': 6366, 'i55721': 6367, 'i55765': 6368, 'i55768': 6369, 'i55814': 6370, 'i55820': 6371, 'i55830': 6372, 'i55854': 6373, 'i55872': 6374, 'i55908': 6375, 'i55946': 6376, 'i55995': 6377, 'i56003': 6378, 'i56060': 6379, 'i56145': 6380, 'i56152': 6381, 'i56156': 6382, 'i56169': 6383, 'i56171': 6384, 'i56174': 6385, 'i56176': 6386, 'i56251': 6387, 'i56286': 6388, 'i56336': 6389, 'i56339': 6390, 'i56367': 6391, 'i56389': 6392, 'i56563': 6393, 'i56587': 6394, 'i56607': 6395, 'i56715': 6396, 'i56757': 6397, 'i56775': 6398, 'i56782': 6399, 'i56788': 6400, 'i56801': 6401, 'i56805': 6402, 'i56869': 6403, 'i56915': 6404, 'i56921': 6405, 'i56941': 6406, 'i56949': 6407, 'i57183': 6408, 'i57243': 6409, 'i57274': 6410, 'i57326': 6411, 'i57368': 6412, 'i57499': 6413, 'i57502': 6414, 'i57504': 6415, 'i57522': 6416, 'i57526': 6417, 'i57528': 6418, 'i57532': 6419, 'i57640': 6420, 'i57669': 6421, 'i57772': 6422, 'i57843': 6423, 'i57951': 6424, 'i58025': 6425, 'i58047': 6426, 'i58078': 6427, 'i58103': 6428, 'i58105': 6429, 'i58107': 6430, 'i58154': 6431, 'i58156': 6432, 'i58162': 6433, 'i58191': 6434, 'i58291': 6435, 'i58293': 6436, 'i58295': 6437, 'i58299': 6438, 'i58301': 6439, 'i58303': 6440, 'i58306': 6441, 'i58315': 6442, 'i58332': 6443, 'i58347': 6444, 'i58376': 6445, 'i58404': 6446, 'i58425': 6447, 'i58554': 6448, 'i58559': 6449, 'i58627': 6450, 'i58803': 6451, 'i58826': 6452, 'i58839': 6453, 'i58842': 6454, 'i58870': 6455, 'i58876': 6456, 'i58972': 6457, 'i58998': 6458, 'i59014': 6459, 'i59016': 6460, 'i59018': 6461, 'i59022': 6462, 'i59103': 6463, 'i59126': 6464, 'i59129': 6465, 'i59141': 6466, 'i59220': 6467, 'i59258': 6468, 'i59295': 6469, 'i59306': 6470, 'i59315': 6471, 'i59333': 6472, 'i59336': 6473, 'i59369': 6474, 'i59387': 6475, 'i59421': 6476, 'i59440': 6477, 'i59501': 6478, 'i59604': 6479, 'i59615': 6480, 'i59725': 6481, 'i59731': 6482, 'i59738': 6483, 'i59784': 6484, 'i59810': 6485, 'i59900': 6486, 'i59985': 6487, 'i60037': 6488, 'i60040': 6489, 'i60069': 6490, 'i60072': 6491, 'i60074': 6492, 'i60126': 6493, 'i60128': 6494, 'i60161': 6495, 'i60289': 6496, 'i60303': 6497, 'i60333': 6498, 'i60363': 6499, 'i60389': 6500, 'i60397': 6501, 'i60408': 6502, 'i60487': 6503, 'i60514': 6504, 'i60516': 6505, 'i60674': 6506, 'i60684': 6507, 'i60735': 6508, 'i60737': 6509, 'i60753': 6510, 'i60756': 6511, 'i60760': 6512, 'i60766': 6513, 'i60818': 6514, 'i60832': 6515, 'i60885': 6516, 'i60937': 6517, 'i60941': 6518, 'i60943': 6519, 'i60950': 6520, 'i61011': 6521, 'i61024': 6522, 'i61026': 6523, 'i61123': 6524, 'i61132': 6525, 'i61160': 6526, 'i61167': 6527, 'i61210': 6528, 'i61236': 6529, 'i61240': 6530, 'i61248': 6531, 'i61250': 6532, 'i61289': 6533, 'i61319': 6534, 'i61323': 6535, 'i61348': 6536, 'i61350': 6537, 'i61352': 6538, 'i61394': 6539, 'i61406': 6540, 'i61465': 6541, 'i61628': 6542, 'i61705': 6543, 'i61729': 6544, 'i61986': 6545, 'i62008': 6546, 'i62081': 6547, 'i62113': 6548, 'i62155': 6549, 'i62250': 6550, 'i62293': 6551, 'i62299': 6552, 'i62336': 6553, 'i62344': 6554, 'i62374': 6555, 'i62376': 6556, 'i62383': 6557, 'i62394': 6558, 'i62434': 6559, 'i62437': 6560, 'i62439': 6561, 'i62511': 6562, 'i62553': 6563, 'i62586': 6564, 'i62644': 6565, 'i62662': 6566, 'i62792': 6567, 'i62799': 6568, 'i62834': 6569, 'i62836': 6570, 'i62849': 6571, 'i62956': 6572, 'i62970': 6573, 'i62999': 6574, 'i63033': 6575, 'i63062': 6576, 'i63072': 6577, 'i63082': 6578, 'i63113': 6579, 'i63131': 6580, 'i63179': 6581, 'i63222': 6582, 'i63239': 6583, 'i63276': 6584, 'i63312': 6585, 'i63393': 6586, 'i63433': 6587, 'i63436': 6588, 'i63479': 6589, 'i63515': 6590, 'i63540': 6591, 'i63768': 6592, 'i63808': 6593, 'i63853': 6594, 'i63859': 6595, 'i63876': 6596, 'i63992': 6597, 'i64030': 6598, 'i64032': 6599, 'i64034': 6600, 'i64114': 6601, 'i64116': 6602, 'i64167': 6603, 'i64197': 6604, 'i64231': 6605, 'i64249': 6606, 'i64278': 6607, 'i64285': 6608, 'i64497': 6609, 'i64501': 6610, 'i64575': 6611, 'i64614': 6612, 'i64620': 6613, 'i64622': 6614, 'i64695': 6615, 'i64716': 6616, 'i64839': 6617, 'i64957': 6618, 'i64969': 6619, 'i64983': 6620, 'i64993': 6621, 'i64997': 6622, 'i65088': 6623, 'i65133': 6624, 'i65135': 6625, 'i65188': 6626, 'i65193': 6627, 'i65216': 6628, 'i65225': 6629, 'i65230': 6630, 'i65261': 6631, 'i65514': 6632, 'i65577': 6633, 'i65585': 6634, 'i65588': 6635, 'i65631': 6636, 'i65642': 6637, 'i65651': 6638, 'i65682': 6639, 'i65685': 6640, 'i65802': 6641, 'i65810': 6642, 'i65982': 6643, 'i66097': 6644, 'i66171': 6645, 'i66198': 6646, 'i66203': 6647, 'i66297': 6648, 'i66335': 6649, 'i66371': 6650, 'i66509': 6651, 'i66511': 6652, 'i66544': 6653, 'i66665': 6654, 'i66744': 6655, 'i66785': 6656, 'i66798': 6657, 'i66934': 6658, 'i66943': 6659, 'i67087': 6660, 'i67186': 6661, 'i67193': 6662, 'i67197': 6663, 'i67255': 6664, 'i67267': 6665, 'i67295': 6666, 'i67408': 6667, 'i67508': 6668, 'i67534': 6669, 'i67665': 6670, 'i67695': 6671, 'i67734': 6672, 'i67788': 6673, 'i67799': 6674, 'i67888': 6675, 'i67923': 6676, 'i67997': 6677, 'i68073': 6678, 'i68135': 6679, 'i68157': 6680, 'i68159': 6681, 'i68194': 6682, 'i68205': 6683, 'i68237': 6684, 'i68269': 6685, 'i68319': 6686, 'i68347': 6687, 'i68358': 6688, 'i68444': 6689, 'i68486': 6690, 'i68554': 6691, 'i68597': 6692, 'i68650': 6693, 'i68659': 6694, 'i68791': 6695, 'i68793': 6696, 'i68848': 6697, 'i68932': 6698, 'i68945': 6699, 'i68952': 6700, 'i68954': 6701, 'i68959': 6702, 'i69069': 6703, 'i69122': 6704, 'i69131': 6705, 'i69134': 6706, 'i69211': 6707, 'i69278': 6708, 'i69304': 6709, 'i69306': 6710, 'i69406': 6711, 'i69436': 6712, 'i69469': 6713, 'i69481': 6714, 'i69516': 6715, 'i69524': 6716, 'i69526': 6717, 'i69529': 6718, 'i69604': 6719, 'i69606': 6720, 'i69640': 6721, 'i69644': 6722, 'i69685': 6723, 'i69712': 6724, 'i69720': 6725, 'i69746': 6726, 'i69757': 6727, 'i69784': 6728, 'i69805': 6729, 'i69844': 6730, 'i69849': 6731, 'i69904': 6732, 'i69951': 6733, 'i69953': 6734, 'i70159': 6735, 'i70183': 6736, 'i70286': 6737, 'i70293': 6738, 'i70301': 6739, 'i70305': 6740, 'i70334': 6741, 'i70336': 6742, 'i70361': 6743, 'i70451': 6744, 'i70521': 6745, 'i70533': 6746, 'i70565': 6747, 'i70599': 6748, 'i70697': 6749, 'i70728': 6750, 'i70862': 6751, 'i70932': 6752, 'i70946': 6753, 'i70984': 6754, 'i70990': 6755, 'i71033': 6756, 'i71057': 6757, 'i71106': 6758, 'i71129': 6759, 'i71131': 6760, 'i71135': 6761, 'i71147': 6762, 'i71156': 6763, 'i71160': 6764, 'i71205': 6765, 'i71211': 6766, 'i71252': 6767, 'i71254': 6768, 'i71264': 6769, 'i71268': 6770, 'i71282': 6771, 'i71304': 6772, 'i71327': 6773, 'i71379': 6774, 'i71462': 6775, 'i71464': 6776, 'i71468': 6777, 'i71484': 6778, 'i71494': 6779, 'i71518': 6780, 'i71520': 6781, 'i71530': 6782, 'i71535': 6783, 'i71550': 6784, 'i71579': 6785, 'i71619': 6786, 'i71640': 6787, 'i71668': 6788, 'i71745': 6789, 'i71823': 6790, 'i71838': 6791, 'i71899': 6792, 'i71999': 6793, 'i72011': 6794, 'i72129': 6795, 'i72142': 6796, 'i72167': 6797, 'i72171': 6798, 'i72178': 6799, 'i72226': 6800, 'i72294': 6801, 'i72356': 6802, 'i72378': 6803, 'i72395': 6804, 'i72407': 6805, 'i72489': 6806, 'i72591': 6807, 'i72605': 6808, 'i72624': 6809, 'i72641': 6810, 'i72692': 6811, 'i72696': 6812, 'i72701': 6813, 'i72720': 6814, 'i72731': 6815, 'i72733': 6816, 'i72737': 6817, 'i72919': 6818, 'i72982': 6819, 'i72998': 6820, 'i73015': 6821, 'i73017': 6822, 'i73023': 6823, 'i73042': 6824, 'i73106': 6825, 'i73160': 6826, 'i73211': 6827, 'i73266': 6828, 'i73268': 6829, 'i73290': 6830, 'i73319': 6831, 'i73321': 6832, 'i73323': 6833, 'i73344': 6834, 'i73431': 6835, 'i73488': 6836, 'i73515': 6837, 'i73569': 6838, 'i73676': 6839, 'i73741': 6840, 'i73804': 6841, 'i73808': 6842, 'i73822': 6843, 'i73876': 6844, 'i73881': 6845, 'i73929': 6846, 'i74154': 6847, 'i74226': 6848, 'i74275': 6849, 'i74282': 6850, 'i74324': 6851, 'i74342': 6852, 'i74450': 6853, 'i74452': 6854, 'i74458': 6855, 'i74508': 6856, 'i74530': 6857, 'i74545': 6858, 'i74580': 6859, 'i74647': 6860, 'i74668': 6861, 'i74677': 6862, 'i74683': 6863, 'i74685': 6864, 'i74696': 6865, 'i74698': 6866, 'i74727': 6867, 'i74750': 6868, 'i74754': 6869, 'i74789': 6870, 'i74791': 6871, 'i74795': 6872, 'i74868': 6873, 'i74916': 6874, 'i74946': 6875, 'i75341': 6876, 'i75446': 6877, 'i75805': 6878, 'i75813': 6879, 'i75985': 6880, 'i76054': 6881, 'i76060': 6882, 'i76077': 6883, 'i76091': 6884, 'i76093': 6885, 'i76143': 6886, 'i76173': 6887, 'i76175': 6888, 'i76251': 6889, 'i76293': 6890, 'i76301': 6891, 'i76738': 6892, 'i76743': 6893, 'i77191': 6894, 'i77201': 6895, 'i77206': 6896, 'i77233': 6897, 'i77266': 6898, 'i77427': 6899, 'i77455': 6900, 'i77561': 6901, 'i77667': 6902, 'i77688': 6903, 'i77800': 6904, 'i77841': 6905, 'i77866': 6906, 'i77893': 6907, 'i78039': 6908, 'i78088': 6909, 'i78105': 6910, 'i78142': 6911, 'i78160': 6912, 'i78174': 6913, 'i78209': 6914, 'i78218': 6915, 'i78316': 6916, 'i78349': 6917, 'i78467': 6918, 'i78469': 6919, 'i78499': 6920, 'i78574': 6921, 'i78620': 6922, 'i78626': 6923, 'i78637': 6924, 'i78703': 6925, 'i78772': 6926, 'i78836': 6927, 'i78893': 6928, 'i79006': 6929, 'i79008': 6930, 'i79057': 6931, 'i79073': 6932, 'i79091': 6933, 'i79132': 6934, 'i79134': 6935, 'i79139': 6936, 'i79185': 6937, 'i79224': 6938, 'i79242': 6939, 'i79251': 6940, 'i79274': 6941, 'i79293': 6942, 'i79299': 6943, 'i79333': 6944, 'i79357': 6945, 'i79428': 6946, 'i79501': 6947, 'i79553': 6948, 'i79572': 6949, 'i79592': 6950, 'i79677': 6951, 'i79684': 6952, 'i79695': 6953, 'i79702': 6954, 'i79879': 6955, 'i79895': 6956, 'i79897': 6957, 'i80083': 6958, 'i80124': 6959, 'i80139': 6960, 'i80166': 6961, 'i80219': 6962, 'i80241': 6963, 'i80363': 6964, 'i80463': 6965, 'i80489': 6966, 'i80549': 6967, 'i80553': 6968, 'i80572': 6969, 'i80586': 6970, 'i80590': 6971, 'i80615': 6972, 'i80693': 6973, 'i80727': 6974, 'i80748': 6975, 'i80831': 6976, 'i80839': 6977, 'i80858': 6978, 'i80860': 6979, 'i80862': 6980, 'i80880': 6981, 'i80906': 6982, 'i80969': 6983, 'i81018': 6984, 'i81087': 6985, 'i81132': 6986, 'i81156': 6987, 'i81158': 6988, 'i81191': 6989, 'i81229': 6990, 'i81257': 6991, 'i81417': 6992, 'i81456': 6993, 'i81512': 6994, 'i81520': 6995, 'i81537': 6996, 'i81562': 6997, 'i81564': 6998, 'i81591': 6999, 'i81782': 7000, 'i81784': 7001, 'i81786': 7002, 'i81788': 7003, 'i81791': 7004, 'i81819': 7005, 'i81834': 7006, 'i81845': 7007, 'i81847': 7008, 'i81910': 7009, 'i81932': 7010, 'i82041': 7011, 'i82053': 7012, 'i82088': 7013, 'i82167': 7014, 'i82169': 7015, 'i82202': 7016, 'i82378': 7017, 'i82459': 7018, 'i82461': 7019, 'i82534': 7020, 'i82641': 7021, 'i82667': 7022, 'i82765': 7023, 'i82767': 7024, 'i82848': 7025, 'i82852': 7026, 'i82854': 7027, 'i82857': 7028, 'i83086': 7029, 'i83132': 7030, 'i83134': 7031, 'i83177': 7032, 'i83349': 7033, 'i83369': 7034, 'i83480': 7035, 'i83601': 7036, 'i83613': 7037, 'i83796': 7038, 'i83803': 7039, 'i83827': 7040, 'i83969': 7041, 'i83976': 7042, 'i84152': 7043, 'i84187': 7044, 'i84240': 7045, 'i84246': 7046, 'i84273': 7047, 'i84374': 7048, 'i84392': 7049, 'i84414': 7050, 'i84512': 7051, 'i84601': 7052, 'i84637': 7053, 'i84716': 7054, 'i84772': 7055, 'i84844': 7056, 'i84942': 7057, 'i84944': 7058, 'i84952': 7059, 'i84954': 7060, 'i85020': 7061, 'i85022': 7062, 'i85056': 7063, 'i85131': 7064, 'i85179': 7065, 'i85259': 7066, 'i85261': 7067, 'i85295': 7068, 'i85342': 7069, 'i85354': 7070, 'i85367': 7071, 'i85401': 7072, 'i85412': 7073, 'i85414': 7074, 'i85438': 7075, 'i85510': 7076, 'i85736': 7077, 'i85774': 7078, 'i85780': 7079, 'i85788': 7080, 'i85796': 7081, 'i85881': 7082, 'i85885': 7083, 'i86014': 7084, 'i86066': 7085, 'i86142': 7086, 'i86190': 7087, 'i86237': 7088, 'i86290': 7089, 'i86293': 7090, 'i86295': 7091, 'i86298': 7092, 'i86320': 7093, 'i86332': 7094, 'i86345': 7095, 'i86347': 7096, 'i86377': 7097, 'i86504': 7098, 'i86548': 7099, 'i86628': 7100, 'i86644': 7101, 'i86668': 7102, 'i86781': 7103, 'i86815': 7104, 'i86817': 7105, 'i86833': 7106, 'i86864': 7107, 'i86880': 7108, 'i86882': 7109, 'i86892': 7110, 'i86898': 7111, 'i86911': 7112, 'i87192': 7113, 'i87194': 7114, 'i87197': 7115, 'i87222': 7116, 'i87232': 7117, 'i87234': 7118, 'i87298': 7119, 'i87304': 7120, 'i87306': 7121, 'i87413': 7122, 'i87430': 7123, 'i87444': 7124, 'i87483': 7125, 'i87485': 7126, 'i87520': 7127, 'i87522': 7128, 'i87529': 7129, 'i87785': 7130, 'i87834': 7131, 'i87867': 7132, 'i87869': 7133, 'i87876': 7134, 'i88069': 7135, 'i88108': 7136, 'i88125': 7137, 'i88129': 7138, 'i88140': 7139, 'i88163': 7140, 'i88235': 7141, 'i88327': 7142, 'i88356': 7143, 'i88405': 7144, 'i88593': 7145, 'i88697': 7146, 'i88699': 7147, 'i88744': 7148, 'i88746': 7149, 'i88785': 7150, 'i88810': 7151, 'i88812': 7152, 'i88911': 7153, 'i88954': 7154, 'i89030': 7155, 'i89039': 7156, 'i89047': 7157, 'i89087': 7158, 'i89090': 7159, 'i89118': 7160, 'i89190': 7161, 'i89208': 7162, 'i89305': 7163, 'i89470': 7164, 'i89492': 7165, 'i89580': 7166, 'i89582': 7167, 'i89745': 7168, 'i89753': 7169, 'i89759': 7170, 'i89761': 7171, 'i89774': 7172, 'i89804': 7173, 'i89837': 7174, 'i89840': 7175, 'i89864': 7176, 'i89898': 7177, 'i89904': 7178, 'i89939': 7179, 'i89945': 7180, 'i90057': 7181, 'i90245': 7182, 'i90249': 7183, 'i90343': 7184, 'i90345': 7185, 'i90357': 7186, 'i90374': 7187, 'i90376': 7188, 'i90384': 7189, 'i90403': 7190, 'i90405': 7191, 'i90428': 7192, 'i90430': 7193, 'i90439': 7194, 'i90471': 7195, 'i90522': 7196, 'i90528': 7197, 'i90531': 7198, 'i90600': 7199, 'i90603': 7200, 'i90630': 7201, 'i90647': 7202, 'i90746': 7203, 'i90769': 7204, 'i90866': 7205, 'i90888': 7206, 'i90890': 7207, 'i91077': 7208, 'i91079': 7209, 'i91094': 7210, 'i91104': 7211, 'i91126': 7212, 'i91128': 7213, 'i91233': 7214, 'i91261': 7215, 'i91266': 7216, 'i91323': 7217, 'i91337': 7218, 'i91353': 7219, 'i91355': 7220, 'i91386': 7221, 'i91414': 7222, 'i91470': 7223, 'i91483': 7224, 'i91485': 7225, 'i91488': 7226, 'i91500': 7227, 'i91529': 7228, 'i91535': 7229, 'i91542': 7230, 'i91622': 7231, 'i91628': 7232, 'i91630': 7233, 'i91653': 7234, 'i91658': 7235, 'i91666': 7236, 'i91671': 7237, 'i91690': 7238, 'i91842': 7239, 'i91869': 7240, 'i91947': 7241, 'i91974': 7242, 'i91976': 7243, 'i91978': 7244, 'i91981': 7245, 'i92008': 7246, 'i92046': 7247, 'i92192': 7248, 'i92243': 7249, 'i92259': 7250, 'i92309': 7251, 'i92348': 7252, 'i92391': 7253, 'i92420': 7254, 'i92422': 7255, 'i92427': 7256, 'i92439': 7257, 'i92475': 7258, 'i92507': 7259, 'i92509': 7260, 'i92535': 7261, 'i92637': 7262, 'i92643': 7263, 'i92674': 7264, 'i92694': 7265, 'i92938': 7266, 'i93006': 7267, 'i93022': 7268, 'i93040': 7269, 'i93114': 7270, 'i93134': 7271, 'i93270': 7272, 'i93272': 7273, 'i93297': 7274, 'i93320': 7275, 'i93326': 7276, 'i93363': 7277, 'i93502': 7278, 'i93510': 7279, 'i93610': 7280, 'i93721': 7281, 'i93723': 7282, 'i93766': 7283, 'i93805': 7284, 'i93831': 7285, 'i93838': 7286, 'i93840': 7287, 'i94015': 7288, 'i94018': 7289, 'i94070': 7290, 'i94122': 7291, 'i94130': 7292, 'i94150': 7293, 'i94405': 7294, 'i94478': 7295, 'i94503': 7296, 'i94661': 7297, 'i94677': 7298, 'i94735': 7299, 'i94777': 7300, 'i94780': 7301, 'i94799': 7302, 'i94864': 7303, 'i94896': 7304, 'i94931': 7305, 'i94953': 7306, 'i94959': 7307, 'i94985': 7308, 'i95004': 7309, 'i95067': 7310, 'i95088': 7311, 'i95105': 7312, 'i95145': 7313, 'i95147': 7314, 'i95163': 7315, 'i95165': 7316, 'i95167': 7317, 'i95175': 7318, 'i95182': 7319, 'i95193': 7320, 'i95199': 7321, 'i95207': 7322, 'i95307': 7323, 'i95309': 7324, 'i95377': 7325, 'i95441': 7326, 'i95449': 7327, 'i95473': 7328, 'i95475': 7329, 'i95497': 7330, 'i95499': 7331, 'i95510': 7332, 'i95519': 7333, 'i95543': 7334, 'i95558': 7335, 'i95583': 7336, 'i95633': 7337, 'i95654': 7338, 'i95690': 7339, 'i95717': 7340, 'i95720': 7341, 'i95771': 7342, 'i95780': 7343, 'i95796': 7344, 'i95843': 7345, 'i95858': 7346, 'i95873': 7347, 'i95875': 7348, 'i95949': 7349, 'i95965': 7350, 'i96004': 7351, 'i96007': 7352, 'i96020': 7353, 'i96079': 7354, 'i96084': 7355, 'i96110': 7356, 'i96121': 7357, 'i96150': 7358, 'i96373': 7359, 'i96411': 7360, 'i96417': 7361, 'i96430': 7362, 'i96432': 7363, 'i96448': 7364, 'i96471': 7365, 'i96488': 7366, 'i96518': 7367, 'i96563': 7368, 'i96567': 7369, 'i96588': 7370, 'i96606': 7371, 'i96608': 7372, 'i96610': 7373, 'i96655': 7374, 'i96691': 7375, 'i96728': 7376, 'i96737': 7377, 'i96811': 7378, 'i96821': 7379, 'i96829': 7380, 'i96832': 7381, 'i96861': 7382, 'i96935': 7383, 'i97024': 7384, 'i97168': 7385, 'i97172': 7386, 'i97225': 7387, 'i97230': 7388, 'i97285': 7389, 'i97304': 7390, 'i97306': 7391, 'i97470': 7392, 'i97752': 7393, 'i97757': 7394, 'i97836': 7395, 'i97860': 7396, 'i97866': 7397, 'i97913': 7398, 'i97921': 7399, 'i97923': 7400, 'i97938': 7401, 'i97950': 7402, 'i98061': 7403, 'i98083': 7404, 'i98122': 7405, 'i98124': 7406, 'i98154': 7407, 'i98203': 7408, 'i98239': 7409, 'i98243': 7410, 'i98279': 7411, 'i98361': 7412, 'i98491': 7413, 'i98499': 7414, 'i98585': 7415, 'i98604': 7416, 'i98607': 7417, 'i98623': 7418, 'i98633': 7419, 'i98697': 7420, 'i98809': 7421, 'i98961': 7422, 'i99007': 7423, 'i99030': 7424, 'i99106': 7425, 'i99112': 7426, 'i99114': 7427, 'i99117': 7428, 'i99122': 7429, 'i99130': 7430, 'i99145': 7431, 'i99149': 7432, 'i99191': 7433, 'i99437': 7434, 'i99532': 7435, 'i99636': 7436, 'i99638': 7437, 'i99728': 7438, 'i99750': 7439, 'i99764': 7440, 'i99813': 7441, 'i99853': 7442, 'i99910': 7443, 'i99917': 7444, 'i100044': 7445, 'i100083': 7446, 'i100106': 7447, 'i100159': 7448, 'i100163': 7449, 'i100302': 7450, 'i100306': 7451, 'i100383': 7452, 'i100390': 7453, 'i100498': 7454, 'i100527': 7455, 'i100553': 7456, 'i100611': 7457, 'i100714': 7458, 'i100737': 7459, 'i100843': 7460, 'i100882': 7461, 'i100906': 7462, 'i101025': 7463, 'i101070': 7464, 'i101072': 7465, 'i101076': 7466, 'i101088': 7467, 'i101112': 7468, 'i101142': 7469, 'i101283': 7470, 'i101362': 7471, 'i101525': 7472, 'i101531': 7473, 'i101577': 7474, 'i101612': 7475, 'i101739': 7476, 'i101741': 7477, 'i101765': 7478, 'i101864': 7479, 'i101962': 7480, 'i101973': 7481, 'i102033': 7482, 'i102088': 7483, 'i102123': 7484, 'i102125': 7485, 'i102217': 7486, 'i102338': 7487, 'i102378': 7488, 'i102407': 7489, 'i102445': 7490, 'i102481': 7491, 'i102684': 7492, 'i102686': 7493, 'i102716': 7494, 'i102720': 7495, 'i102735': 7496, 'i102747': 7497, 'i102760': 7498, 'i102800': 7499, 'i102903': 7500, 'i102984': 7501, 'i102993': 7502, 'i103027': 7503, 'i103042': 7504, 'i103075': 7505, 'i103107': 7506, 'i103137': 7507, 'i103141': 7508, 'i103171': 7509, 'i103228': 7510, 'i103233': 7511, 'i103235': 7512, 'i103245': 7513, 'i103249': 7514, 'i103253': 7515, 'i103335': 7516, 'i103339': 7517, 'i103341': 7518, 'i103366': 7519, 'i103372': 7520, 'i103384': 7521, 'i103483': 7522, 'i103539': 7523, 'i103596': 7524, 'i103602': 7525, 'i103606': 7526, 'i103624': 7527, 'i103655': 7528, 'i103685': 7529, 'i103688': 7530, 'i103772': 7531, 'i103801': 7532, 'i103810': 7533, 'i103883': 7534, 'i103980': 7535, 'i103984': 7536, 'i104069': 7537, 'i104074': 7538, 'i104076': 7539, 'i104141': 7540, 'i104211': 7541, 'i104218': 7542, 'i104241': 7543, 'i104243': 7544, 'i104245': 7545, 'i104272': 7546, 'i104283': 7547, 'i104303': 7548, 'i104339': 7549, 'i104374': 7550, 'i104419': 7551, 'i104780': 7552, 'i104841': 7553, 'i104863': 7554, 'i104875': 7555, 'i104879': 7556, 'i104908': 7557, 'i104913': 7558, 'i104925': 7559, 'i104944': 7560, 'i105037': 7561, 'i105197': 7562, 'i105213': 7563, 'i105250': 7564, 'i105351': 7565, 'i105355': 7566, 'i105468': 7567, 'i105504': 7568, 'i105540': 7569, 'i105585': 7570, 'i105593': 7571, 'i105653': 7572, 'i105720': 7573, 'i105731': 7574, 'i105746': 7575, 'i105844': 7576, 'i105954': 7577, 'i106002': 7578, 'i106072': 7579, 'i106100': 7580, 'i106144': 7581, 'i106330': 7582, 'i106441': 7583, 'i106487': 7584, 'i106489': 7585, 'i106491': 7586, 'i106540': 7587, 'i106594': 7588, 'i106642': 7589, 'i106696': 7590, 'i106766': 7591, 'i106782': 7592, 'i106785': 7593, 'i106873': 7594, 'i106889': 7595, 'i106916': 7596, 'i106918': 7597, 'i106920': 7598, 'i106927': 7599, 'i107069': 7600, 'i107141': 7601, 'i107314': 7602, 'i107338': 7603, 'i107348': 7604, 'i107406': 7605, 'i107408': 7606, 'i107412': 7607, 'i107447': 7608, 'i107462': 7609, 'i107565': 7610, 'i107630': 7611, 'i107723': 7612, 'i107771': 7613, 'i107780': 7614, 'i107951': 7615, 'i107953': 7616, 'i107999': 7617, 'i108078': 7618, 'i108090': 7619, 'i108190': 7620, 'i108192': 7621, 'i108727': 7622, 'i108729': 7623, 'i108928': 7624, 'i108932': 7625, 'i108945': 7626, 'i108949': 7627, 'i108981': 7628, 'i109042': 7629, 'i109187': 7630, 'i109241': 7631, 'i109374': 7632, 'i109383': 7633, 'i109483': 7634, 'i109487': 7635, 'i109578': 7636, 'i109596': 7637, 'i109673': 7638, 'i109846': 7639, 'i109848': 7640, 'i109850': 7641, 'i109895': 7642, 'i109968': 7643, 'i110102': 7644, 'i110127': 7645, 'i110130': 7646, 'i110281': 7647, 'i110297': 7648, 'i110330': 7649, 'i110350': 7650, 'i110387': 7651, 'i110501': 7652, 'i110553': 7653, 'i110586': 7654, 'i110669': 7655, 'i110730': 7656, 'i110771': 7657, 'i110781': 7658, 'i110882': 7659, 'i111113': 7660, 'i111146': 7661, 'i111320': 7662, 'i111360': 7663, 'i111362': 7664, 'i111364': 7665, 'i111443': 7666, 'i111617': 7667, 'i111622': 7668, 'i111659': 7669, 'i111743': 7670, 'i111759': 7671, 'i111781': 7672, 'i111921': 7673, 'i112006': 7674, 'i112070': 7675, 'i112138': 7676, 'i112171': 7677, 'i112175': 7678, 'i112183': 7679, 'i112290': 7680, 'i112334': 7681, 'i112421': 7682, 'i112450': 7683, 'i112454': 7684, 'i112512': 7685, 'i112515': 7686, 'i112552': 7687, 'i112556': 7688, 'i112580': 7689, 'i112623': 7690, 'i112788': 7691, 'i112804': 7692, 'i112818': 7693, 'i112852': 7694, 'i112868': 7695, 'i112897': 7696, 'i112911': 7697, 'i113252': 7698, 'i113345': 7699, 'i113348': 7700, 'i113374': 7701, 'i113378': 7702, 'i113453': 7703, 'i113573': 7704, 'i113705': 7705, 'i113741': 7706, 'i113849': 7707, 'i114060': 7708, 'i114074': 7709, 'i114180': 7710, 'i114246': 7711, 'i114335': 7712, 'i114601': 7713, 'i114627': 7714, 'i114662': 7715, 'i114678': 7716, 'i114762': 7717, 'i114818': 7718, 'i114935': 7719, 'i115111': 7720, 'i115122': 7721, 'i115149': 7722, 'i115203': 7723, 'i115210': 7724, 'i115231': 7725, 'i115502': 7726, 'i115569': 7727, 'i115617': 7728, 'i115664': 7729, 'i115667': 7730, 'i115680': 7731, 'i115713': 7732, 'i115727': 7733, 'i115819': 7734, 'i115877': 7735, 'i115969': 7736, 'i116169': 7737, 'i116718': 7738, 'i116738': 7739, 'i116797': 7740, 'i116799': 7741, 'i116817': 7742, 'i116823': 7743, 'i116887': 7744, 'i116897': 7745, 'i116977': 7746, 'i117109': 7747, 'i117133': 7748, 'i117176': 7749, 'i117192': 7750, 'i117466': 7751, 'i117529': 7752, 'i117531': 7753, 'i117533': 7754, 'i117545': 7755, 'i117572': 7756, 'i117590': 7757, 'i117646': 7758, 'i117849': 7759, 'i117851': 7760, 'i117877': 7761, 'i117881': 7762, 'i117887': 7763, 'i117895': 7764, 'i118166': 7765, 'i118198': 7766, 'i118270': 7767, 'i118530': 7768, 'i118572': 7769, 'i118696': 7770, 'i118700': 7771, 'i118702': 7772, 'i118706': 7773, 'i118784': 7774, 'i118834': 7775, 'i118862': 7776, 'i118880': 7777, 'i118888': 7778, 'i118894': 7779, 'i118896': 7780, 'i118900': 7781, 'i118985': 7782, 'i118997': 7783, 'i119141': 7784, 'i119145': 7785, 'i119155': 7786, 'i119655': 7787, 'i119714': 7788, 'i119964': 7789, 'i120130': 7790, 'i120138': 7791, 'i120466': 7792, 'i120478': 7793, 'i120625': 7794, 'i120635': 7795, 'i120761': 7796, 'i120799': 7797, 'i120813': 7798, 'i121007': 7799, 'i121035': 7800, 'i121097': 7801, 'i121129': 7802, 'i121169': 7803, 'i121171': 7804, 'i121231': 7805, 'i121253': 7806, 'i121338': 7807, 'i121342': 7808, 'i121469': 7809, 'i121781': 7810, 'i122092': 7811, 'i122882': 7812, 'i122884': 7813, 'i122886': 7814, 'i122890': 7815, 'i122892': 7816, 'i122896': 7817, 'i122898': 7818, 'i122900': 7819, 'i122902': 7820, 'i122904': 7821, 'i122906': 7822, 'i122912': 7823, 'i122916': 7824, 'i122918': 7825, 'i122920': 7826, 'i122922': 7827, 'i122924': 7828, 'i122926': 7829, 'i123553': 7830, 'i123947': 7831, 'i124273': 7832, 'i124404': 7833, 'i124484': 7834, 'i124853': 7835, 'i125916': 7836, 'i125970': 7837, 'i125974': 7838, 'i126088': 7839, 'i126142': 7840, 'i126430': 7841, 'i126548': 7842, 'i126577': 7843, 'i126921': 7844, 'i127052': 7845, 'i127096': 7846, 'i127098': 7847, 'i127108': 7848, 'i127134': 7849, 'i127146': 7850, 'i127152': 7851, 'i127164': 7852, 'i127172': 7853, 'i127180': 7854, 'i127198': 7855, 'i127202': 7856, 'i127212': 7857, 'i127298': 7858, 'i127323': 7859, 'i128087': 7860, 'i128089': 7861, 'i128197': 7862, 'i128360': 7863, 'i128366': 7864, 'i128512': 7865, 'i128520': 7866, 'i128594': 7867, 'i128620': 7868, 'i128695': 7869, 'i128736': 7870, 'i128832': 7871, 'i128842': 7872, 'i128852': 7873, 'i128900': 7874, 'i128902': 7875, 'i128944': 7876, 'i128968': 7877, 'i128975': 7878, 'i128991': 7879, 'i129011': 7880, 'i129229': 7881, 'i129313': 7882, 'i129354': 7883, 'i129397': 7884, 'i129428': 7885, 'i129514': 7886, 'i129779': 7887, 'i129937': 7888, 'i130073': 7889, 'i130087': 7890, 'i130450': 7891, 'i130452': 7892, 'i130490': 7893, 'i130518': 7894, 'i130520': 7895, 'i130576': 7896, 'i130634': 7897, 'i130842': 7898, 'i130970': 7899, 'i130976': 7900, 'i130978': 7901, 'i131013': 7902, 'i131098': 7903, 'i131104': 7904, 'i131130': 7905, 'i131237': 7906, 'i131610': 7907, 'i131656': 7908, 'i131714': 7909, 'i131739': 7910, 'i131749': 7911, 'i131826': 7912, 'i131920': 7913, 'i131934': 7914, 'i132046': 7915, 'i132084': 7916, 'i132153': 7917, 'i132157': 7918, 'i132362': 7919, 'i132422': 7920, 'i132424': 7921, 'i132496': 7922, 'i132584': 7923, 'i132660': 7924, 'i132796': 7925, 'i132800': 7926, 'i133419': 7927, 'i133712': 7928, 'i133716': 7929, 'i133771': 7930, 'i133780': 7931, 'i133867': 7932, 'i133879': 7933, 'i134004': 7934, 'i134041': 7935, 'i134095': 7936, 'i134130': 7937, 'i134170': 7938, 'i134184': 7939, 'i134214': 7940, 'i134248': 7941, 'i134252': 7942, 'i134326': 7943, 'i134334': 7944, 'i134368': 7945, 'i134393': 7946, 'i134515': 7947, 'i134524': 7948, 'i134847': 7949, 'i134849': 7950, 'i134853': 7951, 'i135133': 7952, 'i135137': 7953, 'i135143': 7954, 'i135288': 7955, 'i135436': 7956, 'i135456': 7957, 'i135518': 7958, 'i135536': 7959, 'i135567': 7960, 'i135569': 7961, 'i135777': 7962, 'i135787': 7963, 'i135803': 7964, 'i135815': 7965, 'i135861': 7966, 'i135887': 7967, 'i135937': 7968, 'i136016': 7969, 'i136018': 7970, 'i136020': 7971, 'i136305': 7972, 'i136341': 7973, 'i136353': 7974, 'i136355': 7975, 'i136359': 7976, 'i136445': 7977, 'i136447': 7978, 'i136503': 7979, 'i136556': 7980, 'i136562': 7981, 'i136564': 7982, 'i136598': 7983, 'i136602': 7984, 'i136834': 7985, 'i136838': 7986, 'i136840': 7987, 'i136864': 7988, 'i136912': 7989, 'i136958': 7990, 'i137337': 7991, 'i137345': 7992, 'i137595': 7993, 'i137857': 7994, 'i137859': 7995, 'i137863': 7996, 'i138036': 7997, 'i138186': 7998, 'i138204': 7999, 'i138208': 8000, 'i138210': 8001, 'i138396': 8002, 'i138632': 8003, 'i138702': 8004, 'i138798': 8005, 'i138835': 8006, 'i139130': 8007, 'i139157': 8008, 'i139385': 8009, 'i139511': 8010, 'i139640': 8011, 'i139642': 8012, 'i139644': 8013, 'i139717': 8014, 'i139747': 8015, 'i139855': 8016, 'i139859': 8017, 'i139915': 8018, 'i139994': 8019, 'i140016': 8020, 'i140038': 8021, 'i140110': 8022, 'i140133': 8023, 'i140174': 8024, 'i140247': 8025, 'i140265': 8026, 'i140301': 8027, 'i140359': 8028, 'i140481': 8029, 'i140541': 8030, 'i140561': 8031, 'i140627': 8032, 'i140711': 8033, 'i140715': 8034, 'i140725': 8035, 'i140852': 8036, 'i140928': 8037, 'i140956': 8038, 'i141131': 8039, 'i141400': 8040, 'i141513': 8041, 'i141544': 8042, 'i141646': 8043, 'i141749': 8044, 'i141810': 8045, 'i141816': 8046, 'i141818': 8047, 'i141820': 8048, 'i141830': 8049, 'i141836': 8050, 'i141844': 8051, 'i141866': 8052, 'i141890': 8053, 'i141928': 8054, 'i142020': 8055, 'i142056': 8056, 'i142115': 8057, 'i142196': 8058, 'i142222': 8059, 'i142366': 8060, 'i142372': 8061, 'i142420': 8062, 'i142422': 8063, 'i142444': 8064, 'i142448': 8065, 'i142456': 8066, 'i142488': 8067, 'i142507': 8068, 'i142509': 8069, 'i142536': 8070, 'i142550': 8071, 'i142602': 8072, 'i142831': 8073, 'i142961': 8074, 'i142997': 8075, 'i143031': 8076, 'i143245': 8077, 'i143355': 8078, 'i143365': 8079, 'i143367': 8080, 'i143385': 8081, 'i143458': 8082, 'i143511': 8083, 'i143559': 8084, 'i143859': 8085, 'i143969': 8086, 'i144210': 8087, 'i144222': 8088, 'i144352': 8089, 'i144522': 8090, 'i145491': 8091, 'i145724': 8092, 'i145994': 8093, 'i146028': 8094, 'i146210': 8095, 'i146244': 8096, 'i146656': 8097, 'i146662': 8098, 'i146684': 8099, 'i146986': 8100, 'i147142': 8101, 'i147196': 8102, 'i147250': 8103, 'i147282': 8104, 'i147286': 8105, 'i147300': 8106, 'i147326': 8107, 'i147328': 8108, 'i147330': 8109, 'i147372': 8110, 'i147374': 8111, 'i147376': 8112, 'i147378': 8113, 'i147380': 8114, 'i147382': 8115, 'i147384': 8116, 'i147410': 8117, 'i147657': 8118, 'i147662': 8119, 'i147936': 8120, 'i148166': 8121, 'i148238': 8122, 'i148626': 8123, 'i148632': 8124, 'i148667': 8125, 'i148671': 8126, 'i148675': 8127, 'i148775': 8128, 'i148881': 8129, 'i148888': 8130, 'i148956': 8131, 'i148978': 8132, 'i149334': 8133, 'i149350': 8134, 'i149352': 8135, 'i149354': 8136, 'i149380': 8137, 'i149406': 8138, 'i149508': 8139, 'i149566': 8140, 'i149830': 8141, 'i150254': 8142, 'i150401': 8143, 'i150548': 8144, 'i150554': 8145, 'i150596': 8146, 'i151455': 8147, 'i151739': 8148, 'i151759': 8149, 'i151763': 8150, 'i151769': 8151, 'i151781': 8152, 'i152037': 8153, 'i152077': 8154, 'i152079': 8155, 'i152081': 8156, 'i152083': 8157, 'i152091': 8158, 'i152173': 8159, 'i152270': 8160, 'i152284': 8161, 'i152591': 8162, 'i152970': 8163, 'i153070': 8164, 'i153386': 8165, 'i153408': 8166, 'i155288': 8167, 'i155509': 8168, 'i155589': 8169, 'i156025': 8170, 'i156371': 8171, 'i156387': 8172, 'i156605': 8173, 'i156607': 8174, 'i156609': 8175, 'i156675': 8176, 'i156726': 8177, 'i156781': 8178, 'i156783': 8179, 'i157200': 8180, 'i157296': 8181, 'i157369': 8182, 'i157699': 8183, 'i157775': 8184, 'i157865': 8185, 'i158027': 8186, 'i158035': 8187, 'i158238': 8188, 'i158254': 8189, 'i158388': 8190, 'i158398': 8191, 'i158402': 8192, 'i158721': 8193, 'i158783': 8194, 'i158813': 8195, 'i158830': 8196, 'i158872': 8197, 'i158882': 8198, 'i158966': 8199, 'i159061': 8200, 'i159069': 8201, 'i159093': 8202, 'i159403': 8203, 'i159415': 8204, 'i159441': 8205, 'i159510': 8206, 'i159755': 8207, 'i159811': 8208, 'i159817': 8209, 'i159858': 8210, 'i160080': 8211, 'i160271': 8212, 'i160341': 8213, 'i160400': 8214, 'i160422': 8215, 'i160438': 8216, 'i160527': 8217, 'i160563': 8218, 'i160565': 8219, 'i160567': 8220, 'i160569': 8221, 'i160571': 8222, 'i160718': 8223, 'i160836': 8224, 'i160872': 8225, 'i160954': 8226, 'i160978': 8227, 'i160980': 8228, 'i161008': 8229, 'i161044': 8230, 'i161131': 8231, 'i161354': 8232, 'i161580': 8233, 'i161582': 8234, 'i161594': 8235, 'i161634': 8236, 'i161922': 8237, 'i162082': 8238, 'i162350': 8239, 'i162478': 8240, 'i162578': 8241, 'i162598': 8242, 'i162600': 8243, 'i162602': 8244, 'i162606': 8245, 'i162968': 8246, 'i162982': 8247, 'i163056': 8248, 'i163072': 8249, 'i163112': 8250, 'i163134': 8251, 'i163386': 8252, 'i163527': 8253, 'i163639': 8254, 'i163645': 8255, 'i163809': 8256, 'i163925': 8257, 'i163985': 8258, 'i164179': 8259, 'i164200': 8260, 'i164226': 8261, 'i164367': 8262, 'i164707': 8263, 'i164909': 8264, 'i164917': 8265, 'i165101': 8266, 'i165549': 8267, 'i165635': 8268, 'i165639': 8269, 'i165959': 8270, 'i165969': 8271, 'i166024': 8272, 'i166183': 8273, 'i166291': 8274, 'i166461': 8275, 'i166492': 8276, 'i166528': 8277, 'i166534': 8278, 'i166558': 8279, 'i166635': 8280, 'i166643': 8281, 'i166705': 8282, 'i166946': 8283, 'i167018': 8284, 'i167036': 8285, 'i167296': 8286, 'i167370': 8287, 'i167380': 8288, 'i167538': 8289, 'i167746': 8290, 'i167772': 8291, 'i167854': 8292, 'i168026': 8293, 'i168090': 8294, 'i168174': 8295, 'i168218': 8296, 'i168248': 8297, 'i168250': 8298, 'i168252': 8299, 'i168254': 8300, 'i168266': 8301, 'i168326': 8302, 'i168358': 8303, 'i168366': 8304, 'i168492': 8305, 'i168608': 8306, 'i169034': 8307, 'i169670': 8308, 'i169912': 8309, 'i169958': 8310, 'i169982': 8311, 'i169984': 8312, 'i170289': 8313, 'i170355': 8314, 'i170399': 8315, 'i170401': 8316, 'i170411': 8317, 'i170551': 8318, 'i170597': 8319, 'i170697': 8320, 'i170705': 8321, 'i170777': 8322, 'i170813': 8323, 'i170827': 8324, 'i170837': 8325, 'i170875': 8326, 'i170907': 8327, 'i170945': 8328, 'i170993': 8329, 'i171011': 8330, 'i171495': 8331, 'i171701': 8332, 'i171749': 8333, 'i171751': 8334, 'i171759': 8335, 'i171763': 8336, 'i171765': 8337, 'i171811': 8338, 'i172013': 8339, 'i172229': 8340, 'i172233': 8341, 'i172321': 8342, 'i172461': 8343, 'i172497': 8344, 'i172577': 8345, 'i172583': 8346, 'i172585': 8347, 'i172587': 8348, 'i172589': 8349, 'i172591': 8350, 'i172637': 8351, 'i172705': 8352, 'i172793': 8353, 'i172825': 8354, 'i172875': 8355, 'i172881': 8356, 'i172887': 8357, 'i172909': 8358, 'i173145': 8359, 'i173235': 8360, 'i173253': 8361, 'i173291': 8362, 'i173307': 8363, 'i173351': 8364, 'i173355': 8365, 'i173535': 8366, 'i173619': 8367, 'i173925': 8368, 'i173941': 8369, 'i173963': 8370, 'i174053': 8371, 'i174055': 8372, 'i174141': 8373, 'i174479': 8374, 'i174551': 8375, 'i174681': 8376, 'i174727': 8377, 'i174737': 8378, 'i174815': 8379, 'i175197': 8380, 'i175293': 8381, 'i175303': 8382, 'i175387': 8383, 'i175397': 8384, 'i175401': 8385, 'i175431': 8386, 'i175435': 8387, 'i175485': 8388, 'i175569': 8389, 'i175661': 8390, 'i175705': 8391, 'i175707': 8392, 'i175743': 8393, 'i175781': 8394, 'i176051': 8395, 'i176101': 8396, 'i176371': 8397, 'i176389': 8398, 'i176419': 8399, 'i176579': 8400, 'i176601': 8401, 'i176751': 8402, 'i176805': 8403, 'i176935': 8404, 'i177185': 8405, 'i177285': 8406, 'i177593': 8407, 'i177615': 8408, 'i177763': 8409, 'i177765': 8410, 'i177939': 8411, 'i178061': 8412, 'i178129': 8413, 'i178613': 8414, 'i178827': 8415, 'i179073': 8416, 'i179119': 8417, 'i179133': 8418, 'i179401': 8419, 'i179709': 8420, 'i179817': 8421, 'i179819': 8422, 'i180031': 8423, 'i180095': 8424, 'i180297': 8425, 'i180985': 8426, 'i181065': 8427, 'i181315': 8428, 'i182293': 8429, 'i182297': 8430, 'i182299': 8431, 'i182639': 8432, 'i182715': 8433, 'i182731': 8434, 'i182823': 8435, 'i183011': 8436, 'i183295': 8437, 'i183301': 8438, 'i183611': 8439, 'i183635': 8440, 'i183897': 8441, 'i184015': 8442, 'i184053': 8443, 'i184253': 8444, 'i184349': 8445, 'i184471': 8446, 'i184791': 8447, 'i184931': 8448, 'i184987': 8449, 'i185029': 8450, 'i185031': 8451, 'i185033': 8452, 'i185135': 8453, 'i185435': 8454, 'i185473': 8455, 'i185585': 8456, 'i186587': 8457, 'i187541': 8458, 'i187593': 8459, 'i187595': 8460, 'i188301': 8461, 'i189043': 8462, 'i189333': 8463, 'i193565': 8464, 'i193567': 8465, 'i193571': 8466, 'i193573': 8467, 'i193579': 8468, 'i193581': 8469, 'i193609': 8470, 'r1': 8471, 'r2': 8472, 'r3': 8473, 'r4': 8474, 'r5': 8475, 'r6': 8476, 'r7': 8477, 'r8': 8478, 'r9': 8479, 'r10': 8480}\n"
          ]
        }
      ],
      "source": [
        "vocab = {}\n",
        "vocab['<pad>'] = 0\n",
        "vocab['<unk>'] = 1\n",
        "index = len(vocab)\n",
        "\n",
        "utokens = train_ratings[\"user_id\"].unique()\n",
        "utokens = np.sort(utokens)\n",
        "itokens = train_ratings[\"item_id\"].unique()\n",
        "itokens = np.sort(itokens)\n",
        "rtokens = train_ratings[\"rating\"].unique()\n",
        "rtokens = np.sort(rtokens)\n",
        "\n",
        "for t in utokens:    \n",
        "    vocab[str((\"u\") + str(t))] = index\n",
        "    index += 1\n",
        "\n",
        "for t in itokens:    \n",
        "    vocab[str((\"i\") + str(t))] = index\n",
        "    index += 1\n",
        "\n",
        "for t in rtokens:    \n",
        "    vocab[str((\"r\") + str(t))] = index\n",
        "    index += 1\n",
        "\n",
        "print(vocab)"
      ]
    },
    {
      "cell_type": "code",
      "execution_count": 167,
      "metadata": {},
      "outputs": [
        {
          "name": "stdout",
          "output_type": "stream",
          "text": [
            "{0: '<pad>', 1: '<unk>', 2: 'u1', 3: 'u2', 4: 'u3', 5: 'u4', 6: 'u5', 7: 'u6', 8: 'u7', 9: 'u8', 10: 'u9', 11: 'u10', 12: 'u11', 13: 'u12', 14: 'u13', 15: 'u14', 16: 'u15', 17: 'u16', 18: 'u17', 19: 'u18', 20: 'u19', 21: 'u20', 22: 'u21', 23: 'u22', 24: 'u23', 25: 'u24', 26: 'u25', 27: 'u26', 28: 'u27', 29: 'u28', 30: 'u29', 31: 'u30', 32: 'u31', 33: 'u32', 34: 'u33', 35: 'u34', 36: 'u35', 37: 'u36', 38: 'u37', 39: 'u38', 40: 'u39', 41: 'u40', 42: 'u41', 43: 'u42', 44: 'u43', 45: 'u44', 46: 'u45', 47: 'u46', 48: 'u47', 49: 'u48', 50: 'u49', 51: 'u50', 52: 'u51', 53: 'u52', 54: 'u53', 55: 'u54', 56: 'u55', 57: 'u56', 58: 'u57', 59: 'u58', 60: 'u59', 61: 'u60', 62: 'u61', 63: 'u62', 64: 'u63', 65: 'u64', 66: 'u65', 67: 'u66', 68: 'u67', 69: 'u68', 70: 'u69', 71: 'u70', 72: 'u71', 73: 'u72', 74: 'u73', 75: 'u74', 76: 'u75', 77: 'u76', 78: 'u77', 79: 'u78', 80: 'u79', 81: 'u80', 82: 'u81', 83: 'u82', 84: 'u83', 85: 'u84', 86: 'u85', 87: 'u86', 88: 'u87', 89: 'u88', 90: 'u89', 91: 'u90', 92: 'u91', 93: 'u92', 94: 'u93', 95: 'u94', 96: 'u95', 97: 'u96', 98: 'u97', 99: 'u98', 100: 'u99', 101: 'u100', 102: 'u101', 103: 'u102', 104: 'u103', 105: 'u104', 106: 'u105', 107: 'u106', 108: 'u107', 109: 'u108', 110: 'u109', 111: 'u110', 112: 'u111', 113: 'u112', 114: 'u113', 115: 'u114', 116: 'u115', 117: 'u116', 118: 'u117', 119: 'u118', 120: 'u119', 121: 'u120', 122: 'u121', 123: 'u122', 124: 'u123', 125: 'u124', 126: 'u125', 127: 'u126', 128: 'u127', 129: 'u128', 130: 'u129', 131: 'u130', 132: 'u131', 133: 'u132', 134: 'u133', 135: 'u134', 136: 'u135', 137: 'u136', 138: 'u137', 139: 'u138', 140: 'u139', 141: 'u140', 142: 'u141', 143: 'u142', 144: 'u143', 145: 'u144', 146: 'u145', 147: 'u146', 148: 'u147', 149: 'u148', 150: 'u149', 151: 'u150', 152: 'u151', 153: 'u152', 154: 'u153', 155: 'u154', 156: 'u155', 157: 'u156', 158: 'u157', 159: 'u158', 160: 'u159', 161: 'u160', 162: 'u161', 163: 'u162', 164: 'u163', 165: 'u164', 166: 'u165', 167: 'u166', 168: 'u167', 169: 'u168', 170: 'u169', 171: 'u170', 172: 'u171', 173: 'u172', 174: 'u173', 175: 'u174', 176: 'u175', 177: 'u176', 178: 'u177', 179: 'u178', 180: 'u179', 181: 'u180', 182: 'u181', 183: 'u182', 184: 'u183', 185: 'u184', 186: 'u185', 187: 'u186', 188: 'u187', 189: 'u188', 190: 'u189', 191: 'u190', 192: 'u191', 193: 'u192', 194: 'u193', 195: 'u194', 196: 'u195', 197: 'u196', 198: 'u197', 199: 'u198', 200: 'u199', 201: 'u200', 202: 'u201', 203: 'u202', 204: 'u203', 205: 'u204', 206: 'u205', 207: 'u206', 208: 'u207', 209: 'u208', 210: 'u209', 211: 'u210', 212: 'u211', 213: 'u212', 214: 'u213', 215: 'u214', 216: 'u215', 217: 'u216', 218: 'u217', 219: 'u218', 220: 'u219', 221: 'u220', 222: 'u221', 223: 'u222', 224: 'u223', 225: 'u224', 226: 'u225', 227: 'u226', 228: 'u227', 229: 'u228', 230: 'u229', 231: 'u230', 232: 'u231', 233: 'u232', 234: 'u233', 235: 'u234', 236: 'u235', 237: 'u236', 238: 'u237', 239: 'u238', 240: 'u239', 241: 'u240', 242: 'u241', 243: 'u242', 244: 'u243', 245: 'u244', 246: 'u245', 247: 'u246', 248: 'u247', 249: 'u248', 250: 'u249', 251: 'u250', 252: 'u251', 253: 'u252', 254: 'u253', 255: 'u254', 256: 'u255', 257: 'u256', 258: 'u257', 259: 'u258', 260: 'u259', 261: 'u260', 262: 'u261', 263: 'u262', 264: 'u263', 265: 'u264', 266: 'u265', 267: 'u266', 268: 'u267', 269: 'u268', 270: 'u269', 271: 'u270', 272: 'u271', 273: 'u272', 274: 'u273', 275: 'u274', 276: 'u275', 277: 'u276', 278: 'u277', 279: 'u278', 280: 'u279', 281: 'u280', 282: 'u281', 283: 'u282', 284: 'u283', 285: 'u284', 286: 'u285', 287: 'u286', 288: 'u287', 289: 'u288', 290: 'u289', 291: 'u290', 292: 'u291', 293: 'u292', 294: 'u293', 295: 'u294', 296: 'u295', 297: 'u296', 298: 'u297', 299: 'u298', 300: 'u299', 301: 'u300', 302: 'u301', 303: 'u302', 304: 'u303', 305: 'u304', 306: 'u305', 307: 'u306', 308: 'u307', 309: 'u308', 310: 'u309', 311: 'u310', 312: 'u311', 313: 'u312', 314: 'u313', 315: 'u314', 316: 'u315', 317: 'u316', 318: 'u317', 319: 'u318', 320: 'u319', 321: 'u320', 322: 'u321', 323: 'u322', 324: 'u323', 325: 'u324', 326: 'u325', 327: 'u326', 328: 'u327', 329: 'u328', 330: 'u329', 331: 'u330', 332: 'u331', 333: 'u332', 334: 'u333', 335: 'u334', 336: 'u335', 337: 'u336', 338: 'u337', 339: 'u338', 340: 'u339', 341: 'u340', 342: 'u341', 343: 'u342', 344: 'u343', 345: 'u344', 346: 'u345', 347: 'u346', 348: 'u347', 349: 'u348', 350: 'u349', 351: 'u350', 352: 'u351', 353: 'u352', 354: 'u353', 355: 'u354', 356: 'u355', 357: 'u356', 358: 'u357', 359: 'u358', 360: 'u359', 361: 'u360', 362: 'u361', 363: 'u362', 364: 'u363', 365: 'u364', 366: 'u365', 367: 'u366', 368: 'u367', 369: 'u368', 370: 'u369', 371: 'u370', 372: 'u371', 373: 'u372', 374: 'u373', 375: 'u374', 376: 'u375', 377: 'u376', 378: 'u377', 379: 'u378', 380: 'u379', 381: 'u380', 382: 'u381', 383: 'u382', 384: 'u383', 385: 'u384', 386: 'u385', 387: 'u386', 388: 'u387', 389: 'u388', 390: 'u389', 391: 'u390', 392: 'u391', 393: 'u392', 394: 'u393', 395: 'u394', 396: 'u395', 397: 'u396', 398: 'u397', 399: 'u398', 400: 'u399', 401: 'u400', 402: 'u401', 403: 'u402', 404: 'u403', 405: 'u404', 406: 'u405', 407: 'u406', 408: 'u407', 409: 'u408', 410: 'u409', 411: 'u410', 412: 'u411', 413: 'u412', 414: 'u413', 415: 'u414', 416: 'u415', 417: 'u416', 418: 'u417', 419: 'u418', 420: 'u419', 421: 'u420', 422: 'u421', 423: 'u422', 424: 'u423', 425: 'u424', 426: 'u425', 427: 'u426', 428: 'u427', 429: 'u428', 430: 'u429', 431: 'u430', 432: 'u431', 433: 'u432', 434: 'u433', 435: 'u434', 436: 'u435', 437: 'u436', 438: 'u437', 439: 'u438', 440: 'u439', 441: 'u440', 442: 'u441', 443: 'u442', 444: 'u443', 445: 'u444', 446: 'u445', 447: 'u446', 448: 'u447', 449: 'u448', 450: 'u449', 451: 'u450', 452: 'u451', 453: 'u452', 454: 'u453', 455: 'u454', 456: 'u455', 457: 'u456', 458: 'u457', 459: 'u458', 460: 'u459', 461: 'u460', 462: 'u461', 463: 'u462', 464: 'u463', 465: 'u464', 466: 'u465', 467: 'u466', 468: 'u467', 469: 'u468', 470: 'u469', 471: 'u470', 472: 'u471', 473: 'u472', 474: 'u473', 475: 'u474', 476: 'u475', 477: 'u476', 478: 'u477', 479: 'u478', 480: 'u479', 481: 'u480', 482: 'u481', 483: 'u482', 484: 'u483', 485: 'u484', 486: 'u485', 487: 'u486', 488: 'u487', 489: 'u488', 490: 'u489', 491: 'u490', 492: 'u491', 493: 'u492', 494: 'u493', 495: 'u494', 496: 'u495', 497: 'u496', 498: 'u497', 499: 'u498', 500: 'u499', 501: 'u500', 502: 'u501', 503: 'u502', 504: 'u503', 505: 'u504', 506: 'u505', 507: 'u506', 508: 'u507', 509: 'u508', 510: 'u509', 511: 'u510', 512: 'u511', 513: 'u512', 514: 'u513', 515: 'u514', 516: 'u515', 517: 'u516', 518: 'u517', 519: 'u518', 520: 'u519', 521: 'u520', 522: 'u521', 523: 'u522', 524: 'u523', 525: 'u524', 526: 'u525', 527: 'u526', 528: 'u527', 529: 'u528', 530: 'u529', 531: 'u530', 532: 'u531', 533: 'u532', 534: 'u533', 535: 'u534', 536: 'u535', 537: 'u536', 538: 'u537', 539: 'u538', 540: 'u539', 541: 'u540', 542: 'u541', 543: 'u542', 544: 'u543', 545: 'u544', 546: 'u545', 547: 'u546', 548: 'u547', 549: 'u548', 550: 'u549', 551: 'u550', 552: 'u551', 553: 'u552', 554: 'u553', 555: 'u554', 556: 'u555', 557: 'u556', 558: 'u557', 559: 'u558', 560: 'u559', 561: 'u560', 562: 'u561', 563: 'u562', 564: 'u563', 565: 'u564', 566: 'u565', 567: 'u566', 568: 'u567', 569: 'u568', 570: 'u569', 571: 'u570', 572: 'u571', 573: 'u572', 574: 'u573', 575: 'u574', 576: 'u575', 577: 'u576', 578: 'u577', 579: 'u578', 580: 'u579', 581: 'u580', 582: 'u581', 583: 'u582', 584: 'u583', 585: 'u584', 586: 'u585', 587: 'u586', 588: 'u587', 589: 'u588', 590: 'u589', 591: 'u590', 592: 'u591', 593: 'u592', 594: 'u593', 595: 'u594', 596: 'u595', 597: 'u596', 598: 'u597', 599: 'u598', 600: 'u599', 601: 'u600', 602: 'u601', 603: 'u602', 604: 'u603', 605: 'u604', 606: 'u605', 607: 'u606', 608: 'u607', 609: 'u608', 610: 'u609', 611: 'u610', 612: 'i1', 613: 'i2', 614: 'i3', 615: 'i4', 616: 'i5', 617: 'i6', 618: 'i7', 619: 'i8', 620: 'i9', 621: 'i10', 622: 'i11', 623: 'i12', 624: 'i13', 625: 'i14', 626: 'i15', 627: 'i16', 628: 'i17', 629: 'i18', 630: 'i19', 631: 'i20', 632: 'i21', 633: 'i22', 634: 'i23', 635: 'i24', 636: 'i25', 637: 'i26', 638: 'i27', 639: 'i28', 640: 'i29', 641: 'i30', 642: 'i31', 643: 'i32', 644: 'i34', 645: 'i36', 646: 'i38', 647: 'i39', 648: 'i40', 649: 'i41', 650: 'i42', 651: 'i43', 652: 'i44', 653: 'i45', 654: 'i46', 655: 'i47', 656: 'i48', 657: 'i49', 658: 'i50', 659: 'i52', 660: 'i53', 661: 'i54', 662: 'i55', 663: 'i57', 664: 'i58', 665: 'i60', 666: 'i61', 667: 'i62', 668: 'i63', 669: 'i64', 670: 'i65', 671: 'i66', 672: 'i68', 673: 'i69', 674: 'i70', 675: 'i71', 676: 'i72', 677: 'i73', 678: 'i74', 679: 'i75', 680: 'i76', 681: 'i77', 682: 'i78', 683: 'i79', 684: 'i80', 685: 'i81', 686: 'i82', 687: 'i85', 688: 'i86', 689: 'i87', 690: 'i88', 691: 'i89', 692: 'i92', 693: 'i93', 694: 'i94', 695: 'i95', 696: 'i97', 697: 'i99', 698: 'i100', 699: 'i101', 700: 'i102', 701: 'i103', 702: 'i104', 703: 'i105', 704: 'i106', 705: 'i107', 706: 'i108', 707: 'i110', 708: 'i111', 709: 'i112', 710: 'i113', 711: 'i116', 712: 'i118', 713: 'i119', 714: 'i121', 715: 'i122', 716: 'i123', 717: 'i125', 718: 'i126', 719: 'i128', 720: 'i129', 721: 'i132', 722: 'i135', 723: 'i137', 724: 'i140', 725: 'i141', 726: 'i144', 727: 'i145', 728: 'i146', 729: 'i147', 730: 'i148', 731: 'i149', 732: 'i150', 733: 'i151', 734: 'i152', 735: 'i153', 736: 'i154', 737: 'i155', 738: 'i156', 739: 'i157', 740: 'i158', 741: 'i159', 742: 'i160', 743: 'i161', 744: 'i162', 745: 'i163', 746: 'i164', 747: 'i165', 748: 'i166', 749: 'i168', 750: 'i169', 751: 'i170', 752: 'i171', 753: 'i172', 754: 'i173', 755: 'i174', 756: 'i175', 757: 'i176', 758: 'i177', 759: 'i178', 760: 'i179', 761: 'i180', 762: 'i181', 763: 'i183', 764: 'i184', 765: 'i185', 766: 'i186', 767: 'i187', 768: 'i188', 769: 'i189', 770: 'i190', 771: 'i191', 772: 'i193', 773: 'i194', 774: 'i195', 775: 'i196', 776: 'i198', 777: 'i199', 778: 'i201', 779: 'i203', 780: 'i204', 781: 'i205', 782: 'i206', 783: 'i207', 784: 'i208', 785: 'i209', 786: 'i210', 787: 'i211', 788: 'i212', 789: 'i213', 790: 'i214', 791: 'i215', 792: 'i216', 793: 'i217', 794: 'i218', 795: 'i219', 796: 'i222', 797: 'i223', 798: 'i224', 799: 'i225', 800: 'i227', 801: 'i228', 802: 'i229', 803: 'i230', 804: 'i231', 805: 'i232', 806: 'i233', 807: 'i234', 808: 'i235', 809: 'i236', 810: 'i237', 811: 'i239', 812: 'i240', 813: 'i242', 814: 'i243', 815: 'i246', 816: 'i247', 817: 'i248', 818: 'i249', 819: 'i250', 820: 'i251', 821: 'i252', 822: 'i253', 823: 'i254', 824: 'i255', 825: 'i256', 826: 'i257', 827: 'i258', 828: 'i259', 829: 'i260', 830: 'i261', 831: 'i262', 832: 'i263', 833: 'i265', 834: 'i266', 835: 'i267', 836: 'i269', 837: 'i270', 838: 'i271', 839: 'i272', 840: 'i273', 841: 'i274', 842: 'i275', 843: 'i276', 844: 'i277', 845: 'i278', 846: 'i279', 847: 'i280', 848: 'i281', 849: 'i282', 850: 'i283', 851: 'i284', 852: 'i287', 853: 'i288', 854: 'i289', 855: 'i290', 856: 'i291', 857: 'i292', 858: 'i293', 859: 'i294', 860: 'i295', 861: 'i296', 862: 'i299', 863: 'i300', 864: 'i301', 865: 'i302', 866: 'i303', 867: 'i304', 868: 'i305', 869: 'i306', 870: 'i307', 871: 'i308', 872: 'i310', 873: 'i312', 874: 'i313', 875: 'i314', 876: 'i315', 877: 'i316', 878: 'i317', 879: 'i318', 880: 'i319', 881: 'i321', 882: 'i322', 883: 'i324', 884: 'i325', 885: 'i326', 886: 'i327', 887: 'i328', 888: 'i329', 889: 'i330', 890: 'i331', 891: 'i332', 892: 'i333', 893: 'i334', 894: 'i336', 895: 'i337', 896: 'i338', 897: 'i339', 898: 'i340', 899: 'i341', 900: 'i342', 901: 'i343', 902: 'i344', 903: 'i345', 904: 'i346', 905: 'i347', 906: 'i348', 907: 'i349', 908: 'i350', 909: 'i351', 910: 'i352', 911: 'i353', 912: 'i354', 913: 'i355', 914: 'i356', 915: 'i357', 916: 'i358', 917: 'i359', 918: 'i360', 919: 'i361', 920: 'i362', 921: 'i363', 922: 'i364', 923: 'i365', 924: 'i366', 925: 'i367', 926: 'i368', 927: 'i369', 928: 'i370', 929: 'i371', 930: 'i372', 931: 'i373', 932: 'i374', 933: 'i376', 934: 'i377', 935: 'i378', 936: 'i379', 937: 'i380', 938: 'i381', 939: 'i382', 940: 'i383', 941: 'i384', 942: 'i385', 943: 'i386', 944: 'i387', 945: 'i388', 946: 'i389', 947: 'i390', 948: 'i391', 949: 'i393', 950: 'i405', 951: 'i407', 952: 'i408', 953: 'i410', 954: 'i412', 955: 'i413', 956: 'i414', 957: 'i415', 958: 'i416', 959: 'i417', 960: 'i419', 961: 'i420', 962: 'i421', 963: 'i422', 964: 'i423', 965: 'i425', 966: 'i426', 967: 'i427', 968: 'i428', 969: 'i429', 970: 'i430', 971: 'i431', 972: 'i432', 973: 'i433', 974: 'i434', 975: 'i435', 976: 'i436', 977: 'i437', 978: 'i438', 979: 'i440', 980: 'i441', 981: 'i442', 982: 'i444', 983: 'i445', 984: 'i446', 985: 'i448', 986: 'i449', 987: 'i450', 988: 'i451', 989: 'i452', 990: 'i453', 991: 'i454', 992: 'i455', 993: 'i456', 994: 'i457', 995: 'i458', 996: 'i459', 997: 'i460', 998: 'i461', 999: 'i464', 1000: 'i466', 1001: 'i467', 1002: 'i468', 1003: 'i469', 1004: 'i470', 1005: 'i471', 1006: 'i472', 1007: 'i473', 1008: 'i474', 1009: 'i475', 1010: 'i476', 1011: 'i477', 1012: 'i478', 1013: 'i479', 1014: 'i480', 1015: 'i481', 1016: 'i482', 1017: 'i485', 1018: 'i486', 1019: 'i487', 1020: 'i489', 1021: 'i490', 1022: 'i491', 1023: 'i492', 1024: 'i493', 1025: 'i494', 1026: 'i497', 1027: 'i499', 1028: 'i500', 1029: 'i501', 1030: 'i502', 1031: 'i505', 1032: 'i506', 1033: 'i507', 1034: 'i508', 1035: 'i509', 1036: 'i510', 1037: 'i511', 1038: 'i512', 1039: 'i513', 1040: 'i514', 1041: 'i515', 1042: 'i516', 1043: 'i517', 1044: 'i518', 1045: 'i519', 1046: 'i520', 1047: 'i521', 1048: 'i522', 1049: 'i523', 1050: 'i524', 1051: 'i526', 1052: 'i527', 1053: 'i528', 1054: 'i529', 1055: 'i531', 1056: 'i532', 1057: 'i533', 1058: 'i534', 1059: 'i535', 1060: 'i536', 1061: 'i537', 1062: 'i538', 1063: 'i539', 1064: 'i540', 1065: 'i541', 1066: 'i542', 1067: 'i543', 1068: 'i544', 1069: 'i546', 1070: 'i547', 1071: 'i548', 1072: 'i549', 1073: 'i550', 1074: 'i551', 1075: 'i552', 1076: 'i553', 1077: 'i555', 1078: 'i556', 1079: 'i558', 1080: 'i562', 1081: 'i563', 1082: 'i564', 1083: 'i567', 1084: 'i568', 1085: 'i569', 1086: 'i573', 1087: 'i574', 1088: 'i575', 1089: 'i579', 1090: 'i580', 1091: 'i581', 1092: 'i585', 1093: 'i586', 1094: 'i587', 1095: 'i588', 1096: 'i589', 1097: 'i590', 1098: 'i592', 1099: 'i593', 1100: 'i594', 1101: 'i595', 1102: 'i596', 1103: 'i597', 1104: 'i599', 1105: 'i600', 1106: 'i602', 1107: 'i605', 1108: 'i606', 1109: 'i608', 1110: 'i609', 1111: 'i610', 1112: 'i611', 1113: 'i612', 1114: 'i613', 1115: 'i615', 1116: 'i616', 1117: 'i617', 1118: 'i619', 1119: 'i626', 1120: 'i627', 1121: 'i628', 1122: 'i631', 1123: 'i632', 1124: 'i634', 1125: 'i635', 1126: 'i637', 1127: 'i639', 1128: 'i640', 1129: 'i647', 1130: 'i648', 1131: 'i649', 1132: 'i650', 1133: 'i653', 1134: 'i656', 1135: 'i661', 1136: 'i662', 1137: 'i663', 1138: 'i665', 1139: 'i667', 1140: 'i668', 1141: 'i670', 1142: 'i671', 1143: 'i673', 1144: 'i674', 1145: 'i678', 1146: 'i679', 1147: 'i680', 1148: 'i685', 1149: 'i688', 1150: 'i691', 1151: 'i692', 1152: 'i694', 1153: 'i695', 1154: 'i697', 1155: 'i698', 1156: 'i700', 1157: 'i703', 1158: 'i704', 1159: 'i706', 1160: 'i707', 1161: 'i708', 1162: 'i709', 1163: 'i710', 1164: 'i711', 1165: 'i714', 1166: 'i715', 1167: 'i718', 1168: 'i719', 1169: 'i720', 1170: 'i722', 1171: 'i724', 1172: 'i725', 1173: 'i726', 1174: 'i728', 1175: 'i731', 1176: 'i733', 1177: 'i735', 1178: 'i736', 1179: 'i737', 1180: 'i741', 1181: 'i742', 1182: 'i743', 1183: 'i745', 1184: 'i747', 1185: 'i748', 1186: 'i750', 1187: 'i757', 1188: 'i759', 1189: 'i761', 1190: 'i762', 1191: 'i764', 1192: 'i765', 1193: 'i766', 1194: 'i773', 1195: 'i775', 1196: 'i778', 1197: 'i779', 1198: 'i780', 1199: 'i781', 1200: 'i782', 1201: 'i783', 1202: 'i784', 1203: 'i785', 1204: 'i786', 1205: 'i788', 1206: 'i790', 1207: 'i795', 1208: 'i798', 1209: 'i799', 1210: 'i800', 1211: 'i801', 1212: 'i802', 1213: 'i804', 1214: 'i805', 1215: 'i809', 1216: 'i810', 1217: 'i813', 1218: 'i818', 1219: 'i824', 1220: 'i828', 1221: 'i829', 1222: 'i830', 1223: 'i832', 1224: 'i833', 1225: 'i835', 1226: 'i836', 1227: 'i837', 1228: 'i838', 1229: 'i839', 1230: 'i841', 1231: 'i842', 1232: 'i848', 1233: 'i849', 1234: 'i851', 1235: 'i852', 1236: 'i858', 1237: 'i861', 1238: 'i866', 1239: 'i867', 1240: 'i869', 1241: 'i870', 1242: 'i875', 1243: 'i879', 1244: 'i880', 1245: 'i881', 1246: 'i882', 1247: 'i886', 1248: 'i888', 1249: 'i891', 1250: 'i892', 1251: 'i893', 1252: 'i897', 1253: 'i898', 1254: 'i899', 1255: 'i900', 1256: 'i901', 1257: 'i902', 1258: 'i903', 1259: 'i904', 1260: 'i905', 1261: 'i906', 1262: 'i907', 1263: 'i908', 1264: 'i909', 1265: 'i910', 1266: 'i911', 1267: 'i912', 1268: 'i913', 1269: 'i914', 1270: 'i915', 1271: 'i916', 1272: 'i918', 1273: 'i919', 1274: 'i920', 1275: 'i921', 1276: 'i922', 1277: 'i923', 1278: 'i924', 1279: 'i926', 1280: 'i927', 1281: 'i928', 1282: 'i929', 1283: 'i930', 1284: 'i931', 1285: 'i932', 1286: 'i933', 1287: 'i934', 1288: 'i935', 1289: 'i936', 1290: 'i937', 1291: 'i938', 1292: 'i940', 1293: 'i941', 1294: 'i942', 1295: 'i943', 1296: 'i944', 1297: 'i945', 1298: 'i946', 1299: 'i947', 1300: 'i948', 1301: 'i949', 1302: 'i950', 1303: 'i951', 1304: 'i952', 1305: 'i953', 1306: 'i954', 1307: 'i955', 1308: 'i956', 1309: 'i959', 1310: 'i961', 1311: 'i965', 1312: 'i968', 1313: 'i969', 1314: 'i970', 1315: 'i971', 1316: 'i973', 1317: 'i976', 1318: 'i979', 1319: 'i981', 1320: 'i984', 1321: 'i986', 1322: 'i988', 1323: 'i990', 1324: 'i991', 1325: 'i994', 1326: 'i996', 1327: 'i998', 1328: 'i999', 1329: 'i1003', 1330: 'i1004', 1331: 'i1005', 1332: 'i1006', 1333: 'i1007', 1334: 'i1008', 1335: 'i1009', 1336: 'i1010', 1337: 'i1011', 1338: 'i1012', 1339: 'i1013', 1340: 'i1014', 1341: 'i1015', 1342: 'i1016', 1343: 'i1017', 1344: 'i1018', 1345: 'i1019', 1346: 'i1020', 1347: 'i1021', 1348: 'i1022', 1349: 'i1023', 1350: 'i1024', 1351: 'i1025', 1352: 'i1027', 1353: 'i1028', 1354: 'i1029', 1355: 'i1030', 1356: 'i1031', 1357: 'i1032', 1358: 'i1033', 1359: 'i1034', 1360: 'i1035', 1361: 'i1036', 1362: 'i1037', 1363: 'i1040', 1364: 'i1041', 1365: 'i1042', 1366: 'i1043', 1367: 'i1046', 1368: 'i1047', 1369: 'i1049', 1370: 'i1050', 1371: 'i1051', 1372: 'i1056', 1373: 'i1057', 1374: 'i1059', 1375: 'i1060', 1376: 'i1061', 1377: 'i1064', 1378: 'i1066', 1379: 'i1068', 1380: 'i1073', 1381: 'i1077', 1382: 'i1078', 1383: 'i1079', 1384: 'i1080', 1385: 'i1081', 1386: 'i1082', 1387: 'i1083', 1388: 'i1084', 1389: 'i1085', 1390: 'i1086', 1391: 'i1088', 1392: 'i1089', 1393: 'i1090', 1394: 'i1091', 1395: 'i1092', 1396: 'i1093', 1397: 'i1094', 1398: 'i1095', 1399: 'i1096', 1400: 'i1097', 1401: 'i1099', 1402: 'i1100', 1403: 'i1101', 1404: 'i1103', 1405: 'i1104', 1406: 'i1105', 1407: 'i1111', 1408: 'i1112', 1409: 'i1119', 1410: 'i1120', 1411: 'i1121', 1412: 'i1124', 1413: 'i1125', 1414: 'i1126', 1415: 'i1127', 1416: 'i1128', 1417: 'i1129', 1418: 'i1130', 1419: 'i1131', 1420: 'i1132', 1421: 'i1135', 1422: 'i1136', 1423: 'i1140', 1424: 'i1147', 1425: 'i1148', 1426: 'i1150', 1427: 'i1151', 1428: 'i1156', 1429: 'i1161', 1430: 'i1163', 1431: 'i1167', 1432: 'i1170', 1433: 'i1171', 1434: 'i1172', 1435: 'i1173', 1436: 'i1175', 1437: 'i1176', 1438: 'i1177', 1439: 'i1178', 1440: 'i1179', 1441: 'i1183', 1442: 'i1184', 1443: 'i1185', 1444: 'i1186', 1445: 'i1187', 1446: 'i1188', 1447: 'i1189', 1448: 'i1190', 1449: 'i1191', 1450: 'i1192', 1451: 'i1193', 1452: 'i1194', 1453: 'i1196', 1454: 'i1197', 1455: 'i1198', 1456: 'i1199', 1457: 'i1200', 1458: 'i1201', 1459: 'i1202', 1460: 'i1203', 1461: 'i1204', 1462: 'i1206', 1463: 'i1207', 1464: 'i1208', 1465: 'i1209', 1466: 'i1210', 1467: 'i1211', 1468: 'i1212', 1469: 'i1213', 1470: 'i1214', 1471: 'i1215', 1472: 'i1216', 1473: 'i1217', 1474: 'i1218', 1475: 'i1219', 1476: 'i1220', 1477: 'i1221', 1478: 'i1222', 1479: 'i1223', 1480: 'i1224', 1481: 'i1225', 1482: 'i1226', 1483: 'i1227', 1484: 'i1228', 1485: 'i1230', 1486: 'i1231', 1487: 'i1232', 1488: 'i1233', 1489: 'i1234', 1490: 'i1235', 1491: 'i1236', 1492: 'i1237', 1493: 'i1238', 1494: 'i1240', 1495: 'i1241', 1496: 'i1242', 1497: 'i1243', 1498: 'i1244', 1499: 'i1245', 1500: 'i1246', 1501: 'i1247', 1502: 'i1248', 1503: 'i1249', 1504: 'i1250', 1505: 'i1251', 1506: 'i1252', 1507: 'i1253', 1508: 'i1254', 1509: 'i1255', 1510: 'i1256', 1511: 'i1257', 1512: 'i1258', 1513: 'i1259', 1514: 'i1260', 1515: 'i1261', 1516: 'i1262', 1517: 'i1263', 1518: 'i1264', 1519: 'i1265', 1520: 'i1266', 1521: 'i1267', 1522: 'i1268', 1523: 'i1269', 1524: 'i1270', 1525: 'i1271', 1526: 'i1272', 1527: 'i1273', 1528: 'i1274', 1529: 'i1275', 1530: 'i1276', 1531: 'i1277', 1532: 'i1278', 1533: 'i1279', 1534: 'i1280', 1535: 'i1281', 1536: 'i1282', 1537: 'i1283', 1538: 'i1284', 1539: 'i1285', 1540: 'i1286', 1541: 'i1287', 1542: 'i1288', 1543: 'i1289', 1544: 'i1290', 1545: 'i1291', 1546: 'i1292', 1547: 'i1293', 1548: 'i1295', 1549: 'i1296', 1550: 'i1297', 1551: 'i1298', 1552: 'i1299', 1553: 'i1300', 1554: 'i1301', 1555: 'i1302', 1556: 'i1303', 1557: 'i1304', 1558: 'i1305', 1559: 'i1306', 1560: 'i1307', 1561: 'i1310', 1562: 'i1312', 1563: 'i1320', 1564: 'i1321', 1565: 'i1326', 1566: 'i1327', 1567: 'i1329', 1568: 'i1331', 1569: 'i1332', 1570: 'i1333', 1571: 'i1334', 1572: 'i1339', 1573: 'i1340', 1574: 'i1341', 1575: 'i1342', 1576: 'i1343', 1577: 'i1344', 1578: 'i1345', 1579: 'i1346', 1580: 'i1347', 1581: 'i1348', 1582: 'i1350', 1583: 'i1351', 1584: 'i1352', 1585: 'i1353', 1586: 'i1354', 1587: 'i1355', 1588: 'i1356', 1589: 'i1357', 1590: 'i1358', 1591: 'i1359', 1592: 'i1361', 1593: 'i1363', 1594: 'i1365', 1595: 'i1366', 1596: 'i1367', 1597: 'i1370', 1598: 'i1371', 1599: 'i1372', 1600: 'i1373', 1601: 'i1374', 1602: 'i1375', 1603: 'i1376', 1604: 'i1377', 1605: 'i1378', 1606: 'i1379', 1607: 'i1380', 1608: 'i1381', 1609: 'i1382', 1610: 'i1385', 1611: 'i1387', 1612: 'i1388', 1613: 'i1389', 1614: 'i1390', 1615: 'i1391', 1616: 'i1392', 1617: 'i1393', 1618: 'i1394', 1619: 'i1395', 1620: 'i1396', 1621: 'i1397', 1622: 'i1399', 1623: 'i1401', 1624: 'i1405', 1625: 'i1406', 1626: 'i1407', 1627: 'i1408', 1628: 'i1409', 1629: 'i1411', 1630: 'i1412', 1631: 'i1413', 1632: 'i1414', 1633: 'i1415', 1634: 'i1416', 1635: 'i1417', 1636: 'i1419', 1637: 'i1422', 1638: 'i1423', 1639: 'i1425', 1640: 'i1427', 1641: 'i1428', 1642: 'i1429', 1643: 'i1430', 1644: 'i1431', 1645: 'i1432', 1646: 'i1437', 1647: 'i1438', 1648: 'i1440', 1649: 'i1441', 1650: 'i1442', 1651: 'i1445', 1652: 'i1446', 1653: 'i1447', 1654: 'i1449', 1655: 'i1454', 1656: 'i1456', 1657: 'i1457', 1658: 'i1458', 1659: 'i1459', 1660: 'i1460', 1661: 'i1461', 1662: 'i1464', 1663: 'i1465', 1664: 'i1466', 1665: 'i1468', 1666: 'i1474', 1667: 'i1475', 1668: 'i1476', 1669: 'i1477', 1670: 'i1479', 1671: 'i1480', 1672: 'i1483', 1673: 'i1484', 1674: 'i1485', 1675: 'i1487', 1676: 'i1488', 1677: 'i1489', 1678: 'i1490', 1679: 'i1495', 1680: 'i1496', 1681: 'i1497', 1682: 'i1498', 1683: 'i1499', 1684: 'i1500', 1685: 'i1502', 1686: 'i1503', 1687: 'i1507', 1688: 'i1513', 1689: 'i1514', 1690: 'i1515', 1691: 'i1516', 1692: 'i1517', 1693: 'i1518', 1694: 'i1519', 1695: 'i1526', 1696: 'i1527', 1697: 'i1529', 1698: 'i1533', 1699: 'i1537', 1700: 'i1541', 1701: 'i1542', 1702: 'i1544', 1703: 'i1545', 1704: 'i1546', 1705: 'i1549', 1706: 'i1550', 1707: 'i1551', 1708: 'i1552', 1709: 'i1554', 1710: 'i1556', 1711: 'i1562', 1712: 'i1564', 1713: 'i1565', 1714: 'i1566', 1715: 'i1569', 1716: 'i1571', 1717: 'i1572', 1718: 'i1573', 1719: 'i1574', 1720: 'i1580', 1721: 'i1581', 1722: 'i1582', 1723: 'i1583', 1724: 'i1584', 1725: 'i1585', 1726: 'i1586', 1727: 'i1587', 1728: 'i1588', 1729: 'i1589', 1730: 'i1590', 1731: 'i1591', 1732: 'i1592', 1733: 'i1593', 1734: 'i1594', 1735: 'i1596', 1736: 'i1597', 1737: 'i1598', 1738: 'i1599', 1739: 'i1600', 1740: 'i1601', 1741: 'i1602', 1742: 'i1603', 1743: 'i1604', 1744: 'i1605', 1745: 'i1606', 1746: 'i1608', 1747: 'i1609', 1748: 'i1610', 1749: 'i1611', 1750: 'i1612', 1751: 'i1613', 1752: 'i1614', 1753: 'i1615', 1754: 'i1616', 1755: 'i1617', 1756: 'i1619', 1757: 'i1620', 1758: 'i1621', 1759: 'i1623', 1760: 'i1624', 1761: 'i1625', 1762: 'i1626', 1763: 'i1627', 1764: 'i1629', 1765: 'i1631', 1766: 'i1633', 1767: 'i1635', 1768: 'i1639', 1769: 'i1641', 1770: 'i1642', 1771: 'i1643', 1772: 'i1644', 1773: 'i1645', 1774: 'i1646', 1775: 'i1647', 1776: 'i1648', 1777: 'i1649', 1778: 'i1650', 1779: 'i1652', 1780: 'i1653', 1781: 'i1656', 1782: 'i1658', 1783: 'i1659', 1784: 'i1660', 1785: 'i1661', 1786: 'i1662', 1787: 'i1663', 1788: 'i1665', 1789: 'i1667', 1790: 'i1670', 1791: 'i1671', 1792: 'i1672', 1793: 'i1673', 1794: 'i1674', 1795: 'i1675', 1796: 'i1676', 1797: 'i1677', 1798: 'i1678', 1799: 'i1680', 1800: 'i1681', 1801: 'i1682', 1802: 'i1683', 1803: 'i1684', 1804: 'i1686', 1805: 'i1687', 1806: 'i1688', 1807: 'i1689', 1808: 'i1690', 1809: 'i1693', 1810: 'i1694', 1811: 'i1695', 1812: 'i1696', 1813: 'i1699', 1814: 'i1701', 1815: 'i1702', 1816: 'i1703', 1817: 'i1704', 1818: 'i1707', 1819: 'i1711', 1820: 'i1713', 1821: 'i1717', 1822: 'i1718', 1823: 'i1719', 1824: 'i1721', 1825: 'i1722', 1826: 'i1726', 1827: 'i1727', 1828: 'i1729', 1829: 'i1730', 1830: 'i1731', 1831: 'i1732', 1832: 'i1733', 1833: 'i1734', 1834: 'i1735', 1835: 'i1747', 1836: 'i1748', 1837: 'i1752', 1838: 'i1753', 1839: 'i1754', 1840: 'i1755', 1841: 'i1757', 1842: 'i1759', 1843: 'i1760', 1844: 'i1762', 1845: 'i1769', 1846: 'i1771', 1847: 'i1772', 1848: 'i1777', 1849: 'i1779', 1850: 'i1783', 1851: 'i1784', 1852: 'i1785', 1853: 'i1791', 1854: 'i1792', 1855: 'i1793', 1856: 'i1794', 1857: 'i1797', 1858: 'i1798', 1859: 'i1799', 1860: 'i1801', 1861: 'i1804', 1862: 'i1805', 1863: 'i1806', 1864: 'i1807', 1865: 'i1809', 1866: 'i1810', 1867: 'i1812', 1868: 'i1816', 1869: 'i1821', 1870: 'i1824', 1871: 'i1827', 1872: 'i1829', 1873: 'i1831', 1874: 'i1833', 1875: 'i1834', 1876: 'i1835', 1877: 'i1836', 1878: 'i1837', 1879: 'i1839', 1880: 'i1840', 1881: 'i1844', 1882: 'i1845', 1883: 'i1848', 1884: 'i1855', 1885: 'i1856', 1886: 'i1858', 1887: 'i1859', 1888: 'i1860', 1889: 'i1862', 1890: 'i1863', 1891: 'i1866', 1892: 'i1867', 1893: 'i1870', 1894: 'i1873', 1895: 'i1875', 1896: 'i1876', 1897: 'i1882', 1898: 'i1883', 1899: 'i1884', 1900: 'i1885', 1901: 'i1887', 1902: 'i1888', 1903: 'i1889', 1904: 'i1892', 1905: 'i1893', 1906: 'i1894', 1907: 'i1895', 1908: 'i1897', 1909: 'i1904', 1910: 'i1906', 1911: 'i1907', 1912: 'i1909', 1913: 'i1910', 1914: 'i1911', 1915: 'i1912', 1916: 'i1913', 1917: 'i1914', 1918: 'i1916', 1919: 'i1917', 1920: 'i1918', 1921: 'i1919', 1922: 'i1920', 1923: 'i1921', 1924: 'i1922', 1925: 'i1923', 1926: 'i1924', 1927: 'i1926', 1928: 'i1927', 1929: 'i1928', 1930: 'i1929', 1931: 'i1931', 1932: 'i1932', 1933: 'i1933', 1934: 'i1934', 1935: 'i1936', 1936: 'i1937', 1937: 'i1938', 1938: 'i1939', 1939: 'i1940', 1940: 'i1941', 1941: 'i1942', 1942: 'i1944', 1943: 'i1945', 1944: 'i1946', 1945: 'i1947', 1946: 'i1948', 1947: 'i1949', 1948: 'i1950', 1949: 'i1951', 1950: 'i1952', 1951: 'i1953', 1952: 'i1954', 1953: 'i1955', 1954: 'i1956', 1955: 'i1957', 1956: 'i1958', 1957: 'i1959', 1958: 'i1960', 1959: 'i1961', 1960: 'i1962', 1961: 'i1963', 1962: 'i1964', 1963: 'i1965', 1964: 'i1966', 1965: 'i1967', 1966: 'i1968', 1967: 'i1969', 1968: 'i1970', 1969: 'i1971', 1970: 'i1972', 1971: 'i1973', 1972: 'i1974', 1973: 'i1975', 1974: 'i1976', 1975: 'i1977', 1976: 'i1978', 1977: 'i1979', 1978: 'i1981', 1979: 'i1982', 1980: 'i1983', 1981: 'i1984', 1982: 'i1985', 1983: 'i1986', 1984: 'i1991', 1985: 'i1992', 1986: 'i1993', 1987: 'i1994', 1988: 'i1995', 1989: 'i1996', 1990: 'i1997', 1991: 'i1998', 1992: 'i1999', 1993: 'i2000', 1994: 'i2001', 1995: 'i2002', 1996: 'i2003', 1997: 'i2004', 1998: 'i2005', 1999: 'i2006', 2000: 'i2007', 2001: 'i2009', 2002: 'i2010', 2003: 'i2011', 2004: 'i2012', 2005: 'i2013', 2006: 'i2014', 2007: 'i2015', 2008: 'i2016', 2009: 'i2017', 2010: 'i2018', 2011: 'i2019', 2012: 'i2020', 2013: 'i2021', 2014: 'i2022', 2015: 'i2023', 2016: 'i2024', 2017: 'i2025', 2018: 'i2026', 2019: 'i2027', 2020: 'i2028', 2021: 'i2032', 2022: 'i2033', 2023: 'i2034', 2024: 'i2035', 2025: 'i2036', 2026: 'i2037', 2027: 'i2038', 2028: 'i2040', 2029: 'i2041', 2030: 'i2042', 2031: 'i2043', 2032: 'i2044', 2033: 'i2046', 2034: 'i2048', 2035: 'i2050', 2036: 'i2051', 2037: 'i2052', 2038: 'i2053', 2039: 'i2054', 2040: 'i2055', 2041: 'i2056', 2042: 'i2057', 2043: 'i2058', 2044: 'i2059', 2045: 'i2060', 2046: 'i2064', 2047: 'i2065', 2048: 'i2066', 2049: 'i2067', 2050: 'i2068', 2051: 'i2069', 2052: 'i2070', 2053: 'i2072', 2054: 'i2073', 2055: 'i2074', 2056: 'i2075', 2057: 'i2076', 2058: 'i2077', 2059: 'i2078', 2060: 'i2080', 2061: 'i2081', 2062: 'i2082', 2063: 'i2083', 2064: 'i2084', 2065: 'i2085', 2066: 'i2087', 2067: 'i2088', 2068: 'i2089', 2069: 'i2090', 2070: 'i2091', 2071: 'i2092', 2072: 'i2093', 2073: 'i2094', 2074: 'i2095', 2075: 'i2096', 2076: 'i2097', 2077: 'i2098', 2078: 'i2099', 2079: 'i2100', 2080: 'i2102', 2081: 'i2103', 2082: 'i2105', 2083: 'i2106', 2084: 'i2107', 2085: 'i2108', 2086: 'i2109', 2087: 'i2110', 2088: 'i2111', 2089: 'i2112', 2090: 'i2114', 2091: 'i2115', 2092: 'i2116', 2093: 'i2117', 2094: 'i2118', 2095: 'i2119', 2096: 'i2120', 2097: 'i2121', 2098: 'i2122', 2099: 'i2123', 2100: 'i2124', 2101: 'i2125', 2102: 'i2126', 2103: 'i2130', 2104: 'i2131', 2105: 'i2132', 2106: 'i2133', 2107: 'i2134', 2108: 'i2135', 2109: 'i2136', 2110: 'i2137', 2111: 'i2138', 2112: 'i2139', 2113: 'i2140', 2114: 'i2141', 2115: 'i2142', 2116: 'i2143', 2117: 'i2144', 2118: 'i2145', 2119: 'i2146', 2120: 'i2147', 2121: 'i2148', 2122: 'i2149', 2123: 'i2150', 2124: 'i2151', 2125: 'i2152', 2126: 'i2153', 2127: 'i2154', 2128: 'i2155', 2129: 'i2156', 2130: 'i2159', 2131: 'i2160', 2132: 'i2161', 2133: 'i2162', 2134: 'i2163', 2135: 'i2164', 2136: 'i2165', 2137: 'i2166', 2138: 'i2167', 2139: 'i2169', 2140: 'i2170', 2141: 'i2171', 2142: 'i2172', 2143: 'i2174', 2144: 'i2176', 2145: 'i2177', 2146: 'i2180', 2147: 'i2181', 2148: 'i2182', 2149: 'i2183', 2150: 'i2184', 2151: 'i2185', 2152: 'i2186', 2153: 'i2187', 2154: 'i2188', 2155: 'i2190', 2156: 'i2193', 2157: 'i2194', 2158: 'i2195', 2159: 'i2196', 2160: 'i2201', 2161: 'i2202', 2162: 'i2203', 2163: 'i2204', 2164: 'i2205', 2165: 'i2206', 2166: 'i2207', 2167: 'i2208', 2168: 'i2210', 2169: 'i2211', 2170: 'i2212', 2171: 'i2227', 2172: 'i2231', 2173: 'i2232', 2174: 'i2236', 2175: 'i2239', 2176: 'i2240', 2177: 'i2241', 2178: 'i2243', 2179: 'i2244', 2180: 'i2245', 2181: 'i2247', 2182: 'i2248', 2183: 'i2249', 2184: 'i2252', 2185: 'i2253', 2186: 'i2255', 2187: 'i2256', 2188: 'i2259', 2189: 'i2260', 2190: 'i2261', 2191: 'i2262', 2192: 'i2263', 2193: 'i2264', 2194: 'i2265', 2195: 'i2266', 2196: 'i2267', 2197: 'i2268', 2198: 'i2269', 2199: 'i2271', 2200: 'i2272', 2201: 'i2273', 2202: 'i2275', 2203: 'i2278', 2204: 'i2279', 2205: 'i2280', 2206: 'i2281', 2207: 'i2282', 2208: 'i2283', 2209: 'i2286', 2210: 'i2287', 2211: 'i2288', 2212: 'i2289', 2213: 'i2290', 2214: 'i2291', 2215: 'i2292', 2216: 'i2294', 2217: 'i2295', 2218: 'i2296', 2219: 'i2297', 2220: 'i2298', 2221: 'i2300', 2222: 'i2301', 2223: 'i2302', 2224: 'i2303', 2225: 'i2304', 2226: 'i2306', 2227: 'i2307', 2228: 'i2310', 2229: 'i2311', 2230: 'i2312', 2231: 'i2313', 2232: 'i2314', 2233: 'i2315', 2234: 'i2316', 2235: 'i2318', 2236: 'i2320', 2237: 'i2321', 2238: 'i2322', 2239: 'i2323', 2240: 'i2324', 2241: 'i2325', 2242: 'i2327', 2243: 'i2328', 2244: 'i2329', 2245: 'i2330', 2246: 'i2331', 2247: 'i2333', 2248: 'i2334', 2249: 'i2335', 2250: 'i2336', 2251: 'i2337', 2252: 'i2338', 2253: 'i2340', 2254: 'i2342', 2255: 'i2344', 2256: 'i2346', 2257: 'i2347', 2258: 'i2348', 2259: 'i2349', 2260: 'i2350', 2261: 'i2351', 2262: 'i2352', 2263: 'i2353', 2264: 'i2354', 2265: 'i2355', 2266: 'i2356', 2267: 'i2357', 2268: 'i2359', 2269: 'i2360', 2270: 'i2361', 2271: 'i2362', 2272: 'i2363', 2273: 'i2364', 2274: 'i2366', 2275: 'i2367', 2276: 'i2368', 2277: 'i2369', 2278: 'i2371', 2279: 'i2372', 2280: 'i2373', 2281: 'i2374', 2282: 'i2375', 2283: 'i2376', 2284: 'i2377', 2285: 'i2378', 2286: 'i2379', 2287: 'i2380', 2288: 'i2381', 2289: 'i2382', 2290: 'i2383', 2291: 'i2384', 2292: 'i2385', 2293: 'i2387', 2294: 'i2388', 2295: 'i2389', 2296: 'i2390', 2297: 'i2391', 2298: 'i2392', 2299: 'i2393', 2300: 'i2394', 2301: 'i2395', 2302: 'i2396', 2303: 'i2398', 2304: 'i2399', 2305: 'i2400', 2306: 'i2401', 2307: 'i2402', 2308: 'i2403', 2309: 'i2404', 2310: 'i2405', 2311: 'i2406', 2312: 'i2407', 2313: 'i2408', 2314: 'i2409', 2315: 'i2410', 2316: 'i2411', 2317: 'i2412', 2318: 'i2413', 2319: 'i2414', 2320: 'i2416', 2321: 'i2418', 2322: 'i2419', 2323: 'i2420', 2324: 'i2421', 2325: 'i2422', 2326: 'i2423', 2327: 'i2424', 2328: 'i2425', 2329: 'i2427', 2330: 'i2428', 2331: 'i2429', 2332: 'i2430', 2333: 'i2431', 2334: 'i2432', 2335: 'i2433', 2336: 'i2435', 2337: 'i2436', 2338: 'i2439', 2339: 'i2442', 2340: 'i2443', 2341: 'i2445', 2342: 'i2446', 2343: 'i2447', 2344: 'i2448', 2345: 'i2450', 2346: 'i2451', 2347: 'i2453', 2348: 'i2454', 2349: 'i2455', 2350: 'i2456', 2351: 'i2457', 2352: 'i2458', 2353: 'i2459', 2354: 'i2460', 2355: 'i2462', 2356: 'i2463', 2357: 'i2465', 2358: 'i2467', 2359: 'i2468', 2360: 'i2469', 2361: 'i2470', 2362: 'i2471', 2363: 'i2472', 2364: 'i2473', 2365: 'i2474', 2366: 'i2475', 2367: 'i2476', 2368: 'i2477', 2369: 'i2478', 2370: 'i2481', 2371: 'i2482', 2372: 'i2483', 2373: 'i2485', 2374: 'i2488', 2375: 'i2490', 2376: 'i2491', 2377: 'i2492', 2378: 'i2494', 2379: 'i2495', 2380: 'i2496', 2381: 'i2497', 2382: 'i2498', 2383: 'i2500', 2384: 'i2501', 2385: 'i2502', 2386: 'i2504', 2387: 'i2505', 2388: 'i2506', 2389: 'i2511', 2390: 'i2513', 2391: 'i2515', 2392: 'i2516', 2393: 'i2517', 2394: 'i2518', 2395: 'i2520', 2396: 'i2521', 2397: 'i2522', 2398: 'i2523', 2399: 'i2524', 2400: 'i2525', 2401: 'i2526', 2402: 'i2527', 2403: 'i2528', 2404: 'i2529', 2405: 'i2530', 2406: 'i2531', 2407: 'i2532', 2408: 'i2533', 2409: 'i2535', 2410: 'i2537', 2411: 'i2538', 2412: 'i2539', 2413: 'i2540', 2414: 'i2541', 2415: 'i2542', 2416: 'i2544', 2417: 'i2546', 2418: 'i2548', 2419: 'i2549', 2420: 'i2550', 2421: 'i2551', 2422: 'i2552', 2423: 'i2553', 2424: 'i2554', 2425: 'i2555', 2426: 'i2558', 2427: 'i2559', 2428: 'i2560', 2429: 'i2561', 2430: 'i2563', 2431: 'i2565', 2432: 'i2567', 2433: 'i2568', 2434: 'i2570', 2435: 'i2571', 2436: 'i2572', 2437: 'i2574', 2438: 'i2575', 2439: 'i2577', 2440: 'i2579', 2441: 'i2580', 2442: 'i2581', 2443: 'i2582', 2444: 'i2583', 2445: 'i2586', 2446: 'i2587', 2447: 'i2590', 2448: 'i2593', 2449: 'i2594', 2450: 'i2596', 2451: 'i2597', 2452: 'i2598', 2453: 'i2599', 2454: 'i2600', 2455: 'i2605', 2456: 'i2606', 2457: 'i2607', 2458: 'i2611', 2459: 'i2612', 2460: 'i2613', 2461: 'i2615', 2462: 'i2616', 2463: 'i2617', 2464: 'i2618', 2465: 'i2620', 2466: 'i2622', 2467: 'i2624', 2468: 'i2625', 2469: 'i2628', 2470: 'i2629', 2471: 'i2633', 2472: 'i2634', 2473: 'i2639', 2474: 'i2640', 2475: 'i2641', 2476: 'i2642', 2477: 'i2643', 2478: 'i2644', 2479: 'i2648', 2480: 'i2651', 2481: 'i2654', 2482: 'i2656', 2483: 'i2657', 2484: 'i2659', 2485: 'i2660', 2486: 'i2661', 2487: 'i2662', 2488: 'i2664', 2489: 'i2665', 2490: 'i2668', 2491: 'i2670', 2492: 'i2671', 2493: 'i2672', 2494: 'i2674', 2495: 'i2676', 2496: 'i2677', 2497: 'i2681', 2498: 'i2682', 2499: 'i2683', 2500: 'i2686', 2501: 'i2687', 2502: 'i2688', 2503: 'i2690', 2504: 'i2691', 2505: 'i2692', 2506: 'i2693', 2507: 'i2694', 2508: 'i2695', 2509: 'i2696', 2510: 'i2697', 2511: 'i2698', 2512: 'i2699', 2513: 'i2700', 2514: 'i2701', 2515: 'i2702', 2516: 'i2706', 2517: 'i2707', 2518: 'i2708', 2519: 'i2709', 2520: 'i2710', 2521: 'i2712', 2522: 'i2713', 2523: 'i2716', 2524: 'i2717', 2525: 'i2718', 2526: 'i2719', 2527: 'i2720', 2528: 'i2722', 2529: 'i2723', 2530: 'i2724', 2531: 'i2726', 2532: 'i2728', 2533: 'i2729', 2534: 'i2730', 2535: 'i2731', 2536: 'i2732', 2537: 'i2733', 2538: 'i2734', 2539: 'i2735', 2540: 'i2736', 2541: 'i2738', 2542: 'i2739', 2543: 'i2741', 2544: 'i2744', 2545: 'i2745', 2546: 'i2746', 2547: 'i2747', 2548: 'i2748', 2549: 'i2749', 2550: 'i2750', 2551: 'i2751', 2552: 'i2752', 2553: 'i2757', 2554: 'i2759', 2555: 'i2761', 2556: 'i2762', 2557: 'i2763', 2558: 'i2764', 2559: 'i2765', 2560: 'i2766', 2561: 'i2769', 2562: 'i2770', 2563: 'i2772', 2564: 'i2779', 2565: 'i2782', 2566: 'i2786', 2567: 'i2787', 2568: 'i2788', 2569: 'i2789', 2570: 'i2791', 2571: 'i2792', 2572: 'i2793', 2573: 'i2794', 2574: 'i2795', 2575: 'i2796', 2576: 'i2797', 2577: 'i2798', 2578: 'i2799', 2579: 'i2800', 2580: 'i2801', 2581: 'i2802', 2582: 'i2803', 2583: 'i2804', 2584: 'i2805', 2585: 'i2806', 2586: 'i2807', 2587: 'i2808', 2588: 'i2810', 2589: 'i2813', 2590: 'i2815', 2591: 'i2816', 2592: 'i2817', 2593: 'i2818', 2594: 'i2819', 2595: 'i2820', 2596: 'i2822', 2597: 'i2824', 2598: 'i2826', 2599: 'i2827', 2600: 'i2829', 2601: 'i2835', 2602: 'i2836', 2603: 'i2837', 2604: 'i2840', 2605: 'i2841', 2606: 'i2843', 2607: 'i2844', 2608: 'i2846', 2609: 'i2847', 2610: 'i2848', 2611: 'i2851', 2612: 'i2852', 2613: 'i2856', 2614: 'i2857', 2615: 'i2858', 2616: 'i2859', 2617: 'i2860', 2618: 'i2861', 2619: 'i2862', 2620: 'i2863', 2621: 'i2865', 2622: 'i2866', 2623: 'i2867', 2624: 'i2868', 2625: 'i2870', 2626: 'i2871', 2627: 'i2872', 2628: 'i2874', 2629: 'i2875', 2630: 'i2877', 2631: 'i2879', 2632: 'i2880', 2633: 'i2881', 2634: 'i2882', 2635: 'i2883', 2636: 'i2884', 2637: 'i2887', 2638: 'i2888', 2639: 'i2889', 2640: 'i2890', 2641: 'i2891', 2642: 'i2892', 2643: 'i2894', 2644: 'i2897', 2645: 'i2899', 2646: 'i2900', 2647: 'i2901', 2648: 'i2902', 2649: 'i2903', 2650: 'i2905', 2651: 'i2906', 2652: 'i2907', 2653: 'i2908', 2654: 'i2912', 2655: 'i2915', 2656: 'i2916', 2657: 'i2917', 2658: 'i2918', 2659: 'i2919', 2660: 'i2921', 2661: 'i2922', 2662: 'i2924', 2663: 'i2925', 2664: 'i2926', 2665: 'i2927', 2666: 'i2928', 2667: 'i2929', 2668: 'i2930', 2669: 'i2931', 2670: 'i2932', 2671: 'i2935', 2672: 'i2936', 2673: 'i2937', 2674: 'i2940', 2675: 'i2941', 2676: 'i2942', 2677: 'i2943', 2678: 'i2944', 2679: 'i2946', 2680: 'i2947', 2681: 'i2948', 2682: 'i2949', 2683: 'i2950', 2684: 'i2951', 2685: 'i2952', 2686: 'i2953', 2687: 'i2956', 2688: 'i2959', 2689: 'i2961', 2690: 'i2962', 2691: 'i2964', 2692: 'i2966', 2693: 'i2967', 2694: 'i2968', 2695: 'i2970', 2696: 'i2971', 2697: 'i2973', 2698: 'i2974', 2699: 'i2975', 2700: 'i2976', 2701: 'i2978', 2702: 'i2979', 2703: 'i2983', 2704: 'i2984', 2705: 'i2985', 2706: 'i2986', 2707: 'i2987', 2708: 'i2988', 2709: 'i2989', 2710: 'i2990', 2711: 'i2991', 2712: 'i2992', 2713: 'i2993', 2714: 'i2995', 2715: 'i2996', 2716: 'i2997', 2717: 'i3000', 2718: 'i3002', 2719: 'i3003', 2720: 'i3004', 2721: 'i3005', 2722: 'i3006', 2723: 'i3007', 2724: 'i3010', 2725: 'i3011', 2726: 'i3013', 2727: 'i3014', 2728: 'i3015', 2729: 'i3016', 2730: 'i3017', 2731: 'i3018', 2732: 'i3019', 2733: 'i3020', 2734: 'i3022', 2735: 'i3024', 2736: 'i3028', 2737: 'i3029', 2738: 'i3030', 2739: 'i3031', 2740: 'i3032', 2741: 'i3033', 2742: 'i3034', 2743: 'i3035', 2744: 'i3036', 2745: 'i3037', 2746: 'i3038', 2747: 'i3039', 2748: 'i3040', 2749: 'i3041', 2750: 'i3042', 2751: 'i3043', 2752: 'i3044', 2753: 'i3045', 2754: 'i3046', 2755: 'i3048', 2756: 'i3051', 2757: 'i3052', 2758: 'i3053', 2759: 'i3054', 2760: 'i3055', 2761: 'i3056', 2762: 'i3057', 2763: 'i3060', 2764: 'i3061', 2765: 'i3062', 2766: 'i3063', 2767: 'i3064', 2768: 'i3066', 2769: 'i3067', 2770: 'i3068', 2771: 'i3070', 2772: 'i3071', 2773: 'i3072', 2774: 'i3073', 2775: 'i3074', 2776: 'i3075', 2777: 'i3076', 2778: 'i3077', 2779: 'i3078', 2780: 'i3079', 2781: 'i3081', 2782: 'i3082', 2783: 'i3083', 2784: 'i3087', 2785: 'i3088', 2786: 'i3089', 2787: 'i3090', 2788: 'i3093', 2789: 'i3095', 2790: 'i3096', 2791: 'i3097', 2792: 'i3098', 2793: 'i3099', 2794: 'i3100', 2795: 'i3101', 2796: 'i3102', 2797: 'i3103', 2798: 'i3104', 2799: 'i3105', 2800: 'i3106', 2801: 'i3107', 2802: 'i3108', 2803: 'i3109', 2804: 'i3111', 2805: 'i3113', 2806: 'i3114', 2807: 'i3115', 2808: 'i3117', 2809: 'i3120', 2810: 'i3127', 2811: 'i3129', 2812: 'i3130', 2813: 'i3132', 2814: 'i3134', 2815: 'i3135', 2816: 'i3138', 2817: 'i3141', 2818: 'i3142', 2819: 'i3143', 2820: 'i3145', 2821: 'i3146', 2822: 'i3147', 2823: 'i3148', 2824: 'i3150', 2825: 'i3152', 2826: 'i3153', 2827: 'i3155', 2828: 'i3156', 2829: 'i3157', 2830: 'i3158', 2831: 'i3159', 2832: 'i3160', 2833: 'i3161', 2834: 'i3162', 2835: 'i3163', 2836: 'i3165', 2837: 'i3167', 2838: 'i3168', 2839: 'i3169', 2840: 'i3173', 2841: 'i3174', 2842: 'i3175', 2843: 'i3176', 2844: 'i3177', 2845: 'i3178', 2846: 'i3179', 2847: 'i3181', 2848: 'i3182', 2849: 'i3183', 2850: 'i3185', 2851: 'i3186', 2852: 'i3189', 2853: 'i3190', 2854: 'i3192', 2855: 'i3194', 2856: 'i3196', 2857: 'i3197', 2858: 'i3198', 2859: 'i3200', 2860: 'i3201', 2861: 'i3203', 2862: 'i3204', 2863: 'i3206', 2864: 'i3208', 2865: 'i3210', 2866: 'i3211', 2867: 'i3213', 2868: 'i3214', 2869: 'i3217', 2870: 'i3219', 2871: 'i3221', 2872: 'i3223', 2873: 'i3224', 2874: 'i3225', 2875: 'i3230', 2876: 'i3235', 2877: 'i3238', 2878: 'i3241', 2879: 'i3243', 2880: 'i3244', 2881: 'i3246', 2882: 'i3247', 2883: 'i3248', 2884: 'i3249', 2885: 'i3250', 2886: 'i3251', 2887: 'i3252', 2888: 'i3253', 2889: 'i3254', 2890: 'i3255', 2891: 'i3256', 2892: 'i3257', 2893: 'i3258', 2894: 'i3259', 2895: 'i3260', 2896: 'i3261', 2897: 'i3262', 2898: 'i3263', 2899: 'i3264', 2900: 'i3265', 2901: 'i3266', 2902: 'i3267', 2903: 'i3268', 2904: 'i3269', 2905: 'i3270', 2906: 'i3271', 2907: 'i3272', 2908: 'i3273', 2909: 'i3274', 2910: 'i3275', 2911: 'i3276', 2912: 'i3283', 2913: 'i3285', 2914: 'i3286', 2915: 'i3287', 2916: 'i3289', 2917: 'i3294', 2918: 'i3295', 2919: 'i3296', 2920: 'i3298', 2921: 'i3300', 2922: 'i3301', 2923: 'i3302', 2924: 'i3306', 2925: 'i3307', 2926: 'i3308', 2927: 'i3310', 2928: 'i3313', 2929: 'i3315', 2930: 'i3316', 2931: 'i3317', 2932: 'i3323', 2933: 'i3325', 2934: 'i3326', 2935: 'i3327', 2936: 'i3328', 2937: 'i3330', 2938: 'i3331', 2939: 'i3334', 2940: 'i3341', 2941: 'i3342', 2942: 'i3345', 2943: 'i3347', 2944: 'i3350', 2945: 'i3353', 2946: 'i3354', 2947: 'i3355', 2948: 'i3358', 2949: 'i3359', 2950: 'i3360', 2951: 'i3361', 2952: 'i3362', 2953: 'i3363', 2954: 'i3364', 2955: 'i3365', 2956: 'i3368', 2957: 'i3370', 2958: 'i3372', 2959: 'i3378', 2960: 'i3379', 2961: 'i3384', 2962: 'i3385', 2963: 'i3386', 2964: 'i3387', 2965: 'i3388', 2966: 'i3390', 2967: 'i3391', 2968: 'i3392', 2969: 'i3393', 2970: 'i3394', 2971: 'i3395', 2972: 'i3396', 2973: 'i3397', 2974: 'i3398', 2975: 'i3400', 2976: 'i3401', 2977: 'i3402', 2978: 'i3404', 2979: 'i3405', 2980: 'i3406', 2981: 'i3408', 2982: 'i3409', 2983: 'i3410', 2984: 'i3412', 2985: 'i3415', 2986: 'i3418', 2987: 'i3420', 2988: 'i3421', 2989: 'i3422', 2990: 'i3423', 2991: 'i3424', 2992: 'i3425', 2993: 'i3426', 2994: 'i3429', 2995: 'i3430', 2996: 'i3431', 2997: 'i3432', 2998: 'i3435', 2999: 'i3436', 3000: 'i3438', 3001: 'i3439', 3002: 'i3440', 3003: 'i3441', 3004: 'i3442', 3005: 'i3444', 3006: 'i3445', 3007: 'i3446', 3008: 'i3447', 3009: 'i3448', 3010: 'i3450', 3011: 'i3451', 3012: 'i3452', 3013: 'i3453', 3014: 'i3454', 3015: 'i3459', 3016: 'i3461', 3017: 'i3462', 3018: 'i3466', 3019: 'i3467', 3020: 'i3468', 3021: 'i3469', 3022: 'i3470', 3023: 'i3471', 3024: 'i3473', 3025: 'i3474', 3026: 'i3475', 3027: 'i3476', 3028: 'i3477', 3029: 'i3478', 3030: 'i3479', 3031: 'i3480', 3032: 'i3481', 3033: 'i3483', 3034: 'i3484', 3035: 'i3489', 3036: 'i3492', 3037: 'i3494', 3038: 'i3496', 3039: 'i3497', 3040: 'i3498', 3041: 'i3499', 3042: 'i3500', 3043: 'i3501', 3044: 'i3502', 3045: 'i3503', 3046: 'i3504', 3047: 'i3505', 3048: 'i3506', 3049: 'i3507', 3050: 'i3508', 3051: 'i3510', 3052: 'i3511', 3053: 'i3512', 3054: 'i3513', 3055: 'i3514', 3056: 'i3515', 3057: 'i3516', 3058: 'i3519', 3059: 'i3521', 3060: 'i3524', 3061: 'i3525', 3062: 'i3526', 3063: 'i3527', 3064: 'i3528', 3065: 'i3529', 3066: 'i3531', 3067: 'i3534', 3068: 'i3535', 3069: 'i3536', 3070: 'i3537', 3071: 'i3538', 3072: 'i3539', 3073: 'i3543', 3074: 'i3544', 3075: 'i3545', 3076: 'i3548', 3077: 'i3549', 3078: 'i3550', 3079: 'i3551', 3080: 'i3552', 3081: 'i3553', 3082: 'i3554', 3083: 'i3555', 3084: 'i3556', 3085: 'i3557', 3086: 'i3559', 3087: 'i3563', 3088: 'i3564', 3089: 'i3565', 3090: 'i3566', 3091: 'i3569', 3092: 'i3571', 3093: 'i3572', 3094: 'i3576', 3095: 'i3577', 3096: 'i3578', 3097: 'i3580', 3098: 'i3581', 3099: 'i3584', 3100: 'i3586', 3101: 'i3587', 3102: 'i3591', 3103: 'i3592', 3104: 'i3593', 3105: 'i3594', 3106: 'i3596', 3107: 'i3597', 3108: 'i3598', 3109: 'i3599', 3110: 'i3604', 3111: 'i3606', 3112: 'i3608', 3113: 'i3609', 3114: 'i3614', 3115: 'i3615', 3116: 'i3616', 3117: 'i3617', 3118: 'i3618', 3119: 'i3619', 3120: 'i3622', 3121: 'i3623', 3122: 'i3624', 3123: 'i3625', 3124: 'i3626', 3125: 'i3627', 3126: 'i3628', 3127: 'i3629', 3128: 'i3632', 3129: 'i3633', 3130: 'i3635', 3131: 'i3637', 3132: 'i3638', 3133: 'i3639', 3134: 'i3640', 3135: 'i3641', 3136: 'i3643', 3137: 'i3646', 3138: 'i3648', 3139: 'i3649', 3140: 'i3653', 3141: 'i3654', 3142: 'i3655', 3143: 'i3667', 3144: 'i3668', 3145: 'i3669', 3146: 'i3671', 3147: 'i3672', 3148: 'i3673', 3149: 'i3674', 3150: 'i3675', 3151: 'i3676', 3152: 'i3677', 3153: 'i3679', 3154: 'i3681', 3155: 'i3682', 3156: 'i3683', 3157: 'i3684', 3158: 'i3685', 3159: 'i3686', 3160: 'i3687', 3161: 'i3688', 3162: 'i3689', 3163: 'i3690', 3164: 'i3691', 3165: 'i3693', 3166: 'i3694', 3167: 'i3695', 3168: 'i3696', 3169: 'i3697', 3170: 'i3698', 3171: 'i3699', 3172: 'i3700', 3173: 'i3701', 3174: 'i3702', 3175: 'i3703', 3176: 'i3704', 3177: 'i3705', 3178: 'i3706', 3179: 'i3707', 3180: 'i3708', 3181: 'i3710', 3182: 'i3712', 3183: 'i3713', 3184: 'i3714', 3185: 'i3715', 3186: 'i3716', 3187: 'i3717', 3188: 'i3719', 3189: 'i3723', 3190: 'i3724', 3191: 'i3725', 3192: 'i3726', 3193: 'i3727', 3194: 'i3728', 3195: 'i3729', 3196: 'i3730', 3197: 'i3731', 3198: 'i3732', 3199: 'i3733', 3200: 'i3735', 3201: 'i3736', 3202: 'i3737', 3203: 'i3739', 3204: 'i3740', 3205: 'i3741', 3206: 'i3742', 3207: 'i3743', 3208: 'i3744', 3209: 'i3745', 3210: 'i3746', 3211: 'i3747', 3212: 'i3751', 3213: 'i3752', 3214: 'i3753', 3215: 'i3754', 3216: 'i3755', 3217: 'i3756', 3218: 'i3758', 3219: 'i3760', 3220: 'i3761', 3221: 'i3763', 3222: 'i3764', 3223: 'i3766', 3224: 'i3767', 3225: 'i3768', 3226: 'i3769', 3227: 'i3770', 3228: 'i3771', 3229: 'i3773', 3230: 'i3774', 3231: 'i3783', 3232: 'i3784', 3233: 'i3785', 3234: 'i3786', 3235: 'i3787', 3236: 'i3788', 3237: 'i3789', 3238: 'i3790', 3239: 'i3791', 3240: 'i3792', 3241: 'i3793', 3242: 'i3794', 3243: 'i3795', 3244: 'i3798', 3245: 'i3799', 3246: 'i3801', 3247: 'i3802', 3248: 'i3806', 3249: 'i3808', 3250: 'i3809', 3251: 'i3810', 3252: 'i3811', 3253: 'i3812', 3254: 'i3813', 3255: 'i3814', 3256: 'i3816', 3257: 'i3819', 3258: 'i3821', 3259: 'i3822', 3260: 'i3823', 3261: 'i3824', 3262: 'i3825', 3263: 'i3826', 3264: 'i3827', 3265: 'i3830', 3266: 'i3831', 3267: 'i3832', 3268: 'i3833', 3269: 'i3834', 3270: 'i3835', 3271: 'i3836', 3272: 'i3837', 3273: 'i3838', 3274: 'i3839', 3275: 'i3840', 3276: 'i3841', 3277: 'i3843', 3278: 'i3844', 3279: 'i3846', 3280: 'i3847', 3281: 'i3849', 3282: 'i3851', 3283: 'i3852', 3284: 'i3855', 3285: 'i3858', 3286: 'i3859', 3287: 'i3861', 3288: 'i3862', 3289: 'i3863', 3290: 'i3864', 3291: 'i3865', 3292: 'i3868', 3293: 'i3869', 3294: 'i3871', 3295: 'i3872', 3296: 'i3873', 3297: 'i3877', 3298: 'i3879', 3299: 'i3882', 3300: 'i3888', 3301: 'i3889', 3302: 'i3893', 3303: 'i3894', 3304: 'i3895', 3305: 'i3896', 3306: 'i3897', 3307: 'i3898', 3308: 'i3900', 3309: 'i3901', 3310: 'i3906', 3311: 'i3908', 3312: 'i3909', 3313: 'i3910', 3314: 'i3911', 3315: 'i3914', 3316: 'i3915', 3317: 'i3916', 3318: 'i3917', 3319: 'i3918', 3320: 'i3920', 3321: 'i3925', 3322: 'i3926', 3323: 'i3927', 3324: 'i3928', 3325: 'i3929', 3326: 'i3930', 3327: 'i3932', 3328: 'i3933', 3329: 'i3937', 3330: 'i3938', 3331: 'i3939', 3332: 'i3940', 3333: 'i3941', 3334: 'i3942', 3335: 'i3943', 3336: 'i3946', 3337: 'i3947', 3338: 'i3948', 3339: 'i3949', 3340: 'i3950', 3341: 'i3951', 3342: 'i3952', 3343: 'i3953', 3344: 'i3955', 3345: 'i3957', 3346: 'i3958', 3347: 'i3959', 3348: 'i3963', 3349: 'i3964', 3350: 'i3965', 3351: 'i3966', 3352: 'i3967', 3353: 'i3968', 3354: 'i3969', 3355: 'i3971', 3356: 'i3972', 3357: 'i3973', 3358: 'i3974', 3359: 'i3977', 3360: 'i3978', 3361: 'i3979', 3362: 'i3980', 3363: 'i3981', 3364: 'i3983', 3365: 'i3984', 3366: 'i3985', 3367: 'i3986', 3368: 'i3987', 3369: 'i3988', 3370: 'i3989', 3371: 'i3990', 3372: 'i3991', 3373: 'i3992', 3374: 'i3993', 3375: 'i3994', 3376: 'i3996', 3377: 'i3997', 3378: 'i3998', 3379: 'i3999', 3380: 'i4000', 3381: 'i4002', 3382: 'i4003', 3383: 'i4005', 3384: 'i4006', 3385: 'i4007', 3386: 'i4008', 3387: 'i4009', 3388: 'i4010', 3389: 'i4011', 3390: 'i4012', 3391: 'i4014', 3392: 'i4015', 3393: 'i4016', 3394: 'i4017', 3395: 'i4018', 3396: 'i4019', 3397: 'i4020', 3398: 'i4021', 3399: 'i4022', 3400: 'i4023', 3401: 'i4024', 3402: 'i4025', 3403: 'i4027', 3404: 'i4029', 3405: 'i4030', 3406: 'i4031', 3407: 'i4032', 3408: 'i4033', 3409: 'i4034', 3410: 'i4035', 3411: 'i4036', 3412: 'i4037', 3413: 'i4039', 3414: 'i4040', 3415: 'i4041', 3416: 'i4042', 3417: 'i4043', 3418: 'i4046', 3419: 'i4047', 3420: 'i4051', 3421: 'i4052', 3422: 'i4053', 3423: 'i4054', 3424: 'i4056', 3425: 'i4061', 3426: 'i4062', 3427: 'i4063', 3428: 'i4066', 3429: 'i4067', 3430: 'i4068', 3431: 'i4069', 3432: 'i4074', 3433: 'i4077', 3434: 'i4080', 3435: 'i4081', 3436: 'i4082', 3437: 'i4083', 3438: 'i4084', 3439: 'i4085', 3440: 'i4086', 3441: 'i4089', 3442: 'i4090', 3443: 'i4091', 3444: 'i4092', 3445: 'i4093', 3446: 'i4102', 3447: 'i4103', 3448: 'i4104', 3449: 'i4105', 3450: 'i4109', 3451: 'i4111', 3452: 'i4113', 3453: 'i4115', 3454: 'i4117', 3455: 'i4121', 3456: 'i4123', 3457: 'i4124', 3458: 'i4125', 3459: 'i4126', 3460: 'i4127', 3461: 'i4128', 3462: 'i4130', 3463: 'i4131', 3464: 'i4132', 3465: 'i4133', 3466: 'i4138', 3467: 'i4139', 3468: 'i4141', 3469: 'i4142', 3470: 'i4144', 3471: 'i4146', 3472: 'i4147', 3473: 'i4148', 3474: 'i4149', 3475: 'i4152', 3476: 'i4153', 3477: 'i4154', 3478: 'i4155', 3479: 'i4156', 3480: 'i4157', 3481: 'i4158', 3482: 'i4159', 3483: 'i4160', 3484: 'i4161', 3485: 'i4164', 3486: 'i4166', 3487: 'i4167', 3488: 'i4168', 3489: 'i4171', 3490: 'i4175', 3491: 'i4178', 3492: 'i4181', 3493: 'i4184', 3494: 'i4187', 3495: 'i4189', 3496: 'i4190', 3497: 'i4191', 3498: 'i4193', 3499: 'i4195', 3500: 'i4197', 3501: 'i4198', 3502: 'i4200', 3503: 'i4203', 3504: 'i4205', 3505: 'i4207', 3506: 'i4210', 3507: 'i4211', 3508: 'i4212', 3509: 'i4214', 3510: 'i4215', 3511: 'i4217', 3512: 'i4218', 3513: 'i4219', 3514: 'i4220', 3515: 'i4221', 3516: 'i4223', 3517: 'i4224', 3518: 'i4225', 3519: 'i4226', 3520: 'i4228', 3521: 'i4229', 3522: 'i4231', 3523: 'i4232', 3524: 'i4233', 3525: 'i4234', 3526: 'i4235', 3527: 'i4236', 3528: 'i4238', 3529: 'i4239', 3530: 'i4241', 3531: 'i4242', 3532: 'i4243', 3533: 'i4246', 3534: 'i4247', 3535: 'i4248', 3536: 'i4251', 3537: 'i4252', 3538: 'i4254', 3539: 'i4255', 3540: 'i4256', 3541: 'i4259', 3542: 'i4262', 3543: 'i4263', 3544: 'i4265', 3545: 'i4267', 3546: 'i4268', 3547: 'i4270', 3548: 'i4273', 3549: 'i4275', 3550: 'i4276', 3551: 'i4278', 3552: 'i4280', 3553: 'i4284', 3554: 'i4285', 3555: 'i4289', 3556: 'i4290', 3557: 'i4291', 3558: 'i4292', 3559: 'i4293', 3560: 'i4294', 3561: 'i4296', 3562: 'i4297', 3563: 'i4298', 3564: 'i4299', 3565: 'i4300', 3566: 'i4304', 3567: 'i4305', 3568: 'i4306', 3569: 'i4307', 3570: 'i4308', 3571: 'i4310', 3572: 'i4312', 3573: 'i4313', 3574: 'i4316', 3575: 'i4317', 3576: 'i4321', 3577: 'i4322', 3578: 'i4325', 3579: 'i4326', 3580: 'i4327', 3581: 'i4329', 3582: 'i4333', 3583: 'i4334', 3584: 'i4337', 3585: 'i4339', 3586: 'i4340', 3587: 'i4343', 3588: 'i4344', 3589: 'i4345', 3590: 'i4347', 3591: 'i4349', 3592: 'i4350', 3593: 'i4351', 3594: 'i4353', 3595: 'i4355', 3596: 'i4356', 3597: 'i4357', 3598: 'i4359', 3599: 'i4361', 3600: 'i4366', 3601: 'i4367', 3602: 'i4368', 3603: 'i4369', 3604: 'i4370', 3605: 'i4372', 3606: 'i4373', 3607: 'i4374', 3608: 'i4378', 3609: 'i4380', 3610: 'i4381', 3611: 'i4383', 3612: 'i4384', 3613: 'i4386', 3614: 'i4387', 3615: 'i4388', 3616: 'i4389', 3617: 'i4390', 3618: 'i4392', 3619: 'i4395', 3620: 'i4396', 3621: 'i4397', 3622: 'i4399', 3623: 'i4402', 3624: 'i4403', 3625: 'i4404', 3626: 'i4406', 3627: 'i4407', 3628: 'i4409', 3629: 'i4410', 3630: 'i4419', 3631: 'i4420', 3632: 'i4422', 3633: 'i4424', 3634: 'i4426', 3635: 'i4427', 3636: 'i4428', 3637: 'i4429', 3638: 'i4432', 3639: 'i4433', 3640: 'i4434', 3641: 'i4436', 3642: 'i4437', 3643: 'i4438', 3644: 'i4439', 3645: 'i4440', 3646: 'i4441', 3647: 'i4442', 3648: 'i4443', 3649: 'i4444', 3650: 'i4446', 3651: 'i4447', 3652: 'i4448', 3653: 'i4449', 3654: 'i4450', 3655: 'i4451', 3656: 'i4452', 3657: 'i4453', 3658: 'i4458', 3659: 'i4462', 3660: 'i4463', 3661: 'i4464', 3662: 'i4465', 3663: 'i4466', 3664: 'i4467', 3665: 'i4470', 3666: 'i4471', 3667: 'i4473', 3668: 'i4474', 3669: 'i4475', 3670: 'i4476', 3671: 'i4477', 3672: 'i4478', 3673: 'i4480', 3674: 'i4482', 3675: 'i4483', 3676: 'i4484', 3677: 'i4487', 3678: 'i4488', 3679: 'i4489', 3680: 'i4492', 3681: 'i4496', 3682: 'i4497', 3683: 'i4498', 3684: 'i4499', 3685: 'i4502', 3686: 'i4505', 3687: 'i4506', 3688: 'i4508', 3689: 'i4509', 3690: 'i4511', 3691: 'i4516', 3692: 'i4517', 3693: 'i4518', 3694: 'i4519', 3695: 'i4520', 3696: 'i4523', 3697: 'i4526', 3698: 'i4527', 3699: 'i4529', 3700: 'i4531', 3701: 'i4533', 3702: 'i4534', 3703: 'i4535', 3704: 'i4537', 3705: 'i4541', 3706: 'i4544', 3707: 'i4545', 3708: 'i4546', 3709: 'i4552', 3710: 'i4553', 3711: 'i4558', 3712: 'i4562', 3713: 'i4563', 3714: 'i4564', 3715: 'i4565', 3716: 'i4571', 3717: 'i4572', 3718: 'i4573', 3719: 'i4574', 3720: 'i4577', 3721: 'i4580', 3722: 'i4583', 3723: 'i4584', 3724: 'i4585', 3725: 'i4587', 3726: 'i4589', 3727: 'i4591', 3728: 'i4593', 3729: 'i4594', 3730: 'i4595', 3731: 'i4599', 3732: 'i4600', 3733: 'i4602', 3734: 'i4603', 3735: 'i4605', 3736: 'i4610', 3737: 'i4612', 3738: 'i4615', 3739: 'i4616', 3740: 'i4617', 3741: 'i4619', 3742: 'i4621', 3743: 'i4622', 3744: 'i4623', 3745: 'i4624', 3746: 'i4625', 3747: 'i4626', 3748: 'i4628', 3749: 'i4629', 3750: 'i4630', 3751: 'i4632', 3752: 'i4634', 3753: 'i4636', 3754: 'i4638', 3755: 'i4639', 3756: 'i4640', 3757: 'i4641', 3758: 'i4642', 3759: 'i4643', 3760: 'i4644', 3761: 'i4645', 3762: 'i4649', 3763: 'i4654', 3764: 'i4658', 3765: 'i4660', 3766: 'i4661', 3767: 'i4662', 3768: 'i4663', 3769: 'i4666', 3770: 'i4670', 3771: 'i4671', 3772: 'i4672', 3773: 'i4673', 3774: 'i4675', 3775: 'i4676', 3776: 'i4677', 3777: 'i4678', 3778: 'i4679', 3779: 'i4681', 3780: 'i4683', 3781: 'i4686', 3782: 'i4688', 3783: 'i4689', 3784: 'i4690', 3785: 'i4695', 3786: 'i4697', 3787: 'i4699', 3788: 'i4700', 3789: 'i4701', 3790: 'i4703', 3791: 'i4704', 3792: 'i4705', 3793: 'i4708', 3794: 'i4709', 3795: 'i4711', 3796: 'i4713', 3797: 'i4714', 3798: 'i4718', 3799: 'i4719', 3800: 'i4720', 3801: 'i4721', 3802: 'i4722', 3803: 'i4723', 3804: 'i4725', 3805: 'i4727', 3806: 'i4728', 3807: 'i4732', 3808: 'i4733', 3809: 'i4734', 3810: 'i4735', 3811: 'i4736', 3812: 'i4738', 3813: 'i4740', 3814: 'i4741', 3815: 'i4743', 3816: 'i4744', 3817: 'i4745', 3818: 'i4748', 3819: 'i4750', 3820: 'i4754', 3821: 'i4756', 3822: 'i4757', 3823: 'i4759', 3824: 'i4765', 3825: 'i4766', 3826: 'i4770', 3827: 'i4771', 3828: 'i4772', 3829: 'i4773', 3830: 'i4774', 3831: 'i4775', 3832: 'i4776', 3833: 'i4780', 3834: 'i4782', 3835: 'i4783', 3836: 'i4784', 3837: 'i4785', 3838: 'i4786', 3839: 'i4787', 3840: 'i4788', 3841: 'i4789', 3842: 'i4792', 3843: 'i4794', 3844: 'i4795', 3845: 'i4796', 3846: 'i4798', 3847: 'i4799', 3848: 'i4800', 3849: 'i4802', 3850: 'i4803', 3851: 'i4804', 3852: 'i4808', 3853: 'i4809', 3854: 'i4810', 3855: 'i4811', 3856: 'i4812', 3857: 'i4813', 3858: 'i4814', 3859: 'i4815', 3860: 'i4816', 3861: 'i4818', 3862: 'i4821', 3863: 'i4822', 3864: 'i4823', 3865: 'i4828', 3866: 'i4830', 3867: 'i4831', 3868: 'i4835', 3869: 'i4836', 3870: 'i4840', 3871: 'i4844', 3872: 'i4845', 3873: 'i4846', 3874: 'i4847', 3875: 'i4848', 3876: 'i4849', 3877: 'i4850', 3878: 'i4855', 3879: 'i4857', 3880: 'i4862', 3881: 'i4864', 3882: 'i4865', 3883: 'i4866', 3884: 'i4867', 3885: 'i4871', 3886: 'i4873', 3887: 'i4874', 3888: 'i4876', 3889: 'i4877', 3890: 'i4878', 3891: 'i4879', 3892: 'i4880', 3893: 'i4881', 3894: 'i4883', 3895: 'i4885', 3896: 'i4886', 3897: 'i4887', 3898: 'i4888', 3899: 'i4889', 3900: 'i4890', 3901: 'i4893', 3902: 'i4896', 3903: 'i4898', 3904: 'i4899', 3905: 'i4900', 3906: 'i4901', 3907: 'i4902', 3908: 'i4903', 3909: 'i4909', 3910: 'i4911', 3911: 'i4912', 3912: 'i4914', 3913: 'i4915', 3914: 'i4916', 3915: 'i4917', 3916: 'i4919', 3917: 'i4920', 3918: 'i4921', 3919: 'i4926', 3920: 'i4927', 3921: 'i4928', 3922: 'i4929', 3923: 'i4932', 3924: 'i4936', 3925: 'i4941', 3926: 'i4945', 3927: 'i4946', 3928: 'i4947', 3929: 'i4951', 3930: 'i4952', 3931: 'i4954', 3932: 'i4956', 3933: 'i4957', 3934: 'i4958', 3935: 'i4959', 3936: 'i4961', 3937: 'i4962', 3938: 'i4963', 3939: 'i4964', 3940: 'i4965', 3941: 'i4967', 3942: 'i4969', 3943: 'i4971', 3944: 'i4973', 3945: 'i4974', 3946: 'i4975', 3947: 'i4976', 3948: 'i4978', 3949: 'i4979', 3950: 'i4980', 3951: 'i4981', 3952: 'i4985', 3953: 'i4989', 3954: 'i4990', 3955: 'i4991', 3956: 'i4992', 3957: 'i4993', 3958: 'i4994', 3959: 'i4995', 3960: 'i4998', 3961: 'i5004', 3962: 'i5007', 3963: 'i5008', 3964: 'i5009', 3965: 'i5010', 3966: 'i5011', 3967: 'i5012', 3968: 'i5013', 3969: 'i5014', 3970: 'i5015', 3971: 'i5016', 3972: 'i5021', 3973: 'i5023', 3974: 'i5025', 3975: 'i5026', 3976: 'i5027', 3977: 'i5028', 3978: 'i5033', 3979: 'i5034', 3980: 'i5039', 3981: 'i5040', 3982: 'i5041', 3983: 'i5046', 3984: 'i5047', 3985: 'i5048', 3986: 'i5049', 3987: 'i5051', 3988: 'i5055', 3989: 'i5059', 3990: 'i5060', 3991: 'i5062', 3992: 'i5064', 3993: 'i5065', 3994: 'i5066', 3995: 'i5068', 3996: 'i5069', 3997: 'i5071', 3998: 'i5072', 3999: 'i5073', 4000: 'i5074', 4001: 'i5075', 4002: 'i5076', 4003: 'i5080', 4004: 'i5081', 4005: 'i5083', 4006: 'i5092', 4007: 'i5093', 4008: 'i5094', 4009: 'i5095', 4010: 'i5099', 4011: 'i5102', 4012: 'i5103', 4013: 'i5106', 4014: 'i5107', 4015: 'i5108', 4016: 'i5109', 4017: 'i5110', 4018: 'i5112', 4019: 'i5113', 4020: 'i5120', 4021: 'i5127', 4022: 'i5128', 4023: 'i5131', 4024: 'i5134', 4025: 'i5135', 4026: 'i5137', 4027: 'i5139', 4028: 'i5146', 4029: 'i5147', 4030: 'i5151', 4031: 'i5152', 4032: 'i5159', 4033: 'i5165', 4034: 'i5170', 4035: 'i5171', 4036: 'i5177', 4037: 'i5178', 4038: 'i5181', 4039: 'i5187', 4040: 'i5189', 4041: 'i5197', 4042: 'i5198', 4043: 'i5202', 4044: 'i5209', 4045: 'i5213', 4046: 'i5218', 4047: 'i5219', 4048: 'i5220', 4049: 'i5222', 4050: 'i5224', 4051: 'i5225', 4052: 'i5231', 4053: 'i5237', 4054: 'i5238', 4055: 'i5239', 4056: 'i5240', 4057: 'i5244', 4058: 'i5246', 4059: 'i5247', 4060: 'i5248', 4061: 'i5250', 4062: 'i5254', 4063: 'i5255', 4064: 'i5256', 4065: 'i5258', 4066: 'i5264', 4067: 'i5265', 4068: 'i5266', 4069: 'i5267', 4070: 'i5268', 4071: 'i5269', 4072: 'i5275', 4073: 'i5278', 4074: 'i5279', 4075: 'i5282', 4076: 'i5283', 4077: 'i5285', 4078: 'i5288', 4079: 'i5291', 4080: 'i5292', 4081: 'i5293', 4082: 'i5294', 4083: 'i5296', 4084: 'i5297', 4085: 'i5298', 4086: 'i5299', 4087: 'i5300', 4088: 'i5303', 4089: 'i5304', 4090: 'i5308', 4091: 'i5309', 4092: 'i5312', 4093: 'i5313', 4094: 'i5316', 4095: 'i5319', 4096: 'i5321', 4097: 'i5322', 4098: 'i5323', 4099: 'i5324', 4100: 'i5325', 4101: 'i5328', 4102: 'i5329', 4103: 'i5333', 4104: 'i5334', 4105: 'i5337', 4106: 'i5338', 4107: 'i5339', 4108: 'i5341', 4109: 'i5345', 4110: 'i5346', 4111: 'i5347', 4112: 'i5349', 4113: 'i5356', 4114: 'i5357', 4115: 'i5358', 4116: 'i5361', 4117: 'i5363', 4118: 'i5364', 4119: 'i5372', 4120: 'i5373', 4121: 'i5375', 4122: 'i5377', 4123: 'i5378', 4124: 'i5379', 4125: 'i5380', 4126: 'i5382', 4127: 'i5384', 4128: 'i5387', 4129: 'i5388', 4130: 'i5389', 4131: 'i5390', 4132: 'i5391', 4133: 'i5397', 4134: 'i5398', 4135: 'i5400', 4136: 'i5401', 4137: 'i5404', 4138: 'i5409', 4139: 'i5410', 4140: 'i5414', 4141: 'i5415', 4142: 'i5416', 4143: 'i5417', 4144: 'i5418', 4145: 'i5419', 4146: 'i5420', 4147: 'i5421', 4148: 'i5422', 4149: 'i5423', 4150: 'i5424', 4151: 'i5425', 4152: 'i5427', 4153: 'i5428', 4154: 'i5433', 4155: 'i5435', 4156: 'i5437', 4157: 'i5438', 4158: 'i5440', 4159: 'i5443', 4160: 'i5444', 4161: 'i5445', 4162: 'i5446', 4163: 'i5447', 4164: 'i5448', 4165: 'i5449', 4166: 'i5450', 4167: 'i5451', 4168: 'i5452', 4169: 'i5454', 4170: 'i5455', 4171: 'i5456', 4172: 'i5459', 4173: 'i5460', 4174: 'i5461', 4175: 'i5462', 4176: 'i5463', 4177: 'i5464', 4178: 'i5466', 4179: 'i5468', 4180: 'i5471', 4181: 'i5475', 4182: 'i5476', 4183: 'i5477', 4184: 'i5478', 4185: 'i5479', 4186: 'i5480', 4187: 'i5481', 4188: 'i5483', 4189: 'i5485', 4190: 'i5486', 4191: 'i5490', 4192: 'i5498', 4193: 'i5499', 4194: 'i5500', 4195: 'i5501', 4196: 'i5502', 4197: 'i5503', 4198: 'i5504', 4199: 'i5505', 4200: 'i5506', 4201: 'i5507', 4202: 'i5508', 4203: 'i5513', 4204: 'i5521', 4205: 'i5522', 4206: 'i5523', 4207: 'i5524', 4208: 'i5525', 4209: 'i5527', 4210: 'i5528', 4211: 'i5529', 4212: 'i5530', 4213: 'i5531', 4214: 'i5540', 4215: 'i5541', 4216: 'i5543', 4217: 'i5544', 4218: 'i5548', 4219: 'i5550', 4220: 'i5553', 4221: 'i5556', 4222: 'i5562', 4223: 'i5563', 4224: 'i5564', 4225: 'i5568', 4226: 'i5569', 4227: 'i5570', 4228: 'i5572', 4229: 'i5573', 4230: 'i5574', 4231: 'i5575', 4232: 'i5577', 4233: 'i5580', 4234: 'i5582', 4235: 'i5585', 4236: 'i5588', 4237: 'i5589', 4238: 'i5590', 4239: 'i5596', 4240: 'i5597', 4241: 'i5601', 4242: 'i5602', 4243: 'i5603', 4244: 'i5604', 4245: 'i5608', 4246: 'i5609', 4247: 'i5610', 4248: 'i5611', 4249: 'i5613', 4250: 'i5614', 4251: 'i5617', 4252: 'i5618', 4253: 'i5619', 4254: 'i5620', 4255: 'i5621', 4256: 'i5625', 4257: 'i5628', 4258: 'i5630', 4259: 'i5632', 4260: 'i5633', 4261: 'i5635', 4262: 'i5636', 4263: 'i5637', 4264: 'i5640', 4265: 'i5643', 4266: 'i5644', 4267: 'i5646', 4268: 'i5650', 4269: 'i5651', 4270: 'i5663', 4271: 'i5665', 4272: 'i5666', 4273: 'i5667', 4274: 'i5668', 4275: 'i5669', 4276: 'i5670', 4277: 'i5672', 4278: 'i5673', 4279: 'i5675', 4280: 'i5678', 4281: 'i5679', 4282: 'i5680', 4283: 'i5685', 4284: 'i5688', 4285: 'i5690', 4286: 'i5693', 4287: 'i5694', 4288: 'i5696', 4289: 'i5699', 4290: 'i5700', 4291: 'i5706', 4292: 'i5707', 4293: 'i5712', 4294: 'i5733', 4295: 'i5735', 4296: 'i5741', 4297: 'i5742', 4298: 'i5746', 4299: 'i5747', 4300: 'i5749', 4301: 'i5752', 4302: 'i5755', 4303: 'i5764', 4304: 'i5768', 4305: 'i5772', 4306: 'i5773', 4307: 'i5779', 4308: 'i5782', 4309: 'i5784', 4310: 'i5785', 4311: 'i5788', 4312: 'i5791', 4313: 'i5792', 4314: 'i5796', 4315: 'i5799', 4316: 'i5801', 4317: 'i5802', 4318: 'i5803', 4319: 'i5804', 4320: 'i5809', 4321: 'i5810', 4322: 'i5812', 4323: 'i5816', 4324: 'i5817', 4325: 'i5818', 4326: 'i5820', 4327: 'i5826', 4328: 'i5828', 4329: 'i5829', 4330: 'i5833', 4331: 'i5841', 4332: 'i5843', 4333: 'i5849', 4334: 'i5856', 4335: 'i5872', 4336: 'i5873', 4337: 'i5874', 4338: 'i5876', 4339: 'i5878', 4340: 'i5879', 4341: 'i5880', 4342: 'i5881', 4343: 'i5882', 4344: 'i5884', 4345: 'i5889', 4346: 'i5891', 4347: 'i5893', 4348: 'i5896', 4349: 'i5899', 4350: 'i5900', 4351: 'i5901', 4352: 'i5902', 4353: 'i5903', 4354: 'i5909', 4355: 'i5912', 4356: 'i5915', 4357: 'i5919', 4358: 'i5922', 4359: 'i5925', 4360: 'i5929', 4361: 'i5932', 4362: 'i5941', 4363: 'i5942', 4364: 'i5943', 4365: 'i5944', 4366: 'i5945', 4367: 'i5947', 4368: 'i5949', 4369: 'i5951', 4370: 'i5952', 4371: 'i5954', 4372: 'i5955', 4373: 'i5956', 4374: 'i5957', 4375: 'i5959', 4376: 'i5962', 4377: 'i5963', 4378: 'i5965', 4379: 'i5968', 4380: 'i5969', 4381: 'i5970', 4382: 'i5971', 4383: 'i5974', 4384: 'i5975', 4385: 'i5984', 4386: 'i5986', 4387: 'i5988', 4388: 'i5989', 4389: 'i5990', 4390: 'i5991', 4391: 'i5992', 4392: 'i5993', 4393: 'i5994', 4394: 'i5995', 4395: 'i5999', 4396: 'i6001', 4397: 'i6002', 4398: 'i6003', 4399: 'i6005', 4400: 'i6006', 4401: 'i6009', 4402: 'i6012', 4403: 'i6013', 4404: 'i6014', 4405: 'i6016', 4406: 'i6020', 4407: 'i6022', 4408: 'i6023', 4409: 'i6025', 4410: 'i6027', 4411: 'i6030', 4412: 'i6031', 4413: 'i6033', 4414: 'i6035', 4415: 'i6036', 4416: 'i6039', 4417: 'i6040', 4418: 'i6041', 4419: 'i6044', 4420: 'i6049', 4421: 'i6051', 4422: 'i6055', 4423: 'i6057', 4424: 'i6058', 4425: 'i6059', 4426: 'i6060', 4427: 'i6062', 4428: 'i6063', 4429: 'i6064', 4430: 'i6067', 4431: 'i6070', 4432: 'i6078', 4433: 'i6086', 4434: 'i6090', 4435: 'i6093', 4436: 'i6095', 4437: 'i6100', 4438: 'i6101', 4439: 'i6104', 4440: 'i6107', 4441: 'i6111', 4442: 'i6116', 4443: 'i6122', 4444: 'i6123', 4445: 'i6125', 4446: 'i6140', 4447: 'i6141', 4448: 'i6143', 4449: 'i6145', 4450: 'i6153', 4451: 'i6155', 4452: 'i6156', 4453: 'i6157', 4454: 'i6158', 4455: 'i6159', 4456: 'i6162', 4457: 'i6163', 4458: 'i6166', 4459: 'i6169', 4460: 'i6170', 4461: 'i6178', 4462: 'i6181', 4463: 'i6183', 4464: 'i6184', 4465: 'i6185', 4466: 'i6186', 4467: 'i6187', 4468: 'i6188', 4469: 'i6192', 4470: 'i6193', 4471: 'i6195', 4472: 'i6196', 4473: 'i6197', 4474: 'i6201', 4475: 'i6203', 4476: 'i6204', 4477: 'i6210', 4478: 'i6212', 4479: 'i6213', 4480: 'i6214', 4481: 'i6215', 4482: 'i6216', 4483: 'i6218', 4484: 'i6219', 4485: 'i6220', 4486: 'i6223', 4487: 'i6225', 4488: 'i6228', 4489: 'i6232', 4490: 'i6234', 4491: 'i6235', 4492: 'i6238', 4493: 'i6239', 4494: 'i6242', 4495: 'i6244', 4496: 'i6245', 4497: 'i6246', 4498: 'i6249', 4499: 'i6250', 4500: 'i6251', 4501: 'i6252', 4502: 'i6254', 4503: 'i6263', 4504: 'i6264', 4505: 'i6265', 4506: 'i6266', 4507: 'i6268', 4508: 'i6269', 4509: 'i6270', 4510: 'i6271', 4511: 'i6273', 4512: 'i6280', 4513: 'i6281', 4514: 'i6283', 4515: 'i6285', 4516: 'i6286', 4517: 'i6287', 4518: 'i6288', 4519: 'i6289', 4520: 'i6290', 4521: 'i6291', 4522: 'i6294', 4523: 'i6295', 4524: 'i6296', 4525: 'i6297', 4526: 'i6298', 4527: 'i6299', 4528: 'i6300', 4529: 'i6301', 4530: 'i6302', 4531: 'i6303', 4532: 'i6305', 4533: 'i6306', 4534: 'i6308', 4535: 'i6314', 4536: 'i6315', 4537: 'i6316', 4538: 'i6319', 4539: 'i6322', 4540: 'i6323', 4541: 'i6324', 4542: 'i6327', 4543: 'i6329', 4544: 'i6330', 4545: 'i6331', 4546: 'i6332', 4547: 'i6333', 4548: 'i6334', 4549: 'i6335', 4550: 'i6336', 4551: 'i6337', 4552: 'i6338', 4553: 'i6339', 4554: 'i6341', 4555: 'i6344', 4556: 'i6345', 4557: 'i6347', 4558: 'i6348', 4559: 'i6349', 4560: 'i6350', 4561: 'i6365', 4562: 'i6367', 4563: 'i6368', 4564: 'i6370', 4565: 'i6371', 4566: 'i6373', 4567: 'i6374', 4568: 'i6375', 4569: 'i6376', 4570: 'i6377', 4571: 'i6378', 4572: 'i6379', 4573: 'i6380', 4574: 'i6382', 4575: 'i6383', 4576: 'i6385', 4577: 'i6386', 4578: 'i6387', 4579: 'i6400', 4580: 'i6402', 4581: 'i6405', 4582: 'i6407', 4583: 'i6408', 4584: 'i6410', 4585: 'i6412', 4586: 'i6415', 4587: 'i6417', 4588: 'i6424', 4589: 'i6425', 4590: 'i6427', 4591: 'i6428', 4592: 'i6433', 4593: 'i6434', 4594: 'i6436', 4595: 'i6440', 4596: 'i6442', 4597: 'i6448', 4598: 'i6452', 4599: 'i6460', 4600: 'i6461', 4601: 'i6464', 4602: 'i6466', 4603: 'i6476', 4604: 'i6477', 4605: 'i6480', 4606: 'i6482', 4607: 'i6483', 4608: 'i6484', 4609: 'i6493', 4610: 'i6502', 4611: 'i6503', 4612: 'i6510', 4613: 'i6514', 4614: 'i6515', 4615: 'i6516', 4616: 'i6517', 4617: 'i6527', 4618: 'i6530', 4619: 'i6533', 4620: 'i6534', 4621: 'i6535', 4622: 'i6536', 4623: 'i6537', 4624: 'i6538', 4625: 'i6539', 4626: 'i6541', 4627: 'i6542', 4628: 'i6545', 4629: 'i6547', 4630: 'i6548', 4631: 'i6549', 4632: 'i6550', 4633: 'i6551', 4634: 'i6552', 4635: 'i6553', 4636: 'i6554', 4637: 'i6558', 4638: 'i6559', 4639: 'i6560', 4640: 'i6563', 4641: 'i6564', 4642: 'i6565', 4643: 'i6566', 4644: 'i6567', 4645: 'i6568', 4646: 'i6571', 4647: 'i6572', 4648: 'i6574', 4649: 'i6577', 4650: 'i6578', 4651: 'i6579', 4652: 'i6581', 4653: 'i6582', 4654: 'i6583', 4655: 'i6584', 4656: 'i6586', 4657: 'i6588', 4658: 'i6591', 4659: 'i6592', 4660: 'i6593', 4661: 'i6595', 4662: 'i6596', 4663: 'i6597', 4664: 'i6598', 4665: 'i6603', 4666: 'i6604', 4667: 'i6609', 4668: 'i6611', 4669: 'i6612', 4670: 'i6614', 4671: 'i6615', 4672: 'i6616', 4673: 'i6617', 4674: 'i6618', 4675: 'i6619', 4676: 'i6620', 4677: 'i6624', 4678: 'i6628', 4679: 'i6631', 4680: 'i6636', 4681: 'i6638', 4682: 'i6639', 4683: 'i6643', 4684: 'i6645', 4685: 'i6650', 4686: 'i6658', 4687: 'i6659', 4688: 'i6660', 4689: 'i6662', 4690: 'i6663', 4691: 'i6664', 4692: 'i6666', 4693: 'i6667', 4694: 'i6669', 4695: 'i6671', 4696: 'i6678', 4697: 'i6679', 4698: 'i6684', 4699: 'i6686', 4700: 'i6687', 4701: 'i6688', 4702: 'i6689', 4703: 'i6691', 4704: 'i6692', 4705: 'i6695', 4706: 'i6696', 4707: 'i6699', 4708: 'i6702', 4709: 'i6706', 4710: 'i6707', 4711: 'i6708', 4712: 'i6709', 4713: 'i6710', 4714: 'i6711', 4715: 'i6713', 4716: 'i6715', 4717: 'i6718', 4718: 'i6720', 4719: 'i6721', 4720: 'i6722', 4721: 'i6723', 4722: 'i6724', 4723: 'i6731', 4724: 'i6732', 4725: 'i6734', 4726: 'i6744', 4727: 'i6746', 4728: 'i6753', 4729: 'i6754', 4730: 'i6755', 4731: 'i6760', 4732: 'i6763', 4733: 'i6764', 4734: 'i6765', 4735: 'i6768', 4736: 'i6770', 4737: 'i6772', 4738: 'i6773', 4739: 'i6774', 4740: 'i6775', 4741: 'i6776', 4742: 'i6777', 4743: 'i6780', 4744: 'i6782', 4745: 'i6783', 4746: 'i6785', 4747: 'i6786', 4748: 'i6787', 4749: 'i6789', 4750: 'i6790', 4751: 'i6791', 4752: 'i6793', 4753: 'i6794', 4754: 'i6796', 4755: 'i6797', 4756: 'i6798', 4757: 'i6800', 4758: 'i6803', 4759: 'i6807', 4760: 'i6808', 4761: 'i6809', 4762: 'i6810', 4763: 'i6811', 4764: 'i6812', 4765: 'i6814', 4766: 'i6816', 4767: 'i6818', 4768: 'i6820', 4769: 'i6827', 4770: 'i6832', 4771: 'i6835', 4772: 'i6837', 4773: 'i6850', 4774: 'i6851', 4775: 'i6852', 4776: 'i6853', 4777: 'i6857', 4778: 'i6858', 4779: 'i6862', 4780: 'i6863', 4781: 'i6867', 4782: 'i6868', 4783: 'i6869', 4784: 'i6870', 4785: 'i6872', 4786: 'i6873', 4787: 'i6874', 4788: 'i6879', 4789: 'i6880', 4790: 'i6881', 4791: 'i6882', 4792: 'i6883', 4793: 'i6884', 4794: 'i6885', 4795: 'i6887', 4796: 'i6888', 4797: 'i6889', 4798: 'i6890', 4799: 'i6893', 4800: 'i6898', 4801: 'i6899', 4802: 'i6902', 4803: 'i6909', 4804: 'i6912', 4805: 'i6918', 4806: 'i6920', 4807: 'i6932', 4808: 'i6934', 4809: 'i6935', 4810: 'i6936', 4811: 'i6938', 4812: 'i6939', 4813: 'i6942', 4814: 'i6944', 4815: 'i6945', 4816: 'i6946', 4817: 'i6947', 4818: 'i6948', 4819: 'i6950', 4820: 'i6951', 4821: 'i6952', 4822: 'i6953', 4823: 'i6954', 4824: 'i6957', 4825: 'i6958', 4826: 'i6959', 4827: 'i6961', 4828: 'i6962', 4829: 'i6963', 4830: 'i6965', 4831: 'i6966', 4832: 'i6969', 4833: 'i6970', 4834: 'i6971', 4835: 'i6973', 4836: 'i6974', 4837: 'i6975', 4838: 'i6978', 4839: 'i6979', 4840: 'i6981', 4841: 'i6982', 4842: 'i6983', 4843: 'i6984', 4844: 'i6985', 4845: 'i6987', 4846: 'i6989', 4847: 'i6990', 4848: 'i6992', 4849: 'i6993', 4850: 'i6996', 4851: 'i6999', 4852: 'i7000', 4853: 'i7001', 4854: 'i7004', 4855: 'i7007', 4856: 'i7008', 4857: 'i7009', 4858: 'i7010', 4859: 'i7012', 4860: 'i7013', 4861: 'i7015', 4862: 'i7016', 4863: 'i7017', 4864: 'i7018', 4865: 'i7019', 4866: 'i7022', 4867: 'i7024', 4868: 'i7025', 4869: 'i7026', 4870: 'i7027', 4871: 'i7028', 4872: 'i7030', 4873: 'i7032', 4874: 'i7033', 4875: 'i7034', 4876: 'i7036', 4877: 'i7037', 4878: 'i7038', 4879: 'i7040', 4880: 'i7041', 4881: 'i7044', 4882: 'i7045', 4883: 'i7046', 4884: 'i7047', 4885: 'i7048', 4886: 'i7055', 4887: 'i7056', 4888: 'i7058', 4889: 'i7060', 4890: 'i7061', 4891: 'i7062', 4892: 'i7063', 4893: 'i7064', 4894: 'i7067', 4895: 'i7069', 4896: 'i7070', 4897: 'i7071', 4898: 'i7072', 4899: 'i7073', 4900: 'i7074', 4901: 'i7075', 4902: 'i7076', 4903: 'i7078', 4904: 'i7079', 4905: 'i7080', 4906: 'i7082', 4907: 'i7083', 4908: 'i7084', 4909: 'i7085', 4910: 'i7086', 4911: 'i7087', 4912: 'i7088', 4913: 'i7089', 4914: 'i7090', 4915: 'i7091', 4916: 'i7092', 4917: 'i7093', 4918: 'i7099', 4919: 'i7101', 4920: 'i7102', 4921: 'i7104', 4922: 'i7108', 4923: 'i7115', 4924: 'i7116', 4925: 'i7117', 4926: 'i7118', 4927: 'i7121', 4928: 'i7122', 4929: 'i7123', 4930: 'i7124', 4931: 'i7125', 4932: 'i7131', 4933: 'i7132', 4934: 'i7134', 4935: 'i7137', 4936: 'i7139', 4937: 'i7141', 4938: 'i7142', 4939: 'i7143', 4940: 'i7147', 4941: 'i7149', 4942: 'i7150', 4943: 'i7151', 4944: 'i7153', 4945: 'i7154', 4946: 'i7155', 4947: 'i7156', 4948: 'i7158', 4949: 'i7160', 4950: 'i7161', 4951: 'i7162', 4952: 'i7163', 4953: 'i7164', 4954: 'i7165', 4955: 'i7167', 4956: 'i7169', 4957: 'i7171', 4958: 'i7173', 4959: 'i7175', 4960: 'i7176', 4961: 'i7177', 4962: 'i7178', 4963: 'i7179', 4964: 'i7181', 4965: 'i7184', 4966: 'i7190', 4967: 'i7192', 4968: 'i7193', 4969: 'i7205', 4970: 'i7206', 4971: 'i7208', 4972: 'i7209', 4973: 'i7211', 4974: 'i7212', 4975: 'i7215', 4976: 'i7216', 4977: 'i7217', 4978: 'i7218', 4979: 'i7219', 4980: 'i7223', 4981: 'i7225', 4982: 'i7228', 4983: 'i7234', 4984: 'i7235', 4985: 'i7236', 4986: 'i7238', 4987: 'i7245', 4988: 'i7247', 4989: 'i7248', 4990: 'i7251', 4991: 'i7254', 4992: 'i7255', 4993: 'i7256', 4994: 'i7257', 4995: 'i7258', 4996: 'i7259', 4997: 'i7262', 4998: 'i7263', 4999: 'i7264', 5000: 'i7265', 5001: 'i7266', 5002: 'i7282', 5003: 'i7285', 5004: 'i7293', 5005: 'i7294', 5006: 'i7297', 5007: 'i7299', 5008: 'i7301', 5009: 'i7303', 5010: 'i7304', 5011: 'i7305', 5012: 'i7307', 5013: 'i7308', 5014: 'i7310', 5015: 'i7311', 5016: 'i7312', 5017: 'i7315', 5018: 'i7316', 5019: 'i7317', 5020: 'i7318', 5021: 'i7319', 5022: 'i7320', 5023: 'i7321', 5024: 'i7323', 5025: 'i7324', 5026: 'i7325', 5027: 'i7326', 5028: 'i7327', 5029: 'i7336', 5030: 'i7340', 5031: 'i7344', 5032: 'i7345', 5033: 'i7346', 5034: 'i7347', 5035: 'i7348', 5036: 'i7352', 5037: 'i7354', 5038: 'i7357', 5039: 'i7360', 5040: 'i7361', 5041: 'i7362', 5042: 'i7364', 5043: 'i7366', 5044: 'i7367', 5045: 'i7369', 5046: 'i7371', 5047: 'i7372', 5048: 'i7373', 5049: 'i7375', 5050: 'i7376', 5051: 'i7377', 5052: 'i7379', 5053: 'i7380', 5054: 'i7381', 5055: 'i7382', 5056: 'i7386', 5057: 'i7387', 5058: 'i7390', 5059: 'i7394', 5060: 'i7395', 5061: 'i7396', 5062: 'i7411', 5063: 'i7414', 5064: 'i7419', 5065: 'i7438', 5066: 'i7439', 5067: 'i7440', 5068: 'i7444', 5069: 'i7445', 5070: 'i7448', 5071: 'i7449', 5072: 'i7450', 5073: 'i7451', 5074: 'i7454', 5075: 'i7458', 5076: 'i7459', 5077: 'i7460', 5078: 'i7477', 5079: 'i7479', 5080: 'i7481', 5081: 'i7482', 5082: 'i7486', 5083: 'i7487', 5084: 'i7493', 5085: 'i7541', 5086: 'i7560', 5087: 'i7562', 5088: 'i7564', 5089: 'i7566', 5090: 'i7569', 5091: 'i7570', 5092: 'i7572', 5093: 'i7573', 5094: 'i7579', 5095: 'i7581', 5096: 'i7584', 5097: 'i7587', 5098: 'i7614', 5099: 'i7618', 5100: 'i7619', 5101: 'i7620', 5102: 'i7624', 5103: 'i7646', 5104: 'i7647', 5105: 'i7649', 5106: 'i7657', 5107: 'i7669', 5108: 'i7698', 5109: 'i7700', 5110: 'i7701', 5111: 'i7702', 5112: 'i7705', 5113: 'i7706', 5114: 'i7708', 5115: 'i7713', 5116: 'i7714', 5117: 'i7716', 5118: 'i7720', 5119: 'i7727', 5120: 'i7728', 5121: 'i7743', 5122: 'i7745', 5123: 'i7748', 5124: 'i7753', 5125: 'i7756', 5126: 'i7757', 5127: 'i7762', 5128: 'i7766', 5129: 'i7767', 5130: 'i7772', 5131: 'i7773', 5132: 'i7781', 5133: 'i7786', 5134: 'i7789', 5135: 'i7802', 5136: 'i7810', 5137: 'i7811', 5138: 'i7812', 5139: 'i7815', 5140: 'i7822', 5141: 'i7826', 5142: 'i7831', 5143: 'i7832', 5144: 'i7833', 5145: 'i7834', 5146: 'i7835', 5147: 'i7839', 5148: 'i7840', 5149: 'i7841', 5150: 'i7842', 5151: 'i7845', 5152: 'i7846', 5153: 'i7879', 5154: 'i7882', 5155: 'i7883', 5156: 'i7884', 5157: 'i7888', 5158: 'i7891', 5159: 'i7894', 5160: 'i7896', 5161: 'i7899', 5162: 'i7900', 5163: 'i7916', 5164: 'i7924', 5165: 'i7925', 5166: 'i7930', 5167: 'i7932', 5168: 'i7934', 5169: 'i7940', 5170: 'i7944', 5171: 'i7979', 5172: 'i7980', 5173: 'i7981', 5174: 'i7982', 5175: 'i7983', 5176: 'i7991', 5177: 'i8008', 5178: 'i8010', 5179: 'i8011', 5180: 'i8012', 5181: 'i8014', 5182: 'i8019', 5183: 'i8025', 5184: 'i8033', 5185: 'i8035', 5186: 'i8042', 5187: 'i8043', 5188: 'i8044', 5189: 'i8057', 5190: 'i8093', 5191: 'i8094', 5192: 'i8118', 5193: 'i8119', 5194: 'i8121', 5195: 'i8125', 5196: 'i8128', 5197: 'i8132', 5198: 'i8136', 5199: 'i8137', 5200: 'i8138', 5201: 'i8142', 5202: 'i8153', 5203: 'i8154', 5204: 'i8157', 5205: 'i8158', 5206: 'i8167', 5207: 'i8169', 5208: 'i8189', 5209: 'i8190', 5210: 'i8191', 5211: 'i8195', 5212: 'i8207', 5213: 'i8225', 5214: 'i8228', 5215: 'i8232', 5216: 'i8235', 5217: 'i8236', 5218: 'i8238', 5219: 'i8241', 5220: 'i8253', 5221: 'i8254', 5222: 'i8261', 5223: 'i8264', 5224: 'i8266', 5225: 'i8270', 5226: 'i8275', 5227: 'i8290', 5228: 'i8293', 5229: 'i8302', 5230: 'i8327', 5231: 'i8331', 5232: 'i8335', 5233: 'i8336', 5234: 'i8337', 5235: 'i8338', 5236: 'i8340', 5237: 'i8341', 5238: 'i8360', 5239: 'i8361', 5240: 'i8362', 5241: 'i8363', 5242: 'i8364', 5243: 'i8366', 5244: 'i8368', 5245: 'i8369', 5246: 'i8370', 5247: 'i8371', 5248: 'i8372', 5249: 'i8373', 5250: 'i8375', 5251: 'i8376', 5252: 'i8379', 5253: 'i8382', 5254: 'i8383', 5255: 'i8385', 5256: 'i8387', 5257: 'i8402', 5258: 'i8410', 5259: 'i8424', 5260: 'i8426', 5261: 'i8446', 5262: 'i8447', 5263: 'i8450', 5264: 'i8451', 5265: 'i8454', 5266: 'i8456', 5267: 'i8458', 5268: 'i8459', 5269: 'i8461', 5270: 'i8462', 5271: 'i8463', 5272: 'i8464', 5273: 'i8465', 5274: 'i8477', 5275: 'i8481', 5276: 'i8482', 5277: 'i8487', 5278: 'i8491', 5279: 'i8492', 5280: 'i8493', 5281: 'i8494', 5282: 'i8495', 5283: 'i8501', 5284: 'i8502', 5285: 'i8506', 5286: 'i8507', 5287: 'i8511', 5288: 'i8512', 5289: 'i8518', 5290: 'i8521', 5291: 'i8526', 5292: 'i8528', 5293: 'i8529', 5294: 'i8530', 5295: 'i8531', 5296: 'i8532', 5297: 'i8533', 5298: 'i8534', 5299: 'i8535', 5300: 'i8542', 5301: 'i8574', 5302: 'i8575', 5303: 'i8577', 5304: 'i8580', 5305: 'i8581', 5306: 'i8582', 5307: 'i8587', 5308: 'i8591', 5309: 'i8593', 5310: 'i8596', 5311: 'i8600', 5312: 'i8601', 5313: 'i8604', 5314: 'i8607', 5315: 'i8609', 5316: 'i8610', 5317: 'i8611', 5318: 'i8614', 5319: 'i8617', 5320: 'i8620', 5321: 'i8622', 5322: 'i8623', 5323: 'i8626', 5324: 'i8632', 5325: 'i8633', 5326: 'i8636', 5327: 'i8638', 5328: 'i8640', 5329: 'i8641', 5330: 'i8643', 5331: 'i8644', 5332: 'i8645', 5333: 'i8650', 5334: 'i8656', 5335: 'i8665', 5336: 'i8666', 5337: 'i8667', 5338: 'i8677', 5339: 'i8684', 5340: 'i8685', 5341: 'i8690', 5342: 'i8695', 5343: 'i8711', 5344: 'i8712', 5345: 'i8713', 5346: 'i8714', 5347: 'i8718', 5348: 'i8724', 5349: 'i8730', 5350: 'i8738', 5351: 'i8743', 5352: 'i8748', 5353: 'i8753', 5354: 'i8754', 5355: 'i8771', 5356: 'i8772', 5357: 'i8773', 5358: 'i8774', 5359: 'i8778', 5360: 'i8781', 5361: 'i8783', 5362: 'i8784', 5363: 'i8795', 5364: 'i8796', 5365: 'i8798', 5366: 'i8799', 5367: 'i8807', 5368: 'i8808', 5369: 'i8809', 5370: 'i8810', 5371: 'i8813', 5372: 'i8814', 5373: 'i8815', 5374: 'i8827', 5375: 'i8830', 5376: 'i8831', 5377: 'i8832', 5378: 'i8833', 5379: 'i8835', 5380: 'i8836', 5381: 'i8838', 5382: 'i8840', 5383: 'i8848', 5384: 'i8860', 5385: 'i8861', 5386: 'i8864', 5387: 'i8865', 5388: 'i8866', 5389: 'i8869', 5390: 'i8870', 5391: 'i8873', 5392: 'i8874', 5393: 'i8875', 5394: 'i8879', 5395: 'i8880', 5396: 'i8894', 5397: 'i8907', 5398: 'i8908', 5399: 'i8910', 5400: 'i8912', 5401: 'i8914', 5402: 'i8915', 5403: 'i8916', 5404: 'i8917', 5405: 'i8918', 5406: 'i8919', 5407: 'i8920', 5408: 'i8921', 5409: 'i8933', 5410: 'i8934', 5411: 'i8937', 5412: 'i8938', 5413: 'i8939', 5414: 'i8943', 5415: 'i8946', 5416: 'i8947', 5417: 'i8948', 5418: 'i8949', 5419: 'i8950', 5420: 'i8951', 5421: 'i8952', 5422: 'i8955', 5423: 'i8957', 5424: 'i8958', 5425: 'i8959', 5426: 'i8961', 5427: 'i8965', 5428: 'i8966', 5429: 'i8967', 5430: 'i8968', 5431: 'i8969', 5432: 'i8970', 5433: 'i8972', 5434: 'i8973', 5435: 'i8974', 5436: 'i8977', 5437: 'i8978', 5438: 'i8979', 5439: 'i8981', 5440: 'i8982', 5441: 'i8983', 5442: 'i8984', 5443: 'i8985', 5444: 'i8987', 5445: 'i8989', 5446: 'i8998', 5447: 'i9005', 5448: 'i9010', 5449: 'i9018', 5450: 'i25750', 5451: 'i25752', 5452: 'i25753', 5453: 'i25757', 5454: 'i25769', 5455: 'i25771', 5456: 'i25788', 5457: 'i25795', 5458: 'i25805', 5459: 'i25825', 5460: 'i25826', 5461: 'i25827', 5462: 'i25841', 5463: 'i25850', 5464: 'i25856', 5465: 'i25865', 5466: 'i25870', 5467: 'i25886', 5468: 'i25887', 5469: 'i25898', 5470: 'i25923', 5471: 'i25927', 5472: 'i25937', 5473: 'i25940', 5474: 'i25952', 5475: 'i25962', 5476: 'i25996', 5477: 'i25999', 5478: 'i26003', 5479: 'i26038', 5480: 'i26059', 5481: 'i26082', 5482: 'i26084', 5483: 'i26116', 5484: 'i26131', 5485: 'i26133', 5486: 'i26147', 5487: 'i26151', 5488: 'i26152', 5489: 'i26159', 5490: 'i26169', 5491: 'i26171', 5492: 'i26172', 5493: 'i26183', 5494: 'i26184', 5495: 'i26198', 5496: 'i26236', 5497: 'i26237', 5498: 'i26242', 5499: 'i26249', 5500: 'i26258', 5501: 'i26265', 5502: 'i26283', 5503: 'i26285', 5504: 'i26322', 5505: 'i26326', 5506: 'i26340', 5507: 'i26344', 5508: 'i26350', 5509: 'i26357', 5510: 'i26359', 5511: 'i26365', 5512: 'i26366', 5513: 'i26386', 5514: 'i26391', 5515: 'i26394', 5516: 'i26399', 5517: 'i26401', 5518: 'i26409', 5519: 'i26413', 5520: 'i26422', 5521: 'i26429', 5522: 'i26464', 5523: 'i26467', 5524: 'i26471', 5525: 'i26492', 5526: 'i26498', 5527: 'i26504', 5528: 'i26524', 5529: 'i26527', 5530: 'i26528', 5531: 'i26539', 5532: 'i26547', 5533: 'i26555', 5534: 'i26562', 5535: 'i26564', 5536: 'i26578', 5537: 'i26585', 5538: 'i26599', 5539: 'i26603', 5540: 'i26606', 5541: 'i26612', 5542: 'i26614', 5543: 'i26629', 5544: 'i26631', 5545: 'i26645', 5546: 'i26649', 5547: 'i26662', 5548: 'i26676', 5549: 'i26680', 5550: 'i26681', 5551: 'i26686', 5552: 'i26693', 5553: 'i26700', 5554: 'i26701', 5555: 'i26704', 5556: 'i26712', 5557: 'i26717', 5558: 'i26726', 5559: 'i26729', 5560: 'i26743', 5561: 'i26750', 5562: 'i26761', 5563: 'i26764', 5564: 'i26765', 5565: 'i26776', 5566: 'i26778', 5567: 'i26791', 5568: 'i26797', 5569: 'i26810', 5570: 'i26812', 5571: 'i26838', 5572: 'i26849', 5573: 'i26861', 5574: 'i26870', 5575: 'i26871', 5576: 'i26887', 5577: 'i26901', 5578: 'i26903', 5579: 'i26947', 5580: 'i26965', 5581: 'i26974', 5582: 'i26985', 5583: 'i26999', 5584: 'i27003', 5585: 'i27006', 5586: 'i27020', 5587: 'i27022', 5588: 'i27032', 5589: 'i27074', 5590: 'i27075', 5591: 'i27140', 5592: 'i27155', 5593: 'i27156', 5594: 'i27176', 5595: 'i27193', 5596: 'i27251', 5597: 'i27266', 5598: 'i27311', 5599: 'i27317', 5600: 'i27320', 5601: 'i27329', 5602: 'i27368', 5603: 'i27369', 5604: 'i27397', 5605: 'i27408', 5606: 'i27416', 5607: 'i27420', 5608: 'i27426', 5609: 'i27441', 5610: 'i27450', 5611: 'i27473', 5612: 'i27478', 5613: 'i27480', 5614: 'i27482', 5615: 'i27513', 5616: 'i27523', 5617: 'i27539', 5618: 'i27563', 5619: 'i27584', 5620: 'i27592', 5621: 'i27604', 5622: 'i27611', 5623: 'i27644', 5624: 'i27660', 5625: 'i27664', 5626: 'i27667', 5627: 'i27674', 5628: 'i27683', 5629: 'i27685', 5630: 'i27695', 5631: 'i27705', 5632: 'i27706', 5633: 'i27721', 5634: 'i27722', 5635: 'i27728', 5636: 'i27731', 5637: 'i27741', 5638: 'i27751', 5639: 'i27768', 5640: 'i27769', 5641: 'i27772', 5642: 'i27773', 5643: 'i27784', 5644: 'i27788', 5645: 'i27790', 5646: 'i27793', 5647: 'i27801', 5648: 'i27802', 5649: 'i27803', 5650: 'i27808', 5651: 'i27815', 5652: 'i27816', 5653: 'i27820', 5654: 'i27821', 5655: 'i27822', 5656: 'i27826', 5657: 'i27830', 5658: 'i27831', 5659: 'i27834', 5660: 'i27837', 5661: 'i27838', 5662: 'i27839', 5663: 'i27846', 5664: 'i27850', 5665: 'i27865', 5666: 'i27866', 5667: 'i27869', 5668: 'i27873', 5669: 'i27878', 5670: 'i27879', 5671: 'i27882', 5672: 'i27904', 5673: 'i27912', 5674: 'i30707', 5675: 'i30745', 5676: 'i30749', 5677: 'i30793', 5678: 'i30810', 5679: 'i30812', 5680: 'i30816', 5681: 'i30818', 5682: 'i30820', 5683: 'i30822', 5684: 'i30825', 5685: 'i30846', 5686: 'i30848', 5687: 'i30850', 5688: 'i30890', 5689: 'i30894', 5690: 'i30898', 5691: 'i31000', 5692: 'i31030', 5693: 'i31049', 5694: 'i31083', 5695: 'i31086', 5696: 'i31101', 5697: 'i31114', 5698: 'i31116', 5699: 'i31150', 5700: 'i31184', 5701: 'i31193', 5702: 'i31221', 5703: 'i31223', 5704: 'i31225', 5705: 'i31260', 5706: 'i31364', 5707: 'i31410', 5708: 'i31420', 5709: 'i31424', 5710: 'i31427', 5711: 'i31431', 5712: 'i31433', 5713: 'i31437', 5714: 'i31522', 5715: 'i31545', 5716: 'i31553', 5717: 'i31617', 5718: 'i31658', 5719: 'i31660', 5720: 'i31664', 5721: 'i31685', 5722: 'i31694', 5723: 'i31696', 5724: 'i31698', 5725: 'i31804', 5726: 'i31851', 5727: 'i31867', 5728: 'i31878', 5729: 'i31903', 5730: 'i31923', 5731: 'i31925', 5732: 'i31952', 5733: 'i32009', 5734: 'i32011', 5735: 'i32017', 5736: 'i32019', 5737: 'i32022', 5738: 'i32029', 5739: 'i32031', 5740: 'i32060', 5741: 'i32116', 5742: 'i32139', 5743: 'i32213', 5744: 'i32243', 5745: 'i32289', 5746: 'i32291', 5747: 'i32294', 5748: 'i32296', 5749: 'i32298', 5750: 'i32302', 5751: 'i32442', 5752: 'i32456', 5753: 'i32460', 5754: 'i32469', 5755: 'i32511', 5756: 'i32554', 5757: 'i32582', 5758: 'i32584', 5759: 'i32587', 5760: 'i32589', 5761: 'i32596', 5762: 'i32598', 5763: 'i32600', 5764: 'i32620', 5765: 'i32657', 5766: 'i32659', 5767: 'i32666', 5768: 'i32743', 5769: 'i32862', 5770: 'i32875', 5771: 'i32898', 5772: 'i33004', 5773: 'i33085', 5774: 'i33090', 5775: 'i33124', 5776: 'i33126', 5777: 'i33132', 5778: 'i33145', 5779: 'i33148', 5780: 'i33154', 5781: 'i33158', 5782: 'i33162', 5783: 'i33164', 5784: 'i33166', 5785: 'i33201', 5786: 'i33237', 5787: 'i33294', 5788: 'i33312', 5789: 'i33421', 5790: 'i33437', 5791: 'i33493', 5792: 'i33495', 5793: 'i33499', 5794: 'i33558', 5795: 'i33615', 5796: 'i33629', 5797: 'i33639', 5798: 'i33644', 5799: 'i33646', 5800: 'i33660', 5801: 'i33669', 5802: 'i33672', 5803: 'i33677', 5804: 'i33679', 5805: 'i33681', 5806: 'i33683', 5807: 'i33725', 5808: 'i33779', 5809: 'i33781', 5810: 'i33794', 5811: 'i33801', 5812: 'i33815', 5813: 'i33826', 5814: 'i33830', 5815: 'i33834', 5816: 'i33836', 5817: 'i33880', 5818: 'i33896', 5819: 'i33903', 5820: 'i34018', 5821: 'i34048', 5822: 'i34072', 5823: 'i34129', 5824: 'i34143', 5825: 'i34148', 5826: 'i34150', 5827: 'i34153', 5828: 'i34162', 5829: 'i34164', 5830: 'i34271', 5831: 'i34292', 5832: 'i34312', 5833: 'i34319', 5834: 'i34321', 5835: 'i34323', 5836: 'i34326', 5837: 'i34330', 5838: 'i34332', 5839: 'i34334', 5840: 'i34336', 5841: 'i34338', 5842: 'i34359', 5843: 'i34397', 5844: 'i34405', 5845: 'i34437', 5846: 'i34450', 5847: 'i34520', 5848: 'i34528', 5849: 'i34530', 5850: 'i34532', 5851: 'i34534', 5852: 'i34536', 5853: 'i34542', 5854: 'i34800', 5855: 'i34811', 5856: 'i35015', 5857: 'i35347', 5858: 'i35807', 5859: 'i35836', 5860: 'i35957', 5861: 'i36276', 5862: 'i36289', 5863: 'i36363', 5864: 'i36397', 5865: 'i36401', 5866: 'i36477', 5867: 'i36509', 5868: 'i36517', 5869: 'i36519', 5870: 'i36525', 5871: 'i36527', 5872: 'i36529', 5873: 'i36533', 5874: 'i36535', 5875: 'i36537', 5876: 'i36708', 5877: 'i36850', 5878: 'i36931', 5879: 'i37211', 5880: 'i37240', 5881: 'i37380', 5882: 'i37382', 5883: 'i37384', 5884: 'i37386', 5885: 'i37444', 5886: 'i37477', 5887: 'i37545', 5888: 'i37720', 5889: 'i37727', 5890: 'i37729', 5891: 'i37731', 5892: 'i37733', 5893: 'i37736', 5894: 'i37739', 5895: 'i37741', 5896: 'i37830', 5897: 'i37844', 5898: 'i37853', 5899: 'i37857', 5900: 'i38038', 5901: 'i38061', 5902: 'i38095', 5903: 'i38159', 5904: 'i38198', 5905: 'i38304', 5906: 'i38583', 5907: 'i38798', 5908: 'i38886', 5909: 'i38992', 5910: 'i39183', 5911: 'i39231', 5912: 'i39234', 5913: 'i39292', 5914: 'i39381', 5915: 'i39400', 5916: 'i39414', 5917: 'i39427', 5918: 'i39435', 5919: 'i39444', 5920: 'i39446', 5921: 'i39449', 5922: 'i39715', 5923: 'i39801', 5924: 'i39869', 5925: 'i40148', 5926: 'i40278', 5927: 'i40339', 5928: 'i40412', 5929: 'i40414', 5930: 'i40478', 5931: 'i40491', 5932: 'i40581', 5933: 'i40583', 5934: 'i40614', 5935: 'i40617', 5936: 'i40629', 5937: 'i40697', 5938: 'i40723', 5939: 'i40732', 5940: 'i40815', 5941: 'i40819', 5942: 'i40826', 5943: 'i40851', 5944: 'i40870', 5945: 'i40946', 5946: 'i40955', 5947: 'i40959', 5948: 'i40962', 5949: 'i41014', 5950: 'i41285', 5951: 'i41527', 5952: 'i41566', 5953: 'i41569', 5954: 'i41571', 5955: 'i41573', 5956: 'i41617', 5957: 'i41712', 5958: 'i41716', 5959: 'i41724', 5960: 'i41828', 5961: 'i41863', 5962: 'i41997', 5963: 'i42002', 5964: 'i42004', 5965: 'i42007', 5966: 'i42009', 5967: 'i42011', 5968: 'i42013', 5969: 'i42018', 5970: 'i42191', 5971: 'i42418', 5972: 'i42556', 5973: 'i42632', 5974: 'i42718', 5975: 'i42723', 5976: 'i42725', 5977: 'i42728', 5978: 'i42730', 5979: 'i42732', 5980: 'i42738', 5981: 'i42740', 5982: 'i42761', 5983: 'i42946', 5984: 'i43289', 5985: 'i43333', 5986: 'i43376', 5987: 'i43396', 5988: 'i43419', 5989: 'i43460', 5990: 'i43556', 5991: 'i43560', 5992: 'i43679', 5993: 'i43684', 5994: 'i43708', 5995: 'i43836', 5996: 'i43869', 5997: 'i43871', 5998: 'i43904', 5999: 'i43908', 6000: 'i43912', 6001: 'i43914', 6002: 'i43917', 6003: 'i43919', 6004: 'i43921', 6005: 'i43928', 6006: 'i43936', 6007: 'i44004', 6008: 'i44020', 6009: 'i44022', 6010: 'i44189', 6011: 'i44191', 6012: 'i44193', 6013: 'i44195', 6014: 'i44197', 6015: 'i44199', 6016: 'i44204', 6017: 'i44238', 6018: 'i44397', 6019: 'i44399', 6020: 'i44511', 6021: 'i44555', 6022: 'i44597', 6023: 'i44613', 6024: 'i44633', 6025: 'i44665', 6026: 'i44694', 6027: 'i44709', 6028: 'i44719', 6029: 'i44731', 6030: 'i44759', 6031: 'i44761', 6032: 'i44773', 6033: 'i44777', 6034: 'i44788', 6035: 'i44828', 6036: 'i44840', 6037: 'i44849', 6038: 'i44851', 6039: 'i44864', 6040: 'i44889', 6041: 'i44929', 6042: 'i44931', 6043: 'i44972', 6044: 'i44974', 6045: 'i45028', 6046: 'i45062', 6047: 'i45081', 6048: 'i45106', 6049: 'i45175', 6050: 'i45183', 6051: 'i45186', 6052: 'i45208', 6053: 'i45210', 6054: 'i45221', 6055: 'i45382', 6056: 'i45431', 6057: 'i45440', 6058: 'i45442', 6059: 'i45447', 6060: 'i45499', 6061: 'i45501', 6062: 'i45503', 6063: 'i45517', 6064: 'i45635', 6065: 'i45658', 6066: 'i45662', 6067: 'i45666', 6068: 'i45668', 6069: 'i45672', 6070: 'i45720', 6071: 'i45722', 6072: 'i45726', 6073: 'i45728', 6074: 'i45730', 6075: 'i45732', 6076: 'i45880', 6077: 'i45928', 6078: 'i45950', 6079: 'i45969', 6080: 'i46062', 6081: 'i46105', 6082: 'i46322', 6083: 'i46335', 6084: 'i46337', 6085: 'i46347', 6086: 'i46530', 6087: 'i46559', 6088: 'i46578', 6089: 'i46664', 6090: 'i46723', 6091: 'i46850', 6092: 'i46855', 6093: 'i46948', 6094: 'i46965', 6095: 'i46967', 6096: 'i46970', 6097: 'i46972', 6098: 'i46974', 6099: 'i46976', 6100: 'i47044', 6101: 'i47099', 6102: 'i47122', 6103: 'i47124', 6104: 'i47200', 6105: 'i47254', 6106: 'i47404', 6107: 'i47423', 6108: 'i47465', 6109: 'i47491', 6110: 'i47516', 6111: 'i47518', 6112: 'i47610', 6113: 'i47629', 6114: 'i47640', 6115: 'i47644', 6116: 'i47646', 6117: 'i47721', 6118: 'i47725', 6119: 'i47736', 6120: 'i47810', 6121: 'i47894', 6122: 'i47950', 6123: 'i47970', 6124: 'i47978', 6125: 'i47997', 6126: 'i47999', 6127: 'i48043', 6128: 'i48082', 6129: 'i48142', 6130: 'i48161', 6131: 'i48262', 6132: 'i48304', 6133: 'i48319', 6134: 'i48322', 6135: 'i48326', 6136: 'i48342', 6137: 'i48385', 6138: 'i48394', 6139: 'i48412', 6140: 'i48414', 6141: 'i48516', 6142: 'i48518', 6143: 'i48520', 6144: 'i48593', 6145: 'i48596', 6146: 'i48598', 6147: 'i48649', 6148: 'i48678', 6149: 'i48696', 6150: 'i48698', 6151: 'i48738', 6152: 'i48741', 6153: 'i48744', 6154: 'i48774', 6155: 'i48780', 6156: 'i48783', 6157: 'i48872', 6158: 'i48877', 6159: 'i48879', 6160: 'i48883', 6161: 'i48982', 6162: 'i48997', 6163: 'i49013', 6164: 'i49130', 6165: 'i49132', 6166: 'i49220', 6167: 'i49265', 6168: 'i49272', 6169: 'i49274', 6170: 'i49276', 6171: 'i49278', 6172: 'i49280', 6173: 'i49284', 6174: 'i49286', 6175: 'i49347', 6176: 'i49396', 6177: 'i49524', 6178: 'i49530', 6179: 'i49647', 6180: 'i49649', 6181: 'i49651', 6182: 'i49666', 6183: 'i49688', 6184: 'i49735', 6185: 'i49772', 6186: 'i49793', 6187: 'i49822', 6188: 'i49824', 6189: 'i49932', 6190: 'i49957', 6191: 'i49961', 6192: 'i50005', 6193: 'i50064', 6194: 'i50068', 6195: 'i50160', 6196: 'i50189', 6197: 'i50274', 6198: 'i50354', 6199: 'i50356', 6200: 'i50440', 6201: 'i50442', 6202: 'i50514', 6203: 'i50601', 6204: 'i50613', 6205: 'i50658', 6206: 'i50685', 6207: 'i50740', 6208: 'i50792', 6209: 'i50794', 6210: 'i50798', 6211: 'i50802', 6212: 'i50804', 6213: 'i50842', 6214: 'i50851', 6215: 'i50872', 6216: 'i50912', 6217: 'i50942', 6218: 'i50954', 6219: 'i50999', 6220: 'i51024', 6221: 'i51037', 6222: 'i51077', 6223: 'i51080', 6224: 'i51082', 6225: 'i51084', 6226: 'i51086', 6227: 'i51088', 6228: 'i51091', 6229: 'i51167', 6230: 'i51174', 6231: 'i51255', 6232: 'i51412', 6233: 'i51471', 6234: 'i51540', 6235: 'i51545', 6236: 'i51562', 6237: 'i51573', 6238: 'i51575', 6239: 'i51662', 6240: 'i51698', 6241: 'i51705', 6242: 'i51709', 6243: 'i51834', 6244: 'i51884', 6245: 'i51903', 6246: 'i51925', 6247: 'i51927', 6248: 'i51931', 6249: 'i51935', 6250: 'i51937', 6251: 'i51939', 6252: 'i52241', 6253: 'i52245', 6254: 'i52281', 6255: 'i52287', 6256: 'i52319', 6257: 'i52328', 6258: 'i52435', 6259: 'i52458', 6260: 'i52579', 6261: 'i52604', 6262: 'i52694', 6263: 'i52712', 6264: 'i52722', 6265: 'i52730', 6266: 'i52767', 6267: 'i52831', 6268: 'i52867', 6269: 'i52885', 6270: 'i52950', 6271: 'i52952', 6272: 'i52967', 6273: 'i52973', 6274: 'i52975', 6275: 'i53000', 6276: 'i53022', 6277: 'i53024', 6278: 'i53121', 6279: 'i53123', 6280: 'i53125', 6281: 'i53127', 6282: 'i53129', 6283: 'i53138', 6284: 'i53140', 6285: 'i53143', 6286: 'i53161', 6287: 'i53280', 6288: 'i53318', 6289: 'i53322', 6290: 'i53355', 6291: 'i53460', 6292: 'i53464', 6293: 'i53466', 6294: 'i53468', 6295: 'i53519', 6296: 'i53550', 6297: 'i53574', 6298: 'i53578', 6299: 'i53883', 6300: 'i53894', 6301: 'i53921', 6302: 'i53953', 6303: 'i53956', 6304: 'i53972', 6305: 'i53974', 6306: 'i53993', 6307: 'i53996', 6308: 'i54001', 6309: 'i54004', 6310: 'i54116', 6311: 'i54185', 6312: 'i54190', 6313: 'i54256', 6314: 'i54259', 6315: 'i54272', 6316: 'i54276', 6317: 'i54281', 6318: 'i54286', 6319: 'i54354', 6320: 'i54503', 6321: 'i54648', 6322: 'i54732', 6323: 'i54734', 6324: 'i54736', 6325: 'i54745', 6326: 'i54768', 6327: 'i54780', 6328: 'i54881', 6329: 'i54962', 6330: 'i54995', 6331: 'i54997', 6332: 'i54999', 6333: 'i55052', 6334: 'i55061', 6335: 'i55069', 6336: 'i55071', 6337: 'i55094', 6338: 'i55112', 6339: 'i55116', 6340: 'i55118', 6341: 'i55167', 6342: 'i55190', 6343: 'i55205', 6344: 'i55232', 6345: 'i55245', 6346: 'i55247', 6347: 'i55250', 6348: 'i55253', 6349: 'i55259', 6350: 'i55261', 6351: 'i55267', 6352: 'i55269', 6353: 'i55276', 6354: 'i55278', 6355: 'i55280', 6356: 'i55282', 6357: 'i55290', 6358: 'i55363', 6359: 'i55391', 6360: 'i55442', 6361: 'i55444', 6362: 'i55451', 6363: 'i55553', 6364: 'i55577', 6365: 'i55620', 6366: 'i55687', 6367: 'i55721', 6368: 'i55765', 6369: 'i55768', 6370: 'i55814', 6371: 'i55820', 6372: 'i55830', 6373: 'i55854', 6374: 'i55872', 6375: 'i55908', 6376: 'i55946', 6377: 'i55995', 6378: 'i56003', 6379: 'i56060', 6380: 'i56145', 6381: 'i56152', 6382: 'i56156', 6383: 'i56169', 6384: 'i56171', 6385: 'i56174', 6386: 'i56176', 6387: 'i56251', 6388: 'i56286', 6389: 'i56336', 6390: 'i56339', 6391: 'i56367', 6392: 'i56389', 6393: 'i56563', 6394: 'i56587', 6395: 'i56607', 6396: 'i56715', 6397: 'i56757', 6398: 'i56775', 6399: 'i56782', 6400: 'i56788', 6401: 'i56801', 6402: 'i56805', 6403: 'i56869', 6404: 'i56915', 6405: 'i56921', 6406: 'i56941', 6407: 'i56949', 6408: 'i57183', 6409: 'i57243', 6410: 'i57274', 6411: 'i57326', 6412: 'i57368', 6413: 'i57499', 6414: 'i57502', 6415: 'i57504', 6416: 'i57522', 6417: 'i57526', 6418: 'i57528', 6419: 'i57532', 6420: 'i57640', 6421: 'i57669', 6422: 'i57772', 6423: 'i57843', 6424: 'i57951', 6425: 'i58025', 6426: 'i58047', 6427: 'i58078', 6428: 'i58103', 6429: 'i58105', 6430: 'i58107', 6431: 'i58154', 6432: 'i58156', 6433: 'i58162', 6434: 'i58191', 6435: 'i58291', 6436: 'i58293', 6437: 'i58295', 6438: 'i58299', 6439: 'i58301', 6440: 'i58303', 6441: 'i58306', 6442: 'i58315', 6443: 'i58332', 6444: 'i58347', 6445: 'i58376', 6446: 'i58404', 6447: 'i58425', 6448: 'i58554', 6449: 'i58559', 6450: 'i58627', 6451: 'i58803', 6452: 'i58826', 6453: 'i58839', 6454: 'i58842', 6455: 'i58870', 6456: 'i58876', 6457: 'i58972', 6458: 'i58998', 6459: 'i59014', 6460: 'i59016', 6461: 'i59018', 6462: 'i59022', 6463: 'i59103', 6464: 'i59126', 6465: 'i59129', 6466: 'i59141', 6467: 'i59220', 6468: 'i59258', 6469: 'i59295', 6470: 'i59306', 6471: 'i59315', 6472: 'i59333', 6473: 'i59336', 6474: 'i59369', 6475: 'i59387', 6476: 'i59421', 6477: 'i59440', 6478: 'i59501', 6479: 'i59604', 6480: 'i59615', 6481: 'i59725', 6482: 'i59731', 6483: 'i59738', 6484: 'i59784', 6485: 'i59810', 6486: 'i59900', 6487: 'i59985', 6488: 'i60037', 6489: 'i60040', 6490: 'i60069', 6491: 'i60072', 6492: 'i60074', 6493: 'i60126', 6494: 'i60128', 6495: 'i60161', 6496: 'i60289', 6497: 'i60303', 6498: 'i60333', 6499: 'i60363', 6500: 'i60389', 6501: 'i60397', 6502: 'i60408', 6503: 'i60487', 6504: 'i60514', 6505: 'i60516', 6506: 'i60674', 6507: 'i60684', 6508: 'i60735', 6509: 'i60737', 6510: 'i60753', 6511: 'i60756', 6512: 'i60760', 6513: 'i60766', 6514: 'i60818', 6515: 'i60832', 6516: 'i60885', 6517: 'i60937', 6518: 'i60941', 6519: 'i60943', 6520: 'i60950', 6521: 'i61011', 6522: 'i61024', 6523: 'i61026', 6524: 'i61123', 6525: 'i61132', 6526: 'i61160', 6527: 'i61167', 6528: 'i61210', 6529: 'i61236', 6530: 'i61240', 6531: 'i61248', 6532: 'i61250', 6533: 'i61289', 6534: 'i61319', 6535: 'i61323', 6536: 'i61348', 6537: 'i61350', 6538: 'i61352', 6539: 'i61394', 6540: 'i61406', 6541: 'i61465', 6542: 'i61628', 6543: 'i61705', 6544: 'i61729', 6545: 'i61986', 6546: 'i62008', 6547: 'i62081', 6548: 'i62113', 6549: 'i62155', 6550: 'i62250', 6551: 'i62293', 6552: 'i62299', 6553: 'i62336', 6554: 'i62344', 6555: 'i62374', 6556: 'i62376', 6557: 'i62383', 6558: 'i62394', 6559: 'i62434', 6560: 'i62437', 6561: 'i62439', 6562: 'i62511', 6563: 'i62553', 6564: 'i62586', 6565: 'i62644', 6566: 'i62662', 6567: 'i62792', 6568: 'i62799', 6569: 'i62834', 6570: 'i62836', 6571: 'i62849', 6572: 'i62956', 6573: 'i62970', 6574: 'i62999', 6575: 'i63033', 6576: 'i63062', 6577: 'i63072', 6578: 'i63082', 6579: 'i63113', 6580: 'i63131', 6581: 'i63179', 6582: 'i63222', 6583: 'i63239', 6584: 'i63276', 6585: 'i63312', 6586: 'i63393', 6587: 'i63433', 6588: 'i63436', 6589: 'i63479', 6590: 'i63515', 6591: 'i63540', 6592: 'i63768', 6593: 'i63808', 6594: 'i63853', 6595: 'i63859', 6596: 'i63876', 6597: 'i63992', 6598: 'i64030', 6599: 'i64032', 6600: 'i64034', 6601: 'i64114', 6602: 'i64116', 6603: 'i64167', 6604: 'i64197', 6605: 'i64231', 6606: 'i64249', 6607: 'i64278', 6608: 'i64285', 6609: 'i64497', 6610: 'i64501', 6611: 'i64575', 6612: 'i64614', 6613: 'i64620', 6614: 'i64622', 6615: 'i64695', 6616: 'i64716', 6617: 'i64839', 6618: 'i64957', 6619: 'i64969', 6620: 'i64983', 6621: 'i64993', 6622: 'i64997', 6623: 'i65088', 6624: 'i65133', 6625: 'i65135', 6626: 'i65188', 6627: 'i65193', 6628: 'i65216', 6629: 'i65225', 6630: 'i65230', 6631: 'i65261', 6632: 'i65514', 6633: 'i65577', 6634: 'i65585', 6635: 'i65588', 6636: 'i65631', 6637: 'i65642', 6638: 'i65651', 6639: 'i65682', 6640: 'i65685', 6641: 'i65802', 6642: 'i65810', 6643: 'i65982', 6644: 'i66097', 6645: 'i66171', 6646: 'i66198', 6647: 'i66203', 6648: 'i66297', 6649: 'i66335', 6650: 'i66371', 6651: 'i66509', 6652: 'i66511', 6653: 'i66544', 6654: 'i66665', 6655: 'i66744', 6656: 'i66785', 6657: 'i66798', 6658: 'i66934', 6659: 'i66943', 6660: 'i67087', 6661: 'i67186', 6662: 'i67193', 6663: 'i67197', 6664: 'i67255', 6665: 'i67267', 6666: 'i67295', 6667: 'i67408', 6668: 'i67508', 6669: 'i67534', 6670: 'i67665', 6671: 'i67695', 6672: 'i67734', 6673: 'i67788', 6674: 'i67799', 6675: 'i67888', 6676: 'i67923', 6677: 'i67997', 6678: 'i68073', 6679: 'i68135', 6680: 'i68157', 6681: 'i68159', 6682: 'i68194', 6683: 'i68205', 6684: 'i68237', 6685: 'i68269', 6686: 'i68319', 6687: 'i68347', 6688: 'i68358', 6689: 'i68444', 6690: 'i68486', 6691: 'i68554', 6692: 'i68597', 6693: 'i68650', 6694: 'i68659', 6695: 'i68791', 6696: 'i68793', 6697: 'i68848', 6698: 'i68932', 6699: 'i68945', 6700: 'i68952', 6701: 'i68954', 6702: 'i68959', 6703: 'i69069', 6704: 'i69122', 6705: 'i69131', 6706: 'i69134', 6707: 'i69211', 6708: 'i69278', 6709: 'i69304', 6710: 'i69306', 6711: 'i69406', 6712: 'i69436', 6713: 'i69469', 6714: 'i69481', 6715: 'i69516', 6716: 'i69524', 6717: 'i69526', 6718: 'i69529', 6719: 'i69604', 6720: 'i69606', 6721: 'i69640', 6722: 'i69644', 6723: 'i69685', 6724: 'i69712', 6725: 'i69720', 6726: 'i69746', 6727: 'i69757', 6728: 'i69784', 6729: 'i69805', 6730: 'i69844', 6731: 'i69849', 6732: 'i69904', 6733: 'i69951', 6734: 'i69953', 6735: 'i70159', 6736: 'i70183', 6737: 'i70286', 6738: 'i70293', 6739: 'i70301', 6740: 'i70305', 6741: 'i70334', 6742: 'i70336', 6743: 'i70361', 6744: 'i70451', 6745: 'i70521', 6746: 'i70533', 6747: 'i70565', 6748: 'i70599', 6749: 'i70697', 6750: 'i70728', 6751: 'i70862', 6752: 'i70932', 6753: 'i70946', 6754: 'i70984', 6755: 'i70990', 6756: 'i71033', 6757: 'i71057', 6758: 'i71106', 6759: 'i71129', 6760: 'i71131', 6761: 'i71135', 6762: 'i71147', 6763: 'i71156', 6764: 'i71160', 6765: 'i71205', 6766: 'i71211', 6767: 'i71252', 6768: 'i71254', 6769: 'i71264', 6770: 'i71268', 6771: 'i71282', 6772: 'i71304', 6773: 'i71327', 6774: 'i71379', 6775: 'i71462', 6776: 'i71464', 6777: 'i71468', 6778: 'i71484', 6779: 'i71494', 6780: 'i71518', 6781: 'i71520', 6782: 'i71530', 6783: 'i71535', 6784: 'i71550', 6785: 'i71579', 6786: 'i71619', 6787: 'i71640', 6788: 'i71668', 6789: 'i71745', 6790: 'i71823', 6791: 'i71838', 6792: 'i71899', 6793: 'i71999', 6794: 'i72011', 6795: 'i72129', 6796: 'i72142', 6797: 'i72167', 6798: 'i72171', 6799: 'i72178', 6800: 'i72226', 6801: 'i72294', 6802: 'i72356', 6803: 'i72378', 6804: 'i72395', 6805: 'i72407', 6806: 'i72489', 6807: 'i72591', 6808: 'i72605', 6809: 'i72624', 6810: 'i72641', 6811: 'i72692', 6812: 'i72696', 6813: 'i72701', 6814: 'i72720', 6815: 'i72731', 6816: 'i72733', 6817: 'i72737', 6818: 'i72919', 6819: 'i72982', 6820: 'i72998', 6821: 'i73015', 6822: 'i73017', 6823: 'i73023', 6824: 'i73042', 6825: 'i73106', 6826: 'i73160', 6827: 'i73211', 6828: 'i73266', 6829: 'i73268', 6830: 'i73290', 6831: 'i73319', 6832: 'i73321', 6833: 'i73323', 6834: 'i73344', 6835: 'i73431', 6836: 'i73488', 6837: 'i73515', 6838: 'i73569', 6839: 'i73676', 6840: 'i73741', 6841: 'i73804', 6842: 'i73808', 6843: 'i73822', 6844: 'i73876', 6845: 'i73881', 6846: 'i73929', 6847: 'i74154', 6848: 'i74226', 6849: 'i74275', 6850: 'i74282', 6851: 'i74324', 6852: 'i74342', 6853: 'i74450', 6854: 'i74452', 6855: 'i74458', 6856: 'i74508', 6857: 'i74530', 6858: 'i74545', 6859: 'i74580', 6860: 'i74647', 6861: 'i74668', 6862: 'i74677', 6863: 'i74683', 6864: 'i74685', 6865: 'i74696', 6866: 'i74698', 6867: 'i74727', 6868: 'i74750', 6869: 'i74754', 6870: 'i74789', 6871: 'i74791', 6872: 'i74795', 6873: 'i74868', 6874: 'i74916', 6875: 'i74946', 6876: 'i75341', 6877: 'i75446', 6878: 'i75805', 6879: 'i75813', 6880: 'i75985', 6881: 'i76054', 6882: 'i76060', 6883: 'i76077', 6884: 'i76091', 6885: 'i76093', 6886: 'i76143', 6887: 'i76173', 6888: 'i76175', 6889: 'i76251', 6890: 'i76293', 6891: 'i76301', 6892: 'i76738', 6893: 'i76743', 6894: 'i77191', 6895: 'i77201', 6896: 'i77206', 6897: 'i77233', 6898: 'i77266', 6899: 'i77427', 6900: 'i77455', 6901: 'i77561', 6902: 'i77667', 6903: 'i77688', 6904: 'i77800', 6905: 'i77841', 6906: 'i77866', 6907: 'i77893', 6908: 'i78039', 6909: 'i78088', 6910: 'i78105', 6911: 'i78142', 6912: 'i78160', 6913: 'i78174', 6914: 'i78209', 6915: 'i78218', 6916: 'i78316', 6917: 'i78349', 6918: 'i78467', 6919: 'i78469', 6920: 'i78499', 6921: 'i78574', 6922: 'i78620', 6923: 'i78626', 6924: 'i78637', 6925: 'i78703', 6926: 'i78772', 6927: 'i78836', 6928: 'i78893', 6929: 'i79006', 6930: 'i79008', 6931: 'i79057', 6932: 'i79073', 6933: 'i79091', 6934: 'i79132', 6935: 'i79134', 6936: 'i79139', 6937: 'i79185', 6938: 'i79224', 6939: 'i79242', 6940: 'i79251', 6941: 'i79274', 6942: 'i79293', 6943: 'i79299', 6944: 'i79333', 6945: 'i79357', 6946: 'i79428', 6947: 'i79501', 6948: 'i79553', 6949: 'i79572', 6950: 'i79592', 6951: 'i79677', 6952: 'i79684', 6953: 'i79695', 6954: 'i79702', 6955: 'i79879', 6956: 'i79895', 6957: 'i79897', 6958: 'i80083', 6959: 'i80124', 6960: 'i80139', 6961: 'i80166', 6962: 'i80219', 6963: 'i80241', 6964: 'i80363', 6965: 'i80463', 6966: 'i80489', 6967: 'i80549', 6968: 'i80553', 6969: 'i80572', 6970: 'i80586', 6971: 'i80590', 6972: 'i80615', 6973: 'i80693', 6974: 'i80727', 6975: 'i80748', 6976: 'i80831', 6977: 'i80839', 6978: 'i80858', 6979: 'i80860', 6980: 'i80862', 6981: 'i80880', 6982: 'i80906', 6983: 'i80969', 6984: 'i81018', 6985: 'i81087', 6986: 'i81132', 6987: 'i81156', 6988: 'i81158', 6989: 'i81191', 6990: 'i81229', 6991: 'i81257', 6992: 'i81417', 6993: 'i81456', 6994: 'i81512', 6995: 'i81520', 6996: 'i81537', 6997: 'i81562', 6998: 'i81564', 6999: 'i81591', 7000: 'i81782', 7001: 'i81784', 7002: 'i81786', 7003: 'i81788', 7004: 'i81791', 7005: 'i81819', 7006: 'i81834', 7007: 'i81845', 7008: 'i81847', 7009: 'i81910', 7010: 'i81932', 7011: 'i82041', 7012: 'i82053', 7013: 'i82088', 7014: 'i82167', 7015: 'i82169', 7016: 'i82202', 7017: 'i82378', 7018: 'i82459', 7019: 'i82461', 7020: 'i82534', 7021: 'i82641', 7022: 'i82667', 7023: 'i82765', 7024: 'i82767', 7025: 'i82848', 7026: 'i82852', 7027: 'i82854', 7028: 'i82857', 7029: 'i83086', 7030: 'i83132', 7031: 'i83134', 7032: 'i83177', 7033: 'i83349', 7034: 'i83369', 7035: 'i83480', 7036: 'i83601', 7037: 'i83613', 7038: 'i83796', 7039: 'i83803', 7040: 'i83827', 7041: 'i83969', 7042: 'i83976', 7043: 'i84152', 7044: 'i84187', 7045: 'i84240', 7046: 'i84246', 7047: 'i84273', 7048: 'i84374', 7049: 'i84392', 7050: 'i84414', 7051: 'i84512', 7052: 'i84601', 7053: 'i84637', 7054: 'i84716', 7055: 'i84772', 7056: 'i84844', 7057: 'i84942', 7058: 'i84944', 7059: 'i84952', 7060: 'i84954', 7061: 'i85020', 7062: 'i85022', 7063: 'i85056', 7064: 'i85131', 7065: 'i85179', 7066: 'i85259', 7067: 'i85261', 7068: 'i85295', 7069: 'i85342', 7070: 'i85354', 7071: 'i85367', 7072: 'i85401', 7073: 'i85412', 7074: 'i85414', 7075: 'i85438', 7076: 'i85510', 7077: 'i85736', 7078: 'i85774', 7079: 'i85780', 7080: 'i85788', 7081: 'i85796', 7082: 'i85881', 7083: 'i85885', 7084: 'i86014', 7085: 'i86066', 7086: 'i86142', 7087: 'i86190', 7088: 'i86237', 7089: 'i86290', 7090: 'i86293', 7091: 'i86295', 7092: 'i86298', 7093: 'i86320', 7094: 'i86332', 7095: 'i86345', 7096: 'i86347', 7097: 'i86377', 7098: 'i86504', 7099: 'i86548', 7100: 'i86628', 7101: 'i86644', 7102: 'i86668', 7103: 'i86781', 7104: 'i86815', 7105: 'i86817', 7106: 'i86833', 7107: 'i86864', 7108: 'i86880', 7109: 'i86882', 7110: 'i86892', 7111: 'i86898', 7112: 'i86911', 7113: 'i87192', 7114: 'i87194', 7115: 'i87197', 7116: 'i87222', 7117: 'i87232', 7118: 'i87234', 7119: 'i87298', 7120: 'i87304', 7121: 'i87306', 7122: 'i87413', 7123: 'i87430', 7124: 'i87444', 7125: 'i87483', 7126: 'i87485', 7127: 'i87520', 7128: 'i87522', 7129: 'i87529', 7130: 'i87785', 7131: 'i87834', 7132: 'i87867', 7133: 'i87869', 7134: 'i87876', 7135: 'i88069', 7136: 'i88108', 7137: 'i88125', 7138: 'i88129', 7139: 'i88140', 7140: 'i88163', 7141: 'i88235', 7142: 'i88327', 7143: 'i88356', 7144: 'i88405', 7145: 'i88593', 7146: 'i88697', 7147: 'i88699', 7148: 'i88744', 7149: 'i88746', 7150: 'i88785', 7151: 'i88810', 7152: 'i88812', 7153: 'i88911', 7154: 'i88954', 7155: 'i89030', 7156: 'i89039', 7157: 'i89047', 7158: 'i89087', 7159: 'i89090', 7160: 'i89118', 7161: 'i89190', 7162: 'i89208', 7163: 'i89305', 7164: 'i89470', 7165: 'i89492', 7166: 'i89580', 7167: 'i89582', 7168: 'i89745', 7169: 'i89753', 7170: 'i89759', 7171: 'i89761', 7172: 'i89774', 7173: 'i89804', 7174: 'i89837', 7175: 'i89840', 7176: 'i89864', 7177: 'i89898', 7178: 'i89904', 7179: 'i89939', 7180: 'i89945', 7181: 'i90057', 7182: 'i90245', 7183: 'i90249', 7184: 'i90343', 7185: 'i90345', 7186: 'i90357', 7187: 'i90374', 7188: 'i90376', 7189: 'i90384', 7190: 'i90403', 7191: 'i90405', 7192: 'i90428', 7193: 'i90430', 7194: 'i90439', 7195: 'i90471', 7196: 'i90522', 7197: 'i90528', 7198: 'i90531', 7199: 'i90600', 7200: 'i90603', 7201: 'i90630', 7202: 'i90647', 7203: 'i90746', 7204: 'i90769', 7205: 'i90866', 7206: 'i90888', 7207: 'i90890', 7208: 'i91077', 7209: 'i91079', 7210: 'i91094', 7211: 'i91104', 7212: 'i91126', 7213: 'i91128', 7214: 'i91233', 7215: 'i91261', 7216: 'i91266', 7217: 'i91323', 7218: 'i91337', 7219: 'i91353', 7220: 'i91355', 7221: 'i91386', 7222: 'i91414', 7223: 'i91470', 7224: 'i91483', 7225: 'i91485', 7226: 'i91488', 7227: 'i91500', 7228: 'i91529', 7229: 'i91535', 7230: 'i91542', 7231: 'i91622', 7232: 'i91628', 7233: 'i91630', 7234: 'i91653', 7235: 'i91658', 7236: 'i91666', 7237: 'i91671', 7238: 'i91690', 7239: 'i91842', 7240: 'i91869', 7241: 'i91947', 7242: 'i91974', 7243: 'i91976', 7244: 'i91978', 7245: 'i91981', 7246: 'i92008', 7247: 'i92046', 7248: 'i92192', 7249: 'i92243', 7250: 'i92259', 7251: 'i92309', 7252: 'i92348', 7253: 'i92391', 7254: 'i92420', 7255: 'i92422', 7256: 'i92427', 7257: 'i92439', 7258: 'i92475', 7259: 'i92507', 7260: 'i92509', 7261: 'i92535', 7262: 'i92637', 7263: 'i92643', 7264: 'i92674', 7265: 'i92694', 7266: 'i92938', 7267: 'i93006', 7268: 'i93022', 7269: 'i93040', 7270: 'i93114', 7271: 'i93134', 7272: 'i93270', 7273: 'i93272', 7274: 'i93297', 7275: 'i93320', 7276: 'i93326', 7277: 'i93363', 7278: 'i93502', 7279: 'i93510', 7280: 'i93610', 7281: 'i93721', 7282: 'i93723', 7283: 'i93766', 7284: 'i93805', 7285: 'i93831', 7286: 'i93838', 7287: 'i93840', 7288: 'i94015', 7289: 'i94018', 7290: 'i94070', 7291: 'i94122', 7292: 'i94130', 7293: 'i94150', 7294: 'i94405', 7295: 'i94478', 7296: 'i94503', 7297: 'i94661', 7298: 'i94677', 7299: 'i94735', 7300: 'i94777', 7301: 'i94780', 7302: 'i94799', 7303: 'i94864', 7304: 'i94896', 7305: 'i94931', 7306: 'i94953', 7307: 'i94959', 7308: 'i94985', 7309: 'i95004', 7310: 'i95067', 7311: 'i95088', 7312: 'i95105', 7313: 'i95145', 7314: 'i95147', 7315: 'i95163', 7316: 'i95165', 7317: 'i95167', 7318: 'i95175', 7319: 'i95182', 7320: 'i95193', 7321: 'i95199', 7322: 'i95207', 7323: 'i95307', 7324: 'i95309', 7325: 'i95377', 7326: 'i95441', 7327: 'i95449', 7328: 'i95473', 7329: 'i95475', 7330: 'i95497', 7331: 'i95499', 7332: 'i95510', 7333: 'i95519', 7334: 'i95543', 7335: 'i95558', 7336: 'i95583', 7337: 'i95633', 7338: 'i95654', 7339: 'i95690', 7340: 'i95717', 7341: 'i95720', 7342: 'i95771', 7343: 'i95780', 7344: 'i95796', 7345: 'i95843', 7346: 'i95858', 7347: 'i95873', 7348: 'i95875', 7349: 'i95949', 7350: 'i95965', 7351: 'i96004', 7352: 'i96007', 7353: 'i96020', 7354: 'i96079', 7355: 'i96084', 7356: 'i96110', 7357: 'i96121', 7358: 'i96150', 7359: 'i96373', 7360: 'i96411', 7361: 'i96417', 7362: 'i96430', 7363: 'i96432', 7364: 'i96448', 7365: 'i96471', 7366: 'i96488', 7367: 'i96518', 7368: 'i96563', 7369: 'i96567', 7370: 'i96588', 7371: 'i96606', 7372: 'i96608', 7373: 'i96610', 7374: 'i96655', 7375: 'i96691', 7376: 'i96728', 7377: 'i96737', 7378: 'i96811', 7379: 'i96821', 7380: 'i96829', 7381: 'i96832', 7382: 'i96861', 7383: 'i96935', 7384: 'i97024', 7385: 'i97168', 7386: 'i97172', 7387: 'i97225', 7388: 'i97230', 7389: 'i97285', 7390: 'i97304', 7391: 'i97306', 7392: 'i97470', 7393: 'i97752', 7394: 'i97757', 7395: 'i97836', 7396: 'i97860', 7397: 'i97866', 7398: 'i97913', 7399: 'i97921', 7400: 'i97923', 7401: 'i97938', 7402: 'i97950', 7403: 'i98061', 7404: 'i98083', 7405: 'i98122', 7406: 'i98124', 7407: 'i98154', 7408: 'i98203', 7409: 'i98239', 7410: 'i98243', 7411: 'i98279', 7412: 'i98361', 7413: 'i98491', 7414: 'i98499', 7415: 'i98585', 7416: 'i98604', 7417: 'i98607', 7418: 'i98623', 7419: 'i98633', 7420: 'i98697', 7421: 'i98809', 7422: 'i98961', 7423: 'i99007', 7424: 'i99030', 7425: 'i99106', 7426: 'i99112', 7427: 'i99114', 7428: 'i99117', 7429: 'i99122', 7430: 'i99130', 7431: 'i99145', 7432: 'i99149', 7433: 'i99191', 7434: 'i99437', 7435: 'i99532', 7436: 'i99636', 7437: 'i99638', 7438: 'i99728', 7439: 'i99750', 7440: 'i99764', 7441: 'i99813', 7442: 'i99853', 7443: 'i99910', 7444: 'i99917', 7445: 'i100044', 7446: 'i100083', 7447: 'i100106', 7448: 'i100159', 7449: 'i100163', 7450: 'i100302', 7451: 'i100306', 7452: 'i100383', 7453: 'i100390', 7454: 'i100498', 7455: 'i100527', 7456: 'i100553', 7457: 'i100611', 7458: 'i100714', 7459: 'i100737', 7460: 'i100843', 7461: 'i100882', 7462: 'i100906', 7463: 'i101025', 7464: 'i101070', 7465: 'i101072', 7466: 'i101076', 7467: 'i101088', 7468: 'i101112', 7469: 'i101142', 7470: 'i101283', 7471: 'i101362', 7472: 'i101525', 7473: 'i101531', 7474: 'i101577', 7475: 'i101612', 7476: 'i101739', 7477: 'i101741', 7478: 'i101765', 7479: 'i101864', 7480: 'i101962', 7481: 'i101973', 7482: 'i102033', 7483: 'i102088', 7484: 'i102123', 7485: 'i102125', 7486: 'i102217', 7487: 'i102338', 7488: 'i102378', 7489: 'i102407', 7490: 'i102445', 7491: 'i102481', 7492: 'i102684', 7493: 'i102686', 7494: 'i102716', 7495: 'i102720', 7496: 'i102735', 7497: 'i102747', 7498: 'i102760', 7499: 'i102800', 7500: 'i102903', 7501: 'i102984', 7502: 'i102993', 7503: 'i103027', 7504: 'i103042', 7505: 'i103075', 7506: 'i103107', 7507: 'i103137', 7508: 'i103141', 7509: 'i103171', 7510: 'i103228', 7511: 'i103233', 7512: 'i103235', 7513: 'i103245', 7514: 'i103249', 7515: 'i103253', 7516: 'i103335', 7517: 'i103339', 7518: 'i103341', 7519: 'i103366', 7520: 'i103372', 7521: 'i103384', 7522: 'i103483', 7523: 'i103539', 7524: 'i103596', 7525: 'i103602', 7526: 'i103606', 7527: 'i103624', 7528: 'i103655', 7529: 'i103685', 7530: 'i103688', 7531: 'i103772', 7532: 'i103801', 7533: 'i103810', 7534: 'i103883', 7535: 'i103980', 7536: 'i103984', 7537: 'i104069', 7538: 'i104074', 7539: 'i104076', 7540: 'i104141', 7541: 'i104211', 7542: 'i104218', 7543: 'i104241', 7544: 'i104243', 7545: 'i104245', 7546: 'i104272', 7547: 'i104283', 7548: 'i104303', 7549: 'i104339', 7550: 'i104374', 7551: 'i104419', 7552: 'i104780', 7553: 'i104841', 7554: 'i104863', 7555: 'i104875', 7556: 'i104879', 7557: 'i104908', 7558: 'i104913', 7559: 'i104925', 7560: 'i104944', 7561: 'i105037', 7562: 'i105197', 7563: 'i105213', 7564: 'i105250', 7565: 'i105351', 7566: 'i105355', 7567: 'i105468', 7568: 'i105504', 7569: 'i105540', 7570: 'i105585', 7571: 'i105593', 7572: 'i105653', 7573: 'i105720', 7574: 'i105731', 7575: 'i105746', 7576: 'i105844', 7577: 'i105954', 7578: 'i106002', 7579: 'i106072', 7580: 'i106100', 7581: 'i106144', 7582: 'i106330', 7583: 'i106441', 7584: 'i106487', 7585: 'i106489', 7586: 'i106491', 7587: 'i106540', 7588: 'i106594', 7589: 'i106642', 7590: 'i106696', 7591: 'i106766', 7592: 'i106782', 7593: 'i106785', 7594: 'i106873', 7595: 'i106889', 7596: 'i106916', 7597: 'i106918', 7598: 'i106920', 7599: 'i106927', 7600: 'i107069', 7601: 'i107141', 7602: 'i107314', 7603: 'i107338', 7604: 'i107348', 7605: 'i107406', 7606: 'i107408', 7607: 'i107412', 7608: 'i107447', 7609: 'i107462', 7610: 'i107565', 7611: 'i107630', 7612: 'i107723', 7613: 'i107771', 7614: 'i107780', 7615: 'i107951', 7616: 'i107953', 7617: 'i107999', 7618: 'i108078', 7619: 'i108090', 7620: 'i108190', 7621: 'i108192', 7622: 'i108727', 7623: 'i108729', 7624: 'i108928', 7625: 'i108932', 7626: 'i108945', 7627: 'i108949', 7628: 'i108981', 7629: 'i109042', 7630: 'i109187', 7631: 'i109241', 7632: 'i109374', 7633: 'i109383', 7634: 'i109483', 7635: 'i109487', 7636: 'i109578', 7637: 'i109596', 7638: 'i109673', 7639: 'i109846', 7640: 'i109848', 7641: 'i109850', 7642: 'i109895', 7643: 'i109968', 7644: 'i110102', 7645: 'i110127', 7646: 'i110130', 7647: 'i110281', 7648: 'i110297', 7649: 'i110330', 7650: 'i110350', 7651: 'i110387', 7652: 'i110501', 7653: 'i110553', 7654: 'i110586', 7655: 'i110669', 7656: 'i110730', 7657: 'i110771', 7658: 'i110781', 7659: 'i110882', 7660: 'i111113', 7661: 'i111146', 7662: 'i111320', 7663: 'i111360', 7664: 'i111362', 7665: 'i111364', 7666: 'i111443', 7667: 'i111617', 7668: 'i111622', 7669: 'i111659', 7670: 'i111743', 7671: 'i111759', 7672: 'i111781', 7673: 'i111921', 7674: 'i112006', 7675: 'i112070', 7676: 'i112138', 7677: 'i112171', 7678: 'i112175', 7679: 'i112183', 7680: 'i112290', 7681: 'i112334', 7682: 'i112421', 7683: 'i112450', 7684: 'i112454', 7685: 'i112512', 7686: 'i112515', 7687: 'i112552', 7688: 'i112556', 7689: 'i112580', 7690: 'i112623', 7691: 'i112788', 7692: 'i112804', 7693: 'i112818', 7694: 'i112852', 7695: 'i112868', 7696: 'i112897', 7697: 'i112911', 7698: 'i113252', 7699: 'i113345', 7700: 'i113348', 7701: 'i113374', 7702: 'i113378', 7703: 'i113453', 7704: 'i113573', 7705: 'i113705', 7706: 'i113741', 7707: 'i113849', 7708: 'i114060', 7709: 'i114074', 7710: 'i114180', 7711: 'i114246', 7712: 'i114335', 7713: 'i114601', 7714: 'i114627', 7715: 'i114662', 7716: 'i114678', 7717: 'i114762', 7718: 'i114818', 7719: 'i114935', 7720: 'i115111', 7721: 'i115122', 7722: 'i115149', 7723: 'i115203', 7724: 'i115210', 7725: 'i115231', 7726: 'i115502', 7727: 'i115569', 7728: 'i115617', 7729: 'i115664', 7730: 'i115667', 7731: 'i115680', 7732: 'i115713', 7733: 'i115727', 7734: 'i115819', 7735: 'i115877', 7736: 'i115969', 7737: 'i116169', 7738: 'i116718', 7739: 'i116738', 7740: 'i116797', 7741: 'i116799', 7742: 'i116817', 7743: 'i116823', 7744: 'i116887', 7745: 'i116897', 7746: 'i116977', 7747: 'i117109', 7748: 'i117133', 7749: 'i117176', 7750: 'i117192', 7751: 'i117466', 7752: 'i117529', 7753: 'i117531', 7754: 'i117533', 7755: 'i117545', 7756: 'i117572', 7757: 'i117590', 7758: 'i117646', 7759: 'i117849', 7760: 'i117851', 7761: 'i117877', 7762: 'i117881', 7763: 'i117887', 7764: 'i117895', 7765: 'i118166', 7766: 'i118198', 7767: 'i118270', 7768: 'i118530', 7769: 'i118572', 7770: 'i118696', 7771: 'i118700', 7772: 'i118702', 7773: 'i118706', 7774: 'i118784', 7775: 'i118834', 7776: 'i118862', 7777: 'i118880', 7778: 'i118888', 7779: 'i118894', 7780: 'i118896', 7781: 'i118900', 7782: 'i118985', 7783: 'i118997', 7784: 'i119141', 7785: 'i119145', 7786: 'i119155', 7787: 'i119655', 7788: 'i119714', 7789: 'i119964', 7790: 'i120130', 7791: 'i120138', 7792: 'i120466', 7793: 'i120478', 7794: 'i120625', 7795: 'i120635', 7796: 'i120761', 7797: 'i120799', 7798: 'i120813', 7799: 'i121007', 7800: 'i121035', 7801: 'i121097', 7802: 'i121129', 7803: 'i121169', 7804: 'i121171', 7805: 'i121231', 7806: 'i121253', 7807: 'i121338', 7808: 'i121342', 7809: 'i121469', 7810: 'i121781', 7811: 'i122092', 7812: 'i122882', 7813: 'i122884', 7814: 'i122886', 7815: 'i122890', 7816: 'i122892', 7817: 'i122896', 7818: 'i122898', 7819: 'i122900', 7820: 'i122902', 7821: 'i122904', 7822: 'i122906', 7823: 'i122912', 7824: 'i122916', 7825: 'i122918', 7826: 'i122920', 7827: 'i122922', 7828: 'i122924', 7829: 'i122926', 7830: 'i123553', 7831: 'i123947', 7832: 'i124273', 7833: 'i124404', 7834: 'i124484', 7835: 'i124853', 7836: 'i125916', 7837: 'i125970', 7838: 'i125974', 7839: 'i126088', 7840: 'i126142', 7841: 'i126430', 7842: 'i126548', 7843: 'i126577', 7844: 'i126921', 7845: 'i127052', 7846: 'i127096', 7847: 'i127098', 7848: 'i127108', 7849: 'i127134', 7850: 'i127146', 7851: 'i127152', 7852: 'i127164', 7853: 'i127172', 7854: 'i127180', 7855: 'i127198', 7856: 'i127202', 7857: 'i127212', 7858: 'i127298', 7859: 'i127323', 7860: 'i128087', 7861: 'i128089', 7862: 'i128197', 7863: 'i128360', 7864: 'i128366', 7865: 'i128512', 7866: 'i128520', 7867: 'i128594', 7868: 'i128620', 7869: 'i128695', 7870: 'i128736', 7871: 'i128832', 7872: 'i128842', 7873: 'i128852', 7874: 'i128900', 7875: 'i128902', 7876: 'i128944', 7877: 'i128968', 7878: 'i128975', 7879: 'i128991', 7880: 'i129011', 7881: 'i129229', 7882: 'i129313', 7883: 'i129354', 7884: 'i129397', 7885: 'i129428', 7886: 'i129514', 7887: 'i129779', 7888: 'i129937', 7889: 'i130073', 7890: 'i130087', 7891: 'i130450', 7892: 'i130452', 7893: 'i130490', 7894: 'i130518', 7895: 'i130520', 7896: 'i130576', 7897: 'i130634', 7898: 'i130842', 7899: 'i130970', 7900: 'i130976', 7901: 'i130978', 7902: 'i131013', 7903: 'i131098', 7904: 'i131104', 7905: 'i131130', 7906: 'i131237', 7907: 'i131610', 7908: 'i131656', 7909: 'i131714', 7910: 'i131739', 7911: 'i131749', 7912: 'i131826', 7913: 'i131920', 7914: 'i131934', 7915: 'i132046', 7916: 'i132084', 7917: 'i132153', 7918: 'i132157', 7919: 'i132362', 7920: 'i132422', 7921: 'i132424', 7922: 'i132496', 7923: 'i132584', 7924: 'i132660', 7925: 'i132796', 7926: 'i132800', 7927: 'i133419', 7928: 'i133712', 7929: 'i133716', 7930: 'i133771', 7931: 'i133780', 7932: 'i133867', 7933: 'i133879', 7934: 'i134004', 7935: 'i134041', 7936: 'i134095', 7937: 'i134130', 7938: 'i134170', 7939: 'i134184', 7940: 'i134214', 7941: 'i134248', 7942: 'i134252', 7943: 'i134326', 7944: 'i134334', 7945: 'i134368', 7946: 'i134393', 7947: 'i134515', 7948: 'i134524', 7949: 'i134847', 7950: 'i134849', 7951: 'i134853', 7952: 'i135133', 7953: 'i135137', 7954: 'i135143', 7955: 'i135288', 7956: 'i135436', 7957: 'i135456', 7958: 'i135518', 7959: 'i135536', 7960: 'i135567', 7961: 'i135569', 7962: 'i135777', 7963: 'i135787', 7964: 'i135803', 7965: 'i135815', 7966: 'i135861', 7967: 'i135887', 7968: 'i135937', 7969: 'i136016', 7970: 'i136018', 7971: 'i136020', 7972: 'i136305', 7973: 'i136341', 7974: 'i136353', 7975: 'i136355', 7976: 'i136359', 7977: 'i136445', 7978: 'i136447', 7979: 'i136503', 7980: 'i136556', 7981: 'i136562', 7982: 'i136564', 7983: 'i136598', 7984: 'i136602', 7985: 'i136834', 7986: 'i136838', 7987: 'i136840', 7988: 'i136864', 7989: 'i136912', 7990: 'i136958', 7991: 'i137337', 7992: 'i137345', 7993: 'i137595', 7994: 'i137857', 7995: 'i137859', 7996: 'i137863', 7997: 'i138036', 7998: 'i138186', 7999: 'i138204', 8000: 'i138208', 8001: 'i138210', 8002: 'i138396', 8003: 'i138632', 8004: 'i138702', 8005: 'i138798', 8006: 'i138835', 8007: 'i139130', 8008: 'i139157', 8009: 'i139385', 8010: 'i139511', 8011: 'i139640', 8012: 'i139642', 8013: 'i139644', 8014: 'i139717', 8015: 'i139747', 8016: 'i139855', 8017: 'i139859', 8018: 'i139915', 8019: 'i139994', 8020: 'i140016', 8021: 'i140038', 8022: 'i140110', 8023: 'i140133', 8024: 'i140174', 8025: 'i140247', 8026: 'i140265', 8027: 'i140301', 8028: 'i140359', 8029: 'i140481', 8030: 'i140541', 8031: 'i140561', 8032: 'i140627', 8033: 'i140711', 8034: 'i140715', 8035: 'i140725', 8036: 'i140852', 8037: 'i140928', 8038: 'i140956', 8039: 'i141131', 8040: 'i141400', 8041: 'i141513', 8042: 'i141544', 8043: 'i141646', 8044: 'i141749', 8045: 'i141810', 8046: 'i141816', 8047: 'i141818', 8048: 'i141820', 8049: 'i141830', 8050: 'i141836', 8051: 'i141844', 8052: 'i141866', 8053: 'i141890', 8054: 'i141928', 8055: 'i142020', 8056: 'i142056', 8057: 'i142115', 8058: 'i142196', 8059: 'i142222', 8060: 'i142366', 8061: 'i142372', 8062: 'i142420', 8063: 'i142422', 8064: 'i142444', 8065: 'i142448', 8066: 'i142456', 8067: 'i142488', 8068: 'i142507', 8069: 'i142509', 8070: 'i142536', 8071: 'i142550', 8072: 'i142602', 8073: 'i142831', 8074: 'i142961', 8075: 'i142997', 8076: 'i143031', 8077: 'i143245', 8078: 'i143355', 8079: 'i143365', 8080: 'i143367', 8081: 'i143385', 8082: 'i143458', 8083: 'i143511', 8084: 'i143559', 8085: 'i143859', 8086: 'i143969', 8087: 'i144210', 8088: 'i144222', 8089: 'i144352', 8090: 'i144522', 8091: 'i145491', 8092: 'i145724', 8093: 'i145994', 8094: 'i146028', 8095: 'i146210', 8096: 'i146244', 8097: 'i146656', 8098: 'i146662', 8099: 'i146684', 8100: 'i146986', 8101: 'i147142', 8102: 'i147196', 8103: 'i147250', 8104: 'i147282', 8105: 'i147286', 8106: 'i147300', 8107: 'i147326', 8108: 'i147328', 8109: 'i147330', 8110: 'i147372', 8111: 'i147374', 8112: 'i147376', 8113: 'i147378', 8114: 'i147380', 8115: 'i147382', 8116: 'i147384', 8117: 'i147410', 8118: 'i147657', 8119: 'i147662', 8120: 'i147936', 8121: 'i148166', 8122: 'i148238', 8123: 'i148626', 8124: 'i148632', 8125: 'i148667', 8126: 'i148671', 8127: 'i148675', 8128: 'i148775', 8129: 'i148881', 8130: 'i148888', 8131: 'i148956', 8132: 'i148978', 8133: 'i149334', 8134: 'i149350', 8135: 'i149352', 8136: 'i149354', 8137: 'i149380', 8138: 'i149406', 8139: 'i149508', 8140: 'i149566', 8141: 'i149830', 8142: 'i150254', 8143: 'i150401', 8144: 'i150548', 8145: 'i150554', 8146: 'i150596', 8147: 'i151455', 8148: 'i151739', 8149: 'i151759', 8150: 'i151763', 8151: 'i151769', 8152: 'i151781', 8153: 'i152037', 8154: 'i152077', 8155: 'i152079', 8156: 'i152081', 8157: 'i152083', 8158: 'i152091', 8159: 'i152173', 8160: 'i152270', 8161: 'i152284', 8162: 'i152591', 8163: 'i152970', 8164: 'i153070', 8165: 'i153386', 8166: 'i153408', 8167: 'i155288', 8168: 'i155509', 8169: 'i155589', 8170: 'i156025', 8171: 'i156371', 8172: 'i156387', 8173: 'i156605', 8174: 'i156607', 8175: 'i156609', 8176: 'i156675', 8177: 'i156726', 8178: 'i156781', 8179: 'i156783', 8180: 'i157200', 8181: 'i157296', 8182: 'i157369', 8183: 'i157699', 8184: 'i157775', 8185: 'i157865', 8186: 'i158027', 8187: 'i158035', 8188: 'i158238', 8189: 'i158254', 8190: 'i158388', 8191: 'i158398', 8192: 'i158402', 8193: 'i158721', 8194: 'i158783', 8195: 'i158813', 8196: 'i158830', 8197: 'i158872', 8198: 'i158882', 8199: 'i158966', 8200: 'i159061', 8201: 'i159069', 8202: 'i159093', 8203: 'i159403', 8204: 'i159415', 8205: 'i159441', 8206: 'i159510', 8207: 'i159755', 8208: 'i159811', 8209: 'i159817', 8210: 'i159858', 8211: 'i160080', 8212: 'i160271', 8213: 'i160341', 8214: 'i160400', 8215: 'i160422', 8216: 'i160438', 8217: 'i160527', 8218: 'i160563', 8219: 'i160565', 8220: 'i160567', 8221: 'i160569', 8222: 'i160571', 8223: 'i160718', 8224: 'i160836', 8225: 'i160872', 8226: 'i160954', 8227: 'i160978', 8228: 'i160980', 8229: 'i161008', 8230: 'i161044', 8231: 'i161131', 8232: 'i161354', 8233: 'i161580', 8234: 'i161582', 8235: 'i161594', 8236: 'i161634', 8237: 'i161922', 8238: 'i162082', 8239: 'i162350', 8240: 'i162478', 8241: 'i162578', 8242: 'i162598', 8243: 'i162600', 8244: 'i162602', 8245: 'i162606', 8246: 'i162968', 8247: 'i162982', 8248: 'i163056', 8249: 'i163072', 8250: 'i163112', 8251: 'i163134', 8252: 'i163386', 8253: 'i163527', 8254: 'i163639', 8255: 'i163645', 8256: 'i163809', 8257: 'i163925', 8258: 'i163985', 8259: 'i164179', 8260: 'i164200', 8261: 'i164226', 8262: 'i164367', 8263: 'i164707', 8264: 'i164909', 8265: 'i164917', 8266: 'i165101', 8267: 'i165549', 8268: 'i165635', 8269: 'i165639', 8270: 'i165959', 8271: 'i165969', 8272: 'i166024', 8273: 'i166183', 8274: 'i166291', 8275: 'i166461', 8276: 'i166492', 8277: 'i166528', 8278: 'i166534', 8279: 'i166558', 8280: 'i166635', 8281: 'i166643', 8282: 'i166705', 8283: 'i166946', 8284: 'i167018', 8285: 'i167036', 8286: 'i167296', 8287: 'i167370', 8288: 'i167380', 8289: 'i167538', 8290: 'i167746', 8291: 'i167772', 8292: 'i167854', 8293: 'i168026', 8294: 'i168090', 8295: 'i168174', 8296: 'i168218', 8297: 'i168248', 8298: 'i168250', 8299: 'i168252', 8300: 'i168254', 8301: 'i168266', 8302: 'i168326', 8303: 'i168358', 8304: 'i168366', 8305: 'i168492', 8306: 'i168608', 8307: 'i169034', 8308: 'i169670', 8309: 'i169912', 8310: 'i169958', 8311: 'i169982', 8312: 'i169984', 8313: 'i170289', 8314: 'i170355', 8315: 'i170399', 8316: 'i170401', 8317: 'i170411', 8318: 'i170551', 8319: 'i170597', 8320: 'i170697', 8321: 'i170705', 8322: 'i170777', 8323: 'i170813', 8324: 'i170827', 8325: 'i170837', 8326: 'i170875', 8327: 'i170907', 8328: 'i170945', 8329: 'i170993', 8330: 'i171011', 8331: 'i171495', 8332: 'i171701', 8333: 'i171749', 8334: 'i171751', 8335: 'i171759', 8336: 'i171763', 8337: 'i171765', 8338: 'i171811', 8339: 'i172013', 8340: 'i172229', 8341: 'i172233', 8342: 'i172321', 8343: 'i172461', 8344: 'i172497', 8345: 'i172577', 8346: 'i172583', 8347: 'i172585', 8348: 'i172587', 8349: 'i172589', 8350: 'i172591', 8351: 'i172637', 8352: 'i172705', 8353: 'i172793', 8354: 'i172825', 8355: 'i172875', 8356: 'i172881', 8357: 'i172887', 8358: 'i172909', 8359: 'i173145', 8360: 'i173235', 8361: 'i173253', 8362: 'i173291', 8363: 'i173307', 8364: 'i173351', 8365: 'i173355', 8366: 'i173535', 8367: 'i173619', 8368: 'i173925', 8369: 'i173941', 8370: 'i173963', 8371: 'i174053', 8372: 'i174055', 8373: 'i174141', 8374: 'i174479', 8375: 'i174551', 8376: 'i174681', 8377: 'i174727', 8378: 'i174737', 8379: 'i174815', 8380: 'i175197', 8381: 'i175293', 8382: 'i175303', 8383: 'i175387', 8384: 'i175397', 8385: 'i175401', 8386: 'i175431', 8387: 'i175435', 8388: 'i175485', 8389: 'i175569', 8390: 'i175661', 8391: 'i175705', 8392: 'i175707', 8393: 'i175743', 8394: 'i175781', 8395: 'i176051', 8396: 'i176101', 8397: 'i176371', 8398: 'i176389', 8399: 'i176419', 8400: 'i176579', 8401: 'i176601', 8402: 'i176751', 8403: 'i176805', 8404: 'i176935', 8405: 'i177185', 8406: 'i177285', 8407: 'i177593', 8408: 'i177615', 8409: 'i177763', 8410: 'i177765', 8411: 'i177939', 8412: 'i178061', 8413: 'i178129', 8414: 'i178613', 8415: 'i178827', 8416: 'i179073', 8417: 'i179119', 8418: 'i179133', 8419: 'i179401', 8420: 'i179709', 8421: 'i179817', 8422: 'i179819', 8423: 'i180031', 8424: 'i180095', 8425: 'i180297', 8426: 'i180985', 8427: 'i181065', 8428: 'i181315', 8429: 'i182293', 8430: 'i182297', 8431: 'i182299', 8432: 'i182639', 8433: 'i182715', 8434: 'i182731', 8435: 'i182823', 8436: 'i183011', 8437: 'i183295', 8438: 'i183301', 8439: 'i183611', 8440: 'i183635', 8441: 'i183897', 8442: 'i184015', 8443: 'i184053', 8444: 'i184253', 8445: 'i184349', 8446: 'i184471', 8447: 'i184791', 8448: 'i184931', 8449: 'i184987', 8450: 'i185029', 8451: 'i185031', 8452: 'i185033', 8453: 'i185135', 8454: 'i185435', 8455: 'i185473', 8456: 'i185585', 8457: 'i186587', 8458: 'i187541', 8459: 'i187593', 8460: 'i187595', 8461: 'i188301', 8462: 'i189043', 8463: 'i189333', 8464: 'i193565', 8465: 'i193567', 8466: 'i193571', 8467: 'i193573', 8468: 'i193579', 8469: 'i193581', 8470: 'i193609', 8471: 'r1', 8472: 'r2', 8473: 'r3', 8474: 'r4', 8475: 'r5', 8476: 'r6', 8477: 'r7', 8478: 'r8', 8479: 'r9', 8480: 'r10'}\n"
          ]
        }
      ],
      "source": [
        "inverse_vocab = {index: token for token, index in vocab.items()}\n",
        "\n",
        "print(inverse_vocab)"
      ]
    },
    {
      "cell_type": "code",
      "execution_count": 187,
      "metadata": {},
      "outputs": [],
      "source": [
        "window_size = 6\n",
        "vocab_size = len(vocab)\n",
        "sequence_length = train_ratings[\"user_id\"].value_counts().iloc[0]\n",
        "batch_size = 1024\n",
        "buffer_size = 10000\n",
        "embedding_dim = 64"
      ]
    },
    {
      "cell_type": "code",
      "execution_count": 170,
      "metadata": {},
      "outputs": [],
      "source": [
        "def get_bonds(sdf):\n",
        "    bonds = []\n",
        "    for user in sdf[\"user_id\"].unique():\n",
        "        abond = []\n",
        "        for _, row in sdf[sdf[\"user_id\"] == user][:-1].iterrows():\n",
        "            ubond = str(\"u\" + str(row[\"user_id\"]))\n",
        "            ibond = str(\"i\" + str(row[\"item_id\"]))\n",
        "            rbond = str(\"r\" + str(row[\"rating\"]))\n",
        "            abond.append(ubond)\n",
        "            abond.append(ibond)\n",
        "            abond.append(rbond)\n",
        "\n",
        "        bonds.append(abond)\n",
        "        abond = []\n",
        "\n",
        "    return bonds"
      ]
    },
    {
      "cell_type": "code",
      "execution_count": 182,
      "metadata": {},
      "outputs": [],
      "source": [
        "def get_bonds_enc(bonds):\n",
        "    #bonds_enc = [vocab[token] if token in vocab else vocab['<unk>'] for bond in bonds for token in bond]\n",
        "    bonds_enc = []\n",
        "    for bond in bonds:\n",
        "        mbond = []\n",
        "        for token in bond:\n",
        "            if token in vocab:\n",
        "                mbond.append(vocab[token])\n",
        "            else:\n",
        "                mbond.append(vocab['<unk>'])\n",
        "        bonds_enc.append(mbond)\n",
        "        mbond = []\n",
        "\n",
        "    bonds_enc = pad_sequences(bonds_enc, maxlen=sequence_length, padding='post', truncating='post', value=vocab['<pad>'])\n",
        "    return bonds_enc"
      ]
    },
    {
      "cell_type": "code",
      "execution_count": 172,
      "metadata": {},
      "outputs": [],
      "source": [
        "def generate_training_data(sequences, window_size, num_ns, vocab_size, seed):\n",
        "  targets, contexts, labels = [], [], []\n",
        "\n",
        "  sampling_table = tf.keras.preprocessing.sequence.make_sampling_table(vocab_size)\n",
        "\n",
        "  for sequence in tqdm.tqdm(sequences):\n",
        "\n",
        "    positive_skip_grams, _ = tf.keras.preprocessing.sequence.skipgrams(\n",
        "          sequence,\n",
        "          vocabulary_size=vocab_size,\n",
        "          sampling_table=sampling_table,\n",
        "          window_size=window_size,\n",
        "          negative_samples=0)\n",
        "\n",
        "    for target_word, context_word in positive_skip_grams:\n",
        "      context_class = tf.expand_dims(\n",
        "          tf.constant([context_word], dtype=\"int64\"), 1)\n",
        "      negative_sampling_candidates, _, _ = tf.random.log_uniform_candidate_sampler(\n",
        "          true_classes=context_class,\n",
        "          num_true=1,\n",
        "          num_sampled=num_ns,\n",
        "          unique=True,\n",
        "          range_max=vocab_size,\n",
        "          seed=seed,\n",
        "          name=\"negative_sampling\")\n",
        "\n",
        "      context = tf.concat([tf.squeeze(context_class,1), negative_sampling_candidates], 0)\n",
        "      label = tf.constant([1] + [0]*num_ns, dtype=\"int64\")\n",
        "\n",
        "      targets.append(target_word)\n",
        "      contexts.append(context)\n",
        "      labels.append(label)\n",
        "\n",
        "  return targets, contexts, labels"
      ]
    },
    {
      "cell_type": "code",
      "execution_count": 207,
      "metadata": {},
      "outputs": [
        {
          "data": {
            "text/plain": [
              "array([[   2, 2329, 8480, ...,    0,    0,    0],\n",
              "       [   3, 4787, 8478, ...,    0,    0,    0],\n",
              "       [   4, 4771, 8480, ...,    0,    0,    0],\n",
              "       ...,\n",
              "       [ 609, 3010, 8476, ...,    0,    0,    0],\n",
              "       [ 610,  765, 8476, ...,    0,    0,    0],\n",
              "       [ 611,  879, 8476, ..., 8476,  611, 4353]])"
            ]
          },
          "execution_count": 207,
          "metadata": {},
          "output_type": "execute_result"
        }
      ],
      "source": [
        "sequences = get_bonds_enc(get_bonds(train_ratings))\n",
        "sequences"
      ]
    },
    {
      "cell_type": "code",
      "execution_count": 213,
      "metadata": {},
      "outputs": [
        {
          "name": "stderr",
          "output_type": "stream",
          "text": [
            "100%|██████████| 610/610 [09:22<00:00,  1.09it/s]\n"
          ]
        }
      ],
      "source": [
        "targets, contexts, labels = generate_training_data(\n",
        "    sequences=sequences,\n",
        "    window_size=window_size,\n",
        "    num_ns=4,\n",
        "    vocab_size=vocab_size,\n",
        "    seed=1337)\n",
        "\n",
        "targets = np.array(targets)\n",
        "contexts = np.array(contexts)\n",
        "labels = np.array(labels)"
      ]
    },
    {
      "cell_type": "code",
      "execution_count": 214,
      "metadata": {},
      "outputs": [],
      "source": [
        "from pathlib import Path\n",
        "bondtargets_path = Path('./dataset/bond_targets.npy')\n",
        "bondcontexts_path = Path('./dataset/bond_contexts.npy')\n",
        "bondlabelss_path = Path('./dataset/bond_labels.npy')"
      ]
    },
    {
      "cell_type": "markdown",
      "metadata": {},
      "source": [
        "SAVE BONDS"
      ]
    },
    {
      "cell_type": "code",
      "execution_count": 215,
      "metadata": {},
      "outputs": [],
      "source": [
        "with open(bondtargets_path, 'wb') as f:\n",
        "    np.save(f, targets, allow_pickle=True)\n",
        "with open(bondcontexts_path, 'wb') as f:\n",
        "    np.save(f, contexts, allow_pickle=True)\n",
        "with open(bondlabelss_path, 'wb') as f:\n",
        "    np.save(f, labels, allow_pickle=True)"
      ]
    },
    {
      "cell_type": "markdown",
      "metadata": {},
      "source": [
        "LOAD BONDS"
      ]
    },
    {
      "cell_type": "code",
      "execution_count": 216,
      "metadata": {},
      "outputs": [],
      "source": [
        "targets = None\n",
        "contexts = None\n",
        "labels = None\n",
        "\n",
        "with open(bondtargets_path, 'rb') as f:\n",
        "    targets = np.load(f, allow_pickle=True)\n",
        "with open(bondcontexts_path, 'rb') as f:\n",
        "    contexts = np.load(f, allow_pickle=True)\n",
        "with open(bondlabelss_path, 'rb') as f:\n",
        "    labels = np.load(f, allow_pickle=True)"
      ]
    },
    {
      "cell_type": "code",
      "execution_count": 218,
      "metadata": {},
      "outputs": [
        {
          "name": "stdout",
          "output_type": "stream",
          "text": [
            "<_PrefetchDataset element_spec=((TensorSpec(shape=(1024,), dtype=tf.int32, name=None), TensorSpec(shape=(1024, 5), dtype=tf.int64, name=None)), TensorSpec(shape=(1024, 5), dtype=tf.int64, name=None))>\n"
          ]
        }
      ],
      "source": [
        "dataset = tf.data.Dataset.from_tensor_slices(((targets, contexts), labels))\n",
        "dataset = dataset.shuffle(buffer_size).batch(batch_size, drop_remainder=True)\n",
        "dataset = dataset.cache().prefetch(buffer_size=tf.data.AUTOTUNE)\n",
        "print(dataset)"
      ]
    },
    {
      "cell_type": "code",
      "execution_count": null,
      "metadata": {},
      "outputs": [],
      "source": [
        "class Bond2Vec(keras.Model):\n",
        "    def __init__(self, vocab_size, embedding_dim):\n",
        "        super(Bond2Vec, self).__init__()\n",
        "\n",
        "        self.target_embedding = keras.layers.Embedding(vocab_size,\n",
        "                                                 embedding_dim,\n",
        "                                                 name=\"b2v_embedding\")\n",
        "        self.context_embedding = keras.layers.Embedding(vocab_size,\n",
        "                                                  embedding_dim)\n",
        "\n",
        "    def call(self, pair):\n",
        "        target, context = pair\n",
        "        \n",
        "        if len(target.shape) == 2:\n",
        "          target = tf.squeeze(target, axis=1)\n",
        "        \n",
        "        word_emb = self.target_embedding(target)    \n",
        "        context_emb = self.context_embedding(context)        \n",
        "        \n",
        "        dots = tf.einsum('be,bce->bc', word_emb, context_emb)        \n",
        "        return dots"
      ]
    },
    {
      "cell_type": "code",
      "execution_count": 37,
      "metadata": {},
      "outputs": [],
      "source": [
        "# class PreWarmUPBondnet(keras.Model):\n",
        "#     def __init__(self, data: pd.DataFrame, cat_size, embedding_size=32, batch_size=32, saved_dataset=None, **kwds):\n",
        "#         super(PreWarmUPBondnet, self).__init__(**kwds)\n",
        "\n",
        "#         self.data = data\n",
        "#         #DONT FORGET TO DELETE\n",
        "#         self.data = self.data.sample(50)\n",
        "#         print(self.data.nunique())\n",
        "\n",
        "#         self.embedding_size = embedding_size\n",
        "#         self.batch_size = batch_size\n",
        "#         self.cat_size = cat_size\n",
        "\n",
        "\n",
        "#         data_useritem_pivot = self.data.pivot(index=\"user_id\", columns=\"item_id\", values=\"rating\").fillna(self.data['rating'].mean())\n",
        "#         from sklearn.decomposition import non_negative_factorization\n",
        "#         self.W, H, _ = non_negative_factorization(data_useritem_pivot, n_components=self.embedding_size, init='random')\n",
        "#         self.H = H.T\n",
        "\n",
        "#         self.inputs1 = keras.layers.Input(shape=(2), batch_size=None)\n",
        "#         self.inputs2 = keras.layers.Input(shape=(1), batch_size=None)\n",
        "#         self.rating_embed = keras.layers.Embedding(self.cat_size, self.embedding_size,\n",
        "#                                                    embeddings_initializer=\"random_normal\", embeddings_regularizer=keras.regularizers.L1L2(), name=\"RatingEmbed\")\n",
        "#         self.user_embed = keras.layers.Embedding(self.data[\"user_id\"].nunique(), self.embedding_size, weights=[self.W],\n",
        "#                                                  embeddings_initializer=\"random_normal\", embeddings_regularizer=keras.regularizers.L1L2(l1=5e-4, l2=5e-4), name=\"UserEmbed\")\n",
        "#         self.item_embed = keras.layers.Embedding(self.data[\"item_id\"].nunique(), self.embedding_size, weights=[self.H],\n",
        "#                                                  embeddings_initializer=\"random_normal\", embeddings_regularizer=keras.regularizers.L1L2(l1=5e-4, l2=1e-4), name=\"ItemEmbed\")\n",
        "        \n",
        "\n",
        "\n",
        "#         self.pp_train = []\n",
        "#         if saved_dataset is None:\n",
        "\n",
        "#             userarr = np.sort(self.data[\"user_id\"].unique())\n",
        "#             itemarr = np.sort(self.data[\"item_id\"].unique())\n",
        "\n",
        "#             indices_iterator = np.ndindex(len(self.W), len(self.H), self.cat_size)\n",
        "#             indices_arr = list(indices_iterator)\n",
        "#             indices_choice = np.random.choice(len(indices_arr), len(indices_arr), replace=False)\n",
        "\n",
        "#             print(\"Randoms are ready.\")\n",
        "            \n",
        "#             ui_embed = []\n",
        "#             rt_index = []\n",
        "#             y = []\n",
        "#             for c in indices_choice:\n",
        "\n",
        "#                 user_index, item_index, rating_index = indices_arr[c]\n",
        "\n",
        "#                 user_id = userarr[user_index]\n",
        "#                 item_id = itemarr[item_index]\n",
        "\n",
        "#                 # user_embed = self.W[user_index]\n",
        "#                 # item_embed = self.H[item_index]\n",
        "#                 # ui_embed.append(np.asanyarray([user_embed, item_embed]))\n",
        "#                 ui_embed.append(np.asanyarray([user_index, item_index]))\n",
        "#                 rt_index.append(np.asanyarray(rating_index))\n",
        "\n",
        "#                 rating_value = (rating_index + 1) * 0.5\n",
        "#                 if len(self.data[(self.data[\"user_id\"] == user_id) & (self.data[\"item_id\"] == item_id) & (self.data[\"rating\"] == rating_value)]) == 0:\n",
        "#                     y.append(np.asanyarray(0.0))\n",
        "#                 else:\n",
        "#                     y.append(np.asanyarray(1.0))\n",
        "\n",
        "#                 if len(ui_embed) == self.batch_size:\n",
        "#                     self.pp_train.append(((np.asanyarray(ui_embed), np.asanyarray(rt_index)), np.asanyarray(y)))\n",
        "#                     ui_embed = []\n",
        "#                     rt_index = []\n",
        "#                     y = []\n",
        "\n",
        "#             if len(ui_embed) != 0:\n",
        "#                 self.pp_train.append(((np.asanyarray(ui_embed), np.asanyarray(rt_index)), np.asanyarray(y)))\n",
        "#                 ui_embed = []\n",
        "#                 rt_index = []\n",
        "#                 y = []\n",
        "\n",
        "#             with open(\"dataset/\" + \"E\" + str(embedding_size) + \"B\" + str(batch_size) + \"train_dataset.npy\", 'wb') as f:\n",
        "#                 np.save(f, self.pp_train, allow_pickle=True)\n",
        "#         else:\n",
        "#             with open(saved_dataset, 'rb') as f:\n",
        "#                 self.pp_train = np.load(f, allow_pickle=True)\n",
        "\n",
        "\n",
        "#     def train_spe(self):\n",
        "#         return int(np.ceil((self.data[\"user_id\"].nunique() * self.data[\"item_id\"].nunique() * self.data[\"rating\"].nunique()) / self.batch_size))\n",
        "\n",
        "#     def __data_gen(self):        \n",
        "#         pass\n",
        "        \n",
        "\n",
        "#     def get_dataset(self):\n",
        "#         signature = ((tf.TensorSpec(shape=(None, 2), dtype=tf.int32),\n",
        "#                       tf.TensorSpec(shape=(None,), dtype=tf.int32)),\n",
        "#                       tf.TensorSpec(shape=(None,), dtype=tf.float32))\n",
        "\n",
        "#         train_dataset = tf.data.Dataset.from_generator(\n",
        "#             self.__data_gen,\n",
        "#             output_signature=signature\n",
        "#         )\n",
        "\n",
        "#         return train_dataset\n",
        "\n",
        "#     def call(self, inputs):\n",
        "#         # user_vec = inputs[0][:, 0]\n",
        "#         # item_vec = inputs[0][:, 1]\n",
        "\n",
        "\n",
        "\n",
        "#         user_vec = self.user_embed(inputs[0][:, 0])\n",
        "#         item_vec = self.item_embed(inputs[0][:, 1])\n",
        "#         rating_indices = inputs[1]\n",
        "\n",
        "#         rating_vec = self.rating_embed(rating_indices)\n",
        "\n",
        "#         useritem = tf.reduce_sum(tf.multiply(user_vec, item_vec), 1)\n",
        "#         userrating = tf.reduce_sum(tf.multiply(user_vec, rating_vec), 1)\n",
        "#         itemrating = tf.reduce_sum(tf.multiply(item_vec, rating_vec), 1)\n",
        "\n",
        "\n",
        "\n",
        "#         # ui_cross = (user_vec + item_vec) / 2\n",
        "#         # return tf.reduce_sum(tf.multiply(rating_vec, ui_cross), 1)\n",
        "\n",
        "\n",
        "\n",
        "#         return useritem * userrating * itemrating"
      ]
    },
    {
      "cell_type": "code",
      "execution_count": 52,
      "metadata": {},
      "outputs": [
        {
          "name": "stdout",
          "output_type": "stream",
          "text": [
            "user_id      44\n",
            "item_id      49\n",
            "rating       10\n",
            "timestamp    50\n",
            "dtype: int64\n",
            "Randoms are ready.\n"
          ]
        },
        {
          "name": "stderr",
          "output_type": "stream",
          "text": [
            "c:\\feindrial\\py_env\\Lib\\site-packages\\numpy\\lib\\npyio.py:521: VisibleDeprecationWarning: Creating an ndarray from ragged nested sequences (which is a list-or-tuple of lists-or-tuples-or ndarrays with different lengths or shapes) is deprecated. If you meant to do this, you must specify 'dtype=object' when creating the ndarray.\n",
            "  arr = np.asanyarray(arr)\n"
          ]
        }
      ],
      "source": [
        "b2v = Bond2Vec(vocab_size, embedding_dim)"
      ]
    },
    {
      "cell_type": "code",
      "execution_count": 53,
      "metadata": {},
      "outputs": [],
      "source": [
        "with open(\"dataset/E1B1train_dataset.npy\", 'rb') as f:\n",
        "    asdasdasdsada = np.load(f, allow_pickle=True)"
      ]
    },
    {
      "cell_type": "code",
      "execution_count": 22,
      "metadata": {},
      "outputs": [],
      "source": [
        "Xy_train = pwu_bondnet.get_dataset()"
      ]
    },
    {
      "cell_type": "code",
      "execution_count": 15,
      "metadata": {},
      "outputs": [
        {
          "name": "stdout",
          "output_type": "stream",
          "text": [
            "((<tf.Tensor: shape=(2, 2), dtype=int32, numpy=\n",
            "array([[ 443, 6153],\n",
            "       [ 148, 3290]])>, <tf.Tensor: shape=(2,), dtype=int32, numpy=array([0, 5])>), <tf.Tensor: shape=(2,), dtype=float32, numpy=array([0., 0.], dtype=float32)>)\n"
          ]
        }
      ],
      "source": [
        "for Xy in Xy_train:\n",
        "    print(Xy)\n",
        "    break"
      ]
    },
    {
      "cell_type": "code",
      "execution_count": 23,
      "metadata": {},
      "outputs": [],
      "source": [
        "pwu_bondnet.compile(\n",
        "    loss=\"huber\",\n",
        "    optimizer=keras.optimizers.Adam(learning_rate=1e-3),\n",
        "    metrics=[\n",
        "        keras.metrics.MeanSquaredError(),\n",
        "        keras.metrics.RootMeanSquaredError(),\n",
        "    ]\n",
        ")"
      ]
    },
    {
      "cell_type": "code",
      "execution_count": 24,
      "metadata": {},
      "outputs": [
        {
          "name": "stdout",
          "output_type": "stream",
          "text": [
            "Epoch 1/50\n"
          ]
        },
        {
          "ename": "AttributeError",
          "evalue": "in user code:\n\n    File \"c:\\feindrial\\py_env\\Lib\\site-packages\\keras\\engine\\training.py\", line 1284, in train_function  *\n        return step_function(self, iterator)\n    File \"c:\\feindrial\\py_env\\Lib\\site-packages\\keras\\engine\\training.py\", line 1268, in step_function  **\n        outputs = model.distribute_strategy.run(run_step, args=(data,))\n    File \"c:\\feindrial\\py_env\\Lib\\site-packages\\keras\\engine\\training.py\", line 1249, in run_step  **\n        outputs = model.train_step(data)\n    File \"c:\\feindrial\\py_env\\Lib\\site-packages\\keras\\engine\\training.py\", line 1051, in train_step\n        loss = self.compute_loss(x, y, y_pred, sample_weight)\n    File \"c:\\feindrial\\py_env\\Lib\\site-packages\\keras\\engine\\training.py\", line 1109, in compute_loss\n        return self.compiled_loss(\n    File \"c:\\feindrial\\py_env\\Lib\\site-packages\\keras\\engine\\compile_utils.py\", line 263, in __call__\n        y_t, y_p, sw = match_dtype_and_rank(y_t, y_p, sw)\n    File \"c:\\feindrial\\py_env\\Lib\\site-packages\\keras\\engine\\compile_utils.py\", line 831, in match_dtype_and_rank\n        if y_t.shape.rank == 1 and y_p.shape.rank == 2:\n\n    AttributeError: 'float' object has no attribute 'shape'\n",
          "output_type": "error",
          "traceback": [
            "\u001b[1;31m---------------------------------------------------------------------------\u001b[0m",
            "\u001b[1;31mAttributeError\u001b[0m                            Traceback (most recent call last)",
            "Cell \u001b[1;32mIn[24], line 4\u001b[0m\n\u001b[0;32m      1\u001b[0m model_checkpoint \u001b[38;5;241m=\u001b[39m ModelCheckpoint(\u001b[38;5;124m\"\u001b[39m\u001b[38;5;124m./models/three_point.weights.h5\u001b[39m\u001b[38;5;124m\"\u001b[39m, monitor\u001b[38;5;241m=\u001b[39m\u001b[38;5;124m\"\u001b[39m\u001b[38;5;124mloss\u001b[39m\u001b[38;5;124m\"\u001b[39m, mode\u001b[38;5;241m=\u001b[39m\u001b[38;5;124m\"\u001b[39m\u001b[38;5;124mmax\u001b[39m\u001b[38;5;124m\"\u001b[39m, save_best_only\u001b[38;5;241m=\u001b[39m\u001b[38;5;28;01mTrue\u001b[39;00m, save_weights_only\u001b[38;5;241m=\u001b[39m\u001b[38;5;28;01mTrue\u001b[39;00m)\n\u001b[0;32m      2\u001b[0m early_stopping \u001b[38;5;241m=\u001b[39m keras\u001b[38;5;241m.\u001b[39mcallbacks\u001b[38;5;241m.\u001b[39mEarlyStopping(monitor\u001b[38;5;241m=\u001b[39m\u001b[38;5;124m'\u001b[39m\u001b[38;5;124mloss\u001b[39m\u001b[38;5;124m'\u001b[39m, patience\u001b[38;5;241m=\u001b[39m\u001b[38;5;241m5\u001b[39m)\n\u001b[1;32m----> 4\u001b[0m pwu_history \u001b[38;5;241m=\u001b[39m \u001b[43mpwu_bondnet\u001b[49m\u001b[38;5;241;43m.\u001b[39;49m\u001b[43mfit\u001b[49m\u001b[43m(\u001b[49m\n\u001b[0;32m      5\u001b[0m \u001b[43m    \u001b[49m\u001b[43mXy_train\u001b[49m\u001b[38;5;241;43m.\u001b[39;49m\u001b[43mrepeat\u001b[49m\u001b[43m(\u001b[49m\u001b[43m)\u001b[49m\u001b[43m,\u001b[49m\n\u001b[0;32m      6\u001b[0m \u001b[43m    \u001b[49m\u001b[43msteps_per_epoch\u001b[49m\u001b[38;5;241;43m=\u001b[39;49m\u001b[43mpwu_bondnet\u001b[49m\u001b[38;5;241;43m.\u001b[39;49m\u001b[43mtrain_spe\u001b[49m\u001b[43m(\u001b[49m\u001b[43m)\u001b[49m\u001b[43m,\u001b[49m\n\u001b[0;32m      7\u001b[0m \u001b[43m    \u001b[49m\u001b[43mepochs\u001b[49m\u001b[38;5;241;43m=\u001b[39;49m\u001b[38;5;241;43m50\u001b[39;49m\u001b[43m,\u001b[49m\n\u001b[0;32m      8\u001b[0m \u001b[43m    \u001b[49m\u001b[43mcallbacks\u001b[49m\u001b[38;5;241;43m=\u001b[39;49m\u001b[43m[\u001b[49m\u001b[43mmodel_checkpoint\u001b[49m\u001b[43m,\u001b[49m\u001b[43m \u001b[49m\u001b[43mearly_stopping\u001b[49m\u001b[43m]\u001b[49m\n\u001b[0;32m      9\u001b[0m \u001b[43m)\u001b[49m\n",
            "File \u001b[1;32mc:\\feindrial\\py_env\\Lib\\site-packages\\keras\\utils\\traceback_utils.py:70\u001b[0m, in \u001b[0;36mfilter_traceback.<locals>.error_handler\u001b[1;34m(*args, **kwargs)\u001b[0m\n\u001b[0;32m     67\u001b[0m     filtered_tb \u001b[38;5;241m=\u001b[39m _process_traceback_frames(e\u001b[38;5;241m.\u001b[39m__traceback__)\n\u001b[0;32m     68\u001b[0m     \u001b[38;5;66;03m# To get the full stack trace, call:\u001b[39;00m\n\u001b[0;32m     69\u001b[0m     \u001b[38;5;66;03m# `tf.debugging.disable_traceback_filtering()`\u001b[39;00m\n\u001b[1;32m---> 70\u001b[0m     \u001b[38;5;28;01mraise\u001b[39;00m e\u001b[38;5;241m.\u001b[39mwith_traceback(filtered_tb) \u001b[38;5;28;01mfrom\u001b[39;00m \u001b[38;5;28;01mNone\u001b[39;00m\n\u001b[0;32m     71\u001b[0m \u001b[38;5;28;01mfinally\u001b[39;00m:\n\u001b[0;32m     72\u001b[0m     \u001b[38;5;28;01mdel\u001b[39;00m filtered_tb\n",
            "File \u001b[1;32m~\\AppData\\Local\\Temp\\__autograph_generated_filevplnw78m.py:15\u001b[0m, in \u001b[0;36mouter_factory.<locals>.inner_factory.<locals>.tf__train_function\u001b[1;34m(iterator)\u001b[0m\n\u001b[0;32m     13\u001b[0m \u001b[38;5;28;01mtry\u001b[39;00m:\n\u001b[0;32m     14\u001b[0m     do_return \u001b[38;5;241m=\u001b[39m \u001b[38;5;28;01mTrue\u001b[39;00m\n\u001b[1;32m---> 15\u001b[0m     retval_ \u001b[38;5;241m=\u001b[39m ag__\u001b[38;5;241m.\u001b[39mconverted_call(ag__\u001b[38;5;241m.\u001b[39mld(step_function), (ag__\u001b[38;5;241m.\u001b[39mld(\u001b[38;5;28mself\u001b[39m), ag__\u001b[38;5;241m.\u001b[39mld(iterator)), \u001b[38;5;28;01mNone\u001b[39;00m, fscope)\n\u001b[0;32m     16\u001b[0m \u001b[38;5;28;01mexcept\u001b[39;00m:\n\u001b[0;32m     17\u001b[0m     do_return \u001b[38;5;241m=\u001b[39m \u001b[38;5;28;01mFalse\u001b[39;00m\n",
            "\u001b[1;31mAttributeError\u001b[0m: in user code:\n\n    File \"c:\\feindrial\\py_env\\Lib\\site-packages\\keras\\engine\\training.py\", line 1284, in train_function  *\n        return step_function(self, iterator)\n    File \"c:\\feindrial\\py_env\\Lib\\site-packages\\keras\\engine\\training.py\", line 1268, in step_function  **\n        outputs = model.distribute_strategy.run(run_step, args=(data,))\n    File \"c:\\feindrial\\py_env\\Lib\\site-packages\\keras\\engine\\training.py\", line 1249, in run_step  **\n        outputs = model.train_step(data)\n    File \"c:\\feindrial\\py_env\\Lib\\site-packages\\keras\\engine\\training.py\", line 1051, in train_step\n        loss = self.compute_loss(x, y, y_pred, sample_weight)\n    File \"c:\\feindrial\\py_env\\Lib\\site-packages\\keras\\engine\\training.py\", line 1109, in compute_loss\n        return self.compiled_loss(\n    File \"c:\\feindrial\\py_env\\Lib\\site-packages\\keras\\engine\\compile_utils.py\", line 263, in __call__\n        y_t, y_p, sw = match_dtype_and_rank(y_t, y_p, sw)\n    File \"c:\\feindrial\\py_env\\Lib\\site-packages\\keras\\engine\\compile_utils.py\", line 831, in match_dtype_and_rank\n        if y_t.shape.rank == 1 and y_p.shape.rank == 2:\n\n    AttributeError: 'float' object has no attribute 'shape'\n"
          ]
        }
      ],
      "source": [
        "model_checkpoint = ModelCheckpoint(\"./models/three_point.weights.h5\", monitor=\"loss\", mode=\"max\", save_best_only=True, save_weights_only=True)\n",
        "early_stopping = keras.callbacks.EarlyStopping(monitor='loss', patience=5)\n",
        "\n",
        "pwu_history = pwu_bondnet.fit(\n",
        "    Xy_train.repeat(),\n",
        "    steps_per_epoch=pwu_bondnet.train_spe(),\n",
        "    epochs=50,\n",
        "    callbacks=[model_checkpoint, early_stopping]\n",
        ")"
      ]
    },
    {
      "cell_type": "code",
      "execution_count": 254,
      "metadata": {},
      "outputs": [
        {
          "name": "stdout",
          "output_type": "stream",
          "text": [
            "Model: \"pre_warm_up_bondnet_41\"\n",
            "_________________________________________________________________\n",
            " Layer (type)                Output Shape              Param #   \n",
            "=================================================================\n",
            " RatingEmbed (Embedding)     multiple                  320       \n",
            "                                                                 \n",
            " UserEmbed (Embedding)       multiple                  1216      \n",
            "                                                                 \n",
            " ItemEmbed (Embedding)       multiple                  19424     \n",
            "                                                                 \n",
            "=================================================================\n",
            "Total params: 20,960\n",
            "Trainable params: 20,960\n",
            "Non-trainable params: 0\n",
            "_________________________________________________________________\n"
          ]
        }
      ],
      "source": [
        "pwu_bondnet.summary()"
      ]
    },
    {
      "cell_type": "code",
      "execution_count": 66,
      "metadata": {},
      "outputs": [
        {
          "data": {
            "text/plain": [
              "array([     5,      6,     34,     95,    145,    161,    169,    173,\n",
              "          186,    196,    253,    272,    276,    292,    293,    317,\n",
              "          350,    367,    474,    500,    519,    531,    539,    541,\n",
              "          707,    780,    786,    916,   1073,   1199,   1201,   1208,\n",
              "         1222,   1288,   1375,   1387,   1454,   1527,   1584,   1587,\n",
              "         1653,   2010,   2160,   2396,   2495,   2539,   2571,   2640,\n",
              "         2944,   2987,   3210,   3260,   3408,   3418,   3549,   3698,\n",
              "         3755,   3826,   3949,   3996,   4022,   4078,   4262,   4356,\n",
              "         4368,   4378,   4643,   4888,   4973,   5932,   6373,   7153,\n",
              "         7925,   8368,   8784,   8879,  26265,  30749,  33499,  33660,\n",
              "        33836,  45732,  52973,  54272,  56949,  60979,  63072,  67087,\n",
              "        67255,  80139,  91529,  94677,  98239,  99114, 101962, 107406,\n",
              "       108932, 109487, 130490], dtype=int64)"
            ]
          },
          "execution_count": 66,
          "metadata": {},
          "output_type": "execute_result"
        }
      ],
      "source": [
        "np.sort(pwu_bondnet.data[\"item_id\"].unique())"
      ]
    },
    {
      "cell_type": "code",
      "execution_count": 67,
      "metadata": {},
      "outputs": [
        {
          "data": {
            "text/plain": [
              "array([  1,  19,  27,  43,  50,  57,  64,  68,  89,  96, 103, 105, 111,\n",
              "       117, 119, 122, 123, 125, 131, 136, 143, 144, 147, 171, 177, 182,\n",
              "       190, 202, 204, 232, 239, 249, 274, 275, 287, 290, 298, 302, 305,\n",
              "       307, 313, 316, 318, 325, 329, 332, 334, 339, 353, 354, 367, 373,\n",
              "       381, 382, 387, 414, 417, 425, 438, 448, 474, 475, 477, 483, 489,\n",
              "       490, 523, 524, 532, 541, 563, 567, 573, 586, 592, 600, 602, 603,\n",
              "       606, 608], dtype=int64)"
            ]
          },
          "execution_count": 67,
          "metadata": {},
          "output_type": "execute_result"
        }
      ],
      "source": [
        "np.sort(pwu_bondnet.data[\"user_id\"].unique())"
      ]
    },
    {
      "cell_type": "code",
      "execution_count": 72,
      "metadata": {},
      "outputs": [
        {
          "data": {
            "text/html": [
              "<div>\n",
              "<style scoped>\n",
              "    .dataframe tbody tr th:only-of-type {\n",
              "        vertical-align: middle;\n",
              "    }\n",
              "\n",
              "    .dataframe tbody tr th {\n",
              "        vertical-align: top;\n",
              "    }\n",
              "\n",
              "    .dataframe thead th {\n",
              "        text-align: right;\n",
              "    }\n",
              "</style>\n",
              "<table border=\"1\" class=\"dataframe\">\n",
              "  <thead>\n",
              "    <tr style=\"text-align: right;\">\n",
              "      <th></th>\n",
              "      <th>user_id</th>\n",
              "      <th>item_id</th>\n",
              "      <th>rating</th>\n",
              "      <th>timestamp</th>\n",
              "    </tr>\n",
              "  </thead>\n",
              "  <tbody>\n",
              "    <tr>\n",
              "      <th>6371</th>\n",
              "      <td>43</td>\n",
              "      <td>350</td>\n",
              "      <td>4.0</td>\n",
              "      <td>848993903</td>\n",
              "    </tr>\n",
              "    <tr>\n",
              "      <th>6330</th>\n",
              "      <td>43</td>\n",
              "      <td>95</td>\n",
              "      <td>4.0</td>\n",
              "      <td>848993983</td>\n",
              "    </tr>\n",
              "    <tr>\n",
              "      <th>6356</th>\n",
              "      <td>43</td>\n",
              "      <td>276</td>\n",
              "      <td>5.0</td>\n",
              "      <td>848994265</td>\n",
              "    </tr>\n",
              "  </tbody>\n",
              "</table>\n",
              "</div>"
            ],
            "text/plain": [
              "      user_id  item_id  rating  timestamp\n",
              "6371       43      350     4.0  848993903\n",
              "6330       43       95     4.0  848993983\n",
              "6356       43      276     5.0  848994265"
            ]
          },
          "execution_count": 72,
          "metadata": {},
          "output_type": "execute_result"
        }
      ],
      "source": [
        "pwu_bondnet.data[(pwu_bondnet.data[\"user_id\"] == 43)]"
      ]
    },
    {
      "cell_type": "code",
      "execution_count": 86,
      "metadata": {},
      "outputs": [],
      "source": [
        "userrr_vec = pwu_bondnet.W[16]\n",
        "itemmm_vec = pwu_bondnet.H[3]"
      ]
    },
    {
      "cell_type": "code",
      "execution_count": 87,
      "metadata": {},
      "outputs": [
        {
          "data": {
            "text/plain": [
              "array([1.11207162, 1.0547363 , 0.67871756, 0.76262731, 0.60208082])"
            ]
          },
          "execution_count": 87,
          "metadata": {},
          "output_type": "execute_result"
        }
      ],
      "source": [
        "tplmvecc = (userrr_vec + itemmm_vec) / 2\n",
        "tplmvecc"
      ]
    },
    {
      "cell_type": "code",
      "execution_count": 88,
      "metadata": {},
      "outputs": [
        {
          "data": {
            "text/plain": [
              "<tf.Tensor: shape=(), dtype=float32, numpy=0.00056051393>"
            ]
          },
          "execution_count": 88,
          "metadata": {},
          "output_type": "execute_result"
        }
      ],
      "source": [
        "tf.tensordot(tplmvecc.tolist(), [-2.4175814e-03,  8.8441151e-04, -9.0865273e-04,  1.7733764e-03, 2.6250796e-03], axes=1)"
      ]
    },
    {
      "cell_type": "code",
      "execution_count": 81,
      "metadata": {},
      "outputs": [
        {
          "ename": "InvalidArgumentError",
          "evalue": "{{function_node __wrapped__Sum_device_/job:localhost/replica:0/task:0/device:CPU:0}} Invalid reduction dimension (1 for input with 1 dimension(s) [Op:Sum]",
          "output_type": "error",
          "traceback": [
            "\u001b[1;31m---------------------------------------------------------------------------\u001b[0m",
            "\u001b[1;31mInvalidArgumentError\u001b[0m                      Traceback (most recent call last)",
            "Cell \u001b[1;32mIn[81], line 1\u001b[0m\n\u001b[1;32m----> 1\u001b[0m \u001b[43mtf\u001b[49m\u001b[38;5;241;43m.\u001b[39;49m\u001b[43mreduce_sum\u001b[49m\u001b[43m(\u001b[49m\u001b[43mtf\u001b[49m\u001b[38;5;241;43m.\u001b[39;49m\u001b[43mmultiply\u001b[49m\u001b[43m(\u001b[49m\u001b[43mtplmvecc\u001b[49m\u001b[43m,\u001b[49m\u001b[43m \u001b[49m\u001b[43m[\u001b[49m\u001b[38;5;241;43m-\u001b[39;49m\u001b[38;5;241;43m2.4175814e-03\u001b[39;49m\u001b[43m,\u001b[49m\u001b[43m  \u001b[49m\u001b[38;5;241;43m8.8441151e-04\u001b[39;49m\u001b[43m,\u001b[49m\u001b[43m \u001b[49m\u001b[38;5;241;43m-\u001b[39;49m\u001b[38;5;241;43m9.0865273e-04\u001b[39;49m\u001b[43m,\u001b[49m\u001b[43m  \u001b[49m\u001b[38;5;241;43m1.7733764e-03\u001b[39;49m\u001b[43m,\u001b[49m\u001b[43m \u001b[49m\u001b[38;5;241;43m2.6250796e-03\u001b[39;49m\u001b[43m]\u001b[49m\u001b[43m)\u001b[49m\u001b[43m,\u001b[49m\u001b[43m \u001b[49m\u001b[38;5;241;43m1\u001b[39;49m\u001b[43m)\u001b[49m\n",
            "File \u001b[1;32mc:\\feindrial\\py_env\\Lib\\site-packages\\tensorflow\\python\\util\\traceback_utils.py:153\u001b[0m, in \u001b[0;36mfilter_traceback.<locals>.error_handler\u001b[1;34m(*args, **kwargs)\u001b[0m\n\u001b[0;32m    151\u001b[0m \u001b[38;5;28;01mexcept\u001b[39;00m \u001b[38;5;167;01mException\u001b[39;00m \u001b[38;5;28;01mas\u001b[39;00m e:\n\u001b[0;32m    152\u001b[0m   filtered_tb \u001b[38;5;241m=\u001b[39m _process_traceback_frames(e\u001b[38;5;241m.\u001b[39m__traceback__)\n\u001b[1;32m--> 153\u001b[0m   \u001b[38;5;28;01mraise\u001b[39;00m e\u001b[38;5;241m.\u001b[39mwith_traceback(filtered_tb) \u001b[38;5;28;01mfrom\u001b[39;00m \u001b[38;5;28;01mNone\u001b[39;00m\n\u001b[0;32m    154\u001b[0m \u001b[38;5;28;01mfinally\u001b[39;00m:\n\u001b[0;32m    155\u001b[0m   \u001b[38;5;28;01mdel\u001b[39;00m filtered_tb\n",
            "File \u001b[1;32mc:\\feindrial\\py_env\\Lib\\site-packages\\tensorflow\\python\\framework\\ops.py:7262\u001b[0m, in \u001b[0;36mraise_from_not_ok_status\u001b[1;34m(e, name)\u001b[0m\n\u001b[0;32m   7260\u001b[0m \u001b[38;5;28;01mdef\u001b[39;00m \u001b[38;5;21mraise_from_not_ok_status\u001b[39m(e, name):\n\u001b[0;32m   7261\u001b[0m   e\u001b[38;5;241m.\u001b[39mmessage \u001b[38;5;241m+\u001b[39m\u001b[38;5;241m=\u001b[39m (\u001b[38;5;124m\"\u001b[39m\u001b[38;5;124m name: \u001b[39m\u001b[38;5;124m\"\u001b[39m \u001b[38;5;241m+\u001b[39m name \u001b[38;5;28;01mif\u001b[39;00m name \u001b[38;5;129;01mis\u001b[39;00m \u001b[38;5;129;01mnot\u001b[39;00m \u001b[38;5;28;01mNone\u001b[39;00m \u001b[38;5;28;01melse\u001b[39;00m \u001b[38;5;124m\"\u001b[39m\u001b[38;5;124m\"\u001b[39m)\n\u001b[1;32m-> 7262\u001b[0m   \u001b[38;5;28;01mraise\u001b[39;00m core\u001b[38;5;241m.\u001b[39m_status_to_exception(e) \u001b[38;5;28;01mfrom\u001b[39;00m \u001b[38;5;28;01mNone\u001b[39;00m\n",
            "\u001b[1;31mInvalidArgumentError\u001b[0m: {{function_node __wrapped__Sum_device_/job:localhost/replica:0/task:0/device:CPU:0}} Invalid reduction dimension (1 for input with 1 dimension(s) [Op:Sum]"
          ]
        }
      ],
      "source": [
        "tf.reduce_sum(tf.multiply(tplmvecc, [-2.4175814e-03,  8.8441151e-04, -9.0865273e-04,  1.7733764e-03, 2.6250796e-03]), )"
      ]
    },
    {
      "cell_type": "code",
      "execution_count": 61,
      "metadata": {},
      "outputs": [
        {
          "data": {
            "text/plain": [
              "[array([[-1.8160141e-03, -2.7124295e-03,  2.8509665e-03, -5.9462531e-04,\n",
              "          2.9892433e-03],\n",
              "        [-1.4307820e-07,  1.6460662e-07, -3.9065185e-07,  4.6537545e-07,\n",
              "         -2.1384253e-08],\n",
              "        [-3.9853534e-05, -2.2242864e-05,  1.4934649e-05,  4.0467618e-05,\n",
              "          2.2146003e-05],\n",
              "        [ 1.8550756e-03, -1.5283744e-04,  1.1496239e-03,  3.1126884e-04,\n",
              "         -3.7805575e-03],\n",
              "        [ 1.8483194e-03,  2.1268215e-03, -2.8369369e-04, -2.6025649e-03,\n",
              "         -2.0219900e-03],\n",
              "        [ 3.3528868e-03, -3.8504824e-03, -3.3146706e-03,  2.9564356e-03,\n",
              "          1.8229483e-03],\n",
              "        [ 1.6744517e-03, -1.9927849e-03, -8.6464133e-04,  1.4966436e-03,\n",
              "         -6.0219364e-04],\n",
              "        [-2.4175814e-03,  8.8441151e-04, -9.0865273e-04,  1.7733764e-03,\n",
              "          2.6250796e-03],\n",
              "        [ 1.8065796e-03, -2.1390440e-03, -6.3807803e-04,  1.5549816e-03,\n",
              "         -7.7615306e-04],\n",
              "        [ 1.1084902e-03,  3.2325652e-03, -1.8272691e-03, -2.9348007e-03,\n",
              "          3.5613982e-04]], dtype=float32)]"
            ]
          },
          "execution_count": 61,
          "metadata": {},
          "output_type": "execute_result"
        }
      ],
      "source": [
        "pwu_bondnet.get_weights()"
      ]
    },
    {
      "cell_type": "code",
      "execution_count": 62,
      "metadata": {},
      "outputs": [
        {
          "data": {
            "text/html": [
              "<div>\n",
              "<style scoped>\n",
              "    .dataframe tbody tr th:only-of-type {\n",
              "        vertical-align: middle;\n",
              "    }\n",
              "\n",
              "    .dataframe tbody tr th {\n",
              "        vertical-align: top;\n",
              "    }\n",
              "\n",
              "    .dataframe thead th {\n",
              "        text-align: right;\n",
              "    }\n",
              "</style>\n",
              "<table border=\"1\" class=\"dataframe\">\n",
              "  <thead>\n",
              "    <tr style=\"text-align: right;\">\n",
              "      <th></th>\n",
              "      <th>user_id</th>\n",
              "      <th>item_id</th>\n",
              "      <th>rating</th>\n",
              "      <th>timestamp</th>\n",
              "    </tr>\n",
              "  </thead>\n",
              "  <tbody>\n",
              "    <tr>\n",
              "      <th>0</th>\n",
              "      <td>1</td>\n",
              "      <td>1</td>\n",
              "      <td>4.0</td>\n",
              "      <td>964982703</td>\n",
              "    </tr>\n",
              "  </tbody>\n",
              "</table>\n",
              "</div>"
            ],
            "text/plain": [
              "   user_id  item_id  rating  timestamp\n",
              "0        1        1     4.0  964982703"
            ]
          },
          "execution_count": 62,
          "metadata": {},
          "output_type": "execute_result"
        }
      ],
      "source": [
        "ratings[(ratings[\"user_id\"] == 1) & (ratings[\"item_id\"] == 1)]"
      ]
    },
    {
      "cell_type": "code",
      "execution_count": 63,
      "metadata": {},
      "outputs": [],
      "source": [
        "data_useritem_pivot = ratings.pivot(index=\"user_id\", columns=\"item_id\", values=\"rating\").fillna(ratings['rating'].mean())\n",
        "\n",
        "from sklearn.decomposition import non_negative_factorization\n",
        "W, H, _ = non_negative_factorization(data_useritem_pivot, n_components=4, init='random')"
      ]
    },
    {
      "cell_type": "code",
      "execution_count": 64,
      "metadata": {},
      "outputs": [
        {
          "name": "stdout",
          "output_type": "stream",
          "text": [
            "(610, 4)\n",
            "(4, 9724)\n"
          ]
        }
      ],
      "source": [
        "print(W.shape)\n",
        "print(H.shape)"
      ]
    },
    {
      "cell_type": "code",
      "execution_count": 65,
      "metadata": {},
      "outputs": [
        {
          "data": {
            "text/plain": [
              "array([[3.66985729, 3.5122722 , 3.50196523, ..., 3.52188136, 3.52307482,\n",
              "        3.52252931],\n",
              "       [3.65076303, 3.49088965, 3.4847982 , ..., 3.50328295, 3.50183954,\n",
              "        3.50320039],\n",
              "       [3.64354806, 3.48501058, 3.47324292, ..., 3.49783517, 3.49741537,\n",
              "        3.4981555 ],\n",
              "       ...,\n",
              "       [3.62160414, 3.45400519, 3.44817692, ..., 3.46901255, 3.47104733,\n",
              "        3.47375084],\n",
              "       [3.64857656, 3.48869442, 3.4812525 , ..., 3.50054955, 3.50034014,\n",
              "        3.50126959],\n",
              "       [3.68724382, 3.51226234, 3.5192166 , ..., 3.51985022, 3.52875048,\n",
              "        3.52993246]])"
            ]
          },
          "execution_count": 65,
          "metadata": {},
          "output_type": "execute_result"
        }
      ],
      "source": [
        "np.matmul(W, H)"
      ]
    },
    {
      "cell_type": "code",
      "execution_count": 50,
      "metadata": {},
      "outputs": [
        {
          "ename": "ValueError",
          "evalue": "matmul: Input operand 1 has a mismatch in its core dimension 0, with gufunc signature (n?,k),(k,m?)->(n?,m?) (size 9724 is different from 3)",
          "output_type": "error",
          "traceback": [
            "\u001b[1;31m---------------------------------------------------------------------------\u001b[0m",
            "\u001b[1;31mValueError\u001b[0m                                Traceback (most recent call last)",
            "\u001b[1;32mc:\\feindrial\\bondnet\\main.ipynb Cell 24\u001b[0m line \u001b[0;36m1\n\u001b[1;32m----> <a href='vscode-notebook-cell:/c%3A/feindrial/bondnet/main.ipynb#X63sZmlsZQ%3D%3D?line=0'>1</a>\u001b[0m np\u001b[39m.\u001b[39;49mmatmul(U, np\u001b[39m.\u001b[39;49mmatmul(S, VT)\u001b[39m.\u001b[39;49mT)\n",
            "\u001b[1;31mValueError\u001b[0m: matmul: Input operand 1 has a mismatch in its core dimension 0, with gufunc signature (n?,k),(k,m?)->(n?,m?) (size 9724 is different from 3)"
          ]
        }
      ],
      "source": []
    },
    {
      "cell_type": "code",
      "execution_count": 26,
      "metadata": {},
      "outputs": [
        {
          "data": {
            "text/plain": [
              "(3, 9724)"
            ]
          },
          "execution_count": 26,
          "metadata": {},
          "output_type": "execute_result"
        }
      ],
      "source": []
    },
    {
      "cell_type": "code",
      "execution_count": 167,
      "metadata": {},
      "outputs": [
        {
          "data": {
            "text/html": [
              "<div>\n",
              "<style scoped>\n",
              "    .dataframe tbody tr th:only-of-type {\n",
              "        vertical-align: middle;\n",
              "    }\n",
              "\n",
              "    .dataframe tbody tr th {\n",
              "        vertical-align: top;\n",
              "    }\n",
              "\n",
              "    .dataframe thead th {\n",
              "        text-align: right;\n",
              "    }\n",
              "</style>\n",
              "<table border=\"1\" class=\"dataframe\">\n",
              "  <thead>\n",
              "    <tr style=\"text-align: right;\">\n",
              "      <th>item_id</th>\n",
              "      <th>1</th>\n",
              "      <th>2</th>\n",
              "      <th>3</th>\n",
              "      <th>4</th>\n",
              "      <th>5</th>\n",
              "      <th>6</th>\n",
              "      <th>7</th>\n",
              "      <th>8</th>\n",
              "      <th>9</th>\n",
              "      <th>10</th>\n",
              "      <th>...</th>\n",
              "      <th>193565</th>\n",
              "      <th>193567</th>\n",
              "      <th>193571</th>\n",
              "      <th>193573</th>\n",
              "      <th>193579</th>\n",
              "      <th>193581</th>\n",
              "      <th>193583</th>\n",
              "      <th>193585</th>\n",
              "      <th>193587</th>\n",
              "      <th>193609</th>\n",
              "    </tr>\n",
              "    <tr>\n",
              "      <th>user_id</th>\n",
              "      <th></th>\n",
              "      <th></th>\n",
              "      <th></th>\n",
              "      <th></th>\n",
              "      <th></th>\n",
              "      <th></th>\n",
              "      <th></th>\n",
              "      <th></th>\n",
              "      <th></th>\n",
              "      <th></th>\n",
              "      <th></th>\n",
              "      <th></th>\n",
              "      <th></th>\n",
              "      <th></th>\n",
              "      <th></th>\n",
              "      <th></th>\n",
              "      <th></th>\n",
              "      <th></th>\n",
              "      <th></th>\n",
              "      <th></th>\n",
              "      <th></th>\n",
              "    </tr>\n",
              "  </thead>\n",
              "  <tbody>\n",
              "    <tr>\n",
              "      <th>1</th>\n",
              "      <td>4.000000</td>\n",
              "      <td>3.501557</td>\n",
              "      <td>4.000000</td>\n",
              "      <td>3.501557</td>\n",
              "      <td>3.501557</td>\n",
              "      <td>4.000000</td>\n",
              "      <td>3.501557</td>\n",
              "      <td>3.501557</td>\n",
              "      <td>3.501557</td>\n",
              "      <td>3.501557</td>\n",
              "      <td>...</td>\n",
              "      <td>3.501557</td>\n",
              "      <td>3.501557</td>\n",
              "      <td>3.501557</td>\n",
              "      <td>3.501557</td>\n",
              "      <td>3.501557</td>\n",
              "      <td>3.501557</td>\n",
              "      <td>3.501557</td>\n",
              "      <td>3.501557</td>\n",
              "      <td>3.501557</td>\n",
              "      <td>3.501557</td>\n",
              "    </tr>\n",
              "    <tr>\n",
              "      <th>2</th>\n",
              "      <td>3.501557</td>\n",
              "      <td>3.501557</td>\n",
              "      <td>3.501557</td>\n",
              "      <td>3.501557</td>\n",
              "      <td>3.501557</td>\n",
              "      <td>3.501557</td>\n",
              "      <td>3.501557</td>\n",
              "      <td>3.501557</td>\n",
              "      <td>3.501557</td>\n",
              "      <td>3.501557</td>\n",
              "      <td>...</td>\n",
              "      <td>3.501557</td>\n",
              "      <td>3.501557</td>\n",
              "      <td>3.501557</td>\n",
              "      <td>3.501557</td>\n",
              "      <td>3.501557</td>\n",
              "      <td>3.501557</td>\n",
              "      <td>3.501557</td>\n",
              "      <td>3.501557</td>\n",
              "      <td>3.501557</td>\n",
              "      <td>3.501557</td>\n",
              "    </tr>\n",
              "    <tr>\n",
              "      <th>3</th>\n",
              "      <td>3.501557</td>\n",
              "      <td>3.501557</td>\n",
              "      <td>3.501557</td>\n",
              "      <td>3.501557</td>\n",
              "      <td>3.501557</td>\n",
              "      <td>3.501557</td>\n",
              "      <td>3.501557</td>\n",
              "      <td>3.501557</td>\n",
              "      <td>3.501557</td>\n",
              "      <td>3.501557</td>\n",
              "      <td>...</td>\n",
              "      <td>3.501557</td>\n",
              "      <td>3.501557</td>\n",
              "      <td>3.501557</td>\n",
              "      <td>3.501557</td>\n",
              "      <td>3.501557</td>\n",
              "      <td>3.501557</td>\n",
              "      <td>3.501557</td>\n",
              "      <td>3.501557</td>\n",
              "      <td>3.501557</td>\n",
              "      <td>3.501557</td>\n",
              "    </tr>\n",
              "    <tr>\n",
              "      <th>4</th>\n",
              "      <td>3.501557</td>\n",
              "      <td>3.501557</td>\n",
              "      <td>3.501557</td>\n",
              "      <td>3.501557</td>\n",
              "      <td>3.501557</td>\n",
              "      <td>3.501557</td>\n",
              "      <td>3.501557</td>\n",
              "      <td>3.501557</td>\n",
              "      <td>3.501557</td>\n",
              "      <td>3.501557</td>\n",
              "      <td>...</td>\n",
              "      <td>3.501557</td>\n",
              "      <td>3.501557</td>\n",
              "      <td>3.501557</td>\n",
              "      <td>3.501557</td>\n",
              "      <td>3.501557</td>\n",
              "      <td>3.501557</td>\n",
              "      <td>3.501557</td>\n",
              "      <td>3.501557</td>\n",
              "      <td>3.501557</td>\n",
              "      <td>3.501557</td>\n",
              "    </tr>\n",
              "    <tr>\n",
              "      <th>5</th>\n",
              "      <td>4.000000</td>\n",
              "      <td>3.501557</td>\n",
              "      <td>3.501557</td>\n",
              "      <td>3.501557</td>\n",
              "      <td>3.501557</td>\n",
              "      <td>3.501557</td>\n",
              "      <td>3.501557</td>\n",
              "      <td>3.501557</td>\n",
              "      <td>3.501557</td>\n",
              "      <td>3.501557</td>\n",
              "      <td>...</td>\n",
              "      <td>3.501557</td>\n",
              "      <td>3.501557</td>\n",
              "      <td>3.501557</td>\n",
              "      <td>3.501557</td>\n",
              "      <td>3.501557</td>\n",
              "      <td>3.501557</td>\n",
              "      <td>3.501557</td>\n",
              "      <td>3.501557</td>\n",
              "      <td>3.501557</td>\n",
              "      <td>3.501557</td>\n",
              "    </tr>\n",
              "    <tr>\n",
              "      <th>...</th>\n",
              "      <td>...</td>\n",
              "      <td>...</td>\n",
              "      <td>...</td>\n",
              "      <td>...</td>\n",
              "      <td>...</td>\n",
              "      <td>...</td>\n",
              "      <td>...</td>\n",
              "      <td>...</td>\n",
              "      <td>...</td>\n",
              "      <td>...</td>\n",
              "      <td>...</td>\n",
              "      <td>...</td>\n",
              "      <td>...</td>\n",
              "      <td>...</td>\n",
              "      <td>...</td>\n",
              "      <td>...</td>\n",
              "      <td>...</td>\n",
              "      <td>...</td>\n",
              "      <td>...</td>\n",
              "      <td>...</td>\n",
              "      <td>...</td>\n",
              "    </tr>\n",
              "    <tr>\n",
              "      <th>606</th>\n",
              "      <td>2.500000</td>\n",
              "      <td>3.501557</td>\n",
              "      <td>3.501557</td>\n",
              "      <td>3.501557</td>\n",
              "      <td>3.501557</td>\n",
              "      <td>3.501557</td>\n",
              "      <td>2.500000</td>\n",
              "      <td>3.501557</td>\n",
              "      <td>3.501557</td>\n",
              "      <td>3.501557</td>\n",
              "      <td>...</td>\n",
              "      <td>3.501557</td>\n",
              "      <td>3.501557</td>\n",
              "      <td>3.501557</td>\n",
              "      <td>3.501557</td>\n",
              "      <td>3.501557</td>\n",
              "      <td>3.501557</td>\n",
              "      <td>3.501557</td>\n",
              "      <td>3.501557</td>\n",
              "      <td>3.501557</td>\n",
              "      <td>3.501557</td>\n",
              "    </tr>\n",
              "    <tr>\n",
              "      <th>607</th>\n",
              "      <td>4.000000</td>\n",
              "      <td>3.501557</td>\n",
              "      <td>3.501557</td>\n",
              "      <td>3.501557</td>\n",
              "      <td>3.501557</td>\n",
              "      <td>3.501557</td>\n",
              "      <td>3.501557</td>\n",
              "      <td>3.501557</td>\n",
              "      <td>3.501557</td>\n",
              "      <td>3.501557</td>\n",
              "      <td>...</td>\n",
              "      <td>3.501557</td>\n",
              "      <td>3.501557</td>\n",
              "      <td>3.501557</td>\n",
              "      <td>3.501557</td>\n",
              "      <td>3.501557</td>\n",
              "      <td>3.501557</td>\n",
              "      <td>3.501557</td>\n",
              "      <td>3.501557</td>\n",
              "      <td>3.501557</td>\n",
              "      <td>3.501557</td>\n",
              "    </tr>\n",
              "    <tr>\n",
              "      <th>608</th>\n",
              "      <td>2.500000</td>\n",
              "      <td>2.000000</td>\n",
              "      <td>2.000000</td>\n",
              "      <td>3.501557</td>\n",
              "      <td>3.501557</td>\n",
              "      <td>3.501557</td>\n",
              "      <td>3.501557</td>\n",
              "      <td>3.501557</td>\n",
              "      <td>3.501557</td>\n",
              "      <td>4.000000</td>\n",
              "      <td>...</td>\n",
              "      <td>3.501557</td>\n",
              "      <td>3.501557</td>\n",
              "      <td>3.501557</td>\n",
              "      <td>3.501557</td>\n",
              "      <td>3.501557</td>\n",
              "      <td>3.501557</td>\n",
              "      <td>3.501557</td>\n",
              "      <td>3.501557</td>\n",
              "      <td>3.501557</td>\n",
              "      <td>3.501557</td>\n",
              "    </tr>\n",
              "    <tr>\n",
              "      <th>609</th>\n",
              "      <td>3.000000</td>\n",
              "      <td>3.501557</td>\n",
              "      <td>3.501557</td>\n",
              "      <td>3.501557</td>\n",
              "      <td>3.501557</td>\n",
              "      <td>3.501557</td>\n",
              "      <td>3.501557</td>\n",
              "      <td>3.501557</td>\n",
              "      <td>3.501557</td>\n",
              "      <td>4.000000</td>\n",
              "      <td>...</td>\n",
              "      <td>3.501557</td>\n",
              "      <td>3.501557</td>\n",
              "      <td>3.501557</td>\n",
              "      <td>3.501557</td>\n",
              "      <td>3.501557</td>\n",
              "      <td>3.501557</td>\n",
              "      <td>3.501557</td>\n",
              "      <td>3.501557</td>\n",
              "      <td>3.501557</td>\n",
              "      <td>3.501557</td>\n",
              "    </tr>\n",
              "    <tr>\n",
              "      <th>610</th>\n",
              "      <td>5.000000</td>\n",
              "      <td>3.501557</td>\n",
              "      <td>3.501557</td>\n",
              "      <td>3.501557</td>\n",
              "      <td>3.501557</td>\n",
              "      <td>5.000000</td>\n",
              "      <td>3.501557</td>\n",
              "      <td>3.501557</td>\n",
              "      <td>3.501557</td>\n",
              "      <td>3.501557</td>\n",
              "      <td>...</td>\n",
              "      <td>3.501557</td>\n",
              "      <td>3.501557</td>\n",
              "      <td>3.501557</td>\n",
              "      <td>3.501557</td>\n",
              "      <td>3.501557</td>\n",
              "      <td>3.501557</td>\n",
              "      <td>3.501557</td>\n",
              "      <td>3.501557</td>\n",
              "      <td>3.501557</td>\n",
              "      <td>3.501557</td>\n",
              "    </tr>\n",
              "  </tbody>\n",
              "</table>\n",
              "<p>610 rows × 9724 columns</p>\n",
              "</div>"
            ],
            "text/plain": [
              "item_id    1         2         3         4         5         6         7       \\\n",
              "user_id                                                                         \n",
              "1        4.000000  3.501557  4.000000  3.501557  3.501557  4.000000  3.501557   \n",
              "2        3.501557  3.501557  3.501557  3.501557  3.501557  3.501557  3.501557   \n",
              "3        3.501557  3.501557  3.501557  3.501557  3.501557  3.501557  3.501557   \n",
              "4        3.501557  3.501557  3.501557  3.501557  3.501557  3.501557  3.501557   \n",
              "5        4.000000  3.501557  3.501557  3.501557  3.501557  3.501557  3.501557   \n",
              "...           ...       ...       ...       ...       ...       ...       ...   \n",
              "606      2.500000  3.501557  3.501557  3.501557  3.501557  3.501557  2.500000   \n",
              "607      4.000000  3.501557  3.501557  3.501557  3.501557  3.501557  3.501557   \n",
              "608      2.500000  2.000000  2.000000  3.501557  3.501557  3.501557  3.501557   \n",
              "609      3.000000  3.501557  3.501557  3.501557  3.501557  3.501557  3.501557   \n",
              "610      5.000000  3.501557  3.501557  3.501557  3.501557  5.000000  3.501557   \n",
              "\n",
              "item_id    8         9         10      ...    193565    193567    193571  \\\n",
              "user_id                                ...                                 \n",
              "1        3.501557  3.501557  3.501557  ...  3.501557  3.501557  3.501557   \n",
              "2        3.501557  3.501557  3.501557  ...  3.501557  3.501557  3.501557   \n",
              "3        3.501557  3.501557  3.501557  ...  3.501557  3.501557  3.501557   \n",
              "4        3.501557  3.501557  3.501557  ...  3.501557  3.501557  3.501557   \n",
              "5        3.501557  3.501557  3.501557  ...  3.501557  3.501557  3.501557   \n",
              "...           ...       ...       ...  ...       ...       ...       ...   \n",
              "606      3.501557  3.501557  3.501557  ...  3.501557  3.501557  3.501557   \n",
              "607      3.501557  3.501557  3.501557  ...  3.501557  3.501557  3.501557   \n",
              "608      3.501557  3.501557  4.000000  ...  3.501557  3.501557  3.501557   \n",
              "609      3.501557  3.501557  4.000000  ...  3.501557  3.501557  3.501557   \n",
              "610      3.501557  3.501557  3.501557  ...  3.501557  3.501557  3.501557   \n",
              "\n",
              "item_id    193573    193579    193581    193583    193585    193587    193609  \n",
              "user_id                                                                        \n",
              "1        3.501557  3.501557  3.501557  3.501557  3.501557  3.501557  3.501557  \n",
              "2        3.501557  3.501557  3.501557  3.501557  3.501557  3.501557  3.501557  \n",
              "3        3.501557  3.501557  3.501557  3.501557  3.501557  3.501557  3.501557  \n",
              "4        3.501557  3.501557  3.501557  3.501557  3.501557  3.501557  3.501557  \n",
              "5        3.501557  3.501557  3.501557  3.501557  3.501557  3.501557  3.501557  \n",
              "...           ...       ...       ...       ...       ...       ...       ...  \n",
              "606      3.501557  3.501557  3.501557  3.501557  3.501557  3.501557  3.501557  \n",
              "607      3.501557  3.501557  3.501557  3.501557  3.501557  3.501557  3.501557  \n",
              "608      3.501557  3.501557  3.501557  3.501557  3.501557  3.501557  3.501557  \n",
              "609      3.501557  3.501557  3.501557  3.501557  3.501557  3.501557  3.501557  \n",
              "610      3.501557  3.501557  3.501557  3.501557  3.501557  3.501557  3.501557  \n",
              "\n",
              "[610 rows x 9724 columns]"
            ]
          },
          "execution_count": 167,
          "metadata": {},
          "output_type": "execute_result"
        }
      ],
      "source": [
        "data_useritem_pivot"
      ]
    },
    {
      "cell_type": "code",
      "execution_count": 182,
      "metadata": {},
      "outputs": [],
      "source": [
        "data_ratinguser_pivot = ratings.groupby(\"user_id\")[\"rating\"].value_counts().reset_index(name=\"freq\")\n",
        "data_ratingitem_pivot = ratings.groupby(\"item_id\")[\"rating\"].value_counts().reset_index(name=\"freq\")"
      ]
    },
    {
      "cell_type": "code",
      "execution_count": 183,
      "metadata": {},
      "outputs": [
        {
          "data": {
            "text/html": [
              "<div>\n",
              "<style scoped>\n",
              "    .dataframe tbody tr th:only-of-type {\n",
              "        vertical-align: middle;\n",
              "    }\n",
              "\n",
              "    .dataframe tbody tr th {\n",
              "        vertical-align: top;\n",
              "    }\n",
              "\n",
              "    .dataframe thead th {\n",
              "        text-align: right;\n",
              "    }\n",
              "</style>\n",
              "<table border=\"1\" class=\"dataframe\">\n",
              "  <thead>\n",
              "    <tr style=\"text-align: right;\">\n",
              "      <th>rating</th>\n",
              "      <th>0.5</th>\n",
              "      <th>1.0</th>\n",
              "      <th>1.5</th>\n",
              "      <th>2.0</th>\n",
              "      <th>2.5</th>\n",
              "      <th>3.0</th>\n",
              "      <th>3.5</th>\n",
              "      <th>4.0</th>\n",
              "      <th>4.5</th>\n",
              "      <th>5.0</th>\n",
              "    </tr>\n",
              "    <tr>\n",
              "      <th>user_id</th>\n",
              "      <th></th>\n",
              "      <th></th>\n",
              "      <th></th>\n",
              "      <th></th>\n",
              "      <th></th>\n",
              "      <th></th>\n",
              "      <th></th>\n",
              "      <th></th>\n",
              "      <th></th>\n",
              "      <th></th>\n",
              "    </tr>\n",
              "  </thead>\n",
              "  <tbody>\n",
              "    <tr>\n",
              "      <th>1</th>\n",
              "      <td>0.0</td>\n",
              "      <td>1.0</td>\n",
              "      <td>0.0</td>\n",
              "      <td>5.0</td>\n",
              "      <td>0.0</td>\n",
              "      <td>26.0</td>\n",
              "      <td>0.0</td>\n",
              "      <td>76.0</td>\n",
              "      <td>0.0</td>\n",
              "      <td>124.0</td>\n",
              "    </tr>\n",
              "    <tr>\n",
              "      <th>2</th>\n",
              "      <td>0.0</td>\n",
              "      <td>0.0</td>\n",
              "      <td>0.0</td>\n",
              "      <td>1.0</td>\n",
              "      <td>1.0</td>\n",
              "      <td>4.0</td>\n",
              "      <td>4.0</td>\n",
              "      <td>9.0</td>\n",
              "      <td>4.0</td>\n",
              "      <td>6.0</td>\n",
              "    </tr>\n",
              "    <tr>\n",
              "      <th>3</th>\n",
              "      <td>20.0</td>\n",
              "      <td>0.0</td>\n",
              "      <td>0.0</td>\n",
              "      <td>1.0</td>\n",
              "      <td>0.0</td>\n",
              "      <td>1.0</td>\n",
              "      <td>1.0</td>\n",
              "      <td>1.0</td>\n",
              "      <td>5.0</td>\n",
              "      <td>10.0</td>\n",
              "    </tr>\n",
              "    <tr>\n",
              "      <th>4</th>\n",
              "      <td>0.0</td>\n",
              "      <td>23.0</td>\n",
              "      <td>0.0</td>\n",
              "      <td>26.0</td>\n",
              "      <td>0.0</td>\n",
              "      <td>39.0</td>\n",
              "      <td>0.0</td>\n",
              "      <td>64.0</td>\n",
              "      <td>0.0</td>\n",
              "      <td>64.0</td>\n",
              "    </tr>\n",
              "    <tr>\n",
              "      <th>5</th>\n",
              "      <td>0.0</td>\n",
              "      <td>1.0</td>\n",
              "      <td>0.0</td>\n",
              "      <td>3.0</td>\n",
              "      <td>0.0</td>\n",
              "      <td>17.0</td>\n",
              "      <td>0.0</td>\n",
              "      <td>13.0</td>\n",
              "      <td>0.0</td>\n",
              "      <td>10.0</td>\n",
              "    </tr>\n",
              "    <tr>\n",
              "      <th>...</th>\n",
              "      <td>...</td>\n",
              "      <td>...</td>\n",
              "      <td>...</td>\n",
              "      <td>...</td>\n",
              "      <td>...</td>\n",
              "      <td>...</td>\n",
              "      <td>...</td>\n",
              "      <td>...</td>\n",
              "      <td>...</td>\n",
              "      <td>...</td>\n",
              "    </tr>\n",
              "    <tr>\n",
              "      <th>606</th>\n",
              "      <td>4.0</td>\n",
              "      <td>6.0</td>\n",
              "      <td>13.0</td>\n",
              "      <td>22.0</td>\n",
              "      <td>79.0</td>\n",
              "      <td>137.0</td>\n",
              "      <td>241.0</td>\n",
              "      <td>441.0</td>\n",
              "      <td>139.0</td>\n",
              "      <td>33.0</td>\n",
              "    </tr>\n",
              "    <tr>\n",
              "      <th>607</th>\n",
              "      <td>0.0</td>\n",
              "      <td>3.0</td>\n",
              "      <td>0.0</td>\n",
              "      <td>10.0</td>\n",
              "      <td>0.0</td>\n",
              "      <td>63.0</td>\n",
              "      <td>0.0</td>\n",
              "      <td>59.0</td>\n",
              "      <td>0.0</td>\n",
              "      <td>52.0</td>\n",
              "    </tr>\n",
              "    <tr>\n",
              "      <th>608</th>\n",
              "      <td>33.0</td>\n",
              "      <td>29.0</td>\n",
              "      <td>30.0</td>\n",
              "      <td>69.0</td>\n",
              "      <td>95.0</td>\n",
              "      <td>169.0</td>\n",
              "      <td>126.0</td>\n",
              "      <td>162.0</td>\n",
              "      <td>95.0</td>\n",
              "      <td>23.0</td>\n",
              "    </tr>\n",
              "    <tr>\n",
              "      <th>609</th>\n",
              "      <td>0.0</td>\n",
              "      <td>0.0</td>\n",
              "      <td>0.0</td>\n",
              "      <td>0.0</td>\n",
              "      <td>0.0</td>\n",
              "      <td>27.0</td>\n",
              "      <td>0.0</td>\n",
              "      <td>10.0</td>\n",
              "      <td>0.0</td>\n",
              "      <td>0.0</td>\n",
              "    </tr>\n",
              "    <tr>\n",
              "      <th>610</th>\n",
              "      <td>3.0</td>\n",
              "      <td>13.0</td>\n",
              "      <td>11.0</td>\n",
              "      <td>42.0</td>\n",
              "      <td>74.0</td>\n",
              "      <td>230.0</td>\n",
              "      <td>315.0</td>\n",
              "      <td>286.0</td>\n",
              "      <td>148.0</td>\n",
              "      <td>180.0</td>\n",
              "    </tr>\n",
              "  </tbody>\n",
              "</table>\n",
              "<p>610 rows × 10 columns</p>\n",
              "</div>"
            ],
            "text/plain": [
              "rating    0.5   1.0   1.5   2.0   2.5    3.0    3.5    4.0    4.5    5.0\n",
              "user_id                                                                 \n",
              "1         0.0   1.0   0.0   5.0   0.0   26.0    0.0   76.0    0.0  124.0\n",
              "2         0.0   0.0   0.0   1.0   1.0    4.0    4.0    9.0    4.0    6.0\n",
              "3        20.0   0.0   0.0   1.0   0.0    1.0    1.0    1.0    5.0   10.0\n",
              "4         0.0  23.0   0.0  26.0   0.0   39.0    0.0   64.0    0.0   64.0\n",
              "5         0.0   1.0   0.0   3.0   0.0   17.0    0.0   13.0    0.0   10.0\n",
              "...       ...   ...   ...   ...   ...    ...    ...    ...    ...    ...\n",
              "606       4.0   6.0  13.0  22.0  79.0  137.0  241.0  441.0  139.0   33.0\n",
              "607       0.0   3.0   0.0  10.0   0.0   63.0    0.0   59.0    0.0   52.0\n",
              "608      33.0  29.0  30.0  69.0  95.0  169.0  126.0  162.0   95.0   23.0\n",
              "609       0.0   0.0   0.0   0.0   0.0   27.0    0.0   10.0    0.0    0.0\n",
              "610       3.0  13.0  11.0  42.0  74.0  230.0  315.0  286.0  148.0  180.0\n",
              "\n",
              "[610 rows x 10 columns]"
            ]
          },
          "execution_count": 183,
          "metadata": {},
          "output_type": "execute_result"
        }
      ],
      "source": [
        "data_ratinguser_pivot = data_ratinguser_pivot.pivot(index=\"user_id\", columns=\"rating\", values=\"freq\").fillna(0)\n",
        "data_ratinguser_pivot"
      ]
    },
    {
      "cell_type": "code",
      "execution_count": 199,
      "metadata": {},
      "outputs": [],
      "source": [
        "W1, H1, _ = non_negative_factorization(data_ratinguser_pivot, n_components=64, init='random')\n",
        "W2, H2, _ = non_negative_factorization(data_ratingitem_pivot, n_components=64, init='random')"
      ]
    },
    {
      "cell_type": "code",
      "execution_count": 198,
      "metadata": {},
      "outputs": [
        {
          "data": {
            "text/html": [
              "<div>\n",
              "<style scoped>\n",
              "    .dataframe tbody tr th:only-of-type {\n",
              "        vertical-align: middle;\n",
              "    }\n",
              "\n",
              "    .dataframe tbody tr th {\n",
              "        vertical-align: top;\n",
              "    }\n",
              "\n",
              "    .dataframe thead th {\n",
              "        text-align: right;\n",
              "    }\n",
              "</style>\n",
              "<table border=\"1\" class=\"dataframe\">\n",
              "  <thead>\n",
              "    <tr style=\"text-align: right;\">\n",
              "      <th>rating</th>\n",
              "      <th>0.5</th>\n",
              "      <th>1.0</th>\n",
              "      <th>1.5</th>\n",
              "      <th>2.0</th>\n",
              "      <th>2.5</th>\n",
              "      <th>3.0</th>\n",
              "      <th>3.5</th>\n",
              "      <th>4.0</th>\n",
              "      <th>4.5</th>\n",
              "      <th>5.0</th>\n",
              "    </tr>\n",
              "    <tr>\n",
              "      <th>item_id</th>\n",
              "      <th></th>\n",
              "      <th></th>\n",
              "      <th></th>\n",
              "      <th></th>\n",
              "      <th></th>\n",
              "      <th></th>\n",
              "      <th></th>\n",
              "      <th></th>\n",
              "      <th></th>\n",
              "      <th></th>\n",
              "    </tr>\n",
              "  </thead>\n",
              "  <tbody>\n",
              "    <tr>\n",
              "      <th>1</th>\n",
              "      <td>1.0</td>\n",
              "      <td>0.0</td>\n",
              "      <td>1.0</td>\n",
              "      <td>6.0</td>\n",
              "      <td>8.0</td>\n",
              "      <td>34.0</td>\n",
              "      <td>18.0</td>\n",
              "      <td>82.0</td>\n",
              "      <td>18.0</td>\n",
              "      <td>47.0</td>\n",
              "    </tr>\n",
              "    <tr>\n",
              "      <th>2</th>\n",
              "      <td>1.0</td>\n",
              "      <td>1.0</td>\n",
              "      <td>2.0</td>\n",
              "      <td>5.0</td>\n",
              "      <td>12.0</td>\n",
              "      <td>28.0</td>\n",
              "      <td>11.0</td>\n",
              "      <td>36.0</td>\n",
              "      <td>7.0</td>\n",
              "      <td>7.0</td>\n",
              "    </tr>\n",
              "    <tr>\n",
              "      <th>3</th>\n",
              "      <td>1.0</td>\n",
              "      <td>3.0</td>\n",
              "      <td>1.0</td>\n",
              "      <td>2.0</td>\n",
              "      <td>2.0</td>\n",
              "      <td>20.0</td>\n",
              "      <td>5.0</td>\n",
              "      <td>12.0</td>\n",
              "      <td>0.0</td>\n",
              "      <td>6.0</td>\n",
              "    </tr>\n",
              "    <tr>\n",
              "      <th>4</th>\n",
              "      <td>0.0</td>\n",
              "      <td>1.0</td>\n",
              "      <td>1.0</td>\n",
              "      <td>1.0</td>\n",
              "      <td>0.0</td>\n",
              "      <td>4.0</td>\n",
              "      <td>0.0</td>\n",
              "      <td>0.0</td>\n",
              "      <td>0.0</td>\n",
              "      <td>0.0</td>\n",
              "    </tr>\n",
              "    <tr>\n",
              "      <th>5</th>\n",
              "      <td>1.0</td>\n",
              "      <td>0.0</td>\n",
              "      <td>2.0</td>\n",
              "      <td>6.0</td>\n",
              "      <td>2.0</td>\n",
              "      <td>25.0</td>\n",
              "      <td>1.0</td>\n",
              "      <td>8.0</td>\n",
              "      <td>1.0</td>\n",
              "      <td>3.0</td>\n",
              "    </tr>\n",
              "    <tr>\n",
              "      <th>...</th>\n",
              "      <td>...</td>\n",
              "      <td>...</td>\n",
              "      <td>...</td>\n",
              "      <td>...</td>\n",
              "      <td>...</td>\n",
              "      <td>...</td>\n",
              "      <td>...</td>\n",
              "      <td>...</td>\n",
              "      <td>...</td>\n",
              "      <td>...</td>\n",
              "    </tr>\n",
              "    <tr>\n",
              "      <th>193581</th>\n",
              "      <td>0.0</td>\n",
              "      <td>0.0</td>\n",
              "      <td>0.0</td>\n",
              "      <td>0.0</td>\n",
              "      <td>0.0</td>\n",
              "      <td>0.0</td>\n",
              "      <td>0.0</td>\n",
              "      <td>1.0</td>\n",
              "      <td>0.0</td>\n",
              "      <td>0.0</td>\n",
              "    </tr>\n",
              "    <tr>\n",
              "      <th>193583</th>\n",
              "      <td>0.0</td>\n",
              "      <td>0.0</td>\n",
              "      <td>0.0</td>\n",
              "      <td>0.0</td>\n",
              "      <td>0.0</td>\n",
              "      <td>0.0</td>\n",
              "      <td>1.0</td>\n",
              "      <td>0.0</td>\n",
              "      <td>0.0</td>\n",
              "      <td>0.0</td>\n",
              "    </tr>\n",
              "    <tr>\n",
              "      <th>193585</th>\n",
              "      <td>0.0</td>\n",
              "      <td>0.0</td>\n",
              "      <td>0.0</td>\n",
              "      <td>0.0</td>\n",
              "      <td>0.0</td>\n",
              "      <td>0.0</td>\n",
              "      <td>1.0</td>\n",
              "      <td>0.0</td>\n",
              "      <td>0.0</td>\n",
              "      <td>0.0</td>\n",
              "    </tr>\n",
              "    <tr>\n",
              "      <th>193587</th>\n",
              "      <td>0.0</td>\n",
              "      <td>0.0</td>\n",
              "      <td>0.0</td>\n",
              "      <td>0.0</td>\n",
              "      <td>0.0</td>\n",
              "      <td>0.0</td>\n",
              "      <td>1.0</td>\n",
              "      <td>0.0</td>\n",
              "      <td>0.0</td>\n",
              "      <td>0.0</td>\n",
              "    </tr>\n",
              "    <tr>\n",
              "      <th>193609</th>\n",
              "      <td>0.0</td>\n",
              "      <td>0.0</td>\n",
              "      <td>0.0</td>\n",
              "      <td>0.0</td>\n",
              "      <td>0.0</td>\n",
              "      <td>0.0</td>\n",
              "      <td>0.0</td>\n",
              "      <td>1.0</td>\n",
              "      <td>0.0</td>\n",
              "      <td>0.0</td>\n",
              "    </tr>\n",
              "  </tbody>\n",
              "</table>\n",
              "<p>9724 rows × 10 columns</p>\n",
              "</div>"
            ],
            "text/plain": [
              "rating   0.5  1.0  1.5  2.0   2.5   3.0   3.5   4.0   4.5   5.0\n",
              "item_id                                                        \n",
              "1        1.0  0.0  1.0  6.0   8.0  34.0  18.0  82.0  18.0  47.0\n",
              "2        1.0  1.0  2.0  5.0  12.0  28.0  11.0  36.0   7.0   7.0\n",
              "3        1.0  3.0  1.0  2.0   2.0  20.0   5.0  12.0   0.0   6.0\n",
              "4        0.0  1.0  1.0  1.0   0.0   4.0   0.0   0.0   0.0   0.0\n",
              "5        1.0  0.0  2.0  6.0   2.0  25.0   1.0   8.0   1.0   3.0\n",
              "...      ...  ...  ...  ...   ...   ...   ...   ...   ...   ...\n",
              "193581   0.0  0.0  0.0  0.0   0.0   0.0   0.0   1.0   0.0   0.0\n",
              "193583   0.0  0.0  0.0  0.0   0.0   0.0   1.0   0.0   0.0   0.0\n",
              "193585   0.0  0.0  0.0  0.0   0.0   0.0   1.0   0.0   0.0   0.0\n",
              "193587   0.0  0.0  0.0  0.0   0.0   0.0   1.0   0.0   0.0   0.0\n",
              "193609   0.0  0.0  0.0  0.0   0.0   0.0   0.0   1.0   0.0   0.0\n",
              "\n",
              "[9724 rows x 10 columns]"
            ]
          },
          "execution_count": 198,
          "metadata": {},
          "output_type": "execute_result"
        }
      ],
      "source": [
        "data_ratingitem_pivot = data_ratingitem_pivot.pivot(index=\"item_id\", columns=\"rating\", values=\"freq\").fillna(0)\n",
        "data_ratingitem_pivot"
      ]
    },
    {
      "cell_type": "code",
      "execution_count": 8,
      "metadata": {},
      "outputs": [
        {
          "name": "stdout",
          "output_type": "stream",
          "text": [
            "<class 'pandas.core.frame.DataFrame'>\n",
            "Index: 100836 entries, 43 to 99775\n",
            "Data columns (total 4 columns):\n",
            " #   Column     Non-Null Count   Dtype  \n",
            "---  ------     --------------   -----  \n",
            " 0   user_id    100836 non-null  int64  \n",
            " 1   item_id    100836 non-null  int64  \n",
            " 2   rating     100836 non-null  float64\n",
            " 3   timestamp  100836 non-null  int64  \n",
            "dtypes: float64(1), int64(3)\n",
            "memory usage: 3.8 MB\n"
          ]
        }
      ],
      "source": [
        "ratings.info()"
      ]
    },
    {
      "cell_type": "code",
      "execution_count": 106,
      "metadata": {},
      "outputs": [],
      "source": [
        "class BondNet(keras.Model):\n",
        "    def __init__(self, data: pd.DataFrame, embedding_size=32, batch_size=32, window_length=32, imputation_rate=1.0, **kwds):\n",
        "        super(BondNet, self).__init__(**kwds)\n",
        "\n",
        "        self.out_cat_size = 10\n",
        "        self.embedding_size = embedding_size\n",
        "        self.batch_size = batch_size\n",
        "        self.window_length = window_length\n",
        "\n",
        "        self.data = data.copy()\n",
        "        #self.data.loc[-1] = [-1, -1, -1.0, -1] #padding data\n",
        "\n",
        "        self.user_size = self.data[\"user_id\"].nunique()\n",
        "        self.item_size = self.data[\"item_id\"].nunique()\n",
        "\n",
        "        reader = Reader(rating_scale=(1, 5))\n",
        "        sdata = Dataset.load_from_df(self.data.drop([\"timestamp\"], axis=1), reader)\n",
        "        surprise_X, _ = sp_tt_split(sdata, test_size=0.1e-99)\n",
        "\n",
        "        self.svdpp = sp.SVDpp(n_factors=embedding_size, cache_ratings=True)\n",
        "        self.svdpp.fit(surprise_X)\n",
        "\n",
        "        # pad_embed_user = self.svdpp.pu[-1]\n",
        "        # pad_embed_item = self.svdpp.qi[-1]\n",
        "        # pad_user_bias = self.svdpp.bu[-1]\n",
        "        # pad_item_bias = self.svdpp.bi[-1]\n",
        "        # pad_rating = self.data.iloc[-1][\"rating\"]\n",
        "\n",
        "        self.user_embedsvd_map = {i:index for index, i in enumerate(np.sort(self.data[\"user_id\"].unique()))}\n",
        "        self.item_embedsvd_map = {u:index for index, u in enumerate(np.sort(self.data[\"item_id\"].unique()))}\n",
        "        self.data, self.user_split_map = self.__split_data(self.data)\n",
        "        \n",
        "        self.train, self.val, self.test = self.__split_users(self.data[\"user_id\"].unique())\n",
        "        np.random.shuffle(self.train)\n",
        "        np.random.shuffle(self.val)\n",
        "        np.random.shuffle(self.test)\n",
        "\n",
        "        \n",
        "        # self.user_index_query = np.sort(self.data[\"user_id\"].unique())\n",
        "        # self.item_index_query = np.sort(self.data[\"item_id\"].unique())\n",
        "        # self.shuffled_users = self.data[\"user_id\"].unique()\n",
        "        # np.random.shuffle(self.shuffled_users)\n",
        "\n",
        "        \n",
        "\n",
        "\n",
        "        self.ohe = OneHotEncoder()\n",
        "        self.ohe.fit(self.data[\"rating\"].values.reshape(-1, 1))\n",
        "        # y_md = np.asanyarray(dylist)\n",
        "        # y_md = np.reshape(y_md, ((len(y_md), 1))) \n",
        "        # print(y_md)\n",
        "\n",
        "        # self.X = np.asanyarray(dxlist)\n",
        "        # self.y = ohe.fit_transform(y_md).toarray()\n",
        "\n",
        "        self.input_id_to_vec = keras.layers.Input(shape=(self.window_length - 1, self.embedding_size * 2 + 2), batch_size=self.batch_size, name=\"Id2Vec input\")\n",
        "        self.input_id_embeddings = keras.layers.Input(shape=(self.window_length - 1 + 2), batch_size=self.batch_size, name=\"Embeddings info input\")\n",
        "        self.input_ratings = keras.layers.Input(shape=(self.window_length - 1, 1, self.out_cat_size), batch_size=self.batch_size, name=\"Ratings input\")\n",
        "\n",
        "        self.user_embed = keras.layers.Embedding(self.user_size, self.embedding_size, embeddings_initializer=\"random_normal\", embeddings_regularizer=keras.regularizers.L1L2())\n",
        "        self.item_embed = keras.layers.Embedding(self.item_size, self.embedding_size, embeddings_initializer=\"random_normal\", embeddings_regularizer=keras.regularizers.L1L2())\n",
        "        self.user_bias = keras.layers.Embedding(self.user_size, self.out_cat_size, embeddings_initializer=\"random_normal\", embeddings_regularizer=keras.regularizers.L1L2())\n",
        "        self.item_bias = keras.layers.Embedding(self.item_size, self.out_cat_size, embeddings_initializer=\"random_normal\", embeddings_regularizer=keras.regularizers.L1L2())\n",
        "\n",
        "        self.pred_user_item_dense1 = keras.layers.Dense(512, activation=\"relu\")\n",
        "        self.pred_user_item_dense_dropout1 = keras.layers.Dropout(0.4)\n",
        "        self.pred_user_item_dense2 = keras.layers.Dense(256, activation=\"relu\")\n",
        "        self.pred_user_item_dense_dropout2 = keras.layers.Dropout(0.4)\n",
        "        self.pred_user_item_output_dense = keras.layers.Dense(self.out_cat_size, activation=None)\n",
        "        self.pred_user_item_output = keras.layers.Activation(\"softmax\")\n",
        "\n",
        "        self.embed_user_item_rating_lstm1 = keras.layers.LSTM(64, return_sequences=True)\n",
        "        self.embed_user_item_rating_lstm2 = keras.layers.LSTM(64)\n",
        "\n",
        "        self.time_based_dense1 = keras.layers.Dense(256, activation=\"relu\")\n",
        "        self.time_based_dense_dropout1 = keras.layers.Dropout(0.4)\n",
        "        self.time_based_dense2 = keras.layers.Dense(256, activation=\"relu\")\n",
        "        self.time_based_dense_dropout2 = keras.layers.Dropout(0.4)\n",
        "        self.time_based_output_dense = keras.layers.Dense(self.out_cat_size, activation=None)\n",
        "        self.time_based_output = keras.layers.Activation(\"softmax\")  \n",
        "\n",
        "    def train_spe(self):\n",
        "        return len(self.train) // self.batch_size\n",
        "    def val_spe(self):\n",
        "        return len(self.val) // self.batch_size\n",
        "    def test_spe(self):\n",
        "        return len(self.test) // self.batch_size\n",
        "\n",
        "    def __split_users(self, users: np.ndarray):\n",
        "        data_split_map = {}\n",
        "        for k, v in self.user_split_map.items():\n",
        "            if v not in data_split_map:\n",
        "                data_split_map[v] = [k]\n",
        "            else:\n",
        "                data_split_map[v].append(k)\n",
        "\n",
        "        intial_users = []\n",
        "        for k, v in data_split_map.items():\n",
        "            index = np.random.choice(len(v), 1)[0]\n",
        "            intial_users.append(v[index])\n",
        "            del data_split_map[k][index]\n",
        "\n",
        "        remaining_users = []\n",
        "        for v in data_split_map.values():\n",
        "            for value in v:\n",
        "                remaining_users.append(value)\n",
        "\n",
        "        real_test_size = 0.3\n",
        "        real_val_size_from_size = 1.0 / 3.0\n",
        "        real_test_size = (len(intial_users) + len(remaining_users)) * real_test_size\n",
        "        train_remaining, test = sk_tt_split(remaining_users, test_size=real_test_size / len(remaining_users))\n",
        "        test, val = sk_tt_split(test, test_size=real_val_size_from_size)\n",
        "\n",
        "        for iu in intial_users:\n",
        "            train_remaining.append(iu)\n",
        "\n",
        "        return train_remaining, val, test\n",
        "\n",
        "    def __split_data(self, data: pd.DataFrame):\n",
        "        pratings = pd.DataFrame(columns=data.columns)\n",
        "        user_split_map = {}\n",
        "        user_id_count = np.max(data[\"user_id\"].values) + 1\n",
        "        for u in data[\"user_id\"].unique():\n",
        "        \n",
        "            islice = 0\n",
        "            temp_data = data[data[\"user_id\"] == u].sort_values(['timestamp'], ascending=[True])\n",
        "            while islice < len(temp_data):\n",
        "                tdata = temp_data[islice:islice + self.window_length]\n",
        "\n",
        "                if islice != 0:\n",
        "                    tdata.loc[:, \"user_id\"] = tdata.loc[:, \"user_id\"].replace(u, user_id_count)\n",
        "                    user_id_count += 1\n",
        "\n",
        "                if len(tdata) == self.window_length:\n",
        "                    pratings = pd.concat([pratings, tdata])\n",
        "                    user_split_map[tdata[\"user_id\"].iloc[0]] = u\n",
        "\n",
        "                islice += self.window_length\n",
        "\n",
        "        return pratings, user_split_map\n",
        "        \n",
        "    def __data_gen(self, type):\n",
        "        dxid2vec = []\n",
        "        dxembed = []\n",
        "        dxrating = []\n",
        "        dybatch = []\n",
        "\n",
        "        if type == \"TRAIN\":\n",
        "            udata = self.train\n",
        "        elif type == \"VAL\":\n",
        "            udata = self.val\n",
        "        elif type == \"TEST\":\n",
        "            udata = self.test\n",
        "        else:\n",
        "            raise RuntimeError\n",
        "\n",
        "        for u in udata:\n",
        "            temp_data = self.data[self.data[\"user_id\"] == u]\n",
        "            dxid2vecfull = []\n",
        "            dxembedhalf = []\n",
        "            dxratinghalf = []\n",
        "            u_index = self.user_embedsvd_map[self.user_split_map[u]]\n",
        "            for i in temp_data[\"item_id\"].values[:-1]:\n",
        "                dxid2vechalf = []\n",
        "                i_index = self.item_embedsvd_map[i]\n",
        "                dxid2vechalf.append([self.svdpp.pu[u_index], self.svdpp.qi[i_index]])\n",
        "                dxid2vechalf = np.asanyarray(dxid2vechalf).flatten().tolist()\n",
        "                dxid2vechalf.append(self.svdpp.bu[u_index])\n",
        "                dxid2vechalf.append(self.svdpp.bi[i_index])\n",
        "                dxid2vecfull.append(np.asanyarray(dxid2vechalf))\n",
        "                dxembedhalf.append(i_index)\n",
        "                dxratinghalf.append(self.ohe.transform(np.reshape(self.data[(self.data[\"user_id\"] == u) & (self.data[\"item_id\"] == i)][\"rating\"], (-1, 1))).toarray())\n",
        "\n",
        "            #dxembedhalf.append(temp_data[\"item_id\"].values[:-1])\n",
        "            dxembedhalf = np.asanyarray(dxembedhalf).flatten().tolist()\n",
        "            dxembedhalf.append(u_index)\n",
        "            dxembedhalf.append(self.item_embedsvd_map[temp_data[\"item_id\"].values[-1]])\n",
        "            dxembed.append(np.asanyarray(dxembedhalf))\n",
        "            dxrating.append(np.asanyarray(dxratinghalf))\n",
        "            dxid2vec.append(np.asanyarray(dxid2vecfull))\n",
        "            dybatch.append(np.asanyarray(self.ohe.transform(temp_data.iloc[-1][\"rating\"].reshape(-1, 1)).toarray()))\n",
        "\n",
        "            if len(dxid2vec) == self.batch_size:\n",
        "                yield (np.asanyarray(dxid2vec, dtype=np.float32), np.asanyarray(dxembed, dtype=np.int32), np.asanyarray(dxrating, dtype=np.float32)), np.asanyarray(dybatch, dtype=np.float32)\n",
        "                dxid2vec = []\n",
        "                dxembed = []\n",
        "                dxrating = []\n",
        "                dybatch = []\n",
        "        \n",
        "        # if len(dxid2vec) != 0:\n",
        "        #     yield (np.asanyarray(dxid2vec, dtype=np.float32), np.asanyarray(dxembed, dtype=np.int32), np.asanyarray(dxrating, dtype=np.float32)), np.asanyarray(dybatch, dtype=np.float32)\n",
        "        #     dxid2vec = []\n",
        "        #     dxembed = []\n",
        "        #     dxrating = []\n",
        "        #     dybatch = []\n",
        "\n",
        "            \n",
        "\n",
        "    def get_dataset(self):\n",
        "        signature = ((tf.TensorSpec(shape=(self.batch_size, self.window_length - 1, self.embedding_size * 2 + 2), dtype=tf.float32),\n",
        "                      tf.TensorSpec(shape=(self.batch_size, self.window_length - 1 + 2), dtype=tf.int32),\n",
        "                      tf.TensorSpec(shape=(self.batch_size, self.window_length - 1, 1, len(self.ohe.categories_[0])), dtype=tf.float32)),\n",
        "                      tf.TensorSpec(shape=(self.batch_size, 1, len(self.ohe.categories_[0])), dtype=tf.float32))\n",
        "\n",
        "        train_dataset = tf.data.Dataset.from_generator(\n",
        "            lambda: self.__data_gen(\"TRAIN\"),\n",
        "            output_signature=signature\n",
        "        )\n",
        "\n",
        "        val_dataset = tf.data.Dataset.from_generator(\n",
        "            lambda: self.__data_gen(\"VAL\"),\n",
        "            output_signature=signature\n",
        "        )\n",
        "\n",
        "        test_dataset = tf.data.Dataset.from_generator(\n",
        "            lambda: self.__data_gen(\"TEST\"),\n",
        "            output_signature=signature\n",
        "        )\n",
        "\n",
        "        return train_dataset, val_dataset, test_dataset\n",
        "    \n",
        "    def call(self, inputs):\n",
        "        id2vecs = inputs[0]\n",
        "        users = inputs[1][:, -2]\n",
        "        pred_items = inputs[1][:, -1]\n",
        "        embed_items = inputs[1][:, :-2]\n",
        "        ratings = tf.reshape(inputs[2], (self.batch_size, self.window_length - 1, self.out_cat_size))\n",
        "\n",
        "        #EMBEDDING API\n",
        "        embed_users_vector = self.user_embed(users)\n",
        "        embed_users_bias = self.user_bias(users)\n",
        "        embed_items_vector = self.item_embed(embed_items)\n",
        "        embed_items_bias = self.item_bias(embed_items)\n",
        "        embed_pred_items_vector = self.item_embed(pred_items)\n",
        "        embed_pred_items_bias = self.item_bias(pred_items)\n",
        "\n",
        "        \n",
        "\n",
        "        # print(\"biases\")\n",
        "        # # print(users_bias.shape)\n",
        "        # print(embed_items_bias.shape)\n",
        "        # print(embed_pred_items_bias.shape)\n",
        "        # print(\"vecs\")\n",
        "        # # print(users_vector.shape)\n",
        "        # print(embed_items_vector.shape)\n",
        "        # print(embed_pred_items_vector.shape)\n",
        "        # print(\"rating\", ratings.shape)\n",
        "        embed_items_bias = tf.reduce_sum(embed_items_bias, axis=1)\n",
        "        item_biases = (embed_items_bias + embed_pred_items_bias) / float(self.window_length - 1 + 1)\n",
        "        biases = item_biases + embed_users_bias\n",
        "\n",
        "        user_item_pred_vector = tf.concat((embed_users_vector, embed_pred_items_vector), axis=1)\n",
        "        user_item_pred_output = self.pred_user_item_dense_dropout1(self.pred_user_item_dense1(user_item_pred_vector))\n",
        "        user_item_pred_output = self.pred_user_item_dense_dropout2(self.pred_user_item_dense2(user_item_pred_output))\n",
        "        user_item_pred_output = self.pred_user_item_output_dense(user_item_pred_output)\n",
        "        user_item_pred_output = user_item_pred_output + biases\n",
        "        user_item_pred_output = self.pred_user_item_output(user_item_pred_output)\n",
        "\n",
        "        users_repeated = tf.reshape(tf.repeat(embed_users_vector, self.window_length - 1, axis=0), (self.batch_size, self.window_length - 1, self.embedding_size))\n",
        "        user_item_rating_timebased = tf.concat((users_repeated, embed_items_vector, ratings), axis=2)\n",
        "        user_item_rating_timebased_vector = self.embed_user_item_rating_lstm2(self.embed_user_item_rating_lstm1(user_item_rating_timebased))\n",
        "\n",
        "        user_item_rating_timebased_output = self.time_based_dense_dropout1(self.time_based_dense1(user_item_rating_timebased_vector))\n",
        "        user_item_rating_timebased_output = self.time_based_dense_dropout2(self.time_based_dense2(user_item_rating_timebased_output))\n",
        "        user_item_rating_timebased_output = self.time_based_output_dense(user_item_rating_timebased_output)\n",
        "        user_item_rating_timebased_output = user_item_rating_timebased_output + biases\n",
        "        user_item_rating_timebased_output = self.time_based_output(user_item_rating_timebased_output)\n",
        "\n",
        "        return tf.reshape((user_item_pred_output + user_item_rating_timebased_output) / 2.0, (self.batch_size, 1, self.out_cat_size))"
      ]
    },
    {
      "cell_type": "code",
      "execution_count": 107,
      "metadata": {},
      "outputs": [],
      "source": [
        "bn = BondNet(ratings, embedding_size=64, batch_size=32, window_length=50)"
      ]
    },
    {
      "cell_type": "code",
      "execution_count": 108,
      "metadata": {},
      "outputs": [],
      "source": [
        "tr, val, te = bn.get_dataset()"
      ]
    },
    {
      "cell_type": "code",
      "execution_count": 28,
      "metadata": {},
      "outputs": [
        {
          "name": "stdout",
          "output_type": "stream",
          "text": [
            "tf.Tensor(\n",
            "[[[0. 0. 0. 0. 0. 0. 0. 0. 1. 0.]]\n",
            "\n",
            " [[0. 0. 0. 0. 0. 0. 0. 1. 0. 0.]]], shape=(2, 1, 10), dtype=float32)\n"
          ]
        }
      ],
      "source": [
        "for t in tr:\n",
        "    print(t)\n",
        "    break"
      ]
    },
    {
      "cell_type": "code",
      "execution_count": 109,
      "metadata": {},
      "outputs": [],
      "source": [
        "bn.compile(\n",
        "    loss='categorical_crossentropy',\n",
        "    optimizer=keras.optimizers.SGD(learning_rate=0.01, momentum=0.95),\n",
        "    metrics=[\n",
        "        keras.metrics.MeanSquaredError(),\n",
        "        keras.metrics.RootMeanSquaredError(),\n",
        "        keras.metrics.CategoricalAccuracy()\n",
        "    ]\n",
        ")"
      ]
    },
    {
      "cell_type": "code",
      "execution_count": 110,
      "metadata": {},
      "outputs": [
        {
          "name": "stdout",
          "output_type": "stream",
          "text": [
            "Epoch 1/10\n",
            "37/37 [==============================] - 1006s 27s/step - loss: 2.2250 - mean_squared_error: 0.0883 - root_mean_squared_error: 0.2972 - categorical_accuracy: 0.2255 - val_loss: 2.1015 - val_mean_squared_error: 0.0854 - val_root_mean_squared_error: 0.2922 - val_categorical_accuracy: 0.2875\n",
            "Epoch 2/10\n",
            "37/37 [==============================] - 973s 27s/step - loss: 2.0458 - mean_squared_error: 0.0845 - root_mean_squared_error: 0.2907 - categorical_accuracy: 0.2703 - val_loss: 1.9941 - val_mean_squared_error: 0.0831 - val_root_mean_squared_error: 0.2883 - val_categorical_accuracy: 0.2875\n",
            "Epoch 3/10\n",
            "37/37 [==============================] - 999s 28s/step - loss: 1.9912 - mean_squared_error: 0.0834 - root_mean_squared_error: 0.2889 - categorical_accuracy: 0.2669 - val_loss: 1.9744 - val_mean_squared_error: 0.0830 - val_root_mean_squared_error: 0.2882 - val_categorical_accuracy: 0.3000\n",
            "Epoch 4/10\n",
            "37/37 [==============================] - 1160s 32s/step - loss: 1.9587 - mean_squared_error: 0.0827 - root_mean_squared_error: 0.2876 - categorical_accuracy: 0.2796 - val_loss: 1.9342 - val_mean_squared_error: 0.0819 - val_root_mean_squared_error: 0.2862 - val_categorical_accuracy: 0.3187\n",
            "Epoch 5/10\n",
            "18/37 [=============>................] - ETA: 13:03 - loss: 1.9055 - mean_squared_error: 0.0813 - root_mean_squared_error: 0.2851 - categorical_accuracy: 0.3038"
          ]
        },
        {
          "ename": "KeyboardInterrupt",
          "evalue": "",
          "output_type": "error",
          "traceback": [
            "\u001b[1;31m---------------------------------------------------------------------------\u001b[0m",
            "\u001b[1;31mKeyboardInterrupt\u001b[0m                         Traceback (most recent call last)",
            "\u001b[1;32mc:\\feindrial\\bondnet\\main.ipynb Cell 25\u001b[0m line \u001b[0;36m1\n\u001b[1;32m----> <a href='vscode-notebook-cell:/c%3A/feindrial/bondnet/main.ipynb#X33sZmlsZQ%3D%3D?line=0'>1</a>\u001b[0m history \u001b[39m=\u001b[39m bn\u001b[39m.\u001b[39;49mfit(\n\u001b[0;32m      <a href='vscode-notebook-cell:/c%3A/feindrial/bondnet/main.ipynb#X33sZmlsZQ%3D%3D?line=1'>2</a>\u001b[0m     tr\u001b[39m.\u001b[39;49mrepeat(),\n\u001b[0;32m      <a href='vscode-notebook-cell:/c%3A/feindrial/bondnet/main.ipynb#X33sZmlsZQ%3D%3D?line=2'>3</a>\u001b[0m     validation_data\u001b[39m=\u001b[39;49mval\u001b[39m.\u001b[39;49mrepeat(),\n\u001b[0;32m      <a href='vscode-notebook-cell:/c%3A/feindrial/bondnet/main.ipynb#X33sZmlsZQ%3D%3D?line=3'>4</a>\u001b[0m     \u001b[39m#batch_size=bn.batch_size,\u001b[39;49;00m\n\u001b[0;32m      <a href='vscode-notebook-cell:/c%3A/feindrial/bondnet/main.ipynb#X33sZmlsZQ%3D%3D?line=4'>5</a>\u001b[0m     steps_per_epoch\u001b[39m=\u001b[39;49mbn\u001b[39m.\u001b[39;49mtrain_spe(),\n\u001b[0;32m      <a href='vscode-notebook-cell:/c%3A/feindrial/bondnet/main.ipynb#X33sZmlsZQ%3D%3D?line=5'>6</a>\u001b[0m     validation_steps\u001b[39m=\u001b[39;49mbn\u001b[39m.\u001b[39;49mval_spe(),\n\u001b[0;32m      <a href='vscode-notebook-cell:/c%3A/feindrial/bondnet/main.ipynb#X33sZmlsZQ%3D%3D?line=6'>7</a>\u001b[0m     epochs\u001b[39m=\u001b[39;49m\u001b[39m10\u001b[39;49m\n\u001b[0;32m      <a href='vscode-notebook-cell:/c%3A/feindrial/bondnet/main.ipynb#X33sZmlsZQ%3D%3D?line=7'>8</a>\u001b[0m )\n",
            "File \u001b[1;32mc:\\feindrial\\py_env\\Lib\\site-packages\\keras\\utils\\traceback_utils.py:65\u001b[0m, in \u001b[0;36mfilter_traceback.<locals>.error_handler\u001b[1;34m(*args, **kwargs)\u001b[0m\n\u001b[0;32m     63\u001b[0m filtered_tb \u001b[39m=\u001b[39m \u001b[39mNone\u001b[39;00m\n\u001b[0;32m     64\u001b[0m \u001b[39mtry\u001b[39;00m:\n\u001b[1;32m---> 65\u001b[0m     \u001b[39mreturn\u001b[39;00m fn(\u001b[39m*\u001b[39;49margs, \u001b[39m*\u001b[39;49m\u001b[39m*\u001b[39;49mkwargs)\n\u001b[0;32m     66\u001b[0m \u001b[39mexcept\u001b[39;00m \u001b[39mException\u001b[39;00m \u001b[39mas\u001b[39;00m e:\n\u001b[0;32m     67\u001b[0m     filtered_tb \u001b[39m=\u001b[39m _process_traceback_frames(e\u001b[39m.\u001b[39m__traceback__)\n",
            "File \u001b[1;32mc:\\feindrial\\py_env\\Lib\\site-packages\\keras\\engine\\training.py:1685\u001b[0m, in \u001b[0;36mModel.fit\u001b[1;34m(self, x, y, batch_size, epochs, verbose, callbacks, validation_split, validation_data, shuffle, class_weight, sample_weight, initial_epoch, steps_per_epoch, validation_steps, validation_batch_size, validation_freq, max_queue_size, workers, use_multiprocessing)\u001b[0m\n\u001b[0;32m   1677\u001b[0m \u001b[39mwith\u001b[39;00m tf\u001b[39m.\u001b[39mprofiler\u001b[39m.\u001b[39mexperimental\u001b[39m.\u001b[39mTrace(\n\u001b[0;32m   1678\u001b[0m     \u001b[39m\"\u001b[39m\u001b[39mtrain\u001b[39m\u001b[39m\"\u001b[39m,\n\u001b[0;32m   1679\u001b[0m     epoch_num\u001b[39m=\u001b[39mepoch,\n\u001b[1;32m   (...)\u001b[0m\n\u001b[0;32m   1682\u001b[0m     _r\u001b[39m=\u001b[39m\u001b[39m1\u001b[39m,\n\u001b[0;32m   1683\u001b[0m ):\n\u001b[0;32m   1684\u001b[0m     callbacks\u001b[39m.\u001b[39mon_train_batch_begin(step)\n\u001b[1;32m-> 1685\u001b[0m     tmp_logs \u001b[39m=\u001b[39m \u001b[39mself\u001b[39;49m\u001b[39m.\u001b[39;49mtrain_function(iterator)\n\u001b[0;32m   1686\u001b[0m     \u001b[39mif\u001b[39;00m data_handler\u001b[39m.\u001b[39mshould_sync:\n\u001b[0;32m   1687\u001b[0m         context\u001b[39m.\u001b[39masync_wait()\n",
            "File \u001b[1;32mc:\\feindrial\\py_env\\Lib\\site-packages\\tensorflow\\python\\util\\traceback_utils.py:150\u001b[0m, in \u001b[0;36mfilter_traceback.<locals>.error_handler\u001b[1;34m(*args, **kwargs)\u001b[0m\n\u001b[0;32m    148\u001b[0m filtered_tb \u001b[39m=\u001b[39m \u001b[39mNone\u001b[39;00m\n\u001b[0;32m    149\u001b[0m \u001b[39mtry\u001b[39;00m:\n\u001b[1;32m--> 150\u001b[0m   \u001b[39mreturn\u001b[39;00m fn(\u001b[39m*\u001b[39;49margs, \u001b[39m*\u001b[39;49m\u001b[39m*\u001b[39;49mkwargs)\n\u001b[0;32m    151\u001b[0m \u001b[39mexcept\u001b[39;00m \u001b[39mException\u001b[39;00m \u001b[39mas\u001b[39;00m e:\n\u001b[0;32m    152\u001b[0m   filtered_tb \u001b[39m=\u001b[39m _process_traceback_frames(e\u001b[39m.\u001b[39m__traceback__)\n",
            "File \u001b[1;32mc:\\feindrial\\py_env\\Lib\\site-packages\\tensorflow\\python\\eager\\polymorphic_function\\polymorphic_function.py:894\u001b[0m, in \u001b[0;36mFunction.__call__\u001b[1;34m(self, *args, **kwds)\u001b[0m\n\u001b[0;32m    891\u001b[0m compiler \u001b[39m=\u001b[39m \u001b[39m\"\u001b[39m\u001b[39mxla\u001b[39m\u001b[39m\"\u001b[39m \u001b[39mif\u001b[39;00m \u001b[39mself\u001b[39m\u001b[39m.\u001b[39m_jit_compile \u001b[39melse\u001b[39;00m \u001b[39m\"\u001b[39m\u001b[39mnonXla\u001b[39m\u001b[39m\"\u001b[39m\n\u001b[0;32m    893\u001b[0m \u001b[39mwith\u001b[39;00m OptionalXlaContext(\u001b[39mself\u001b[39m\u001b[39m.\u001b[39m_jit_compile):\n\u001b[1;32m--> 894\u001b[0m   result \u001b[39m=\u001b[39m \u001b[39mself\u001b[39;49m\u001b[39m.\u001b[39;49m_call(\u001b[39m*\u001b[39;49margs, \u001b[39m*\u001b[39;49m\u001b[39m*\u001b[39;49mkwds)\n\u001b[0;32m    896\u001b[0m new_tracing_count \u001b[39m=\u001b[39m \u001b[39mself\u001b[39m\u001b[39m.\u001b[39mexperimental_get_tracing_count()\n\u001b[0;32m    897\u001b[0m without_tracing \u001b[39m=\u001b[39m (tracing_count \u001b[39m==\u001b[39m new_tracing_count)\n",
            "File \u001b[1;32mc:\\feindrial\\py_env\\Lib\\site-packages\\tensorflow\\python\\eager\\polymorphic_function\\polymorphic_function.py:926\u001b[0m, in \u001b[0;36mFunction._call\u001b[1;34m(self, *args, **kwds)\u001b[0m\n\u001b[0;32m    923\u001b[0m   \u001b[39mself\u001b[39m\u001b[39m.\u001b[39m_lock\u001b[39m.\u001b[39mrelease()\n\u001b[0;32m    924\u001b[0m   \u001b[39m# In this case we have created variables on the first call, so we run the\u001b[39;00m\n\u001b[0;32m    925\u001b[0m   \u001b[39m# defunned version which is guaranteed to never create variables.\u001b[39;00m\n\u001b[1;32m--> 926\u001b[0m   \u001b[39mreturn\u001b[39;00m \u001b[39mself\u001b[39;49m\u001b[39m.\u001b[39;49m_no_variable_creation_fn(\u001b[39m*\u001b[39;49margs, \u001b[39m*\u001b[39;49m\u001b[39m*\u001b[39;49mkwds)  \u001b[39m# pylint: disable=not-callable\u001b[39;00m\n\u001b[0;32m    927\u001b[0m \u001b[39melif\u001b[39;00m \u001b[39mself\u001b[39m\u001b[39m.\u001b[39m_variable_creation_fn \u001b[39mis\u001b[39;00m \u001b[39mnot\u001b[39;00m \u001b[39mNone\u001b[39;00m:\n\u001b[0;32m    928\u001b[0m   \u001b[39m# Release the lock early so that multiple threads can perform the call\u001b[39;00m\n\u001b[0;32m    929\u001b[0m   \u001b[39m# in parallel.\u001b[39;00m\n\u001b[0;32m    930\u001b[0m   \u001b[39mself\u001b[39m\u001b[39m.\u001b[39m_lock\u001b[39m.\u001b[39mrelease()\n",
            "File \u001b[1;32mc:\\feindrial\\py_env\\Lib\\site-packages\\tensorflow\\python\\eager\\polymorphic_function\\tracing_compiler.py:143\u001b[0m, in \u001b[0;36mTracingCompiler.__call__\u001b[1;34m(self, *args, **kwargs)\u001b[0m\n\u001b[0;32m    140\u001b[0m \u001b[39mwith\u001b[39;00m \u001b[39mself\u001b[39m\u001b[39m.\u001b[39m_lock:\n\u001b[0;32m    141\u001b[0m   (concrete_function,\n\u001b[0;32m    142\u001b[0m    filtered_flat_args) \u001b[39m=\u001b[39m \u001b[39mself\u001b[39m\u001b[39m.\u001b[39m_maybe_define_function(args, kwargs)\n\u001b[1;32m--> 143\u001b[0m \u001b[39mreturn\u001b[39;00m concrete_function\u001b[39m.\u001b[39;49m_call_flat(\n\u001b[0;32m    144\u001b[0m     filtered_flat_args, captured_inputs\u001b[39m=\u001b[39;49mconcrete_function\u001b[39m.\u001b[39;49mcaptured_inputs)\n",
            "File \u001b[1;32mc:\\feindrial\\py_env\\Lib\\site-packages\\tensorflow\\python\\eager\\polymorphic_function\\monomorphic_function.py:1757\u001b[0m, in \u001b[0;36mConcreteFunction._call_flat\u001b[1;34m(self, args, captured_inputs, cancellation_manager)\u001b[0m\n\u001b[0;32m   1753\u001b[0m possible_gradient_type \u001b[39m=\u001b[39m gradients_util\u001b[39m.\u001b[39mPossibleTapeGradientTypes(args)\n\u001b[0;32m   1754\u001b[0m \u001b[39mif\u001b[39;00m (possible_gradient_type \u001b[39m==\u001b[39m gradients_util\u001b[39m.\u001b[39mPOSSIBLE_GRADIENT_TYPES_NONE\n\u001b[0;32m   1755\u001b[0m     \u001b[39mand\u001b[39;00m executing_eagerly):\n\u001b[0;32m   1756\u001b[0m   \u001b[39m# No tape is watching; skip to running the function.\u001b[39;00m\n\u001b[1;32m-> 1757\u001b[0m   \u001b[39mreturn\u001b[39;00m \u001b[39mself\u001b[39m\u001b[39m.\u001b[39m_build_call_outputs(\u001b[39mself\u001b[39;49m\u001b[39m.\u001b[39;49m_inference_function\u001b[39m.\u001b[39;49mcall(\n\u001b[0;32m   1758\u001b[0m       ctx, args, cancellation_manager\u001b[39m=\u001b[39;49mcancellation_manager))\n\u001b[0;32m   1759\u001b[0m forward_backward \u001b[39m=\u001b[39m \u001b[39mself\u001b[39m\u001b[39m.\u001b[39m_select_forward_and_backward_functions(\n\u001b[0;32m   1760\u001b[0m     args,\n\u001b[0;32m   1761\u001b[0m     possible_gradient_type,\n\u001b[0;32m   1762\u001b[0m     executing_eagerly)\n\u001b[0;32m   1763\u001b[0m forward_function, args_with_tangents \u001b[39m=\u001b[39m forward_backward\u001b[39m.\u001b[39mforward()\n",
            "File \u001b[1;32mc:\\feindrial\\py_env\\Lib\\site-packages\\tensorflow\\python\\eager\\polymorphic_function\\monomorphic_function.py:381\u001b[0m, in \u001b[0;36m_EagerDefinedFunction.call\u001b[1;34m(self, ctx, args, cancellation_manager)\u001b[0m\n\u001b[0;32m    379\u001b[0m \u001b[39mwith\u001b[39;00m _InterpolateFunctionError(\u001b[39mself\u001b[39m):\n\u001b[0;32m    380\u001b[0m   \u001b[39mif\u001b[39;00m cancellation_manager \u001b[39mis\u001b[39;00m \u001b[39mNone\u001b[39;00m:\n\u001b[1;32m--> 381\u001b[0m     outputs \u001b[39m=\u001b[39m execute\u001b[39m.\u001b[39;49mexecute(\n\u001b[0;32m    382\u001b[0m         \u001b[39mstr\u001b[39;49m(\u001b[39mself\u001b[39;49m\u001b[39m.\u001b[39;49msignature\u001b[39m.\u001b[39;49mname),\n\u001b[0;32m    383\u001b[0m         num_outputs\u001b[39m=\u001b[39;49m\u001b[39mself\u001b[39;49m\u001b[39m.\u001b[39;49m_num_outputs,\n\u001b[0;32m    384\u001b[0m         inputs\u001b[39m=\u001b[39;49margs,\n\u001b[0;32m    385\u001b[0m         attrs\u001b[39m=\u001b[39;49mattrs,\n\u001b[0;32m    386\u001b[0m         ctx\u001b[39m=\u001b[39;49mctx)\n\u001b[0;32m    387\u001b[0m   \u001b[39melse\u001b[39;00m:\n\u001b[0;32m    388\u001b[0m     outputs \u001b[39m=\u001b[39m execute\u001b[39m.\u001b[39mexecute_with_cancellation(\n\u001b[0;32m    389\u001b[0m         \u001b[39mstr\u001b[39m(\u001b[39mself\u001b[39m\u001b[39m.\u001b[39msignature\u001b[39m.\u001b[39mname),\n\u001b[0;32m    390\u001b[0m         num_outputs\u001b[39m=\u001b[39m\u001b[39mself\u001b[39m\u001b[39m.\u001b[39m_num_outputs,\n\u001b[1;32m   (...)\u001b[0m\n\u001b[0;32m    393\u001b[0m         ctx\u001b[39m=\u001b[39mctx,\n\u001b[0;32m    394\u001b[0m         cancellation_manager\u001b[39m=\u001b[39mcancellation_manager)\n",
            "File \u001b[1;32mc:\\feindrial\\py_env\\Lib\\site-packages\\tensorflow\\python\\eager\\execute.py:52\u001b[0m, in \u001b[0;36mquick_execute\u001b[1;34m(op_name, num_outputs, inputs, attrs, ctx, name)\u001b[0m\n\u001b[0;32m     50\u001b[0m \u001b[39mtry\u001b[39;00m:\n\u001b[0;32m     51\u001b[0m   ctx\u001b[39m.\u001b[39mensure_initialized()\n\u001b[1;32m---> 52\u001b[0m   tensors \u001b[39m=\u001b[39m pywrap_tfe\u001b[39m.\u001b[39;49mTFE_Py_Execute(ctx\u001b[39m.\u001b[39;49m_handle, device_name, op_name,\n\u001b[0;32m     53\u001b[0m                                       inputs, attrs, num_outputs)\n\u001b[0;32m     54\u001b[0m \u001b[39mexcept\u001b[39;00m core\u001b[39m.\u001b[39m_NotOkStatusException \u001b[39mas\u001b[39;00m e:\n\u001b[0;32m     55\u001b[0m   \u001b[39mif\u001b[39;00m name \u001b[39mis\u001b[39;00m \u001b[39mnot\u001b[39;00m \u001b[39mNone\u001b[39;00m:\n",
            "\u001b[1;31mKeyboardInterrupt\u001b[0m: "
          ]
        }
      ],
      "source": [
        "history = bn.fit(\n",
        "    tr.repeat(),\n",
        "    validation_data=val.repeat(),\n",
        "    #batch_size=bn.batch_size,\n",
        "    steps_per_epoch=bn.train_spe(),\n",
        "    validation_steps=bn.val_spe(),\n",
        "    epochs=10\n",
        ")"
      ]
    },
    {
      "cell_type": "code",
      "execution_count": 75,
      "metadata": {},
      "outputs": [
        {
          "name": "stdout",
          "output_type": "stream",
          "text": [
            "6/6 [==============================] - 3s 456ms/step - loss: 2.1283 - mean_squared_error: 0.0862 - root_mean_squared_error: 0.2935 - categorical_accuracy: 0.2500\n"
          ]
        }
      ],
      "source": [
        "eval = bn.evaluate(\n",
        "    te,\n",
        "    batch_size=bn.batch_size,\n",
        "    steps=bn.test_spe()\n",
        ")"
      ]
    },
    {
      "cell_type": "code",
      "execution_count": 65,
      "metadata": {},
      "outputs": [
        {
          "name": "stdout",
          "output_type": "stream",
          "text": [
            "1/1 [==============================] - 2s 2s/step\n"
          ]
        },
        {
          "data": {
            "text/plain": [
              "array([[[0.02499004, 0.03911908, 0.03241139, 0.07614801, 0.03831066,\n",
              "         0.15902692, 0.17219613, 0.27851704, 0.06501711, 0.11426367]],\n",
              "\n",
              "       [[0.02388486, 0.04143833, 0.03425407, 0.07812206, 0.03808202,\n",
              "         0.15098004, 0.17327502, 0.28224576, 0.06606241, 0.1116554 ]]],\n",
              "      dtype=float32)"
            ]
          },
          "execution_count": 65,
          "metadata": {},
          "output_type": "execute_result"
        }
      ],
      "source": [
        "bn.predict(te.as_numpy_iterator().next()[0])"
      ]
    },
    {
      "cell_type": "code",
      "execution_count": 199,
      "metadata": {
        "colab": {
          "base_uri": "https://localhost:8080/"
        },
        "id": "LsBgVDgJlr8A",
        "outputId": "04c39d05-96ef-4c8a-d8de-4b80ceb200a4"
      },
      "outputs": [
        {
          "name": "stdout",
          "output_type": "stream",
          "text": [
            "Model: \"bond_net_15\"\n",
            "_________________________________________________________________\n",
            " Layer (type)                Output Shape              Param #   \n",
            "=================================================================\n",
            " embedding_60 (Embedding)    multiple                  2440      \n",
            "                                                                 \n",
            " embedding_61 (Embedding)    multiple                  38896     \n",
            "                                                                 \n",
            " embedding_62 (Embedding)    multiple                  6100      \n"
          ]
        },
        {
          "name": "stdout",
          "output_type": "stream",
          "text": [
            "                                                                 \n",
            " embedding_63 (Embedding)    multiple                  97240     \n",
            "                                                                 \n",
            " dense_79 (Dense)            multiple                  144       \n",
            "                                                                 \n",
            " dense_80 (Dense)            multiple                  136       \n",
            "                                                                 \n",
            " dense_81 (Dense)            multiple                  90        \n",
            "                                                                 \n",
            " lstm_38 (LSTM)              multiple                  368       \n",
            "                                                                 \n",
            " lstm_39 (LSTM)              multiple                  144       \n",
            "                                                                 \n",
            " dense_82 (Dense)            multiple                  80        \n",
            "                                                                 \n",
            " dense_83 (Dense)            multiple                  136       \n",
            "                                                                 \n",
            " dense_84 (Dense)            multiple                  90        \n",
            "                                                                 \n",
            "=================================================================\n",
            "Total params: 145,864\n",
            "Trainable params: 145,864\n",
            "Non-trainable params: 0\n",
            "_________________________________________________________________\n"
          ]
        }
      ],
      "source": [
        "bn.summary()"
      ]
    }
  ],
  "metadata": {
    "colab": {
      "gpuType": "T4",
      "include_colab_link": true,
      "provenance": []
    },
    "gpuClass": "standard",
    "kernelspec": {
      "display_name": "Python 3 (ipykernel)",
      "language": "python",
      "name": "python3"
    },
    "language_info": {
      "codemirror_mode": {
        "name": "ipython",
        "version": 3
      },
      "file_extension": ".py",
      "mimetype": "text/x-python",
      "name": "python",
      "nbconvert_exporter": "python",
      "pygments_lexer": "ipython3",
      "version": "3.11.4"
    },
    "vscode": {
      "interpreter": {
        "hash": "13352b205a54342361df07f002c7f8845f64dc2b5c1cc6c2b30b5e8b6bc06982"
      }
    }
  },
  "nbformat": 4,
  "nbformat_minor": 0
}
