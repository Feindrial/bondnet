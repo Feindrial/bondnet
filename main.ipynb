{
  "cells": [
    {
      "cell_type": "markdown",
      "metadata": {
        "colab_type": "text",
        "id": "view-in-github"
      },
      "source": [
        "<a href=\"https://colab.research.google.com/github/Feindrial/bondnet/blob/main/main.ipynb\" target=\"_parent\"><img src=\"https://colab.research.google.com/assets/colab-badge.svg\" alt=\"Open In Colab\"/></a>"
      ]
    },
    {
      "cell_type": "code",
      "execution_count": 1,
      "metadata": {
        "id": "GmUfJdKYj5pn"
      },
      "outputs": [],
      "source": [
        "import numpy as np\n",
        "import pandas as pd\n",
        "import sklearn as sk\n",
        "from sklearn.decomposition import TruncatedSVD\n",
        "from sklearn.preprocessing import OneHotEncoder\n",
        "from sklearn.model_selection import train_test_split as sk_tt_split\n",
        "import surprise as sp\n",
        "from surprise.model_selection import cross_validate, train_test_split as sp_tt_split\n",
        "from surprise import Dataset, Reader\n",
        "import tensorflow as tf\n",
        "from tensorflow import keras\n",
        "from keras.models import Sequential, Model\n",
        "from keras.layers import LSTM\n",
        "from keras.layers import Dense, Flatten\n",
        "from keras import Input\n",
        "from pathlib import Path\n",
        "import matplotlib.pyplot as plt"
      ]
    },
    {
      "cell_type": "code",
      "execution_count": 2,
      "metadata": {
        "colab": {
          "base_uri": "https://localhost:8080/",
          "height": 75
        },
        "id": "Uyx1XmwRlr7Y",
        "outputId": "7751bd25-272b-449f-89aa-68069708b22d"
      },
      "outputs": [
        {
          "name": "stdout",
          "output_type": "stream",
          "text": [
            "2.12.0\n",
            "C:\\Users\\feind\\.keras\\datasets\\ml-latest-small\n"
          ]
        }
      ],
      "source": [
        "print(tf.__version__)\n",
        "\n",
        "locc = \"LOCAL\"\n",
        "\n",
        "if locc == \"LOCAL\":\n",
        "\n",
        "    #veri setinin indirilip dosya yollarının kaydedilmesi\n",
        "\n",
        "    movielens_url = \"http://files.grouplens.org/datasets/movielens/ml-latest-small.zip\"\n",
        "\n",
        "    downloaded_path = tf.keras.utils.get_file(movielens_url.rsplit('/').pop(), movielens_url, extract=True)\n",
        "\n",
        "    dataset_dir = Path(downloaded_path).parent / Path(downloaded_path).stem\n",
        "    print(dataset_dir)\n",
        "\n",
        "    #indirelen veri setinin ilgili csv dosyaları pandas dataframe olarak atandı\n",
        "\n",
        "elif locc == \"COLAB\":\n",
        "\n",
        "    dataset_dir = Path(\"/content\")\n",
        "    print(dataset_dir)\n",
        "\n",
        "    ! pip install -q kaggle\n",
        "    from google.colab import files\n",
        "    files.upload()\n",
        "\n",
        "    ! mkdir ~/.kaggle\n",
        "    ! mv kaggle.json ~/.kaggle/\n",
        "    ! chmod 600 ~/.kaggle/kaggle.json\n",
        "\n",
        "    !kaggle datasets download \"shubhammehta21/movie-lens-small-latest-dataset\"\n",
        "    !unzip -j \"movie-lens-small-latest-dataset\"\n",
        "\n",
        "else:\n",
        "    raise RuntimeError"
      ]
    },
    {
      "cell_type": "code",
      "execution_count": 3,
      "metadata": {
        "id": "MOKAGwdQazah"
      },
      "outputs": [],
      "source": [
        "ratings_file = dataset_dir / \"ratings.csv\"\n",
        "ratings = pd.read_csv(\n",
        "    ratings_file\n",
        ")\n",
        "\n",
        "movies_file = dataset_dir / \"movies.csv\"\n",
        "movies = pd.read_csv(\n",
        "    movies_file\n",
        ")"
      ]
    },
    {
      "cell_type": "code",
      "execution_count": 4,
      "metadata": {
        "colab": {
          "base_uri": "https://localhost:8080/"
        },
        "id": "Y0t6UpzRlr7j",
        "outputId": "a13fd1c5-ac2e-4554-c7ad-4c7aa81eae88"
      },
      "outputs": [
        {
          "name": "stdout",
          "output_type": "stream",
          "text": [
            "<class 'pandas.core.frame.DataFrame'>\n",
            "RangeIndex: 100836 entries, 0 to 100835\n",
            "Data columns (total 4 columns):\n",
            " #   Column     Non-Null Count   Dtype  \n",
            "---  ------     --------------   -----  \n",
            " 0   userId     100836 non-null  int64  \n",
            " 1   movieId    100836 non-null  int64  \n",
            " 2   rating     100836 non-null  float64\n",
            " 3   timestamp  100836 non-null  int64  \n",
            "dtypes: float64(1), int64(3)\n",
            "memory usage: 3.1 MB\n"
          ]
        }
      ],
      "source": [
        "ratings.info()"
      ]
    },
    {
      "cell_type": "code",
      "execution_count": 5,
      "metadata": {
        "colab": {
          "base_uri": "https://localhost:8080/",
          "height": 363
        },
        "id": "70fWMrtxlr7m",
        "outputId": "e107cfb7-c50c-4e54-e534-453e693c37e3"
      },
      "outputs": [
        {
          "data": {
            "text/html": [
              "<div>\n",
              "<style scoped>\n",
              "    .dataframe tbody tr th:only-of-type {\n",
              "        vertical-align: middle;\n",
              "    }\n",
              "\n",
              "    .dataframe tbody tr th {\n",
              "        vertical-align: top;\n",
              "    }\n",
              "\n",
              "    .dataframe thead th {\n",
              "        text-align: right;\n",
              "    }\n",
              "</style>\n",
              "<table border=\"1\" class=\"dataframe\">\n",
              "  <thead>\n",
              "    <tr style=\"text-align: right;\">\n",
              "      <th></th>\n",
              "      <th>userId</th>\n",
              "      <th>movieId</th>\n",
              "      <th>rating</th>\n",
              "      <th>timestamp</th>\n",
              "    </tr>\n",
              "  </thead>\n",
              "  <tbody>\n",
              "    <tr>\n",
              "      <th>0</th>\n",
              "      <td>1</td>\n",
              "      <td>1</td>\n",
              "      <td>4.0</td>\n",
              "      <td>964982703</td>\n",
              "    </tr>\n",
              "    <tr>\n",
              "      <th>1</th>\n",
              "      <td>1</td>\n",
              "      <td>3</td>\n",
              "      <td>4.0</td>\n",
              "      <td>964981247</td>\n",
              "    </tr>\n",
              "    <tr>\n",
              "      <th>2</th>\n",
              "      <td>1</td>\n",
              "      <td>6</td>\n",
              "      <td>4.0</td>\n",
              "      <td>964982224</td>\n",
              "    </tr>\n",
              "    <tr>\n",
              "      <th>3</th>\n",
              "      <td>1</td>\n",
              "      <td>47</td>\n",
              "      <td>5.0</td>\n",
              "      <td>964983815</td>\n",
              "    </tr>\n",
              "    <tr>\n",
              "      <th>4</th>\n",
              "      <td>1</td>\n",
              "      <td>50</td>\n",
              "      <td>5.0</td>\n",
              "      <td>964982931</td>\n",
              "    </tr>\n",
              "    <tr>\n",
              "      <th>5</th>\n",
              "      <td>1</td>\n",
              "      <td>70</td>\n",
              "      <td>3.0</td>\n",
              "      <td>964982400</td>\n",
              "    </tr>\n",
              "    <tr>\n",
              "      <th>6</th>\n",
              "      <td>1</td>\n",
              "      <td>101</td>\n",
              "      <td>5.0</td>\n",
              "      <td>964980868</td>\n",
              "    </tr>\n",
              "    <tr>\n",
              "      <th>7</th>\n",
              "      <td>1</td>\n",
              "      <td>110</td>\n",
              "      <td>4.0</td>\n",
              "      <td>964982176</td>\n",
              "    </tr>\n",
              "    <tr>\n",
              "      <th>8</th>\n",
              "      <td>1</td>\n",
              "      <td>151</td>\n",
              "      <td>5.0</td>\n",
              "      <td>964984041</td>\n",
              "    </tr>\n",
              "    <tr>\n",
              "      <th>9</th>\n",
              "      <td>1</td>\n",
              "      <td>157</td>\n",
              "      <td>5.0</td>\n",
              "      <td>964984100</td>\n",
              "    </tr>\n",
              "  </tbody>\n",
              "</table>\n",
              "</div>"
            ],
            "text/plain": [
              "   userId  movieId  rating  timestamp\n",
              "0       1        1     4.0  964982703\n",
              "1       1        3     4.0  964981247\n",
              "2       1        6     4.0  964982224\n",
              "3       1       47     5.0  964983815\n",
              "4       1       50     5.0  964982931\n",
              "5       1       70     3.0  964982400\n",
              "6       1      101     5.0  964980868\n",
              "7       1      110     4.0  964982176\n",
              "8       1      151     5.0  964984041\n",
              "9       1      157     5.0  964984100"
            ]
          },
          "execution_count": 5,
          "metadata": {},
          "output_type": "execute_result"
        }
      ],
      "source": [
        "ratings.head(10)"
      ]
    },
    {
      "cell_type": "code",
      "execution_count": 6,
      "metadata": {
        "colab": {
          "base_uri": "https://localhost:8080/"
        },
        "id": "nbPI2x2hlr7n",
        "outputId": "b3ef7aa8-c206-4944-e598-4f355e3a1be7"
      },
      "outputs": [
        {
          "name": "stdout",
          "output_type": "stream",
          "text": [
            "<class 'pandas.core.frame.DataFrame'>\n",
            "RangeIndex: 9742 entries, 0 to 9741\n",
            "Data columns (total 3 columns):\n",
            " #   Column   Non-Null Count  Dtype \n",
            "---  ------   --------------  ----- \n",
            " 0   movieId  9742 non-null   int64 \n",
            " 1   title    9742 non-null   object\n",
            " 2   genres   9742 non-null   object\n",
            "dtypes: int64(1), object(2)\n",
            "memory usage: 228.5+ KB\n"
          ]
        }
      ],
      "source": [
        "movies.info()"
      ]
    },
    {
      "cell_type": "code",
      "execution_count": 7,
      "metadata": {
        "colab": {
          "base_uri": "https://localhost:8080/",
          "height": 363
        },
        "id": "uZMlWNatlr7o",
        "outputId": "00b9cf07-ce0a-4ffc-9f0c-834a660954f7"
      },
      "outputs": [
        {
          "data": {
            "text/html": [
              "<div>\n",
              "<style scoped>\n",
              "    .dataframe tbody tr th:only-of-type {\n",
              "        vertical-align: middle;\n",
              "    }\n",
              "\n",
              "    .dataframe tbody tr th {\n",
              "        vertical-align: top;\n",
              "    }\n",
              "\n",
              "    .dataframe thead th {\n",
              "        text-align: right;\n",
              "    }\n",
              "</style>\n",
              "<table border=\"1\" class=\"dataframe\">\n",
              "  <thead>\n",
              "    <tr style=\"text-align: right;\">\n",
              "      <th></th>\n",
              "      <th>movieId</th>\n",
              "      <th>title</th>\n",
              "      <th>genres</th>\n",
              "    </tr>\n",
              "  </thead>\n",
              "  <tbody>\n",
              "    <tr>\n",
              "      <th>0</th>\n",
              "      <td>1</td>\n",
              "      <td>Toy Story (1995)</td>\n",
              "      <td>Adventure|Animation|Children|Comedy|Fantasy</td>\n",
              "    </tr>\n",
              "    <tr>\n",
              "      <th>1</th>\n",
              "      <td>2</td>\n",
              "      <td>Jumanji (1995)</td>\n",
              "      <td>Adventure|Children|Fantasy</td>\n",
              "    </tr>\n",
              "    <tr>\n",
              "      <th>2</th>\n",
              "      <td>3</td>\n",
              "      <td>Grumpier Old Men (1995)</td>\n",
              "      <td>Comedy|Romance</td>\n",
              "    </tr>\n",
              "    <tr>\n",
              "      <th>3</th>\n",
              "      <td>4</td>\n",
              "      <td>Waiting to Exhale (1995)</td>\n",
              "      <td>Comedy|Drama|Romance</td>\n",
              "    </tr>\n",
              "    <tr>\n",
              "      <th>4</th>\n",
              "      <td>5</td>\n",
              "      <td>Father of the Bride Part II (1995)</td>\n",
              "      <td>Comedy</td>\n",
              "    </tr>\n",
              "    <tr>\n",
              "      <th>5</th>\n",
              "      <td>6</td>\n",
              "      <td>Heat (1995)</td>\n",
              "      <td>Action|Crime|Thriller</td>\n",
              "    </tr>\n",
              "    <tr>\n",
              "      <th>6</th>\n",
              "      <td>7</td>\n",
              "      <td>Sabrina (1995)</td>\n",
              "      <td>Comedy|Romance</td>\n",
              "    </tr>\n",
              "    <tr>\n",
              "      <th>7</th>\n",
              "      <td>8</td>\n",
              "      <td>Tom and Huck (1995)</td>\n",
              "      <td>Adventure|Children</td>\n",
              "    </tr>\n",
              "    <tr>\n",
              "      <th>8</th>\n",
              "      <td>9</td>\n",
              "      <td>Sudden Death (1995)</td>\n",
              "      <td>Action</td>\n",
              "    </tr>\n",
              "    <tr>\n",
              "      <th>9</th>\n",
              "      <td>10</td>\n",
              "      <td>GoldenEye (1995)</td>\n",
              "      <td>Action|Adventure|Thriller</td>\n",
              "    </tr>\n",
              "  </tbody>\n",
              "</table>\n",
              "</div>"
            ],
            "text/plain": [
              "   movieId                               title  \\\n",
              "0        1                    Toy Story (1995)   \n",
              "1        2                      Jumanji (1995)   \n",
              "2        3             Grumpier Old Men (1995)   \n",
              "3        4            Waiting to Exhale (1995)   \n",
              "4        5  Father of the Bride Part II (1995)   \n",
              "5        6                         Heat (1995)   \n",
              "6        7                      Sabrina (1995)   \n",
              "7        8                 Tom and Huck (1995)   \n",
              "8        9                 Sudden Death (1995)   \n",
              "9       10                    GoldenEye (1995)   \n",
              "\n",
              "                                        genres  \n",
              "0  Adventure|Animation|Children|Comedy|Fantasy  \n",
              "1                   Adventure|Children|Fantasy  \n",
              "2                               Comedy|Romance  \n",
              "3                         Comedy|Drama|Romance  \n",
              "4                                       Comedy  \n",
              "5                        Action|Crime|Thriller  \n",
              "6                               Comedy|Romance  \n",
              "7                           Adventure|Children  \n",
              "8                                       Action  \n",
              "9                    Action|Adventure|Thriller  "
            ]
          },
          "execution_count": 7,
          "metadata": {},
          "output_type": "execute_result"
        }
      ],
      "source": [
        "movies.head(10)"
      ]
    },
    {
      "cell_type": "code",
      "execution_count": 8,
      "metadata": {},
      "outputs": [
        {
          "data": {
            "text/plain": [
              "<Axes: xlabel='rating'>"
            ]
          },
          "execution_count": 8,
          "metadata": {},
          "output_type": "execute_result"
        },
        {
          "data": {
            "image/png": "[encoded data removed]",
            "text/plain": [
              "<Figure size 640x480 with 1 Axes>"
            ]
          },
          "metadata": {},
          "output_type": "display_data"
        }
      ],
      "source": [
        "ratings[\"rating\"].value_counts().sort_index().plot.bar()"
      ]
    },
    {
      "cell_type": "code",
      "execution_count": 9,
      "metadata": {},
      "outputs": [
        {
          "data": {
            "image/png": "[encoded data removed]",
            "text/plain": [
              "<Figure size 640x480 with 1 Axes>"
            ]
          },
          "metadata": {},
          "output_type": "display_data"
        }
      ],
      "source": [
        "u200 = np.unique(ratings[\"userId\"].value_counts().to_numpy() // 200 * 200, return_counts=True)\n",
        "\n",
        "fig, ax = plt.subplots()\n",
        "ax.stem(u200[0], u200[1])\n",
        "ax.set_xlabel('rated movie count')\n",
        "ax.set_ylabel('how many user rated')\n",
        "plt.show()"
      ]
    },
    {
      "cell_type": "code",
      "execution_count": 10,
      "metadata": {},
      "outputs": [
        {
          "data": {
            "image/png": "[encoded data removed]",
            "text/plain": [
              "<Figure size 640x480 with 1 Axes>"
            ]
          },
          "metadata": {},
          "output_type": "display_data"
        }
      ],
      "source": [
        "u20 = np.unique(ratings[\"userId\"].value_counts().to_numpy() // 20 * 20, return_counts=True)\n",
        "u20x = u20[0][:10]\n",
        "u20y = u20[1][:10]\n",
        "fig, ax = plt.subplots()\n",
        "ax.stem(u20x, u20y)\n",
        "ax.set_xlabel('rated movie count')\n",
        "ax.set_ylabel('how many user rated')\n",
        "plt.show()"
      ]
    },
    {
      "cell_type": "code",
      "execution_count": 17,
      "metadata": {},
      "outputs": [
        {
          "data": {
            "text/plain": [
              "<Axes: >"
            ]
          },
          "execution_count": 17,
          "metadata": {},
          "output_type": "execute_result"
        },
        {
          "data": {
            "image/png": "[encoded data removed]",
            "text/plain": [
              "<Figure size 640x480 with 1 Axes>"
            ]
          },
          "metadata": {},
          "output_type": "display_data"
        }
      ],
      "source": [
        "uidplt = ratings.iloc[np.random.randint(len(ratings))][\"userId\"]\n",
        "uidrt = ratings[ratings[\"userId\"] == uidplt].sort_values(by=[\"timestamp\"])[[\"timestamp\", \"rating\"]]\n",
        "uidrt.set_index(np.arange(len(uidrt))).drop([\"timestamp\"], axis=1).iloc[:100].plot()"
      ]
    },
    {
      "cell_type": "code",
      "execution_count": 18,
      "metadata": {},
      "outputs": [
        {
          "data": {
            "text/plain": [
              "count    100836.000000\n",
              "mean          3.501557\n",
              "std           1.042529\n",
              "min           0.500000\n",
              "25%           3.000000\n",
              "50%           3.500000\n",
              "75%           4.000000\n",
              "max           5.000000\n",
              "Name: rating, dtype: float64"
            ]
          },
          "execution_count": 18,
          "metadata": {},
          "output_type": "execute_result"
        }
      ],
      "source": [
        "ratings[\"rating\"].describe()"
      ]
    },
    {
      "cell_type": "code",
      "execution_count": 4,
      "metadata": {},
      "outputs": [
        {
          "data": {
            "text/plain": [
              "count     610.000000\n",
              "mean      165.304918\n",
              "std       269.480584\n",
              "min        20.000000\n",
              "25%        35.000000\n",
              "50%        70.500000\n",
              "75%       168.000000\n",
              "max      2698.000000\n",
              "Name: count, dtype: float64"
            ]
          },
          "execution_count": 4,
          "metadata": {},
          "output_type": "execute_result"
        }
      ],
      "source": [
        "ratings[\"userId\"].value_counts().describe()"
      ]
    },
    {
      "cell_type": "code",
      "execution_count": 4,
      "metadata": {},
      "outputs": [
        {
          "data": {
            "text/html": [
              "<div>\n",
              "<style scoped>\n",
              "    .dataframe tbody tr th:only-of-type {\n",
              "        vertical-align: middle;\n",
              "    }\n",
              "\n",
              "    .dataframe tbody tr th {\n",
              "        vertical-align: top;\n",
              "    }\n",
              "\n",
              "    .dataframe thead th {\n",
              "        text-align: right;\n",
              "    }\n",
              "</style>\n",
              "<table border=\"1\" class=\"dataframe\">\n",
              "  <thead>\n",
              "    <tr style=\"text-align: right;\">\n",
              "      <th></th>\n",
              "      <th>movieId</th>\n",
              "    </tr>\n",
              "  </thead>\n",
              "  <tbody>\n",
              "    <tr>\n",
              "      <th>0</th>\n",
              "      <td>1</td>\n",
              "    </tr>\n",
              "    <tr>\n",
              "      <th>1</th>\n",
              "      <td>2</td>\n",
              "    </tr>\n",
              "    <tr>\n",
              "      <th>2</th>\n",
              "      <td>3</td>\n",
              "    </tr>\n",
              "  </tbody>\n",
              "</table>\n",
              "</div>"
            ],
            "text/plain": [
              "   movieId\n",
              "0        1\n",
              "1        2\n",
              "2        3"
            ]
          },
          "execution_count": 4,
          "metadata": {},
          "output_type": "execute_result"
        }
      ],
      "source": [
        "movies = movies.drop([\"genres\", \"title\"], axis=1)\n",
        "movies.head(3)"
      ]
    },
    {
      "cell_type": "code",
      "execution_count": 5,
      "metadata": {},
      "outputs": [
        {
          "data": {
            "text/html": [
              "<div>\n",
              "<style scoped>\n",
              "    .dataframe tbody tr th:only-of-type {\n",
              "        vertical-align: middle;\n",
              "    }\n",
              "\n",
              "    .dataframe tbody tr th {\n",
              "        vertical-align: top;\n",
              "    }\n",
              "\n",
              "    .dataframe thead th {\n",
              "        text-align: right;\n",
              "    }\n",
              "</style>\n",
              "<table border=\"1\" class=\"dataframe\">\n",
              "  <thead>\n",
              "    <tr style=\"text-align: right;\">\n",
              "      <th></th>\n",
              "      <th>userId</th>\n",
              "      <th>movieId</th>\n",
              "      <th>rating</th>\n",
              "      <th>timestamp</th>\n",
              "    </tr>\n",
              "  </thead>\n",
              "  <tbody>\n",
              "    <tr>\n",
              "      <th>0</th>\n",
              "      <td>1</td>\n",
              "      <td>1</td>\n",
              "      <td>4.0</td>\n",
              "      <td>964982703</td>\n",
              "    </tr>\n",
              "    <tr>\n",
              "      <th>516</th>\n",
              "      <td>5</td>\n",
              "      <td>1</td>\n",
              "      <td>4.0</td>\n",
              "      <td>847434962</td>\n",
              "    </tr>\n",
              "    <tr>\n",
              "      <th>874</th>\n",
              "      <td>7</td>\n",
              "      <td>1</td>\n",
              "      <td>4.5</td>\n",
              "      <td>1106635946</td>\n",
              "    </tr>\n",
              "    <tr>\n",
              "      <th>1434</th>\n",
              "      <td>15</td>\n",
              "      <td>1</td>\n",
              "      <td>2.5</td>\n",
              "      <td>1510577970</td>\n",
              "    </tr>\n",
              "    <tr>\n",
              "      <th>1667</th>\n",
              "      <td>17</td>\n",
              "      <td>1</td>\n",
              "      <td>4.5</td>\n",
              "      <td>1305696483</td>\n",
              "    </tr>\n",
              "  </tbody>\n",
              "</table>\n",
              "</div>"
            ],
            "text/plain": [
              "      userId  movieId  rating   timestamp\n",
              "0          1        1     4.0   964982703\n",
              "516        5        1     4.0   847434962\n",
              "874        7        1     4.5  1106635946\n",
              "1434      15        1     2.5  1510577970\n",
              "1667      17        1     4.5  1305696483"
            ]
          },
          "execution_count": 5,
          "metadata": {},
          "output_type": "execute_result"
        }
      ],
      "source": [
        "ratings = ratings.join(movies.set_index(\"movieId\"), on=\"movieId\", how=\"inner\")\n",
        "ratings.head(5)"
      ]
    },
    {
      "cell_type": "code",
      "execution_count": 6,
      "metadata": {},
      "outputs": [
        {
          "data": {
            "text/html": [
              "<div>\n",
              "<style scoped>\n",
              "    .dataframe tbody tr th:only-of-type {\n",
              "        vertical-align: middle;\n",
              "    }\n",
              "\n",
              "    .dataframe tbody tr th {\n",
              "        vertical-align: top;\n",
              "    }\n",
              "\n",
              "    .dataframe thead th {\n",
              "        text-align: right;\n",
              "    }\n",
              "</style>\n",
              "<table border=\"1\" class=\"dataframe\">\n",
              "  <thead>\n",
              "    <tr style=\"text-align: right;\">\n",
              "      <th></th>\n",
              "      <th>userId</th>\n",
              "      <th>movieId</th>\n",
              "      <th>rating</th>\n",
              "      <th>timestamp</th>\n",
              "    </tr>\n",
              "  </thead>\n",
              "  <tbody>\n",
              "    <tr>\n",
              "      <th>43</th>\n",
              "      <td>1</td>\n",
              "      <td>804</td>\n",
              "      <td>4.0</td>\n",
              "      <td>964980499</td>\n",
              "    </tr>\n",
              "    <tr>\n",
              "      <th>73</th>\n",
              "      <td>1</td>\n",
              "      <td>1210</td>\n",
              "      <td>5.0</td>\n",
              "      <td>964980499</td>\n",
              "    </tr>\n",
              "    <tr>\n",
              "      <th>120</th>\n",
              "      <td>1</td>\n",
              "      <td>2018</td>\n",
              "      <td>5.0</td>\n",
              "      <td>964980523</td>\n",
              "    </tr>\n",
              "    <tr>\n",
              "      <th>171</th>\n",
              "      <td>1</td>\n",
              "      <td>2628</td>\n",
              "      <td>4.0</td>\n",
              "      <td>964980523</td>\n",
              "    </tr>\n",
              "    <tr>\n",
              "      <th>183</th>\n",
              "      <td>1</td>\n",
              "      <td>2826</td>\n",
              "      <td>4.0</td>\n",
              "      <td>964980523</td>\n",
              "    </tr>\n",
              "  </tbody>\n",
              "</table>\n",
              "</div>"
            ],
            "text/plain": [
              "     userId  movieId  rating  timestamp\n",
              "43        1      804     4.0  964980499\n",
              "73        1     1210     5.0  964980499\n",
              "120       1     2018     5.0  964980523\n",
              "171       1     2628     4.0  964980523\n",
              "183       1     2826     4.0  964980523"
            ]
          },
          "execution_count": 6,
          "metadata": {},
          "output_type": "execute_result"
        }
      ],
      "source": [
        "ratings = ratings.sort_values(['userId', 'timestamp'], ascending=[True, True])\n",
        "ratings.head(5)"
      ]
    },
    {
      "cell_type": "code",
      "execution_count": 7,
      "metadata": {},
      "outputs": [],
      "source": [
        "ratings.rename(columns={\"userId\":\"user_id\", \"movieId\":\"item_id\"}, inplace=True)"
      ]
    },
    {
      "cell_type": "code",
      "execution_count": 8,
      "metadata": {},
      "outputs": [
        {
          "name": "stdout",
          "output_type": "stream",
          "text": [
            "<class 'pandas.core.frame.DataFrame'>\n",
            "Index: 100836 entries, 43 to 99775\n",
            "Data columns (total 4 columns):\n",
            " #   Column     Non-Null Count   Dtype  \n",
            "---  ------     --------------   -----  \n",
            " 0   user_id    100836 non-null  int64  \n",
            " 1   item_id    100836 non-null  int64  \n",
            " 2   rating     100836 non-null  float64\n",
            " 3   timestamp  100836 non-null  int64  \n",
            "dtypes: float64(1), int64(3)\n",
            "memory usage: 3.8 MB\n"
          ]
        }
      ],
      "source": [
        "ratings.info()"
      ]
    },
    {
      "cell_type": "code",
      "execution_count": 106,
      "metadata": {},
      "outputs": [],
      "source": [
        "class BondNet(keras.Model):\n",
        "    def __init__(self, data: pd.DataFrame, embedding_size=32, batch_size=32, window_length=32, **kwds):\n",
        "        super(BondNet, self).__init__(**kwds)\n",
        "\n",
        "        self.out_cat_size = 10\n",
        "        self.embedding_size = embedding_size\n",
        "        self.batch_size = batch_size\n",
        "        self.window_length = window_length\n",
        "\n",
        "        self.data = data.copy()\n",
        "        #self.data.loc[-1] = [-1, -1, -1.0, -1] #padding data\n",
        "\n",
        "        self.user_size = self.data[\"user_id\"].nunique()\n",
        "        self.item_size = self.data[\"item_id\"].nunique()\n",
        "\n",
        "        reader = Reader(rating_scale=(1, 5))\n",
        "        sdata = Dataset.load_from_df(self.data.drop([\"timestamp\"], axis=1), reader)\n",
        "        surprise_X, _ = sp_tt_split(sdata, test_size=0.1e-99)\n",
        "\n",
        "        self.svdpp = sp.SVDpp(n_factors=embedding_size, cache_ratings=True)\n",
        "        self.svdpp.fit(surprise_X)\n",
        "\n",
        "        # pad_embed_user = self.svdpp.pu[-1]\n",
        "        # pad_embed_item = self.svdpp.qi[-1]\n",
        "        # pad_user_bias = self.svdpp.bu[-1]\n",
        "        # pad_item_bias = self.svdpp.bi[-1]\n",
        "        # pad_rating = self.data.iloc[-1][\"rating\"]\n",
        "\n",
        "        self.user_embedsvd_map = {i:index for index, i in enumerate(np.sort(self.data[\"user_id\"].unique()))}\n",
        "        self.item_embedsvd_map = {u:index for index, u in enumerate(np.sort(self.data[\"item_id\"].unique()))}\n",
        "        self.data, self.user_split_map = self.__split_data(self.data)\n",
        "        \n",
        "        self.train, self.val, self.test = self.__split_users(self.data[\"user_id\"].unique())\n",
        "        np.random.shuffle(self.train)\n",
        "        np.random.shuffle(self.val)\n",
        "        np.random.shuffle(self.test)\n",
        "\n",
        "        \n",
        "        # self.user_index_query = np.sort(self.data[\"user_id\"].unique())\n",
        "        # self.item_index_query = np.sort(self.data[\"item_id\"].unique())\n",
        "        # self.shuffled_users = self.data[\"user_id\"].unique()\n",
        "        # np.random.shuffle(self.shuffled_users)\n",
        "\n",
        "        \n",
        "\n",
        "\n",
        "        self.ohe = OneHotEncoder()\n",
        "        self.ohe.fit(self.data[\"rating\"].values.reshape(-1, 1))\n",
        "        # y_md = np.asanyarray(dylist)\n",
        "        # y_md = np.reshape(y_md, ((len(y_md), 1))) \n",
        "        # print(y_md)\n",
        "\n",
        "        # self.X = np.asanyarray(dxlist)\n",
        "        # self.y = ohe.fit_transform(y_md).toarray()\n",
        "\n",
        "        self.input_id_to_vec = keras.layers.Input(shape=(self.window_length - 1, self.embedding_size * 2 + 2), batch_size=self.batch_size, name=\"Id2Vec input\")\n",
        "        self.input_id_embeddings = keras.layers.Input(shape=(self.window_length - 1 + 2), batch_size=self.batch_size, name=\"Embeddings info input\")\n",
        "        self.input_ratings = keras.layers.Input(shape=(self.window_length - 1, 1, self.out_cat_size), batch_size=self.batch_size, name=\"Ratings input\")\n",
        "\n",
        "        self.user_embed = keras.layers.Embedding(self.user_size, self.embedding_size, embeddings_initializer=\"random_normal\", embeddings_regularizer=keras.regularizers.L1L2())\n",
        "        self.item_embed = keras.layers.Embedding(self.item_size, self.embedding_size, embeddings_initializer=\"random_normal\", embeddings_regularizer=keras.regularizers.L1L2())\n",
        "        self.user_bias = keras.layers.Embedding(self.user_size, self.out_cat_size, embeddings_initializer=\"random_normal\", embeddings_regularizer=keras.regularizers.L1L2())\n",
        "        self.item_bias = keras.layers.Embedding(self.item_size, self.out_cat_size, embeddings_initializer=\"random_normal\", embeddings_regularizer=keras.regularizers.L1L2())\n",
        "\n",
        "        self.pred_user_item_dense1 = keras.layers.Dense(512, activation=\"relu\")\n",
        "        self.pred_user_item_dense_dropout1 = keras.layers.Dropout(0.4)\n",
        "        self.pred_user_item_dense2 = keras.layers.Dense(256, activation=\"relu\")\n",
        "        self.pred_user_item_dense_dropout2 = keras.layers.Dropout(0.4)\n",
        "        self.pred_user_item_output_dense = keras.layers.Dense(self.out_cat_size, activation=None)\n",
        "        self.pred_user_item_output = keras.layers.Activation(\"softmax\")\n",
        "\n",
        "        self.embed_user_item_rating_lstm1 = keras.layers.LSTM(64, return_sequences=True)\n",
        "        self.embed_user_item_rating_lstm2 = keras.layers.LSTM(64)\n",
        "\n",
        "        self.time_based_dense1 = keras.layers.Dense(256, activation=\"relu\")\n",
        "        self.time_based_dense_dropout1 = keras.layers.Dropout(0.4)\n",
        "        self.time_based_dense2 = keras.layers.Dense(256, activation=\"relu\")\n",
        "        self.time_based_dense_dropout2 = keras.layers.Dropout(0.4)\n",
        "        self.time_based_output_dense = keras.layers.Dense(self.out_cat_size, activation=None)\n",
        "        self.time_based_output = keras.layers.Activation(\"softmax\")  \n",
        "\n",
        "    def train_spe(self):\n",
        "        return len(self.train) // self.batch_size\n",
        "    def val_spe(self):\n",
        "        return len(self.val) // self.batch_size\n",
        "    def test_spe(self):\n",
        "        return len(self.test) // self.batch_size\n",
        "\n",
        "    def __split_users(self, users: np.ndarray):\n",
        "        data_split_map = {}\n",
        "        for k, v in self.user_split_map.items():\n",
        "            if v not in data_split_map:\n",
        "                data_split_map[v] = [k]\n",
        "            else:\n",
        "                data_split_map[v].append(k)\n",
        "\n",
        "        intial_users = []\n",
        "        for k, v in data_split_map.items():\n",
        "            index = np.random.choice(len(v), 1)[0]\n",
        "            intial_users.append(v[index])\n",
        "            del data_split_map[k][index]\n",
        "\n",
        "        remaining_users = []\n",
        "        for v in data_split_map.values():\n",
        "            for value in v:\n",
        "                remaining_users.append(value)\n",
        "\n",
        "        real_test_size = 0.3\n",
        "        real_val_size_from_size = 1.0 / 3.0\n",
        "        real_test_size = (len(intial_users) + len(remaining_users)) * real_test_size\n",
        "        train_remaining, test = sk_tt_split(remaining_users, test_size=real_test_size / len(remaining_users))\n",
        "        test, val = sk_tt_split(test, test_size=real_val_size_from_size)\n",
        "\n",
        "        for iu in intial_users:\n",
        "            train_remaining.append(iu)\n",
        "\n",
        "        return train_remaining, val, test\n",
        "\n",
        "    def __split_data(self, data: pd.DataFrame):\n",
        "        pratings = pd.DataFrame(columns=data.columns)\n",
        "        user_split_map = {}\n",
        "        user_id_count = np.max(data[\"user_id\"].values) + 1\n",
        "        for u in data[\"user_id\"].unique():\n",
        "        \n",
        "            islice = 0\n",
        "            temp_data = data[data[\"user_id\"] == u].sort_values(['timestamp'], ascending=[True])\n",
        "            while islice < len(temp_data):\n",
        "                tdata = temp_data[islice:islice + self.window_length]\n",
        "\n",
        "                if islice != 0:\n",
        "                    tdata.loc[:, \"user_id\"] = tdata.loc[:, \"user_id\"].replace(u, user_id_count)\n",
        "                    user_id_count += 1\n",
        "\n",
        "                if len(tdata) == self.window_length:\n",
        "                    pratings = pd.concat([pratings, tdata])\n",
        "                    user_split_map[tdata[\"user_id\"].iloc[0]] = u\n",
        "\n",
        "                islice += self.window_length\n",
        "\n",
        "        return pratings, user_split_map\n",
        "        \n",
        "    def __data_gen(self, type):\n",
        "        dxid2vec = []\n",
        "        dxembed = []\n",
        "        dxrating = []\n",
        "        dybatch = []\n",
        "\n",
        "        if type == \"TRAIN\":\n",
        "            udata = self.train\n",
        "        elif type == \"VAL\":\n",
        "            udata = self.val\n",
        "        elif type == \"TEST\":\n",
        "            udata = self.test\n",
        "        else:\n",
        "            raise RuntimeError\n",
        "\n",
        "        for u in udata:\n",
        "            temp_data = self.data[self.data[\"user_id\"] == u]\n",
        "            dxid2vecfull = []\n",
        "            dxembedhalf = []\n",
        "            dxratinghalf = []\n",
        "            u_index = self.user_embedsvd_map[self.user_split_map[u]]\n",
        "            for i in temp_data[\"item_id\"].values[:-1]:\n",
        "                dxid2vechalf = []\n",
        "                i_index = self.item_embedsvd_map[i]\n",
        "                dxid2vechalf.append([self.svdpp.pu[u_index], self.svdpp.qi[i_index]])\n",
        "                dxid2vechalf = np.asanyarray(dxid2vechalf).flatten().tolist()\n",
        "                dxid2vechalf.append(self.svdpp.bu[u_index])\n",
        "                dxid2vechalf.append(self.svdpp.bi[i_index])\n",
        "                dxid2vecfull.append(np.asanyarray(dxid2vechalf))\n",
        "                dxembedhalf.append(i_index)\n",
        "                dxratinghalf.append(self.ohe.transform(np.reshape(self.data[(self.data[\"user_id\"] == u) & (self.data[\"item_id\"] == i)][\"rating\"], (-1, 1))).toarray())\n",
        "\n",
        "            #dxembedhalf.append(temp_data[\"item_id\"].values[:-1])\n",
        "            dxembedhalf = np.asanyarray(dxembedhalf).flatten().tolist()\n",
        "            dxembedhalf.append(u_index)\n",
        "            dxembedhalf.append(self.item_embedsvd_map[temp_data[\"item_id\"].values[-1]])\n",
        "            dxembed.append(np.asanyarray(dxembedhalf))\n",
        "            dxrating.append(np.asanyarray(dxratinghalf))\n",
        "            dxid2vec.append(np.asanyarray(dxid2vecfull))\n",
        "            dybatch.append(np.asanyarray(self.ohe.transform(temp_data.iloc[-1][\"rating\"].reshape(-1, 1)).toarray()))\n",
        "\n",
        "            if len(dxid2vec) == self.batch_size:\n",
        "                yield (np.asanyarray(dxid2vec, dtype=np.float32), np.asanyarray(dxembed, dtype=np.int32), np.asanyarray(dxrating, dtype=np.float32)), np.asanyarray(dybatch, dtype=np.float32)\n",
        "                dxid2vec = []\n",
        "                dxembed = []\n",
        "                dxrating = []\n",
        "                dybatch = []\n",
        "        \n",
        "        # if len(dxid2vec) != 0:\n",
        "        #     yield (np.asanyarray(dxid2vec, dtype=np.float32), np.asanyarray(dxembed, dtype=np.int32), np.asanyarray(dxrating, dtype=np.float32)), np.asanyarray(dybatch, dtype=np.float32)\n",
        "        #     dxid2vec = []\n",
        "        #     dxembed = []\n",
        "        #     dxrating = []\n",
        "        #     dybatch = []\n",
        "\n",
        "            \n",
        "\n",
        "    def get_dataset(self):\n",
        "        signature = ((tf.TensorSpec(shape=(self.batch_size, self.window_length - 1, self.embedding_size * 2 + 2), dtype=tf.float32),\n",
        "                      tf.TensorSpec(shape=(self.batch_size, self.window_length - 1 + 2), dtype=tf.int32),\n",
        "                      tf.TensorSpec(shape=(self.batch_size, self.window_length - 1, 1, len(self.ohe.categories_[0])), dtype=tf.float32)),\n",
        "                      tf.TensorSpec(shape=(self.batch_size, 1, len(self.ohe.categories_[0])), dtype=tf.float32))\n",
        "\n",
        "        train_dataset = tf.data.Dataset.from_generator(\n",
        "            lambda: self.__data_gen(\"TRAIN\"),\n",
        "            output_signature=signature\n",
        "        )\n",
        "\n",
        "        val_dataset = tf.data.Dataset.from_generator(\n",
        "            lambda: self.__data_gen(\"VAL\"),\n",
        "            output_signature=signature\n",
        "        )\n",
        "\n",
        "        test_dataset = tf.data.Dataset.from_generator(\n",
        "            lambda: self.__data_gen(\"TEST\"),\n",
        "            output_signature=signature\n",
        "        )\n",
        "\n",
        "        return train_dataset, val_dataset, test_dataset\n",
        "    \n",
        "    def call(self, inputs):\n",
        "        id2vecs = inputs[0]\n",
        "        users = inputs[1][:, -2]\n",
        "        pred_items = inputs[1][:, -1]\n",
        "        embed_items = inputs[1][:, :-2]\n",
        "        ratings = tf.reshape(inputs[2], (self.batch_size, self.window_length - 1, self.out_cat_size))\n",
        "\n",
        "        #EMBEDDING API\n",
        "        embed_users_vector = self.user_embed(users)\n",
        "        embed_users_bias = self.user_bias(users)\n",
        "        embed_items_vector = self.item_embed(embed_items)\n",
        "        embed_items_bias = self.item_bias(embed_items)\n",
        "        embed_pred_items_vector = self.item_embed(pred_items)\n",
        "        embed_pred_items_bias = self.item_bias(pred_items)\n",
        "\n",
        "        \n",
        "\n",
        "        # print(\"biases\")\n",
        "        # # print(users_bias.shape)\n",
        "        # print(embed_items_bias.shape)\n",
        "        # print(embed_pred_items_bias.shape)\n",
        "        # print(\"vecs\")\n",
        "        # # print(users_vector.shape)\n",
        "        # print(embed_items_vector.shape)\n",
        "        # print(embed_pred_items_vector.shape)\n",
        "        # print(\"rating\", ratings.shape)\n",
        "        embed_items_bias = tf.reduce_sum(embed_items_bias, axis=1)\n",
        "        item_biases = (embed_items_bias + embed_pred_items_bias) / float(self.window_length - 1 + 1)\n",
        "        biases = item_biases + embed_users_bias\n",
        "\n",
        "        user_item_pred_vector = tf.concat((embed_users_vector, embed_pred_items_vector), axis=1)\n",
        "        user_item_pred_output = self.pred_user_item_dense_dropout1(self.pred_user_item_dense1(user_item_pred_vector))\n",
        "        user_item_pred_output = self.pred_user_item_dense_dropout2(self.pred_user_item_dense2(user_item_pred_output))\n",
        "        user_item_pred_output = self.pred_user_item_output_dense(user_item_pred_output)\n",
        "        user_item_pred_output = user_item_pred_output + biases\n",
        "        user_item_pred_output = self.pred_user_item_output(user_item_pred_output)\n",
        "\n",
        "        users_repeated = tf.reshape(tf.repeat(embed_users_vector, self.window_length - 1, axis=0), (self.batch_size, self.window_length - 1, self.embedding_size))\n",
        "        user_item_rating_timebased = tf.concat((users_repeated, embed_items_vector, ratings), axis=2)\n",
        "        user_item_rating_timebased_vector = self.embed_user_item_rating_lstm2(self.embed_user_item_rating_lstm1(user_item_rating_timebased))\n",
        "\n",
        "        user_item_rating_timebased_output = self.time_based_dense_dropout1(self.time_based_dense1(user_item_rating_timebased_vector))\n",
        "        user_item_rating_timebased_output = self.time_based_dense_dropout2(self.time_based_dense2(user_item_rating_timebased_output))\n",
        "        user_item_rating_timebased_output = self.time_based_output_dense(user_item_rating_timebased_output)\n",
        "        user_item_rating_timebased_output = user_item_rating_timebased_output + biases\n",
        "        user_item_rating_timebased_output = self.time_based_output(user_item_rating_timebased_output)\n",
        "\n",
        "        return tf.reshape((user_item_pred_output + user_item_rating_timebased_output) / 2.0, (self.batch_size, 1, self.out_cat_size))"
      ]
    },
    {
      "cell_type": "code",
      "execution_count": 107,
      "metadata": {},
      "outputs": [],
      "source": [
        "bn = BondNet(ratings, embedding_size=64, batch_size=32, window_length=50)"
      ]
    },
    {
      "cell_type": "code",
      "execution_count": 108,
      "metadata": {},
      "outputs": [],
      "source": [
        "tr, val, te = bn.get_dataset()"
      ]
    },
    {
      "cell_type": "code",
      "execution_count": 28,
      "metadata": {},
      "outputs": [
        {
          "name": "stdout",
          "output_type": "stream",
          "text": [
            "tf.Tensor(\n",
            "[[[0. 0. 0. 0. 0. 0. 0. 0. 1. 0.]]\n",
            "\n",
            " [[0. 0. 0. 0. 0. 0. 0. 1. 0. 0.]]], shape=(2, 1, 10), dtype=float32)\n"
          ]
        }
      ],
      "source": [
        "for t in tr:\n",
        "    print(t)\n",
        "    break"
      ]
    },
    {
      "cell_type": "code",
      "execution_count": 109,
      "metadata": {},
      "outputs": [],
      "source": [
        "bn.compile(\n",
        "    loss='categorical_crossentropy',\n",
        "    optimizer=keras.optimizers.SGD(learning_rate=0.01, momentum=0.95),\n",
        "    metrics=[\n",
        "        keras.metrics.MeanSquaredError(),\n",
        "        keras.metrics.RootMeanSquaredError(),\n",
        "        keras.metrics.CategoricalAccuracy()\n",
        "    ]\n",
        ")"
      ]
    },
    {
      "cell_type": "code",
      "execution_count": 110,
      "metadata": {},
      "outputs": [
        {
          "name": "stdout",
          "output_type": "stream",
          "text": [
            "Epoch 1/10\n",
            "37/37 [==============================] - 1006s 27s/step - loss: 2.2250 - mean_squared_error: 0.0883 - root_mean_squared_error: 0.2972 - categorical_accuracy: 0.2255 - val_loss: 2.1015 - val_mean_squared_error: 0.0854 - val_root_mean_squared_error: 0.2922 - val_categorical_accuracy: 0.2875\n",
            "Epoch 2/10\n",
            "37/37 [==============================] - 973s 27s/step - loss: 2.0458 - mean_squared_error: 0.0845 - root_mean_squared_error: 0.2907 - categorical_accuracy: 0.2703 - val_loss: 1.9941 - val_mean_squared_error: 0.0831 - val_root_mean_squared_error: 0.2883 - val_categorical_accuracy: 0.2875\n",
            "Epoch 3/10\n",
            "37/37 [==============================] - 999s 28s/step - loss: 1.9912 - mean_squared_error: 0.0834 - root_mean_squared_error: 0.2889 - categorical_accuracy: 0.2669 - val_loss: 1.9744 - val_mean_squared_error: 0.0830 - val_root_mean_squared_error: 0.2882 - val_categorical_accuracy: 0.3000\n",
            "Epoch 4/10\n",
            "37/37 [==============================] - 1160s 32s/step - loss: 1.9587 - mean_squared_error: 0.0827 - root_mean_squared_error: 0.2876 - categorical_accuracy: 0.2796 - val_loss: 1.9342 - val_mean_squared_error: 0.0819 - val_root_mean_squared_error: 0.2862 - val_categorical_accuracy: 0.3187\n",
            "Epoch 5/10\n",
            "18/37 [=============>................] - ETA: 13:03 - loss: 1.9055 - mean_squared_error: 0.0813 - root_mean_squared_error: 0.2851 - categorical_accuracy: 0.3038"
          ]
        },
        {
          "ename": "KeyboardInterrupt",
          "evalue": "",
          "output_type": "error",
          "traceback": [
            "\u001b[1;31m---------------------------------------------------------------------------\u001b[0m",
            "\u001b[1;31mKeyboardInterrupt\u001b[0m                         Traceback (most recent call last)",
            "\u001b[1;32mc:\\feindrial\\bondnet\\main.ipynb Cell 25\u001b[0m line \u001b[0;36m1\n\u001b[1;32m----> <a href='vscode-notebook-cell:/c%3A/feindrial/bondnet/main.ipynb#X33sZmlsZQ%3D%3D?line=0'>1</a>\u001b[0m history \u001b[39m=\u001b[39m bn\u001b[39m.\u001b[39;49mfit(\n\u001b[0;32m      <a href='vscode-notebook-cell:/c%3A/feindrial/bondnet/main.ipynb#X33sZmlsZQ%3D%3D?line=1'>2</a>\u001b[0m     tr\u001b[39m.\u001b[39;49mrepeat(),\n\u001b[0;32m      <a href='vscode-notebook-cell:/c%3A/feindrial/bondnet/main.ipynb#X33sZmlsZQ%3D%3D?line=2'>3</a>\u001b[0m     validation_data\u001b[39m=\u001b[39;49mval\u001b[39m.\u001b[39;49mrepeat(),\n\u001b[0;32m      <a href='vscode-notebook-cell:/c%3A/feindrial/bondnet/main.ipynb#X33sZmlsZQ%3D%3D?line=3'>4</a>\u001b[0m     \u001b[39m#batch_size=bn.batch_size,\u001b[39;49;00m\n\u001b[0;32m      <a href='vscode-notebook-cell:/c%3A/feindrial/bondnet/main.ipynb#X33sZmlsZQ%3D%3D?line=4'>5</a>\u001b[0m     steps_per_epoch\u001b[39m=\u001b[39;49mbn\u001b[39m.\u001b[39;49mtrain_spe(),\n\u001b[0;32m      <a href='vscode-notebook-cell:/c%3A/feindrial/bondnet/main.ipynb#X33sZmlsZQ%3D%3D?line=5'>6</a>\u001b[0m     validation_steps\u001b[39m=\u001b[39;49mbn\u001b[39m.\u001b[39;49mval_spe(),\n\u001b[0;32m      <a href='vscode-notebook-cell:/c%3A/feindrial/bondnet/main.ipynb#X33sZmlsZQ%3D%3D?line=6'>7</a>\u001b[0m     epochs\u001b[39m=\u001b[39;49m\u001b[39m10\u001b[39;49m\n\u001b[0;32m      <a href='vscode-notebook-cell:/c%3A/feindrial/bondnet/main.ipynb#X33sZmlsZQ%3D%3D?line=7'>8</a>\u001b[0m )\n",
            "File \u001b[1;32mc:\\feindrial\\py_env\\Lib\\site-packages\\keras\\utils\\traceback_utils.py:65\u001b[0m, in \u001b[0;36mfilter_traceback.<locals>.error_handler\u001b[1;34m(*args, **kwargs)\u001b[0m\n\u001b[0;32m     63\u001b[0m filtered_tb \u001b[39m=\u001b[39m \u001b[39mNone\u001b[39;00m\n\u001b[0;32m     64\u001b[0m \u001b[39mtry\u001b[39;00m:\n\u001b[1;32m---> 65\u001b[0m     \u001b[39mreturn\u001b[39;00m fn(\u001b[39m*\u001b[39;49margs, \u001b[39m*\u001b[39;49m\u001b[39m*\u001b[39;49mkwargs)\n\u001b[0;32m     66\u001b[0m \u001b[39mexcept\u001b[39;00m \u001b[39mException\u001b[39;00m \u001b[39mas\u001b[39;00m e:\n\u001b[0;32m     67\u001b[0m     filtered_tb \u001b[39m=\u001b[39m _process_traceback_frames(e\u001b[39m.\u001b[39m__traceback__)\n",
            "File \u001b[1;32mc:\\feindrial\\py_env\\Lib\\site-packages\\keras\\engine\\training.py:1685\u001b[0m, in \u001b[0;36mModel.fit\u001b[1;34m(self, x, y, batch_size, epochs, verbose, callbacks, validation_split, validation_data, shuffle, class_weight, sample_weight, initial_epoch, steps_per_epoch, validation_steps, validation_batch_size, validation_freq, max_queue_size, workers, use_multiprocessing)\u001b[0m\n\u001b[0;32m   1677\u001b[0m \u001b[39mwith\u001b[39;00m tf\u001b[39m.\u001b[39mprofiler\u001b[39m.\u001b[39mexperimental\u001b[39m.\u001b[39mTrace(\n\u001b[0;32m   1678\u001b[0m     \u001b[39m\"\u001b[39m\u001b[39mtrain\u001b[39m\u001b[39m\"\u001b[39m,\n\u001b[0;32m   1679\u001b[0m     epoch_num\u001b[39m=\u001b[39mepoch,\n\u001b[1;32m   (...)\u001b[0m\n\u001b[0;32m   1682\u001b[0m     _r\u001b[39m=\u001b[39m\u001b[39m1\u001b[39m,\n\u001b[0;32m   1683\u001b[0m ):\n\u001b[0;32m   1684\u001b[0m     callbacks\u001b[39m.\u001b[39mon_train_batch_begin(step)\n\u001b[1;32m-> 1685\u001b[0m     tmp_logs \u001b[39m=\u001b[39m \u001b[39mself\u001b[39;49m\u001b[39m.\u001b[39;49mtrain_function(iterator)\n\u001b[0;32m   1686\u001b[0m     \u001b[39mif\u001b[39;00m data_handler\u001b[39m.\u001b[39mshould_sync:\n\u001b[0;32m   1687\u001b[0m         context\u001b[39m.\u001b[39masync_wait()\n",
            "File \u001b[1;32mc:\\feindrial\\py_env\\Lib\\site-packages\\tensorflow\\python\\util\\traceback_utils.py:150\u001b[0m, in \u001b[0;36mfilter_traceback.<locals>.error_handler\u001b[1;34m(*args, **kwargs)\u001b[0m\n\u001b[0;32m    148\u001b[0m filtered_tb \u001b[39m=\u001b[39m \u001b[39mNone\u001b[39;00m\n\u001b[0;32m    149\u001b[0m \u001b[39mtry\u001b[39;00m:\n\u001b[1;32m--> 150\u001b[0m   \u001b[39mreturn\u001b[39;00m fn(\u001b[39m*\u001b[39;49margs, \u001b[39m*\u001b[39;49m\u001b[39m*\u001b[39;49mkwargs)\n\u001b[0;32m    151\u001b[0m \u001b[39mexcept\u001b[39;00m \u001b[39mException\u001b[39;00m \u001b[39mas\u001b[39;00m e:\n\u001b[0;32m    152\u001b[0m   filtered_tb \u001b[39m=\u001b[39m _process_traceback_frames(e\u001b[39m.\u001b[39m__traceback__)\n",
            "File \u001b[1;32mc:\\feindrial\\py_env\\Lib\\site-packages\\tensorflow\\python\\eager\\polymorphic_function\\polymorphic_function.py:894\u001b[0m, in \u001b[0;36mFunction.__call__\u001b[1;34m(self, *args, **kwds)\u001b[0m\n\u001b[0;32m    891\u001b[0m compiler \u001b[39m=\u001b[39m \u001b[39m\"\u001b[39m\u001b[39mxla\u001b[39m\u001b[39m\"\u001b[39m \u001b[39mif\u001b[39;00m \u001b[39mself\u001b[39m\u001b[39m.\u001b[39m_jit_compile \u001b[39melse\u001b[39;00m \u001b[39m\"\u001b[39m\u001b[39mnonXla\u001b[39m\u001b[39m\"\u001b[39m\n\u001b[0;32m    893\u001b[0m \u001b[39mwith\u001b[39;00m OptionalXlaContext(\u001b[39mself\u001b[39m\u001b[39m.\u001b[39m_jit_compile):\n\u001b[1;32m--> 894\u001b[0m   result \u001b[39m=\u001b[39m \u001b[39mself\u001b[39;49m\u001b[39m.\u001b[39;49m_call(\u001b[39m*\u001b[39;49margs, \u001b[39m*\u001b[39;49m\u001b[39m*\u001b[39;49mkwds)\n\u001b[0;32m    896\u001b[0m new_tracing_count \u001b[39m=\u001b[39m \u001b[39mself\u001b[39m\u001b[39m.\u001b[39mexperimental_get_tracing_count()\n\u001b[0;32m    897\u001b[0m without_tracing \u001b[39m=\u001b[39m (tracing_count \u001b[39m==\u001b[39m new_tracing_count)\n",
            "File \u001b[1;32mc:\\feindrial\\py_env\\Lib\\site-packages\\tensorflow\\python\\eager\\polymorphic_function\\polymorphic_function.py:926\u001b[0m, in \u001b[0;36mFunction._call\u001b[1;34m(self, *args, **kwds)\u001b[0m\n\u001b[0;32m    923\u001b[0m   \u001b[39mself\u001b[39m\u001b[39m.\u001b[39m_lock\u001b[39m.\u001b[39mrelease()\n\u001b[0;32m    924\u001b[0m   \u001b[39m# In this case we have created variables on the first call, so we run the\u001b[39;00m\n\u001b[0;32m    925\u001b[0m   \u001b[39m# defunned version which is guaranteed to never create variables.\u001b[39;00m\n\u001b[1;32m--> 926\u001b[0m   \u001b[39mreturn\u001b[39;00m \u001b[39mself\u001b[39;49m\u001b[39m.\u001b[39;49m_no_variable_creation_fn(\u001b[39m*\u001b[39;49margs, \u001b[39m*\u001b[39;49m\u001b[39m*\u001b[39;49mkwds)  \u001b[39m# pylint: disable=not-callable\u001b[39;00m\n\u001b[0;32m    927\u001b[0m \u001b[39melif\u001b[39;00m \u001b[39mself\u001b[39m\u001b[39m.\u001b[39m_variable_creation_fn \u001b[39mis\u001b[39;00m \u001b[39mnot\u001b[39;00m \u001b[39mNone\u001b[39;00m:\n\u001b[0;32m    928\u001b[0m   \u001b[39m# Release the lock early so that multiple threads can perform the call\u001b[39;00m\n\u001b[0;32m    929\u001b[0m   \u001b[39m# in parallel.\u001b[39;00m\n\u001b[0;32m    930\u001b[0m   \u001b[39mself\u001b[39m\u001b[39m.\u001b[39m_lock\u001b[39m.\u001b[39mrelease()\n",
            "File \u001b[1;32mc:\\feindrial\\py_env\\Lib\\site-packages\\tensorflow\\python\\eager\\polymorphic_function\\tracing_compiler.py:143\u001b[0m, in \u001b[0;36mTracingCompiler.__call__\u001b[1;34m(self, *args, **kwargs)\u001b[0m\n\u001b[0;32m    140\u001b[0m \u001b[39mwith\u001b[39;00m \u001b[39mself\u001b[39m\u001b[39m.\u001b[39m_lock:\n\u001b[0;32m    141\u001b[0m   (concrete_function,\n\u001b[0;32m    142\u001b[0m    filtered_flat_args) \u001b[39m=\u001b[39m \u001b[39mself\u001b[39m\u001b[39m.\u001b[39m_maybe_define_function(args, kwargs)\n\u001b[1;32m--> 143\u001b[0m \u001b[39mreturn\u001b[39;00m concrete_function\u001b[39m.\u001b[39;49m_call_flat(\n\u001b[0;32m    144\u001b[0m     filtered_flat_args, captured_inputs\u001b[39m=\u001b[39;49mconcrete_function\u001b[39m.\u001b[39;49mcaptured_inputs)\n",
            "File \u001b[1;32mc:\\feindrial\\py_env\\Lib\\site-packages\\tensorflow\\python\\eager\\polymorphic_function\\monomorphic_function.py:1757\u001b[0m, in \u001b[0;36mConcreteFunction._call_flat\u001b[1;34m(self, args, captured_inputs, cancellation_manager)\u001b[0m\n\u001b[0;32m   1753\u001b[0m possible_gradient_type \u001b[39m=\u001b[39m gradients_util\u001b[39m.\u001b[39mPossibleTapeGradientTypes(args)\n\u001b[0;32m   1754\u001b[0m \u001b[39mif\u001b[39;00m (possible_gradient_type \u001b[39m==\u001b[39m gradients_util\u001b[39m.\u001b[39mPOSSIBLE_GRADIENT_TYPES_NONE\n\u001b[0;32m   1755\u001b[0m     \u001b[39mand\u001b[39;00m executing_eagerly):\n\u001b[0;32m   1756\u001b[0m   \u001b[39m# No tape is watching; skip to running the function.\u001b[39;00m\n\u001b[1;32m-> 1757\u001b[0m   \u001b[39mreturn\u001b[39;00m \u001b[39mself\u001b[39m\u001b[39m.\u001b[39m_build_call_outputs(\u001b[39mself\u001b[39;49m\u001b[39m.\u001b[39;49m_inference_function\u001b[39m.\u001b[39;49mcall(\n\u001b[0;32m   1758\u001b[0m       ctx, args, cancellation_manager\u001b[39m=\u001b[39;49mcancellation_manager))\n\u001b[0;32m   1759\u001b[0m forward_backward \u001b[39m=\u001b[39m \u001b[39mself\u001b[39m\u001b[39m.\u001b[39m_select_forward_and_backward_functions(\n\u001b[0;32m   1760\u001b[0m     args,\n\u001b[0;32m   1761\u001b[0m     possible_gradient_type,\n\u001b[0;32m   1762\u001b[0m     executing_eagerly)\n\u001b[0;32m   1763\u001b[0m forward_function, args_with_tangents \u001b[39m=\u001b[39m forward_backward\u001b[39m.\u001b[39mforward()\n",
            "File \u001b[1;32mc:\\feindrial\\py_env\\Lib\\site-packages\\tensorflow\\python\\eager\\polymorphic_function\\monomorphic_function.py:381\u001b[0m, in \u001b[0;36m_EagerDefinedFunction.call\u001b[1;34m(self, ctx, args, cancellation_manager)\u001b[0m\n\u001b[0;32m    379\u001b[0m \u001b[39mwith\u001b[39;00m _InterpolateFunctionError(\u001b[39mself\u001b[39m):\n\u001b[0;32m    380\u001b[0m   \u001b[39mif\u001b[39;00m cancellation_manager \u001b[39mis\u001b[39;00m \u001b[39mNone\u001b[39;00m:\n\u001b[1;32m--> 381\u001b[0m     outputs \u001b[39m=\u001b[39m execute\u001b[39m.\u001b[39;49mexecute(\n\u001b[0;32m    382\u001b[0m         \u001b[39mstr\u001b[39;49m(\u001b[39mself\u001b[39;49m\u001b[39m.\u001b[39;49msignature\u001b[39m.\u001b[39;49mname),\n\u001b[0;32m    383\u001b[0m         num_outputs\u001b[39m=\u001b[39;49m\u001b[39mself\u001b[39;49m\u001b[39m.\u001b[39;49m_num_outputs,\n\u001b[0;32m    384\u001b[0m         inputs\u001b[39m=\u001b[39;49margs,\n\u001b[0;32m    385\u001b[0m         attrs\u001b[39m=\u001b[39;49mattrs,\n\u001b[0;32m    386\u001b[0m         ctx\u001b[39m=\u001b[39;49mctx)\n\u001b[0;32m    387\u001b[0m   \u001b[39melse\u001b[39;00m:\n\u001b[0;32m    388\u001b[0m     outputs \u001b[39m=\u001b[39m execute\u001b[39m.\u001b[39mexecute_with_cancellation(\n\u001b[0;32m    389\u001b[0m         \u001b[39mstr\u001b[39m(\u001b[39mself\u001b[39m\u001b[39m.\u001b[39msignature\u001b[39m.\u001b[39mname),\n\u001b[0;32m    390\u001b[0m         num_outputs\u001b[39m=\u001b[39m\u001b[39mself\u001b[39m\u001b[39m.\u001b[39m_num_outputs,\n\u001b[1;32m   (...)\u001b[0m\n\u001b[0;32m    393\u001b[0m         ctx\u001b[39m=\u001b[39mctx,\n\u001b[0;32m    394\u001b[0m         cancellation_manager\u001b[39m=\u001b[39mcancellation_manager)\n",
            "File \u001b[1;32mc:\\feindrial\\py_env\\Lib\\site-packages\\tensorflow\\python\\eager\\execute.py:52\u001b[0m, in \u001b[0;36mquick_execute\u001b[1;34m(op_name, num_outputs, inputs, attrs, ctx, name)\u001b[0m\n\u001b[0;32m     50\u001b[0m \u001b[39mtry\u001b[39;00m:\n\u001b[0;32m     51\u001b[0m   ctx\u001b[39m.\u001b[39mensure_initialized()\n\u001b[1;32m---> 52\u001b[0m   tensors \u001b[39m=\u001b[39m pywrap_tfe\u001b[39m.\u001b[39;49mTFE_Py_Execute(ctx\u001b[39m.\u001b[39;49m_handle, device_name, op_name,\n\u001b[0;32m     53\u001b[0m                                       inputs, attrs, num_outputs)\n\u001b[0;32m     54\u001b[0m \u001b[39mexcept\u001b[39;00m core\u001b[39m.\u001b[39m_NotOkStatusException \u001b[39mas\u001b[39;00m e:\n\u001b[0;32m     55\u001b[0m   \u001b[39mif\u001b[39;00m name \u001b[39mis\u001b[39;00m \u001b[39mnot\u001b[39;00m \u001b[39mNone\u001b[39;00m:\n",
            "\u001b[1;31mKeyboardInterrupt\u001b[0m: "
          ]
        }
      ],
      "source": [
        "history = bn.fit(\n",
        "    tr.repeat(),\n",
        "    validation_data=val.repeat(),\n",
        "    #batch_size=bn.batch_size,\n",
        "    steps_per_epoch=bn.train_spe(),\n",
        "    validation_steps=bn.val_spe(),\n",
        "    epochs=10\n",
        ")"
      ]
    },
    {
      "cell_type": "code",
      "execution_count": 75,
      "metadata": {},
      "outputs": [
        {
          "name": "stdout",
          "output_type": "stream",
          "text": [
            "6/6 [==============================] - 3s 456ms/step - loss: 2.1283 - mean_squared_error: 0.0862 - root_mean_squared_error: 0.2935 - categorical_accuracy: 0.2500\n"
          ]
        }
      ],
      "source": [
        "eval = bn.evaluate(\n",
        "    te,\n",
        "    batch_size=bn.batch_size,\n",
        "    steps=bn.test_spe()\n",
        ")"
      ]
    },
    {
      "cell_type": "code",
      "execution_count": 65,
      "metadata": {},
      "outputs": [
        {
          "name": "stdout",
          "output_type": "stream",
          "text": [
            "1/1 [==============================] - 2s 2s/step\n"
          ]
        },
        {
          "data": {
            "text/plain": [
              "array([[[0.02499004, 0.03911908, 0.03241139, 0.07614801, 0.03831066,\n",
              "         0.15902692, 0.17219613, 0.27851704, 0.06501711, 0.11426367]],\n",
              "\n",
              "       [[0.02388486, 0.04143833, 0.03425407, 0.07812206, 0.03808202,\n",
              "         0.15098004, 0.17327502, 0.28224576, 0.06606241, 0.1116554 ]]],\n",
              "      dtype=float32)"
            ]
          },
          "execution_count": 65,
          "metadata": {},
          "output_type": "execute_result"
        }
      ],
      "source": [
        "bn.predict(te.as_numpy_iterator().next()[0])"
      ]
    },
    {
      "cell_type": "code",
      "execution_count": 199,
      "metadata": {
        "colab": {
          "base_uri": "https://localhost:8080/"
        },
        "id": "LsBgVDgJlr8A",
        "outputId": "04c39d05-96ef-4c8a-d8de-4b80ceb200a4"
      },
      "outputs": [
        {
          "name": "stdout",
          "output_type": "stream",
          "text": [
            "Model: \"bond_net_15\"\n",
            "_________________________________________________________________\n",
            " Layer (type)                Output Shape              Param #   \n",
            "=================================================================\n",
            " embedding_60 (Embedding)    multiple                  2440      \n",
            "                                                                 \n",
            " embedding_61 (Embedding)    multiple                  38896     \n",
            "                                                                 \n",
            " embedding_62 (Embedding)    multiple                  6100      \n"
          ]
        },
        {
          "name": "stdout",
          "output_type": "stream",
          "text": [
            "                                                                 \n",
            " embedding_63 (Embedding)    multiple                  97240     \n",
            "                                                                 \n",
            " dense_79 (Dense)            multiple                  144       \n",
            "                                                                 \n",
            " dense_80 (Dense)            multiple                  136       \n",
            "                                                                 \n",
            " dense_81 (Dense)            multiple                  90        \n",
            "                                                                 \n",
            " lstm_38 (LSTM)              multiple                  368       \n",
            "                                                                 \n",
            " lstm_39 (LSTM)              multiple                  144       \n",
            "                                                                 \n",
            " dense_82 (Dense)            multiple                  80        \n",
            "                                                                 \n",
            " dense_83 (Dense)            multiple                  136       \n",
            "                                                                 \n",
            " dense_84 (Dense)            multiple                  90        \n",
            "                                                                 \n",
            "=================================================================\n",
            "Total params: 145,864\n",
            "Trainable params: 145,864\n",
            "Non-trainable params: 0\n",
            "_________________________________________________________________\n"
          ]
        }
      ],
      "source": [
        "bn.summary()"
      ]
    }
  ],
  "metadata": {
    "colab": {
      "gpuType": "T4",
      "include_colab_link": true,
      "provenance": []
    },
    "gpuClass": "standard",
    "kernelspec": {
      "display_name": "Python 3 (ipykernel)",
      "language": "python",
      "name": "python3"
    },
    "language_info": {
      "codemirror_mode": {
        "name": "ipython",
        "version": 3
      },
      "file_extension": ".py",
      "mimetype": "text/x-python",
      "name": "python",
      "nbconvert_exporter": "python",
      "pygments_lexer": "ipython3",
      "version": "3.11.4"
    },
    "vscode": {
      "interpreter": {
        "hash": "13352b205a54342361df07f002c7f8845f64dc2b5c1cc6c2b30b5e8b6bc06982"
      }
    }
  },
  "nbformat": 4,
  "nbformat_minor": 0
}
